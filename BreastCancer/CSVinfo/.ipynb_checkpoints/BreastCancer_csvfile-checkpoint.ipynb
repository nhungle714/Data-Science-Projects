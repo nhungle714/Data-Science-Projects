{
 "cells": [
  {
   "cell_type": "markdown",
   "metadata": {},
   "source": [
    "# Breast Cancer Classification"
   ]
  },
  {
   "cell_type": "markdown",
   "metadata": {},
   "source": [
    "This exercise uses <a href=\"https://wiki.cancerimagingarchive.net/display/Public/CBIS-DDSM#385f2cd4e86f4142b1d32bdb5803bd96\"> the CBIS-DDSM (Curated Breast Imaging Subset of DDSM) dataset</a>. For the purpose of working on deep learning models regarding the csv files, we focus on two below datasets, which contain several features related to Mammography and dectection of breast cancer. \n",
    "\n",
    "Mass-Training-Description (csv)\t\n",
    "Mass-Test-Description (csv)\t\n",
    "\n",
    "\n",
    "The Mass-Training-Description and Mass-Test-Description include these columns:\n",
    "\n",
    "patient_id\t\n",
    "breast_density\t\n",
    "left or right breast\t\n",
    "image view\t\t\n",
    "abnormality id\t\t\n",
    "abnormality type\t\n",
    "mass shape\t\n",
    "mass margins\t\n",
    "assessment\t\n",
    "pathology\n",
    "\n",
    "There is more data in this dataset, including images, but for this homework we will not focus on them.\n",
    "\n",
    "We are interested in this question:\t\n",
    "Using variables:\t\n",
    "\n",
    "breast_density\t\n",
    "left or right breast\t\n",
    "image view\t\t\n",
    "abnormality id\t\t\n",
    "abnormality type\t\n",
    "mass shape\t\n",
    "mass margins\t\n",
    "\n",
    "The goal of this exercise is to predict the **pathology type**\n",
    "\n"
   ]
  },
  {
   "cell_type": "markdown",
   "metadata": {},
   "source": [
    "### Data Preparation\n",
    "\n",
    "The output of your script should be a matrix X and a vector Y, where each row of X are one set of variables for a patient, and each row of Y is the pathology type class, for that patient.\t\n",
    "\n",
    "Use *matplotlib.imshow* to visualize the X.\t\n",
    "(And if there are multiple equivalent rows per patient, keep only one of them - any, up to you)\n"
   ]
  },
  {
   "cell_type": "code",
   "execution_count": 157,
   "metadata": {},
   "outputs": [],
   "source": [
    "import pandas as pd\n",
    "import torch\n",
    "import torch.nn as nn\n",
    "from torch.autograd import Variable\n",
    "import torchvision.datasets as dset\n",
    "import torchvision.transforms as transforms\n",
    "import torch.nn.functional as F\n",
    "import torch.optim as optim\n",
    "import numpy as np\n",
    "import matplotlib.pylab as plt\n",
    "from torch.utils.data import Dataset, DataLoader\n",
    "import copy\n",
    "from tqdm import tqdm\n",
    "import torch.optim.lr_scheduler as sched\n",
    "import warnings\n",
    "warnings.filterwarnings('ignore')\n",
    "from sklearn.metrics import roc_auc_score, roc_curve\n"
   ]
  },
  {
   "cell_type": "markdown",
   "metadata": {},
   "source": [
    "### Load Data"
   ]
  },
  {
   "cell_type": "markdown",
   "metadata": {},
   "source": [
    "#### Method 1: Manually loading data using a load function"
   ]
  },
  {
   "cell_type": "code",
   "execution_count": 3,
   "metadata": {},
   "outputs": [
    {
     "name": "stderr",
     "output_type": "stream",
     "text": [
      "/anaconda3/lib/python3.7/site-packages/ipykernel_launcher.py:20: FutureWarning: Method .as_matrix will be removed in a future version. Use .values instead.\n",
      "/anaconda3/lib/python3.7/site-packages/ipykernel_launcher.py:21: FutureWarning: Method .as_matrix will be removed in a future version. Use .values instead.\n"
     ]
    }
   ],
   "source": [
    "traindata = pd.read_csv('mass_case_description_train_set.csv')\n",
    "testdata = pd.read_csv('mass_case_description_test_set.csv')\n",
    "\n",
    "train_objs_num = len(traindata)\n",
    "dataset = pd.concat(objs=[traindata, testdata], axis=0)\n",
    "\n",
    "datasetx = dataset[['breast_density', 'left or right breast', 'image view', 'abnormality id', 'abnormality type', 'mass shape', 'mass margins']]\n",
    "datasety = dataset[['pathology']]\n",
    "\n",
    "dataset_preprocessed_x = pd.get_dummies(datasetx)\n",
    "dataset_preprocessed_y = pd.get_dummies(datasety)\n",
    "\n",
    "train_preprocessed_x = dataset_preprocessed_x[:train_objs_num]\n",
    "train_preprocessed_y = dataset_preprocessed_y[:train_objs_num]\n",
    "test_preprocessed_x = dataset_preprocessed_x[train_objs_num:]\n",
    "test_preprocessed_y = dataset_preprocessed_y[train_objs_num:]\n",
    "\n",
    "\n",
    "def load_data(xintermed, yintermed):\n",
    "    x = xintermed.as_matrix().astype(float)\n",
    "    y = yintermed.as_matrix().argmax(axis=1).astype(np.int64).reshape(-1,1)\n",
    "    return x, y\n",
    "\n",
    "xtrain, ytrain = load_data(train_preprocessed_x, train_preprocessed_y)\n",
    "xtest, ytest = load_data(test_preprocessed_x, test_preprocessed_y)"
   ]
  },
  {
   "cell_type": "markdown",
   "metadata": {},
   "source": [
    "#### Method 2: Using torch DataSet and DataLoader"
   ]
  },
  {
   "cell_type": "code",
   "execution_count": 137,
   "metadata": {},
   "outputs": [],
   "source": [
    "device = torch.device(\"cuda\" if torch.cuda.is_available() else \"cpu\")\n",
    "class MyDataset(Dataset):\n",
    "    \n",
    "    def __init__(self, size, inputdf, labeldf):\n",
    "        super(MyDataset, self).__init__()\n",
    "        self.size = size\n",
    "        self.inputdf = inputdf\n",
    "        self.labeldf = labeldf\n",
    "        \n",
    "    def __len__(self):\n",
    "        return self.size\n",
    "\n",
    "    def __getitem__(self, index):\n",
    "        x = Variable(torch.from_numpy(self.inputdf.iloc[index,:].as_matrix().astype(float)))\n",
    "        # we want y to be in this format tensor(1) for 1 being class\n",
    "        y = torch.LongTensor(train_preprocessed_y.iloc[index, :].as_matrix()).argmax()\n",
    "\n",
    "                             \n",
    "        return x, y"
   ]
  },
  {
   "cell_type": "code",
   "execution_count": 138,
   "metadata": {},
   "outputs": [
    {
     "data": {
      "text/plain": [
       "tensor(2)"
      ]
     },
     "execution_count": 138,
     "metadata": {},
     "output_type": "execute_result"
    }
   ],
   "source": [
    "torch.LongTensor(train_preprocessed_y.iloc[0, :].as_matrix()).argmax()"
   ]
  },
  {
   "cell_type": "code",
   "execution_count": 206,
   "metadata": {},
   "outputs": [],
   "source": [
    "data_train = MyDataset(train_objs_num, train_preprocessed_x, train_preprocessed_y)\n",
    "data_test = MyDataset(len(testdata), test_preprocessed_x, test_preprocessed_y)\n",
    "\n",
    "data_train_loader = DataLoader(data_train, batch_size = 64, shuffle=True, num_workers=4)\n",
    "data_test_loader = DataLoader(data_test, batch_size = 64, shuffle=False, num_workers=4)"
   ]
  },
  {
   "cell_type": "markdown",
   "metadata": {},
   "source": [
    "**Note**: Check to make sure that the two methods match by looking at the first x and y of the train dataset"
   ]
  },
  {
   "cell_type": "code",
   "execution_count": 140,
   "metadata": {},
   "outputs": [
    {
     "name": "stdout",
     "output_type": "stream",
     "text": [
      "tensor([[3., 1., 0., 1., 0., 1., 1., 0., 0., 1., 0., 0., 0., 0., 0., 0., 0., 0.,\n",
      "         0., 0., 0., 0., 0., 0., 0., 0., 0., 0., 0., 0., 0., 0., 0., 0., 0., 0.,\n",
      "         0., 0., 0., 0., 0., 0., 0., 0., 0., 0.],\n",
      "        [4., 1., 0., 1., 1., 0., 1., 1., 0., 0., 0., 0., 0., 0., 0., 0., 0., 0.,\n",
      "         0., 0., 0., 0., 0., 0., 0., 0., 0., 0., 0., 0., 0., 0., 0., 0., 0., 0.,\n",
      "         0., 0., 0., 0., 0., 0., 0., 0., 0., 1.]], dtype=torch.float64)\n",
      "tensor([1, 2])\n"
     ]
    }
   ],
   "source": [
    "x, y = next(iter(data_train_loader))\n",
    "print(x)\n",
    "print(y)"
   ]
  },
  {
   "cell_type": "markdown",
   "metadata": {},
   "source": [
    "**Takeaways**\n",
    "1. By using the DataLoader class, we already have input (x) and true label(y) as tensor. For the first method, we need to change x and y to tensors before feeding through the model."
   ]
  },
  {
   "cell_type": "markdown",
   "metadata": {},
   "source": [
    "### Modeling"
   ]
  },
  {
   "cell_type": "markdown",
   "metadata": {},
   "source": [
    "#### 1. Linear Model"
   ]
  },
  {
   "cell_type": "code",
   "execution_count": 138,
   "metadata": {},
   "outputs": [],
   "source": [
    "class LogReg(nn.Module):\n",
    "    def __init__(self):\n",
    "        super(LogReg, self).__init__()\n",
    "        self.linear = nn.Linear(in_features=46, out_features=3)\n",
    "        \n",
    "    def forward(self, x):\n",
    "        x = x.contiguous().view(-1, 46)\n",
    "        # return logits\n",
    "        x = self.linear(x)\n",
    "        return x\n",
    "    \n",
    "logreg_model = LogReg().double()\n",
    "    "
   ]
  },
  {
   "cell_type": "markdown",
   "metadata": {},
   "source": [
    "#### 2. Multi-perceptron Model"
   ]
  },
  {
   "cell_type": "code",
   "execution_count": 66,
   "metadata": {},
   "outputs": [],
   "source": [
    "class MLPNet(nn.Module):\n",
    "    def __init__(self):\n",
    "        super(MLPNet, self).__init__()\n",
    "        self.fc1 = nn.Linear(46, 100)\n",
    "        self.fc2 = nn.Linear(100, 3)\n",
    "\n",
    "\n",
    "    def forward(self, x):\n",
    "        x = x.contiguous().view(-1,46)\n",
    "        x = F.relu(self.fc1(x))\n",
    "        x = self.fc2(x)\n",
    "        return x\n",
    "    \n",
    "mlpnet_model = MLPNet().double()"
   ]
  },
  {
   "cell_type": "code",
   "execution_count": 90,
   "metadata": {},
   "outputs": [
    {
     "name": "stdout",
     "output_type": "stream",
     "text": [
      "0\n"
     ]
    }
   ],
   "source": [
    "for iter_, (x, y_true) in enumerate(data_train_loader):\n",
    "    print(iter_)\n",
    "    break"
   ]
  },
  {
   "cell_type": "markdown",
   "metadata": {},
   "source": [
    "### Training"
   ]
  },
  {
   "cell_type": "code",
   "execution_count": 214,
   "metadata": {},
   "outputs": [
    {
     "name": "stderr",
     "output_type": "stream",
     "text": [
      "\r",
      "  0%|          | 0/21 [00:00<?, ?it/s]"
     ]
    },
    {
     "name": "stdout",
     "output_type": "stream",
     "text": [
      "Epoch 0\n"
     ]
    },
    {
     "name": "stderr",
     "output_type": "stream",
     "text": [
      "256it [00:00, 428.06it/s, NLL=0.424, epoch=0]"
     ]
    },
    {
     "name": "stdout",
     "output_type": "stream",
     "text": [
      "Train Phase:  Iteration 2/21\r",
      "Train Phase:  Iteration 3/21\r",
      "Train Phase:  Iteration 4/21\r"
     ]
    },
    {
     "name": "stderr",
     "output_type": "stream",
     "text": [
      "704it [00:00, 568.76it/s, NLL=0.3, epoch=0]  "
     ]
    },
    {
     "name": "stdout",
     "output_type": "stream",
     "text": [
      "Train Phase:  Iteration 5/21\r",
      "Train Phase:  Iteration 6/21\r",
      "Train Phase:  Iteration 7/21\r",
      "Train Phase:  Iteration 8/21\r",
      "Train Phase:  Iteration 9/21\r",
      "Train Phase:  Iteration 10/21\r",
      "Train Phase:  Iteration 11/21\r"
     ]
    },
    {
     "name": "stderr",
     "output_type": "stream",
     "text": [
      "960it [00:00, 763.28it/s, NLL=0.373, epoch=0]"
     ]
    },
    {
     "name": "stdout",
     "output_type": "stream",
     "text": [
      "Train Phase:  Iteration 12/21\r",
      "Train Phase:  Iteration 13/21\r",
      "Train Phase:  Iteration 14/21\r",
      "Train Phase:  Iteration 15/21\r"
     ]
    },
    {
     "name": "stderr",
     "output_type": "stream",
     "text": [
      "1318it [00:00, 959.78it/s, NLL=0.444, epoch=0]"
     ]
    },
    {
     "name": "stdout",
     "output_type": "stream",
     "text": [
      "Train Loss: 0.3589ation 21/21\n",
      "Train AUC: 0.8827\n"
     ]
    },
    {
     "name": "stderr",
     "output_type": "stream",
     "text": [
      "1318it [00:00, 1684.20it/s, NLL=0.444, epoch=0]\n",
      "  0%|          | 0/21 [00:00<?, ?it/s]"
     ]
    },
    {
     "name": "stdout",
     "output_type": "stream",
     "text": [
      "Val Loss: 1.2515\n",
      "Val AUC: 0.5146\n",
      "Epoch 1\n"
     ]
    },
    {
     "name": "stderr",
     "output_type": "stream",
     "text": [
      "512it [00:00, 560.38it/s, NLL=0.278, epoch=1]"
     ]
    },
    {
     "name": "stdout",
     "output_type": "stream",
     "text": [
      "Train Phase:  Iteration 2/21\r",
      "Train Phase:  Iteration 3/21\r",
      "Train Phase:  Iteration 4/21\r",
      "Train Phase:  Iteration 5/21\r",
      "Train Phase:  Iteration 6/21\r",
      "Train Phase:  Iteration 7/21\r",
      "Train Phase:  Iteration 8/21\r"
     ]
    },
    {
     "name": "stderr",
     "output_type": "stream",
     "text": [
      "768it [00:00, 746.08it/s, NLL=0.347, epoch=1]"
     ]
    },
    {
     "name": "stdout",
     "output_type": "stream",
     "text": [
      "Train Phase:  Iteration 9/21\r",
      "Train Phase:  Iteration 10/21\r",
      "Train Phase:  Iteration 11/21\r",
      "Train Phase:  Iteration 12/21\r"
     ]
    },
    {
     "name": "stderr",
     "output_type": "stream",
     "text": [
      "1280it [00:00, 944.31it/s, NLL=0.349, epoch=1]"
     ]
    },
    {
     "name": "stdout",
     "output_type": "stream",
     "text": [
      "Train Phase:  Iteration 13/21\r",
      "Train Phase:  Iteration 14/21\r",
      "Train Phase:  Iteration 15/21\r",
      "Train Phase:  Iteration 16/21\r",
      "Train Phase:  Iteration 17/21\r",
      "Train Phase:  Iteration 18/21\r",
      "Train Phase:  Iteration 19/21\r",
      "Train Phase:  Iteration 20/21\r"
     ]
    },
    {
     "name": "stderr",
     "output_type": "stream",
     "text": [
      "1318it [00:00, 1229.38it/s, NLL=0.392, epoch=1]"
     ]
    },
    {
     "name": "stdout",
     "output_type": "stream",
     "text": [
      "Train Loss: 0.3589ation 21/21\n",
      "Train AUC: 0.8827\n"
     ]
    },
    {
     "name": "stderr",
     "output_type": "stream",
     "text": [
      "1318it [00:00, 1675.21it/s, NLL=0.392, epoch=1]\n",
      "  0%|          | 0/21 [00:00<?, ?it/s]"
     ]
    },
    {
     "name": "stdout",
     "output_type": "stream",
     "text": [
      "Val Loss: 1.2514\n",
      "Val AUC: 0.5152\n",
      "Epoch 2\n"
     ]
    },
    {
     "name": "stderr",
     "output_type": "stream",
     "text": [
      "512it [00:00, 1900.71it/s, NLL=0.444, epoch=2]"
     ]
    },
    {
     "name": "stdout",
     "output_type": "stream",
     "text": [
      "Train Phase:  Iteration 2/21\r",
      "Train Phase:  Iteration 3/21\r",
      "Train Phase:  Iteration 4/21\r",
      "Train Phase:  Iteration 5/21\r",
      "Train Phase:  Iteration 6/21\r",
      "Train Phase:  Iteration 7/21\r",
      "Train Phase:  Iteration 8/21\r"
     ]
    },
    {
     "name": "stderr",
     "output_type": "stream",
     "text": [
      "768it [00:00, 2174.42it/s, NLL=0.405, epoch=2]"
     ]
    },
    {
     "name": "stdout",
     "output_type": "stream",
     "text": [
      "Train Phase:  Iteration 9/21\r",
      "Train Phase:  Iteration 10/21\r",
      "Train Phase:  Iteration 11/21\r",
      "Train Phase:  Iteration 12/21\r"
     ]
    },
    {
     "name": "stderr",
     "output_type": "stream",
     "text": [
      "1088it [00:00, 2358.85it/s, NLL=0.368, epoch=2]"
     ]
    },
    {
     "name": "stdout",
     "output_type": "stream",
     "text": [
      "Train Phase:  Iteration 13/21\r",
      "Train Phase:  Iteration 14/21\r",
      "Train Phase:  Iteration 15/21\r",
      "Train Phase:  Iteration 16/21\r",
      "Train Phase:  Iteration 17/21\r"
     ]
    },
    {
     "name": "stderr",
     "output_type": "stream",
     "text": [
      "1318it [00:00, 2505.47it/s, NLL=0.427, epoch=2]"
     ]
    },
    {
     "name": "stdout",
     "output_type": "stream",
     "text": [
      "Train Loss: 0.3588ation 21/21\n",
      "Train AUC: 0.8827\n"
     ]
    },
    {
     "name": "stderr",
     "output_type": "stream",
     "text": [
      "1318it [00:00, 1947.81it/s, NLL=0.427, epoch=2]\n",
      "  0%|          | 0/21 [00:00<?, ?it/s]"
     ]
    },
    {
     "name": "stdout",
     "output_type": "stream",
     "text": [
      "Val Loss: 1.2509\n",
      "Val AUC: 0.5137\n",
      "Epoch 3\n"
     ]
    },
    {
     "name": "stderr",
     "output_type": "stream",
     "text": [
      "256it [00:00, 529.27it/s, NLL=0.385, epoch=3]"
     ]
    },
    {
     "name": "stdout",
     "output_type": "stream",
     "text": [
      "Train Phase:  Iteration 2/21\r",
      "Train Phase:  Iteration 3/21\r",
      "Train Phase:  Iteration 4/21\r"
     ]
    },
    {
     "name": "stderr",
     "output_type": "stream",
     "text": [
      "768it [00:00, 706.26it/s, NLL=0.418, epoch=3]"
     ]
    },
    {
     "name": "stdout",
     "output_type": "stream",
     "text": [
      "Train Phase:  Iteration 5/21\r",
      "Train Phase:  Iteration 6/21\r",
      "Train Phase:  Iteration 7/21\r",
      "Train Phase:  Iteration 8/21\r",
      "Train Phase:  Iteration 9/21\r",
      "Train Phase:  Iteration 10/21\r",
      "Train Phase:  Iteration 11/21\r",
      "Train Phase:  Iteration 12/21\r"
     ]
    },
    {
     "name": "stderr",
     "output_type": "stream",
     "text": [
      "1024it [00:00, 706.26it/s, NLL=0.403, epoch=3]"
     ]
    },
    {
     "name": "stdout",
     "output_type": "stream",
     "text": [
      "Train Phase:  Iteration 13/21\r",
      "Train Phase:  Iteration 14/21\r",
      "Train Phase:  Iteration 15/21\r",
      "Train Phase:  Iteration 16/21\r"
     ]
    },
    {
     "name": "stderr",
     "output_type": "stream",
     "text": [
      "1318it [00:00, 934.74it/s, NLL=0.17, epoch=3] "
     ]
    },
    {
     "name": "stdout",
     "output_type": "stream",
     "text": [
      "Train Phase:  Iteration 17/21\r",
      "Train Phase:  Iteration 18/21\r",
      "Train Phase:  Iteration 19/21\r",
      "Train Phase:  Iteration 20/21\r",
      "Train Phase:  Iteration 21/21\r",
      "Train Loss: 0.3591\n",
      "Train AUC: 0.8827\n"
     ]
    },
    {
     "name": "stderr",
     "output_type": "stream",
     "text": [
      "1318it [00:00, 1980.74it/s, NLL=0.17, epoch=3]\n",
      "  0%|          | 0/21 [00:00<?, ?it/s]"
     ]
    },
    {
     "name": "stdout",
     "output_type": "stream",
     "text": [
      "Val Loss: 1.2520\n",
      "Val AUC: 0.5150\n",
      "Epoch 4\n"
     ]
    },
    {
     "name": "stderr",
     "output_type": "stream",
     "text": [
      "512it [00:00, 512.28it/s, NLL=0.266, epoch=4]"
     ]
    },
    {
     "name": "stdout",
     "output_type": "stream",
     "text": [
      "Train Phase:  Iteration 2/21\r",
      "Train Phase:  Iteration 3/21\r",
      "Train Phase:  Iteration 4/21\r",
      "Train Phase:  Iteration 5/21\r",
      "Train Phase:  Iteration 6/21\r",
      "Train Phase:  Iteration 7/21\r",
      "Train Phase:  Iteration 8/21\r"
     ]
    },
    {
     "name": "stderr",
     "output_type": "stream",
     "text": [
      "768it [00:00, 690.87it/s, NLL=0.462, epoch=4]"
     ]
    },
    {
     "name": "stdout",
     "output_type": "stream",
     "text": [
      "Train Phase:  Iteration 9/21\r",
      "Train Phase:  Iteration 10/21\r",
      "Train Phase:  Iteration 11/21\r",
      "Train Phase:  Iteration 12/21\r"
     ]
    },
    {
     "name": "stderr",
     "output_type": "stream",
     "text": [
      "1280it [00:00, 903.03it/s, NLL=0.306, epoch=4]"
     ]
    },
    {
     "name": "stdout",
     "output_type": "stream",
     "text": [
      "Train Phase:  Iteration 13/21\r",
      "Train Phase:  Iteration 14/21\r",
      "Train Phase:  Iteration 15/21\r",
      "Train Phase:  Iteration 16/21\r",
      "Train Phase:  Iteration 17/21\r",
      "Train Phase:  Iteration 18/21\r",
      "Train Phase:  Iteration 19/21\r",
      "Train Phase:  Iteration 20/21\r"
     ]
    },
    {
     "name": "stderr",
     "output_type": "stream",
     "text": [
      "1318it [00:00, 1176.15it/s, NLL=0.285, epoch=4]"
     ]
    },
    {
     "name": "stdout",
     "output_type": "stream",
     "text": [
      "Train Phase:  Iteration 21/21\r",
      "Train Loss: 0.3589\n",
      "Train AUC: 0.8827\n"
     ]
    },
    {
     "name": "stderr",
     "output_type": "stream",
     "text": [
      "1318it [00:00, 1898.87it/s, NLL=0.285, epoch=4]\n",
      "  0%|          | 0/21 [00:00<?, ?it/s]"
     ]
    },
    {
     "name": "stdout",
     "output_type": "stream",
     "text": [
      "Val Loss: 1.2514\n",
      "Val AUC: 0.5143\n",
      "Epoch 5\n"
     ]
    },
    {
     "name": "stderr",
     "output_type": "stream",
     "text": [
      "512it [00:00, 1853.25it/s, NLL=0.316, epoch=5]"
     ]
    },
    {
     "name": "stdout",
     "output_type": "stream",
     "text": [
      "Train Phase:  Iteration 2/21\r",
      "Train Phase:  Iteration 3/21\r",
      "Train Phase:  Iteration 4/21\r",
      "Train Phase:  Iteration 5/21\r",
      "Train Phase:  Iteration 6/21\r",
      "Train Phase:  Iteration 7/21\r",
      "Train Phase:  Iteration 8/21\r"
     ]
    },
    {
     "name": "stderr",
     "output_type": "stream",
     "text": [
      "768it [00:00, 2063.87it/s, NLL=0.289, epoch=5]"
     ]
    },
    {
     "name": "stdout",
     "output_type": "stream",
     "text": [
      "Train Phase:  Iteration 9/21\r",
      "Train Phase:  Iteration 10/21\r",
      "Train Phase:  Iteration 11/21\r",
      "Train Phase:  Iteration 12/21\r"
     ]
    },
    {
     "name": "stderr",
     "output_type": "stream",
     "text": [
      "1318it [00:00, 2394.33it/s, NLL=0.38, epoch=5] "
     ]
    },
    {
     "name": "stdout",
     "output_type": "stream",
     "text": [
      "Train Loss: 0.3586ation 21/21\n",
      "Train AUC: 0.8827\n"
     ]
    },
    {
     "name": "stderr",
     "output_type": "stream",
     "text": [
      "1318it [00:00, 2119.68it/s, NLL=0.38, epoch=5]\n",
      "  0%|          | 0/21 [00:00<?, ?it/s]"
     ]
    },
    {
     "name": "stdout",
     "output_type": "stream",
     "text": [
      "Val Loss: 1.2505\n",
      "Val AUC: 0.5137\n",
      "Epoch 6\n"
     ]
    },
    {
     "name": "stderr",
     "output_type": "stream",
     "text": [
      "512it [00:00, 2151.01it/s, NLL=0.221, epoch=6]"
     ]
    },
    {
     "name": "stdout",
     "output_type": "stream",
     "text": [
      "Train Phase:  Iteration 2/21\r",
      "Train Phase:  Iteration 3/21\r",
      "Train Phase:  Iteration 4/21\r",
      "Train Phase:  Iteration 5/21\r",
      "Train Phase:  Iteration 6/21\r",
      "Train Phase:  Iteration 7/21\r",
      "Train Phase:  Iteration 8/21\r"
     ]
    },
    {
     "name": "stderr",
     "output_type": "stream",
     "text": [
      "768it [00:00, 2329.94it/s, NLL=0.412, epoch=6]"
     ]
    },
    {
     "name": "stdout",
     "output_type": "stream",
     "text": [
      "Train Phase:  Iteration 9/21\r",
      "Train Phase:  Iteration 10/21\r",
      "Train Phase:  Iteration 11/21\r",
      "Train Phase:  Iteration 12/21\r"
     ]
    },
    {
     "name": "stderr",
     "output_type": "stream",
     "text": [
      "1318it [00:00, 2636.09it/s, NLL=0.323, epoch=6]"
     ]
    },
    {
     "name": "stdout",
     "output_type": "stream",
     "text": [
      "Train Loss: 0.3584ation 21/21\n",
      "Train AUC: 0.8827\n"
     ]
    },
    {
     "name": "stderr",
     "output_type": "stream",
     "text": [
      "1318it [00:00, 2181.92it/s, NLL=0.323, epoch=6]\n",
      "  0%|          | 0/21 [00:00<?, ?it/s]"
     ]
    },
    {
     "name": "stdout",
     "output_type": "stream",
     "text": [
      "Val Loss: 1.2497\n",
      "Val AUC: 0.5136\n",
      "Epoch 7\n"
     ]
    },
    {
     "name": "stderr",
     "output_type": "stream",
     "text": [
      "320it [00:00, 515.99it/s, NLL=0.478, epoch=7]"
     ]
    },
    {
     "name": "stdout",
     "output_type": "stream",
     "text": [
      "Train Phase:  Iteration 2/21\r",
      "Train Phase:  Iteration 3/21\r",
      "Train Phase:  Iteration 4/21\r",
      "Train Phase:  Iteration 5/21\r"
     ]
    },
    {
     "name": "stderr",
     "output_type": "stream",
     "text": [
      "1024it [00:00, 936.18it/s, NLL=0.309, epoch=7]"
     ]
    },
    {
     "name": "stdout",
     "output_type": "stream",
     "text": [
      "Train Phase:  Iteration 6/21\r",
      "Train Phase:  Iteration 7/21\r",
      "Train Phase:  Iteration 8/21\r",
      "Train Phase:  Iteration 9/21\r",
      "Train Phase:  Iteration 10/21\r",
      "Train Phase:  Iteration 11/21\r",
      "Train Phase:  Iteration 12/21\r",
      "Train Phase:  Iteration 13/21\r",
      "Train Phase:  Iteration 14/21\r",
      "Train Phase:  Iteration 15/21\r",
      "Train Phase:  Iteration 16/21\r"
     ]
    },
    {
     "name": "stderr",
     "output_type": "stream",
     "text": [
      "1318it [00:00, 936.18it/s, NLL=0.427, epoch=7]"
     ]
    },
    {
     "name": "stdout",
     "output_type": "stream",
     "text": [
      "Train Loss: 0.3580ation 21/21\n",
      "Train AUC: 0.8827\n"
     ]
    },
    {
     "name": "stderr",
     "output_type": "stream",
     "text": [
      "1318it [00:00, 2204.48it/s, NLL=0.427, epoch=7]\n",
      "  0%|          | 0/21 [00:00<?, ?it/s]"
     ]
    },
    {
     "name": "stdout",
     "output_type": "stream",
     "text": [
      "Val Loss: 1.2484\n",
      "Val AUC: 0.5130\n",
      "Epoch 8\n"
     ]
    },
    {
     "name": "stderr",
     "output_type": "stream",
     "text": [
      "512it [00:00, 596.50it/s, NLL=0.366, epoch=8]"
     ]
    },
    {
     "name": "stdout",
     "output_type": "stream",
     "text": [
      "Train Phase:  Iteration 2/21\r",
      "Train Phase:  Iteration 3/21\r",
      "Train Phase:  Iteration 4/21\r",
      "Train Phase:  Iteration 5/21\r",
      "Train Phase:  Iteration 6/21\r",
      "Train Phase:  Iteration 7/21\r",
      "Train Phase:  Iteration 8/21\r"
     ]
    },
    {
     "name": "stderr",
     "output_type": "stream",
     "text": [
      "1024it [00:00, 796.89it/s, NLL=0.354, epoch=8]"
     ]
    },
    {
     "name": "stdout",
     "output_type": "stream",
     "text": [
      "Train Phase:  Iteration 9/21\r",
      "Train Phase:  Iteration 10/21\r",
      "Train Phase:  Iteration 11/21\r",
      "Train Phase:  Iteration 12/21\r",
      "Train Phase:  Iteration 13/21\r",
      "Train Phase:  Iteration 14/21\r",
      "Train Phase:  Iteration 15/21\r",
      "Train Phase:  Iteration 16/21\r"
     ]
    },
    {
     "name": "stderr",
     "output_type": "stream",
     "text": [
      "1318it [00:00, 1057.51it/s, NLL=0.299, epoch=8]"
     ]
    },
    {
     "name": "stdout",
     "output_type": "stream",
     "text": [
      "Train Loss: 0.3586ation 21/21\n",
      "Train AUC: 0.8827\n"
     ]
    },
    {
     "name": "stderr",
     "output_type": "stream",
     "text": [
      "1318it [00:00, 2264.69it/s, NLL=0.299, epoch=8]\n",
      "  0%|          | 0/21 [00:00<?, ?it/s]"
     ]
    },
    {
     "name": "stdout",
     "output_type": "stream",
     "text": [
      "Val Loss: 1.2504\n",
      "Val AUC: 0.5133\n",
      "Epoch 9\n"
     ]
    },
    {
     "name": "stderr",
     "output_type": "stream",
     "text": [
      "512it [00:00, 1278.18it/s, NLL=0.375, epoch=9]"
     ]
    },
    {
     "name": "stdout",
     "output_type": "stream",
     "text": [
      "Train Phase:  Iteration 2/21\r",
      "Train Phase:  Iteration 3/21\r",
      "Train Phase:  Iteration 4/21\r",
      "Train Phase:  Iteration 5/21\r",
      "Train Phase:  Iteration 6/21\r",
      "Train Phase:  Iteration 7/21\r",
      "Train Phase:  Iteration 8/21\r"
     ]
    },
    {
     "name": "stderr",
     "output_type": "stream",
     "text": [
      "960it [00:00, 1601.27it/s, NLL=0.344, epoch=9]"
     ]
    },
    {
     "name": "stdout",
     "output_type": "stream",
     "text": [
      "Train Phase:  Iteration 9/21\r",
      "Train Phase:  Iteration 10/21\r",
      "Train Phase:  Iteration 11/21\r",
      "Train Phase:  Iteration 12/21\r",
      "Train Phase:  Iteration 13/21\r",
      "Train Phase:  Iteration 14/21\r",
      "Train Phase:  Iteration 15/21\r"
     ]
    },
    {
     "name": "stderr",
     "output_type": "stream",
     "text": [
      "1318it [00:00, 1972.49it/s, NLL=0.234, epoch=9]"
     ]
    },
    {
     "name": "stdout",
     "output_type": "stream",
     "text": [
      "Train Loss: 0.3585ation 21/21\n",
      "Train AUC: 0.8827\n"
     ]
    },
    {
     "name": "stderr",
     "output_type": "stream",
     "text": [
      "1318it [00:00, 2238.63it/s, NLL=0.234, epoch=9]\n",
      "  0%|          | 0/21 [00:00<?, ?it/s]"
     ]
    },
    {
     "name": "stdout",
     "output_type": "stream",
     "text": [
      "Val Loss: 1.2501\n",
      "Val AUC: 0.5135\n",
      "Epoch 10\n"
     ]
    },
    {
     "name": "stderr",
     "output_type": "stream",
     "text": [
      "512it [00:00, 504.01it/s, NLL=0.317, epoch=10]"
     ]
    },
    {
     "name": "stdout",
     "output_type": "stream",
     "text": [
      "Train Phase:  Iteration 2/21\r",
      "Train Phase:  Iteration 3/21\r",
      "Train Phase:  Iteration 4/21\r",
      "Train Phase:  Iteration 5/21\r",
      "Train Phase:  Iteration 6/21\r",
      "Train Phase:  Iteration 7/21\r",
      "Train Phase:  Iteration 8/21\r"
     ]
    },
    {
     "name": "stderr",
     "output_type": "stream",
     "text": [
      "1088it [00:00, 693.38it/s, NLL=0.376, epoch=10]"
     ]
    },
    {
     "name": "stdout",
     "output_type": "stream",
     "text": [
      "Train Phase:  Iteration 9/21\r",
      "Train Phase:  Iteration 10/21\r",
      "Train Phase:  Iteration 11/21\r",
      "Train Phase:  Iteration 12/21\r",
      "Train Phase:  Iteration 13/21\r",
      "Train Phase:  Iteration 14/21\r",
      "Train Phase:  Iteration 15/21\r",
      "Train Phase:  Iteration 16/21\r",
      "Train Phase:  Iteration 17/21\r"
     ]
    },
    {
     "name": "stderr",
     "output_type": "stream",
     "text": [
      "1318it [00:00, 912.57it/s, NLL=0.365, epoch=10]"
     ]
    },
    {
     "name": "stdout",
     "output_type": "stream",
     "text": [
      "Train Loss: 0.3587ation 21/21\n",
      "Train AUC: 0.8827\n"
     ]
    },
    {
     "name": "stderr",
     "output_type": "stream",
     "text": [
      "1318it [00:00, 2206.42it/s, NLL=0.365, epoch=10]\n",
      "  0%|          | 0/21 [00:00<?, ?it/s]"
     ]
    },
    {
     "name": "stdout",
     "output_type": "stream",
     "text": [
      "Val Loss: 1.2509\n",
      "Val AUC: 0.5138\n",
      "Epoch 11\n"
     ]
    },
    {
     "name": "stderr",
     "output_type": "stream",
     "text": [
      "320it [00:00, 508.50it/s, NLL=0.421, epoch=11]"
     ]
    },
    {
     "name": "stdout",
     "output_type": "stream",
     "text": [
      "Train Phase:  Iteration 2/21\r",
      "Train Phase:  Iteration 3/21\r",
      "Train Phase:  Iteration 4/21\r",
      "Train Phase:  Iteration 5/21\r"
     ]
    },
    {
     "name": "stderr",
     "output_type": "stream",
     "text": [
      "1152it [00:00, 930.64it/s, NLL=0.477, epoch=11]"
     ]
    },
    {
     "name": "stdout",
     "output_type": "stream",
     "text": [
      "Train Phase:  Iteration 6/21\r",
      "Train Phase:  Iteration 7/21\r",
      "Train Phase:  Iteration 8/21\r",
      "Train Phase:  Iteration 9/21\r",
      "Train Phase:  Iteration 10/21\r",
      "Train Phase:  Iteration 11/21\r",
      "Train Phase:  Iteration 12/21\r",
      "Train Phase:  Iteration 13/21\r",
      "Train Phase:  Iteration 14/21\r",
      "Train Phase:  Iteration 15/21\r",
      "Train Phase:  Iteration 16/21\r",
      "Train Phase:  Iteration 17/21\r",
      "Train Phase:  Iteration 18/21\r"
     ]
    },
    {
     "name": "stderr",
     "output_type": "stream",
     "text": [
      "1318it [00:00, 930.64it/s, NLL=0.373, epoch=11]"
     ]
    },
    {
     "name": "stdout",
     "output_type": "stream",
     "text": [
      "Train Loss: 0.3585ation 21/21\n",
      "Train AUC: 0.8827\n"
     ]
    },
    {
     "name": "stderr",
     "output_type": "stream",
     "text": [
      "1318it [00:00, 2247.95it/s, NLL=0.373, epoch=11]\n",
      "  0%|          | 0/21 [00:00<?, ?it/s]"
     ]
    },
    {
     "name": "stdout",
     "output_type": "stream",
     "text": [
      "Val Loss: 1.2498\n",
      "Val AUC: 0.5130\n",
      "Epoch 12\n"
     ]
    },
    {
     "name": "stderr",
     "output_type": "stream",
     "text": [
      "512it [00:00, 1189.41it/s, NLL=0.47, epoch=12] "
     ]
    },
    {
     "name": "stdout",
     "output_type": "stream",
     "text": [
      "Train Phase:  Iteration 2/21\r",
      "Train Phase:  Iteration 3/21\r",
      "Train Phase:  Iteration 4/21\r",
      "Train Phase:  Iteration 5/21\r",
      "Train Phase:  Iteration 6/21\r",
      "Train Phase:  Iteration 7/21\r",
      "Train Phase:  Iteration 8/21\r"
     ]
    },
    {
     "name": "stderr",
     "output_type": "stream",
     "text": [
      "832it [00:00, 1514.99it/s, NLL=0.286, epoch=12]"
     ]
    },
    {
     "name": "stdout",
     "output_type": "stream",
     "text": [
      "Train Phase:  Iteration 9/21\r",
      "Train Phase:  Iteration 10/21\r",
      "Train Phase:  Iteration 11/21\r",
      "Train Phase:  Iteration 12/21\r",
      "Train Phase:  Iteration 13/21\r"
     ]
    },
    {
     "name": "stderr",
     "output_type": "stream",
     "text": [
      "1318it [00:00, 1768.23it/s, NLL=0.267, epoch=12]"
     ]
    },
    {
     "name": "stdout",
     "output_type": "stream",
     "text": [
      "Train Loss: 0.3578ation 21/21\n",
      "Train AUC: 0.8827\n"
     ]
    },
    {
     "name": "stderr",
     "output_type": "stream",
     "text": [
      "1318it [00:00, 2273.10it/s, NLL=0.267, epoch=12]\n",
      "  0%|          | 0/21 [00:00<?, ?it/s]"
     ]
    },
    {
     "name": "stdout",
     "output_type": "stream",
     "text": [
      "Val Loss: 1.2477\n",
      "Val AUC: 0.5138\n",
      "Epoch 13\n"
     ]
    },
    {
     "name": "stderr",
     "output_type": "stream",
     "text": [
      "512it [00:00, 1175.04it/s, NLL=0.235, epoch=13]"
     ]
    },
    {
     "name": "stdout",
     "output_type": "stream",
     "text": [
      "Train Phase:  Iteration 2/21\r",
      "Train Phase:  Iteration 3/21\r",
      "Train Phase:  Iteration 4/21\r",
      "Train Phase:  Iteration 5/21\r",
      "Train Phase:  Iteration 6/21\r",
      "Train Phase:  Iteration 7/21\r",
      "Train Phase:  Iteration 8/21\r"
     ]
    },
    {
     "name": "stderr",
     "output_type": "stream",
     "text": [
      "832it [00:00, 1483.23it/s, NLL=0.418, epoch=13]"
     ]
    },
    {
     "name": "stdout",
     "output_type": "stream",
     "text": [
      "Train Phase:  Iteration 9/21\r",
      "Train Phase:  Iteration 10/21\r",
      "Train Phase:  Iteration 11/21\r",
      "Train Phase:  Iteration 12/21\r",
      "Train Phase:  Iteration 13/21\r"
     ]
    },
    {
     "name": "stderr",
     "output_type": "stream",
     "text": [
      "1318it [00:00, 1800.57it/s, NLL=0.383, epoch=13]"
     ]
    },
    {
     "name": "stdout",
     "output_type": "stream",
     "text": [
      "Train Loss: 0.3582ation 21/21\n",
      "Train AUC: 0.8827\n"
     ]
    },
    {
     "name": "stderr",
     "output_type": "stream",
     "text": [
      "1318it [00:00, 2217.55it/s, NLL=0.383, epoch=13]\n",
      "  0%|          | 0/21 [00:00<?, ?it/s]"
     ]
    },
    {
     "name": "stdout",
     "output_type": "stream",
     "text": [
      "Val Loss: 1.2488\n",
      "Val AUC: 0.5132\n",
      "Epoch 14\n"
     ]
    },
    {
     "name": "stderr",
     "output_type": "stream",
     "text": [
      "512it [00:00, 2376.95it/s, NLL=0.413, epoch=14]"
     ]
    },
    {
     "name": "stdout",
     "output_type": "stream",
     "text": [
      "Train Phase:  Iteration 2/21\r",
      "Train Phase:  Iteration 3/21\r",
      "Train Phase:  Iteration 4/21\r",
      "Train Phase:  Iteration 5/21\r",
      "Train Phase:  Iteration 6/21\r",
      "Train Phase:  Iteration 7/21\r",
      "Train Phase:  Iteration 8/21\r"
     ]
    },
    {
     "name": "stderr",
     "output_type": "stream",
     "text": [
      "1024it [00:00, 2652.03it/s, NLL=0.323, epoch=14]"
     ]
    },
    {
     "name": "stdout",
     "output_type": "stream",
     "text": [
      "Train Phase:  Iteration 9/21\r",
      "Train Phase:  Iteration 10/21\r",
      "Train Phase:  Iteration 11/21\r",
      "Train Phase:  Iteration 12/21\r",
      "Train Phase:  Iteration 13/21\r",
      "Train Phase:  Iteration 14/21\r",
      "Train Phase:  Iteration 15/21\r",
      "Train Phase:  Iteration 16/21\r"
     ]
    },
    {
     "name": "stderr",
     "output_type": "stream",
     "text": [
      "1318it [00:00, 2894.67it/s, NLL=0.298, epoch=14]"
     ]
    },
    {
     "name": "stdout",
     "output_type": "stream",
     "text": [
      "Train Loss: 0.3582ation 21/21\n",
      "Train AUC: 0.8827\n"
     ]
    },
    {
     "name": "stderr",
     "output_type": "stream",
     "text": [
      "1318it [00:00, 2336.45it/s, NLL=0.298, epoch=14]\n",
      "  0%|          | 0/21 [00:00<?, ?it/s]"
     ]
    },
    {
     "name": "stdout",
     "output_type": "stream",
     "text": [
      "Val Loss: 1.2488\n",
      "Val AUC: 0.5132\n",
      "Epoch 15\n"
     ]
    },
    {
     "name": "stderr",
     "output_type": "stream",
     "text": [
      "512it [00:00, 1878.28it/s, NLL=0.28, epoch=15] "
     ]
    },
    {
     "name": "stdout",
     "output_type": "stream",
     "text": [
      "Train Phase:  Iteration 2/21\r",
      "Train Phase:  Iteration 3/21\r",
      "Train Phase:  Iteration 4/21\r",
      "Train Phase:  Iteration 5/21\r",
      "Train Phase:  Iteration 6/21\r",
      "Train Phase:  Iteration 7/21\r",
      "Train Phase:  Iteration 8/21\r"
     ]
    },
    {
     "name": "stderr",
     "output_type": "stream",
     "text": [
      "960it [00:00, 2140.66it/s, NLL=0.385, epoch=15]"
     ]
    },
    {
     "name": "stdout",
     "output_type": "stream",
     "text": [
      "Train Phase:  Iteration 9/21\r",
      "Train Phase:  Iteration 10/21\r",
      "Train Phase:  Iteration 11/21\r",
      "Train Phase:  Iteration 12/21\r",
      "Train Phase:  Iteration 13/21\r",
      "Train Phase:  Iteration 14/21\r",
      "Train Phase:  Iteration 15/21\r"
     ]
    },
    {
     "name": "stderr",
     "output_type": "stream",
     "text": [
      "1088it [00:00, 2362.57it/s, NLL=0.231, epoch=15]"
     ]
    },
    {
     "name": "stdout",
     "output_type": "stream",
     "text": [
      "Train Phase:  Iteration 16/21\r",
      "Train Phase:  Iteration 17/21\r"
     ]
    },
    {
     "name": "stderr",
     "output_type": "stream",
     "text": [
      "1318it [00:00, 2362.57it/s, NLL=0.426, epoch=15]"
     ]
    },
    {
     "name": "stdout",
     "output_type": "stream",
     "text": [
      "Train Phase:  Iteration 18/21\r",
      "Train Phase:  Iteration 19/21\r",
      "Train Phase:  Iteration 20/21\r",
      "Train Phase:  Iteration 21/21\r",
      "Train Loss: 0.3577\n",
      "Train AUC: 0.8827\n"
     ]
    },
    {
     "name": "stderr",
     "output_type": "stream",
     "text": [
      "1318it [00:00, 1987.70it/s, NLL=0.426, epoch=15]\n",
      "  0%|          | 0/21 [00:00<?, ?it/s]"
     ]
    },
    {
     "name": "stdout",
     "output_type": "stream",
     "text": [
      "Val Loss: 1.2471\n",
      "Val AUC: 0.5122\n",
      "Epoch 16\n"
     ]
    },
    {
     "name": "stderr",
     "output_type": "stream",
     "text": [
      "512it [00:00, 1148.99it/s, NLL=0.362, epoch=16]"
     ]
    },
    {
     "name": "stdout",
     "output_type": "stream",
     "text": [
      "Train Phase:  Iteration 2/21\r",
      "Train Phase:  Iteration 3/21\r",
      "Train Phase:  Iteration 4/21\r",
      "Train Phase:  Iteration 5/21\r",
      "Train Phase:  Iteration 6/21\r",
      "Train Phase:  Iteration 7/21\r",
      "Train Phase:  Iteration 8/21\r"
     ]
    },
    {
     "name": "stderr",
     "output_type": "stream",
     "text": [
      "960it [00:00, 1471.69it/s, NLL=0.224, epoch=16]"
     ]
    },
    {
     "name": "stdout",
     "output_type": "stream",
     "text": [
      "Train Phase:  Iteration 9/21\r",
      "Train Phase:  Iteration 10/21\r",
      "Train Phase:  Iteration 11/21\r",
      "Train Phase:  Iteration 12/21\r",
      "Train Phase:  Iteration 13/21\r",
      "Train Phase:  Iteration 14/21\r",
      "Train Phase:  Iteration 15/21\r",
      "Train Phase:  Iteration 16/21\r"
     ]
    },
    {
     "name": "stderr",
     "output_type": "stream",
     "text": [
      "1318it [00:00, 1787.77it/s, NLL=0.31, epoch=16] "
     ]
    },
    {
     "name": "stdout",
     "output_type": "stream",
     "text": [
      "Train Loss: 0.3577ation 21/21\n",
      "Train AUC: 0.8827\n"
     ]
    },
    {
     "name": "stderr",
     "output_type": "stream",
     "text": [
      "1318it [00:00, 2230.39it/s, NLL=0.31, epoch=16]\n",
      "  0%|          | 0/21 [00:00<?, ?it/s]"
     ]
    },
    {
     "name": "stdout",
     "output_type": "stream",
     "text": [
      "Val Loss: 1.2472\n",
      "Val AUC: 0.5126\n",
      "Epoch 17\n"
     ]
    },
    {
     "name": "stderr",
     "output_type": "stream",
     "text": [
      "512it [00:00, 613.76it/s, NLL=0.356, epoch=17]"
     ]
    },
    {
     "name": "stdout",
     "output_type": "stream",
     "text": [
      "Train Phase:  Iteration 2/21\r",
      "Train Phase:  Iteration 3/21\r",
      "Train Phase:  Iteration 4/21\r",
      "Train Phase:  Iteration 5/21\r",
      "Train Phase:  Iteration 6/21\r",
      "Train Phase:  Iteration 7/21\r",
      "Train Phase:  Iteration 8/21\r"
     ]
    },
    {
     "name": "stderr",
     "output_type": "stream",
     "text": [
      "768it [00:00, 821.00it/s, NLL=0.453, epoch=17]"
     ]
    },
    {
     "name": "stdout",
     "output_type": "stream",
     "text": [
      "Train Phase:  Iteration 9/21\r",
      "Train Phase:  Iteration 10/21\r",
      "Train Phase:  Iteration 11/21\r",
      "Train Phase:  Iteration 12/21\r",
      "Train Phase:  Iteration 13/21\r"
     ]
    },
    {
     "name": "stderr",
     "output_type": "stream",
     "text": [
      "1318it [00:00, 1075.64it/s, NLL=0.34, epoch=17] "
     ]
    },
    {
     "name": "stdout",
     "output_type": "stream",
     "text": [
      "Train Loss: 0.3572ation 21/21\n",
      "Train AUC: 0.8827\n"
     ]
    },
    {
     "name": "stderr",
     "output_type": "stream",
     "text": [
      "1318it [00:00, 2214.26it/s, NLL=0.34, epoch=17]\n",
      "  0%|          | 0/21 [00:00<?, ?it/s]"
     ]
    },
    {
     "name": "stdout",
     "output_type": "stream",
     "text": [
      "Val Loss: 1.2453\n",
      "Val AUC: 0.5128\n",
      "Epoch 18\n"
     ]
    },
    {
     "name": "stderr",
     "output_type": "stream",
     "text": [
      "256it [00:00, 505.33it/s, NLL=0.303, epoch=18]"
     ]
    },
    {
     "name": "stdout",
     "output_type": "stream",
     "text": [
      "Train Phase:  Iteration 2/21\r",
      "Train Phase:  Iteration 3/21\r",
      "Train Phase:  Iteration 4/21\r"
     ]
    },
    {
     "name": "stderr",
     "output_type": "stream",
     "text": [
      "1024it [00:00, 685.65it/s, NLL=0.327, epoch=18]"
     ]
    },
    {
     "name": "stdout",
     "output_type": "stream",
     "text": [
      "Train Phase:  Iteration 5/21\r",
      "Train Phase:  Iteration 6/21\r",
      "Train Phase:  Iteration 7/21\r",
      "Train Phase:  Iteration 8/21\r",
      "Train Phase:  Iteration 9/21\r",
      "Train Phase:  Iteration 10/21\r",
      "Train Phase:  Iteration 11/21\r",
      "Train Phase:  Iteration 12/21\r",
      "Train Phase:  Iteration 13/21\r",
      "Train Phase:  Iteration 14/21\r",
      "Train Phase:  Iteration 15/21\r",
      "Train Phase:  Iteration 16/21\r"
     ]
    },
    {
     "name": "stderr",
     "output_type": "stream",
     "text": [
      "1318it [00:00, 917.22it/s, NLL=0.434, epoch=18]"
     ]
    },
    {
     "name": "stdout",
     "output_type": "stream",
     "text": [
      "Train Loss: 0.3576ation 21/21\n",
      "Train AUC: 0.8827\n"
     ]
    },
    {
     "name": "stderr",
     "output_type": "stream",
     "text": [
      "1318it [00:00, 2162.30it/s, NLL=0.434, epoch=18]\n",
      "  0%|          | 0/21 [00:00<?, ?it/s]"
     ]
    },
    {
     "name": "stdout",
     "output_type": "stream",
     "text": [
      "Val Loss: 1.2468\n",
      "Val AUC: 0.5139\n",
      "Epoch 19\n"
     ]
    },
    {
     "name": "stderr",
     "output_type": "stream",
     "text": [
      "512it [00:00, 496.11it/s, NLL=0.383, epoch=19]"
     ]
    },
    {
     "name": "stdout",
     "output_type": "stream",
     "text": [
      "Train Phase:  Iteration 2/21\r",
      "Train Phase:  Iteration 3/21\r",
      "Train Phase:  Iteration 4/21\r",
      "Train Phase:  Iteration 5/21\r",
      "Train Phase:  Iteration 6/21\r",
      "Train Phase:  Iteration 7/21\r",
      "Train Phase:  Iteration 8/21\r"
     ]
    },
    {
     "name": "stderr",
     "output_type": "stream",
     "text": [
      "1088it [00:00, 682.12it/s, NLL=0.422, epoch=19]"
     ]
    },
    {
     "name": "stdout",
     "output_type": "stream",
     "text": [
      "Train Phase:  Iteration 9/21\r",
      "Train Phase:  Iteration 10/21\r",
      "Train Phase:  Iteration 11/21\r",
      "Train Phase:  Iteration 12/21\r",
      "Train Phase:  Iteration 13/21\r",
      "Train Phase:  Iteration 14/21\r",
      "Train Phase:  Iteration 15/21\r",
      "Train Phase:  Iteration 16/21\r",
      "Train Phase:  Iteration 17/21\r"
     ]
    },
    {
     "name": "stderr",
     "output_type": "stream",
     "text": [
      "1318it [00:00, 901.76it/s, NLL=0.31, epoch=19] "
     ]
    },
    {
     "name": "stdout",
     "output_type": "stream",
     "text": [
      "Train Loss: 0.3577ation 21/21\n",
      "Train AUC: 0.8827\n"
     ]
    },
    {
     "name": "stderr",
     "output_type": "stream",
     "text": [
      "1318it [00:00, 2211.19it/s, NLL=0.31, epoch=19]\n",
      "  0%|          | 0/21 [00:00<?, ?it/s]"
     ]
    },
    {
     "name": "stdout",
     "output_type": "stream",
     "text": [
      "Val Loss: 1.2474\n",
      "Val AUC: 0.5127\n",
      "Epoch 20\n"
     ]
    },
    {
     "name": "stderr",
     "output_type": "stream",
     "text": [
      "256it [00:00, 495.48it/s, NLL=0.394, epoch=20]"
     ]
    },
    {
     "name": "stdout",
     "output_type": "stream",
     "text": [
      "Train Phase:  Iteration 2/21\r",
      "Train Phase:  Iteration 3/21\r",
      "Train Phase:  Iteration 4/21\r"
     ]
    },
    {
     "name": "stderr",
     "output_type": "stream",
     "text": [
      "1088it [00:00, 917.63it/s, NLL=0.348, epoch=20]"
     ]
    },
    {
     "name": "stdout",
     "output_type": "stream",
     "text": [
      "Train Phase:  Iteration 5/21\r",
      "Train Phase:  Iteration 6/21\r",
      "Train Phase:  Iteration 7/21\r",
      "Train Phase:  Iteration 8/21\r",
      "Train Phase:  Iteration 9/21\r",
      "Train Phase:  Iteration 10/21\r",
      "Train Phase:  Iteration 11/21\r",
      "Train Phase:  Iteration 12/21\r",
      "Train Phase:  Iteration 13/21\r",
      "Train Phase:  Iteration 14/21\r",
      "Train Phase:  Iteration 15/21\r",
      "Train Phase:  Iteration 16/21\r",
      "Train Phase:  Iteration 17/21\r"
     ]
    },
    {
     "name": "stderr",
     "output_type": "stream",
     "text": [
      "1318it [00:00, 917.63it/s, NLL=0.371, epoch=20]"
     ]
    },
    {
     "name": "stdout",
     "output_type": "stream",
     "text": [
      "Train Loss: 0.3578ation 21/21\n",
      "Train AUC: 0.8827\n"
     ]
    },
    {
     "name": "stderr",
     "output_type": "stream",
     "text": [
      "1318it [00:00, 2197.36it/s, NLL=0.371, epoch=20]\n",
      "  0%|          | 0/21 [00:00<?, ?it/s]"
     ]
    },
    {
     "name": "stdout",
     "output_type": "stream",
     "text": [
      "Val Loss: 1.2474\n",
      "Val AUC: 0.5127\n",
      "Epoch 21\n"
     ]
    },
    {
     "name": "stderr",
     "output_type": "stream",
     "text": [
      "256it [00:00, 525.11it/s, NLL=0.479, epoch=21]"
     ]
    },
    {
     "name": "stdout",
     "output_type": "stream",
     "text": [
      "Train Phase:  Iteration 2/21\r",
      "Train Phase:  Iteration 3/21\r",
      "Train Phase:  Iteration 4/21\r"
     ]
    },
    {
     "name": "stderr",
     "output_type": "stream",
     "text": [
      "1024it [00:00, 960.76it/s, NLL=0.476, epoch=21]"
     ]
    },
    {
     "name": "stdout",
     "output_type": "stream",
     "text": [
      "Train Phase:  Iteration 5/21\r",
      "Train Phase:  Iteration 6/21\r",
      "Train Phase:  Iteration 7/21\r",
      "Train Phase:  Iteration 8/21\r",
      "Train Phase:  Iteration 9/21\r",
      "Train Phase:  Iteration 10/21\r",
      "Train Phase:  Iteration 11/21\r",
      "Train Phase:  Iteration 12/21\r",
      "Train Phase:  Iteration 13/21\r",
      "Train Phase:  Iteration 14/21\r",
      "Train Phase:  Iteration 15/21\r",
      "Train Phase:  Iteration 16/21\r"
     ]
    },
    {
     "name": "stderr",
     "output_type": "stream",
     "text": [
      "1318it [00:00, 960.76it/s, NLL=0.444, epoch=21]"
     ]
    },
    {
     "name": "stdout",
     "output_type": "stream",
     "text": [
      "Train Loss: 0.3577ation 21/21\n",
      "Train AUC: 0.8827\n"
     ]
    },
    {
     "name": "stderr",
     "output_type": "stream",
     "text": [
      "1318it [00:00, 2112.79it/s, NLL=0.444, epoch=21]\n",
      "  0%|          | 0/21 [00:00<?, ?it/s]"
     ]
    },
    {
     "name": "stdout",
     "output_type": "stream",
     "text": [
      "Val Loss: 1.2471\n",
      "Val AUC: 0.5138\n",
      "Epoch 22\n"
     ]
    },
    {
     "name": "stderr",
     "output_type": "stream",
     "text": [
      "512it [00:00, 592.81it/s, NLL=0.419, epoch=22]"
     ]
    },
    {
     "name": "stdout",
     "output_type": "stream",
     "text": [
      "Train Phase:  Iteration 2/21\r",
      "Train Phase:  Iteration 3/21\r",
      "Train Phase:  Iteration 4/21\r",
      "Train Phase:  Iteration 5/21\r",
      "Train Phase:  Iteration 6/21\r",
      "Train Phase:  Iteration 7/21\r",
      "Train Phase:  Iteration 8/21\r"
     ]
    },
    {
     "name": "stderr",
     "output_type": "stream",
     "text": [
      "896it [00:00, 800.78it/s, NLL=0.268, epoch=22]"
     ]
    },
    {
     "name": "stdout",
     "output_type": "stream",
     "text": [
      "Train Phase:  Iteration 9/21\r",
      "Train Phase:  Iteration 10/21\r",
      "Train Phase:  Iteration 11/21\r",
      "Train Phase:  Iteration 12/21\r",
      "Train Phase:  Iteration 13/21\r",
      "Train Phase:  Iteration 14/21\r"
     ]
    },
    {
     "name": "stderr",
     "output_type": "stream",
     "text": [
      "1318it [00:00, 1047.75it/s, NLL=0.645, epoch=22]"
     ]
    },
    {
     "name": "stdout",
     "output_type": "stream",
     "text": [
      "Train Loss: 0.3572ation 21/21\n",
      "Train AUC: 0.8827\n"
     ]
    },
    {
     "name": "stderr",
     "output_type": "stream",
     "text": [
      "1318it [00:00, 2232.22it/s, NLL=0.645, epoch=22]\n",
      "  0%|          | 0/21 [00:00<?, ?it/s]"
     ]
    },
    {
     "name": "stdout",
     "output_type": "stream",
     "text": [
      "Val Loss: 1.2456\n",
      "Val AUC: 0.5125\n",
      "Epoch 23\n"
     ]
    },
    {
     "name": "stderr",
     "output_type": "stream",
     "text": [
      "512it [00:00, 603.30it/s, NLL=0.483, epoch=23]"
     ]
    },
    {
     "name": "stdout",
     "output_type": "stream",
     "text": [
      "Train Phase:  Iteration 2/21\r",
      "Train Phase:  Iteration 3/21\r",
      "Train Phase:  Iteration 4/21\r",
      "Train Phase:  Iteration 5/21\r",
      "Train Phase:  Iteration 6/21\r",
      "Train Phase:  Iteration 7/21\r",
      "Train Phase:  Iteration 8/21\r"
     ]
    },
    {
     "name": "stderr",
     "output_type": "stream",
     "text": [
      "1024it [00:00, 807.37it/s, NLL=0.391, epoch=23]"
     ]
    },
    {
     "name": "stdout",
     "output_type": "stream",
     "text": [
      "Train Phase:  Iteration 9/21\r",
      "Train Phase:  Iteration 10/21\r",
      "Train Phase:  Iteration 11/21\r",
      "Train Phase:  Iteration 12/21\r",
      "Train Phase:  Iteration 13/21\r",
      "Train Phase:  Iteration 14/21\r",
      "Train Phase:  Iteration 15/21\r",
      "Train Phase:  Iteration 16/21\r"
     ]
    },
    {
     "name": "stderr",
     "output_type": "stream",
     "text": [
      "1318it [00:00, 1074.25it/s, NLL=0.33, epoch=23] "
     ]
    },
    {
     "name": "stdout",
     "output_type": "stream",
     "text": [
      "Train Loss: 0.3568ation 21/21\n",
      "Train AUC: 0.8827\n"
     ]
    },
    {
     "name": "stderr",
     "output_type": "stream",
     "text": [
      "1318it [00:00, 2256.52it/s, NLL=0.33, epoch=23]\n",
      "  0%|          | 0/21 [00:00<?, ?it/s]"
     ]
    },
    {
     "name": "stdout",
     "output_type": "stream",
     "text": [
      "Val Loss: 1.2441\n",
      "Val AUC: 0.5131\n",
      "Epoch 24\n"
     ]
    },
    {
     "name": "stderr",
     "output_type": "stream",
     "text": [
      "512it [00:00, 469.56it/s, NLL=0.364, epoch=24]"
     ]
    },
    {
     "name": "stdout",
     "output_type": "stream",
     "text": [
      "Train Phase:  Iteration 2/21\r",
      "Train Phase:  Iteration 3/21\r",
      "Train Phase:  Iteration 4/21\r",
      "Train Phase:  Iteration 5/21\r",
      "Train Phase:  Iteration 6/21\r",
      "Train Phase:  Iteration 7/21\r",
      "Train Phase:  Iteration 8/21\r"
     ]
    },
    {
     "name": "stderr",
     "output_type": "stream",
     "text": [
      "1152it [00:00, 871.04it/s, NLL=0.372, epoch=24]"
     ]
    },
    {
     "name": "stdout",
     "output_type": "stream",
     "text": [
      "Train Phase:  Iteration 9/21\r",
      "Train Phase:  Iteration 10/21\r",
      "Train Phase:  Iteration 11/21\r",
      "Train Phase:  Iteration 12/21\r",
      "Train Phase:  Iteration 13/21\r",
      "Train Phase:  Iteration 14/21\r",
      "Train Phase:  Iteration 15/21\r",
      "Train Phase:  Iteration 16/21\r",
      "Train Phase:  Iteration 17/21\r",
      "Train Phase:  Iteration 18/21\r"
     ]
    },
    {
     "name": "stderr",
     "output_type": "stream",
     "text": [
      "1318it [00:00, 871.04it/s, NLL=0.506, epoch=24]"
     ]
    },
    {
     "name": "stdout",
     "output_type": "stream",
     "text": [
      "Train Loss: 0.3575ation 21/21\n",
      "Train AUC: 0.8827\n"
     ]
    },
    {
     "name": "stderr",
     "output_type": "stream",
     "text": [
      "1318it [00:00, 2229.07it/s, NLL=0.506, epoch=24]\n",
      "  0%|          | 0/21 [00:00<?, ?it/s]"
     ]
    },
    {
     "name": "stdout",
     "output_type": "stream",
     "text": [
      "Val Loss: 1.2464\n",
      "Val AUC: 0.5124\n",
      "Epoch 25\n"
     ]
    },
    {
     "name": "stderr",
     "output_type": "stream",
     "text": [
      "448it [00:00, 466.97it/s, NLL=0.398, epoch=25]"
     ]
    },
    {
     "name": "stdout",
     "output_type": "stream",
     "text": [
      "Train Phase:  Iteration 2/21\r",
      "Train Phase:  Iteration 3/21\r",
      "Train Phase:  Iteration 4/21\r",
      "Train Phase:  Iteration 5/21\r",
      "Train Phase:  Iteration 6/21\r",
      "Train Phase:  Iteration 7/21\r"
     ]
    },
    {
     "name": "stderr",
     "output_type": "stream",
     "text": [
      "1088it [00:00, 863.38it/s, NLL=0.334, epoch=25]"
     ]
    },
    {
     "name": "stdout",
     "output_type": "stream",
     "text": [
      "Train Phase:  Iteration 8/21\r",
      "Train Phase:  Iteration 9/21\r",
      "Train Phase:  Iteration 10/21\r",
      "Train Phase:  Iteration 11/21\r",
      "Train Phase:  Iteration 12/21\r",
      "Train Phase:  Iteration 13/21\r",
      "Train Phase:  Iteration 14/21\r",
      "Train Phase:  Iteration 15/21\r",
      "Train Phase:  Iteration 16/21\r",
      "Train Phase:  Iteration 17/21\r"
     ]
    },
    {
     "name": "stderr",
     "output_type": "stream",
     "text": [
      "1318it [00:00, 863.38it/s, NLL=0.235, epoch=25]"
     ]
    },
    {
     "name": "stdout",
     "output_type": "stream",
     "text": [
      "Train Loss: 0.3570ation 21/21\n",
      "Train AUC: 0.8827\n"
     ]
    },
    {
     "name": "stderr",
     "output_type": "stream",
     "text": [
      "1318it [00:00, 2208.56it/s, NLL=0.235, epoch=25]\n",
      "  0%|          | 0/21 [00:00<?, ?it/s]"
     ]
    },
    {
     "name": "stdout",
     "output_type": "stream",
     "text": [
      "Val Loss: 1.2447\n",
      "Val AUC: 0.5130\n",
      "Epoch 26\n"
     ]
    },
    {
     "name": "stderr",
     "output_type": "stream",
     "text": [
      "448it [00:00, 1050.59it/s, NLL=0.501, epoch=26]"
     ]
    },
    {
     "name": "stdout",
     "output_type": "stream",
     "text": [
      "Train Phase:  Iteration 2/21\r",
      "Train Phase:  Iteration 3/21\r",
      "Train Phase:  Iteration 4/21\r",
      "Train Phase:  Iteration 5/21\r",
      "Train Phase:  Iteration 6/21\r",
      "Train Phase:  Iteration 7/21\r"
     ]
    },
    {
     "name": "stderr",
     "output_type": "stream",
     "text": [
      "896it [00:00, 1353.14it/s, NLL=0.317, epoch=26]"
     ]
    },
    {
     "name": "stdout",
     "output_type": "stream",
     "text": [
      "Train Phase:  Iteration 8/21\r",
      "Train Phase:  Iteration 9/21\r",
      "Train Phase:  Iteration 10/21\r",
      "Train Phase:  Iteration 11/21\r",
      "Train Phase:  Iteration 12/21\r",
      "Train Phase:  Iteration 13/21\r",
      "Train Phase:  Iteration 14/21\r",
      "Train Phase:  Iteration 15/21\r"
     ]
    },
    {
     "name": "stderr",
     "output_type": "stream",
     "text": [
      "1318it [00:00, 1697.31it/s, NLL=0.341, epoch=26]"
     ]
    },
    {
     "name": "stdout",
     "output_type": "stream",
     "text": [
      "Train Loss: 0.3563ation 21/21\n",
      "Train AUC: 0.8827\n"
     ]
    },
    {
     "name": "stderr",
     "output_type": "stream",
     "text": [
      "1318it [00:00, 2212.62it/s, NLL=0.341, epoch=26]\n",
      "  0%|          | 0/21 [00:00<?, ?it/s]"
     ]
    },
    {
     "name": "stdout",
     "output_type": "stream",
     "text": [
      "Val Loss: 1.2424\n",
      "Val AUC: 0.5128\n",
      "Epoch 27\n"
     ]
    },
    {
     "name": "stderr",
     "output_type": "stream",
     "text": [
      "512it [00:00, 561.24it/s, NLL=0.391, epoch=27]"
     ]
    },
    {
     "name": "stdout",
     "output_type": "stream",
     "text": [
      "Train Phase:  Iteration 2/21\r",
      "Train Phase:  Iteration 3/21\r",
      "Train Phase:  Iteration 4/21\r",
      "Train Phase:  Iteration 5/21\r",
      "Train Phase:  Iteration 6/21\r",
      "Train Phase:  Iteration 7/21\r",
      "Train Phase:  Iteration 8/21\r"
     ]
    },
    {
     "name": "stderr",
     "output_type": "stream",
     "text": [
      "1024it [00:00, 760.64it/s, NLL=0.274, epoch=27]"
     ]
    },
    {
     "name": "stdout",
     "output_type": "stream",
     "text": [
      "Train Phase:  Iteration 9/21\r",
      "Train Phase:  Iteration 10/21\r",
      "Train Phase:  Iteration 11/21\r",
      "Train Phase:  Iteration 12/21\r",
      "Train Phase:  Iteration 13/21\r",
      "Train Phase:  Iteration 14/21\r",
      "Train Phase:  Iteration 15/21\r",
      "Train Phase:  Iteration 16/21\r"
     ]
    },
    {
     "name": "stderr",
     "output_type": "stream",
     "text": [
      "1318it [00:00, 1015.05it/s, NLL=0.407, epoch=27]"
     ]
    },
    {
     "name": "stdout",
     "output_type": "stream",
     "text": [
      "Train Loss: 0.3570ation 21/21\n",
      "Train AUC: 0.8827\n"
     ]
    },
    {
     "name": "stderr",
     "output_type": "stream",
     "text": [
      "1318it [00:00, 2303.56it/s, NLL=0.407, epoch=27]\n",
      "  0%|          | 0/21 [00:00<?, ?it/s]"
     ]
    },
    {
     "name": "stdout",
     "output_type": "stream",
     "text": [
      "Val Loss: 1.2448\n",
      "Val AUC: 0.5138\n",
      "Epoch 28\n"
     ]
    },
    {
     "name": "stderr",
     "output_type": "stream",
     "text": [
      "384it [00:00, 491.99it/s, NLL=0.355, epoch=28]"
     ]
    },
    {
     "name": "stdout",
     "output_type": "stream",
     "text": [
      "Train Phase:  Iteration 2/21\r",
      "Train Phase:  Iteration 3/21\r",
      "Train Phase:  Iteration 4/21\r",
      "Train Phase:  Iteration 5/21\r",
      "Train Phase:  Iteration 6/21\r",
      "Train Phase:  Iteration 7/21\r"
     ]
    },
    {
     "name": "stderr",
     "output_type": "stream",
     "text": [
      "1088it [00:00, 898.26it/s, NLL=0.264, epoch=28]"
     ]
    },
    {
     "name": "stdout",
     "output_type": "stream",
     "text": [
      "Train Phase:  Iteration 8/21\r",
      "Train Phase:  Iteration 9/21\r",
      "Train Phase:  Iteration 10/21\r",
      "Train Phase:  Iteration 11/21\r",
      "Train Phase:  Iteration 12/21\r",
      "Train Phase:  Iteration 13/21\r",
      "Train Phase:  Iteration 14/21\r",
      "Train Phase:  Iteration 15/21\r",
      "Train Phase:  Iteration 16/21\r",
      "Train Phase:  Iteration 17/21\r"
     ]
    },
    {
     "name": "stderr",
     "output_type": "stream",
     "text": [
      "1318it [00:00, 898.26it/s, NLL=0.384, epoch=28]"
     ]
    },
    {
     "name": "stdout",
     "output_type": "stream",
     "text": [
      "Train Loss: 0.3566ation 21/21\n",
      "Train AUC: 0.8827\n"
     ]
    },
    {
     "name": "stderr",
     "output_type": "stream",
     "text": [
      "1318it [00:00, 2199.61it/s, NLL=0.384, epoch=28]\n",
      "  0%|          | 0/21 [00:00<?, ?it/s]"
     ]
    },
    {
     "name": "stdout",
     "output_type": "stream",
     "text": [
      "Val Loss: 1.2434\n",
      "Val AUC: 0.5143\n",
      "Epoch 29\n"
     ]
    },
    {
     "name": "stderr",
     "output_type": "stream",
     "text": [
      "512it [00:00, 634.22it/s, NLL=0.429, epoch=29]"
     ]
    },
    {
     "name": "stdout",
     "output_type": "stream",
     "text": [
      "Train Phase:  Iteration 2/21\r",
      "Train Phase:  Iteration 3/21\r",
      "Train Phase:  Iteration 4/21\r",
      "Train Phase:  Iteration 5/21\r",
      "Train Phase:  Iteration 6/21\r",
      "Train Phase:  Iteration 7/21\r",
      "Train Phase:  Iteration 8/21\r"
     ]
    },
    {
     "name": "stderr",
     "output_type": "stream",
     "text": [
      "832it [00:00, 843.57it/s, NLL=0.343, epoch=29]"
     ]
    },
    {
     "name": "stdout",
     "output_type": "stream",
     "text": [
      "Train Phase:  Iteration 9/21\r",
      "Train Phase:  Iteration 10/21\r",
      "Train Phase:  Iteration 11/21\r",
      "Train Phase:  Iteration 12/21\r",
      "Train Phase:  Iteration 13/21\r"
     ]
    },
    {
     "name": "stderr",
     "output_type": "stream",
     "text": [
      "1318it [00:00, 1119.82it/s, NLL=0.314, epoch=29]"
     ]
    },
    {
     "name": "stdout",
     "output_type": "stream",
     "text": [
      "Train Loss: 0.3564ation 21/21\n",
      "Train AUC: 0.8827\n"
     ]
    },
    {
     "name": "stderr",
     "output_type": "stream",
     "text": [
      "1318it [00:00, 2260.14it/s, NLL=0.314, epoch=29]\n",
      "  0%|          | 0/21 [00:00<?, ?it/s]"
     ]
    },
    {
     "name": "stdout",
     "output_type": "stream",
     "text": [
      "Val Loss: 1.2428\n",
      "Val AUC: 0.5138\n",
      "Epoch 30\n"
     ]
    },
    {
     "name": "stderr",
     "output_type": "stream",
     "text": [
      "512it [00:00, 627.13it/s, NLL=0.306, epoch=30]"
     ]
    },
    {
     "name": "stdout",
     "output_type": "stream",
     "text": [
      "Train Phase:  Iteration 2/21\r",
      "Train Phase:  Iteration 3/21\r",
      "Train Phase:  Iteration 4/21\r",
      "Train Phase:  Iteration 5/21\r",
      "Train Phase:  Iteration 6/21\r",
      "Train Phase:  Iteration 7/21\r",
      "Train Phase:  Iteration 8/21\r"
     ]
    },
    {
     "name": "stderr",
     "output_type": "stream",
     "text": [
      "1024it [00:00, 841.09it/s, NLL=0.374, epoch=30]"
     ]
    },
    {
     "name": "stdout",
     "output_type": "stream",
     "text": [
      "Train Phase:  Iteration 9/21\r",
      "Train Phase:  Iteration 10/21\r",
      "Train Phase:  Iteration 11/21\r",
      "Train Phase:  Iteration 12/21\r",
      "Train Phase:  Iteration 13/21\r",
      "Train Phase:  Iteration 14/21\r",
      "Train Phase:  Iteration 15/21\r",
      "Train Phase:  Iteration 16/21\r"
     ]
    },
    {
     "name": "stderr",
     "output_type": "stream",
     "text": [
      "1318it [00:00, 1109.23it/s, NLL=0.46, epoch=30] "
     ]
    },
    {
     "name": "stdout",
     "output_type": "stream",
     "text": [
      "Train Loss: 0.3561ation 21/21\n",
      "Train AUC: 0.8827\n"
     ]
    },
    {
     "name": "stderr",
     "output_type": "stream",
     "text": [
      "1318it [00:00, 2301.67it/s, NLL=0.46, epoch=30]\n",
      "  0%|          | 0/21 [00:00<?, ?it/s]"
     ]
    },
    {
     "name": "stdout",
     "output_type": "stream",
     "text": [
      "Val Loss: 1.2416\n",
      "Val AUC: 0.5123\n",
      "Epoch 31\n"
     ]
    },
    {
     "name": "stderr",
     "output_type": "stream",
     "text": [
      "512it [00:00, 1912.08it/s, NLL=0.374, epoch=31]"
     ]
    },
    {
     "name": "stdout",
     "output_type": "stream",
     "text": [
      "Train Phase:  Iteration 2/21\r",
      "Train Phase:  Iteration 3/21\r",
      "Train Phase:  Iteration 4/21\r",
      "Train Phase:  Iteration 5/21\r",
      "Train Phase:  Iteration 6/21\r",
      "Train Phase:  Iteration 7/21\r",
      "Train Phase:  Iteration 8/21\r"
     ]
    },
    {
     "name": "stderr",
     "output_type": "stream",
     "text": [
      "768it [00:00, 2114.22it/s, NLL=0.419, epoch=31]"
     ]
    },
    {
     "name": "stdout",
     "output_type": "stream",
     "text": [
      "Train Phase:  Iteration 9/21\r",
      "Train Phase:  Iteration 10/21\r",
      "Train Phase:  Iteration 11/21\r",
      "Train Phase:  Iteration 12/21\r"
     ]
    },
    {
     "name": "stderr",
     "output_type": "stream",
     "text": [
      "1318it [00:00, 2498.32it/s, NLL=0.199, epoch=31]"
     ]
    },
    {
     "name": "stdout",
     "output_type": "stream",
     "text": [
      "Train Loss: 0.3566ation 21/21\n",
      "Train AUC: 0.8827\n"
     ]
    },
    {
     "name": "stderr",
     "output_type": "stream",
     "text": [
      "1318it [00:00, 2231.39it/s, NLL=0.199, epoch=31]\n",
      "  0%|          | 0/21 [00:00<?, ?it/s]"
     ]
    },
    {
     "name": "stdout",
     "output_type": "stream",
     "text": [
      "Val Loss: 1.2433\n",
      "Val AUC: 0.5120\n",
      "Epoch 32\n"
     ]
    },
    {
     "name": "stderr",
     "output_type": "stream",
     "text": [
      "512it [00:00, 1156.68it/s, NLL=0.296, epoch=32]"
     ]
    },
    {
     "name": "stdout",
     "output_type": "stream",
     "text": [
      "Train Phase:  Iteration 2/21\r",
      "Train Phase:  Iteration 3/21\r",
      "Train Phase:  Iteration 4/21\r",
      "Train Phase:  Iteration 5/21\r",
      "Train Phase:  Iteration 6/21\r",
      "Train Phase:  Iteration 7/21\r",
      "Train Phase:  Iteration 8/21\r"
     ]
    },
    {
     "name": "stderr",
     "output_type": "stream",
     "text": [
      "832it [00:00, 1468.16it/s, NLL=0.381, epoch=32]"
     ]
    },
    {
     "name": "stdout",
     "output_type": "stream",
     "text": [
      "Train Phase:  Iteration 9/21\r",
      "Train Phase:  Iteration 10/21\r",
      "Train Phase:  Iteration 11/21\r",
      "Train Phase:  Iteration 12/21\r",
      "Train Phase:  Iteration 13/21\r"
     ]
    },
    {
     "name": "stderr",
     "output_type": "stream",
     "text": [
      "1024it [00:00, 1712.94it/s, NLL=0.273, epoch=32]"
     ]
    },
    {
     "name": "stdout",
     "output_type": "stream",
     "text": [
      "Train Phase:  Iteration 14/21\r",
      "Train Phase:  Iteration 15/21\r",
      "Train Phase:  Iteration 16/21\r",
      "Train Phase:  Iteration 17/21\r"
     ]
    },
    {
     "name": "stderr",
     "output_type": "stream",
     "text": [
      "1318it [00:00, 1888.46it/s, NLL=0.408, epoch=32]"
     ]
    },
    {
     "name": "stdout",
     "output_type": "stream",
     "text": [
      "Train Loss: 0.3571ation 21/21\n",
      "Train AUC: 0.8827\n"
     ]
    },
    {
     "name": "stderr",
     "output_type": "stream",
     "text": [
      "1318it [00:00, 1935.25it/s, NLL=0.408, epoch=32]\n",
      "  0%|          | 0/21 [00:00<?, ?it/s]"
     ]
    },
    {
     "name": "stdout",
     "output_type": "stream",
     "text": [
      "Val Loss: 1.2451\n",
      "Val AUC: 0.5124\n",
      "Epoch 33\n"
     ]
    },
    {
     "name": "stderr",
     "output_type": "stream",
     "text": [
      "512it [00:00, 623.67it/s, NLL=0.304, epoch=33]"
     ]
    },
    {
     "name": "stdout",
     "output_type": "stream",
     "text": [
      "Train Phase:  Iteration 2/21\r",
      "Train Phase:  Iteration 3/21\r",
      "Train Phase:  Iteration 4/21\r",
      "Train Phase:  Iteration 5/21\r",
      "Train Phase:  Iteration 6/21\r",
      "Train Phase:  Iteration 7/21\r",
      "Train Phase:  Iteration 8/21\r"
     ]
    },
    {
     "name": "stderr",
     "output_type": "stream",
     "text": [
      "1024it [00:00, 835.85it/s, NLL=0.274, epoch=33]"
     ]
    },
    {
     "name": "stdout",
     "output_type": "stream",
     "text": [
      "Train Phase:  Iteration 9/21\r",
      "Train Phase:  Iteration 10/21\r",
      "Train Phase:  Iteration 11/21\r",
      "Train Phase:  Iteration 12/21\r",
      "Train Phase:  Iteration 13/21\r",
      "Train Phase:  Iteration 14/21\r",
      "Train Phase:  Iteration 15/21\r",
      "Train Phase:  Iteration 16/21\r"
     ]
    },
    {
     "name": "stderr",
     "output_type": "stream",
     "text": [
      "1318it [00:00, 1102.08it/s, NLL=0.19, epoch=33] "
     ]
    },
    {
     "name": "stdout",
     "output_type": "stream",
     "text": [
      "Train Loss: 0.3562ation 21/21\n",
      "Train AUC: 0.8827\n"
     ]
    },
    {
     "name": "stderr",
     "output_type": "stream",
     "text": [
      "1318it [00:00, 2296.69it/s, NLL=0.19, epoch=33]\n",
      "  0%|          | 0/21 [00:00<?, ?it/s]"
     ]
    },
    {
     "name": "stdout",
     "output_type": "stream",
     "text": [
      "Val Loss: 1.2421\n",
      "Val AUC: 0.5121\n",
      "Epoch 34\n"
     ]
    },
    {
     "name": "stderr",
     "output_type": "stream",
     "text": [
      "256it [00:00, 477.48it/s, NLL=0.366, epoch=34]"
     ]
    },
    {
     "name": "stdout",
     "output_type": "stream",
     "text": [
      "Train Phase:  Iteration 2/21\r",
      "Train Phase:  Iteration 3/21\r",
      "Train Phase:  Iteration 4/21\r"
     ]
    },
    {
     "name": "stderr",
     "output_type": "stream",
     "text": [
      "1088it [00:00, 878.27it/s, NLL=0.452, epoch=34]"
     ]
    },
    {
     "name": "stdout",
     "output_type": "stream",
     "text": [
      "Train Phase:  Iteration 5/21\r",
      "Train Phase:  Iteration 6/21\r",
      "Train Phase:  Iteration 7/21\r",
      "Train Phase:  Iteration 8/21\r",
      "Train Phase:  Iteration 9/21\r",
      "Train Phase:  Iteration 10/21\r",
      "Train Phase:  Iteration 11/21\r",
      "Train Phase:  Iteration 12/21\r",
      "Train Phase:  Iteration 13/21\r",
      "Train Phase:  Iteration 14/21\r",
      "Train Phase:  Iteration 15/21\r",
      "Train Phase:  Iteration 16/21\r",
      "Train Phase:  Iteration 17/21\r"
     ]
    },
    {
     "name": "stderr",
     "output_type": "stream",
     "text": [
      "1318it [00:00, 878.27it/s, NLL=0.335, epoch=34]"
     ]
    },
    {
     "name": "stdout",
     "output_type": "stream",
     "text": [
      "Train Loss: 0.3568ation 21/21\n",
      "Train AUC: 0.8827\n"
     ]
    },
    {
     "name": "stderr",
     "output_type": "stream",
     "text": [
      "1318it [00:00, 2186.11it/s, NLL=0.335, epoch=34]\n",
      "  0%|          | 0/21 [00:00<?, ?it/s]"
     ]
    },
    {
     "name": "stdout",
     "output_type": "stream",
     "text": [
      "Val Loss: 1.2442\n",
      "Val AUC: 0.5117\n",
      "Epoch 35\n"
     ]
    },
    {
     "name": "stderr",
     "output_type": "stream",
     "text": [
      "512it [00:00, 637.09it/s, NLL=0.329, epoch=35]"
     ]
    },
    {
     "name": "stdout",
     "output_type": "stream",
     "text": [
      "Train Phase:  Iteration 2/21\r",
      "Train Phase:  Iteration 3/21\r",
      "Train Phase:  Iteration 4/21\r",
      "Train Phase:  Iteration 5/21\r",
      "Train Phase:  Iteration 6/21\r",
      "Train Phase:  Iteration 7/21\r",
      "Train Phase:  Iteration 8/21\r"
     ]
    },
    {
     "name": "stderr",
     "output_type": "stream",
     "text": [
      "704it [00:00, 849.36it/s, NLL=0.473, epoch=35]"
     ]
    },
    {
     "name": "stdout",
     "output_type": "stream",
     "text": [
      "Train Phase:  Iteration 9/21\r",
      "Train Phase:  Iteration 10/21\r",
      "Train Phase:  Iteration 11/21\r"
     ]
    },
    {
     "name": "stderr",
     "output_type": "stream",
     "text": [
      "960it [00:00, 987.36it/s, NLL=0.303, epoch=35]"
     ]
    },
    {
     "name": "stdout",
     "output_type": "stream",
     "text": [
      "Train Phase:  Iteration 12/21\r",
      "Train Phase:  Iteration 13/21\r",
      "Train Phase:  Iteration 14/21\r",
      "Train Phase:  Iteration 15/21\r"
     ]
    },
    {
     "name": "stderr",
     "output_type": "stream",
     "text": [
      "1318it [00:00, 1194.15it/s, NLL=0.278, epoch=35]"
     ]
    },
    {
     "name": "stdout",
     "output_type": "stream",
     "text": [
      "Train Loss: 0.3561ation 21/21\n",
      "Train AUC: 0.8827\n"
     ]
    },
    {
     "name": "stderr",
     "output_type": "stream",
     "text": [
      "1318it [00:00, 1616.58it/s, NLL=0.278, epoch=35]\n",
      "  0%|          | 0/21 [00:00<?, ?it/s]"
     ]
    },
    {
     "name": "stdout",
     "output_type": "stream",
     "text": [
      "Val Loss: 1.2418\n",
      "Val AUC: 0.5123\n",
      "Epoch 36\n"
     ]
    },
    {
     "name": "stderr",
     "output_type": "stream",
     "text": [
      "512it [00:00, 462.14it/s, NLL=0.289, epoch=36]"
     ]
    },
    {
     "name": "stdout",
     "output_type": "stream",
     "text": [
      "Train Phase:  Iteration 2/21\r",
      "Train Phase:  Iteration 3/21\r",
      "Train Phase:  Iteration 4/21\r",
      "Train Phase:  Iteration 5/21\r",
      "Train Phase:  Iteration 6/21\r",
      "Train Phase:  Iteration 7/21\r",
      "Train Phase:  Iteration 8/21\r"
     ]
    },
    {
     "name": "stderr",
     "output_type": "stream",
     "text": [
      "1318it [00:00, 846.66it/s, NLL=0.394, epoch=36]"
     ]
    },
    {
     "name": "stdout",
     "output_type": "stream",
     "text": [
      "Train Loss: 0.3562ation 21/21\n",
      "Train AUC: 0.8827\n"
     ]
    },
    {
     "name": "stderr",
     "output_type": "stream",
     "text": [
      "1318it [00:00, 1624.76it/s, NLL=0.394, epoch=36]\n",
      "  0%|          | 0/21 [00:00<?, ?it/s]"
     ]
    },
    {
     "name": "stdout",
     "output_type": "stream",
     "text": [
      "Val Loss: 1.2421\n",
      "Val AUC: 0.5125\n",
      "Epoch 37\n"
     ]
    },
    {
     "name": "stderr",
     "output_type": "stream",
     "text": [
      "256it [00:00, 442.14it/s, NLL=0.436, epoch=37]"
     ]
    },
    {
     "name": "stdout",
     "output_type": "stream",
     "text": [
      "Train Phase:  Iteration 2/21\r",
      "Train Phase:  Iteration 3/21\r",
      "Train Phase:  Iteration 4/21\r"
     ]
    },
    {
     "name": "stderr",
     "output_type": "stream",
     "text": [
      "768it [00:00, 587.60it/s, NLL=0.468, epoch=37]"
     ]
    },
    {
     "name": "stdout",
     "output_type": "stream",
     "text": [
      "Train Phase:  Iteration 5/21\r",
      "Train Phase:  Iteration 6/21\r",
      "Train Phase:  Iteration 7/21\r",
      "Train Phase:  Iteration 8/21\r",
      "Train Phase:  Iteration 9/21\r",
      "Train Phase:  Iteration 10/21\r",
      "Train Phase:  Iteration 11/21\r",
      "Train Phase:  Iteration 12/21\r"
     ]
    },
    {
     "name": "stderr",
     "output_type": "stream",
     "text": [
      "1024it [00:00, 785.40it/s, NLL=0.28, epoch=37]"
     ]
    },
    {
     "name": "stdout",
     "output_type": "stream",
     "text": [
      "Train Phase:  Iteration 13/21\r",
      "Train Phase:  Iteration 14/21\r",
      "Train Phase:  Iteration 15/21\r",
      "Train Phase:  Iteration 16/21\r"
     ]
    },
    {
     "name": "stderr",
     "output_type": "stream",
     "text": [
      "1318it [00:00, 1042.90it/s, NLL=0.404, epoch=37]"
     ]
    },
    {
     "name": "stdout",
     "output_type": "stream",
     "text": [
      "Train Phase:  Iteration 17/21\r",
      "Train Phase:  Iteration 18/21\r",
      "Train Phase:  Iteration 19/21\r",
      "Train Phase:  Iteration 20/21\r",
      "Train Phase:  Iteration 21/21\r",
      "Train Loss: 0.3557\n",
      "Train AUC: 0.8827\n"
     ]
    },
    {
     "name": "stderr",
     "output_type": "stream",
     "text": [
      "1318it [00:00, 1891.59it/s, NLL=0.404, epoch=37]\n",
      "  0%|          | 0/21 [00:00<?, ?it/s]"
     ]
    },
    {
     "name": "stdout",
     "output_type": "stream",
     "text": [
      "Val Loss: 1.2404\n",
      "Val AUC: 0.5116\n",
      "Epoch 38\n"
     ]
    },
    {
     "name": "stderr",
     "output_type": "stream",
     "text": [
      "512it [00:00, 613.86it/s, NLL=0.293, epoch=38]"
     ]
    },
    {
     "name": "stdout",
     "output_type": "stream",
     "text": [
      "Train Phase:  Iteration 2/21\r",
      "Train Phase:  Iteration 3/21\r",
      "Train Phase:  Iteration 4/21\r",
      "Train Phase:  Iteration 5/21\r",
      "Train Phase:  Iteration 6/21\r",
      "Train Phase:  Iteration 7/21\r",
      "Train Phase:  Iteration 8/21\r"
     ]
    },
    {
     "name": "stderr",
     "output_type": "stream",
     "text": [
      "832it [00:00, 820.27it/s, NLL=0.416, epoch=38]"
     ]
    },
    {
     "name": "stdout",
     "output_type": "stream",
     "text": [
      "Train Phase:  Iteration 9/21\r",
      "Train Phase:  Iteration 10/21\r",
      "Train Phase:  Iteration 11/21\r",
      "Train Phase:  Iteration 12/21\r",
      "Train Phase:  Iteration 13/21\r"
     ]
    },
    {
     "name": "stderr",
     "output_type": "stream",
     "text": [
      "1318it [00:00, 1068.04it/s, NLL=0.322, epoch=38]"
     ]
    },
    {
     "name": "stdout",
     "output_type": "stream",
     "text": [
      "Train Loss: 0.3561ation 21/21\n",
      "Train AUC: 0.8827\n"
     ]
    },
    {
     "name": "stderr",
     "output_type": "stream",
     "text": [
      "1318it [00:00, 2119.38it/s, NLL=0.322, epoch=38]\n",
      "  0%|          | 0/21 [00:00<?, ?it/s]"
     ]
    },
    {
     "name": "stdout",
     "output_type": "stream",
     "text": [
      "Val Loss: 1.2415\n",
      "Val AUC: 0.5135\n",
      "Epoch 39\n"
     ]
    },
    {
     "name": "stderr",
     "output_type": "stream",
     "text": [
      "512it [00:00, 612.68it/s, NLL=0.251, epoch=39]"
     ]
    },
    {
     "name": "stdout",
     "output_type": "stream",
     "text": [
      "Train Phase:  Iteration 2/21\r",
      "Train Phase:  Iteration 3/21\r",
      "Train Phase:  Iteration 4/21\r",
      "Train Phase:  Iteration 5/21\r",
      "Train Phase:  Iteration 6/21\r",
      "Train Phase:  Iteration 7/21\r",
      "Train Phase:  Iteration 8/21\r"
     ]
    },
    {
     "name": "stderr",
     "output_type": "stream",
     "text": [
      "896it [00:00, 821.49it/s, NLL=0.317, epoch=39]"
     ]
    },
    {
     "name": "stdout",
     "output_type": "stream",
     "text": [
      "Train Phase:  Iteration 9/21\r",
      "Train Phase:  Iteration 10/21\r",
      "Train Phase:  Iteration 11/21\r",
      "Train Phase:  Iteration 12/21\r",
      "Train Phase:  Iteration 13/21\r",
      "Train Phase:  Iteration 14/21\r"
     ]
    },
    {
     "name": "stderr",
     "output_type": "stream",
     "text": [
      "1318it [00:00, 1070.57it/s, NLL=0.202, epoch=39]"
     ]
    },
    {
     "name": "stdout",
     "output_type": "stream",
     "text": [
      "Train Loss: 0.3561ation 21/21\n",
      "Train AUC: 0.8827\n"
     ]
    },
    {
     "name": "stderr",
     "output_type": "stream",
     "text": [
      "1318it [00:00, 2139.24it/s, NLL=0.202, epoch=39]\n",
      "  0%|          | 0/21 [00:00<?, ?it/s]"
     ]
    },
    {
     "name": "stdout",
     "output_type": "stream",
     "text": [
      "Val Loss: 1.2417\n",
      "Val AUC: 0.5133\n",
      "Epoch 40\n"
     ]
    },
    {
     "name": "stderr",
     "output_type": "stream",
     "text": [
      "512it [00:00, 1161.87it/s, NLL=0.447, epoch=40]"
     ]
    },
    {
     "name": "stdout",
     "output_type": "stream",
     "text": [
      "Train Phase:  Iteration 2/21\r",
      "Train Phase:  Iteration 3/21\r",
      "Train Phase:  Iteration 4/21\r",
      "Train Phase:  Iteration 5/21\r",
      "Train Phase:  Iteration 6/21\r",
      "Train Phase:  Iteration 7/21\r",
      "Train Phase:  Iteration 8/21\r"
     ]
    },
    {
     "name": "stderr",
     "output_type": "stream",
     "text": [
      "1024it [00:00, 1476.63it/s, NLL=0.405, epoch=40]"
     ]
    },
    {
     "name": "stdout",
     "output_type": "stream",
     "text": [
      "Train Phase:  Iteration 9/21\r",
      "Train Phase:  Iteration 10/21\r",
      "Train Phase:  Iteration 11/21\r",
      "Train Phase:  Iteration 12/21\r",
      "Train Phase:  Iteration 13/21\r",
      "Train Phase:  Iteration 14/21\r",
      "Train Phase:  Iteration 15/21\r",
      "Train Phase:  Iteration 16/21\r"
     ]
    },
    {
     "name": "stderr",
     "output_type": "stream",
     "text": [
      "1318it [00:00, 1818.53it/s, NLL=0.505, epoch=40]"
     ]
    },
    {
     "name": "stdout",
     "output_type": "stream",
     "text": [
      "Train Loss: 0.3558ation 21/21\n",
      "Train AUC: 0.8827\n"
     ]
    },
    {
     "name": "stderr",
     "output_type": "stream",
     "text": [
      "1318it [00:00, 2263.80it/s, NLL=0.505, epoch=40]\n",
      "  0%|          | 0/21 [00:00<?, ?it/s]"
     ]
    },
    {
     "name": "stdout",
     "output_type": "stream",
     "text": [
      "Val Loss: 1.2405\n",
      "Val AUC: 0.5134\n",
      "Epoch 41\n"
     ]
    },
    {
     "name": "stderr",
     "output_type": "stream",
     "text": [
      "320it [00:00, 485.93it/s, NLL=0.413, epoch=41]"
     ]
    },
    {
     "name": "stdout",
     "output_type": "stream",
     "text": [
      "Train Phase:  Iteration 2/21\r",
      "Train Phase:  Iteration 3/21\r",
      "Train Phase:  Iteration 4/21\r",
      "Train Phase:  Iteration 5/21\r",
      "Train Phase:  Iteration 6/21\r"
     ]
    },
    {
     "name": "stderr",
     "output_type": "stream",
     "text": [
      "1088it [00:00, 668.79it/s, NLL=0.361, epoch=41]"
     ]
    },
    {
     "name": "stdout",
     "output_type": "stream",
     "text": [
      "Train Phase:  Iteration 7/21\r",
      "Train Phase:  Iteration 8/21\r",
      "Train Phase:  Iteration 9/21\r",
      "Train Phase:  Iteration 10/21\r",
      "Train Phase:  Iteration 11/21\r",
      "Train Phase:  Iteration 12/21\r",
      "Train Phase:  Iteration 13/21\r",
      "Train Phase:  Iteration 14/21\r",
      "Train Phase:  Iteration 15/21\r",
      "Train Phase:  Iteration 16/21\r",
      "Train Phase:  Iteration 17/21\r"
     ]
    },
    {
     "name": "stderr",
     "output_type": "stream",
     "text": [
      "1318it [00:00, 892.22it/s, NLL=0.417, epoch=41]"
     ]
    },
    {
     "name": "stdout",
     "output_type": "stream",
     "text": [
      "Train Loss: 0.3556ation 21/21\n",
      "Train AUC: 0.8827\n"
     ]
    },
    {
     "name": "stderr",
     "output_type": "stream",
     "text": [
      "1318it [00:00, 2205.52it/s, NLL=0.417, epoch=41]\n",
      "  0%|          | 0/21 [00:00<?, ?it/s]"
     ]
    },
    {
     "name": "stdout",
     "output_type": "stream",
     "text": [
      "Val Loss: 1.2398\n",
      "Val AUC: 0.5126\n",
      "Epoch 42\n"
     ]
    },
    {
     "name": "stderr",
     "output_type": "stream",
     "text": [
      "512it [00:00, 552.10it/s, NLL=0.366, epoch=42]"
     ]
    },
    {
     "name": "stdout",
     "output_type": "stream",
     "text": [
      "Train Phase:  Iteration 2/21\r",
      "Train Phase:  Iteration 3/21\r",
      "Train Phase:  Iteration 4/21\r",
      "Train Phase:  Iteration 5/21\r",
      "Train Phase:  Iteration 6/21\r",
      "Train Phase:  Iteration 7/21\r",
      "Train Phase:  Iteration 8/21\r"
     ]
    },
    {
     "name": "stderr",
     "output_type": "stream",
     "text": [
      "1024it [00:00, 749.53it/s, NLL=0.433, epoch=42]"
     ]
    },
    {
     "name": "stdout",
     "output_type": "stream",
     "text": [
      "Train Phase:  Iteration 9/21\r",
      "Train Phase:  Iteration 10/21\r",
      "Train Phase:  Iteration 11/21\r",
      "Train Phase:  Iteration 12/21\r",
      "Train Phase:  Iteration 13/21\r",
      "Train Phase:  Iteration 14/21\r",
      "Train Phase:  Iteration 15/21\r",
      "Train Phase:  Iteration 16/21\r"
     ]
    },
    {
     "name": "stderr",
     "output_type": "stream",
     "text": [
      "1318it [00:00, 985.26it/s, NLL=0.324, epoch=42]"
     ]
    },
    {
     "name": "stdout",
     "output_type": "stream",
     "text": [
      "Train Loss: 0.3554ation 21/21\n",
      "Train AUC: 0.8827\n"
     ]
    },
    {
     "name": "stderr",
     "output_type": "stream",
     "text": [
      "1318it [00:00, 2193.18it/s, NLL=0.324, epoch=42]\n",
      "  0%|          | 0/21 [00:00<?, ?it/s]"
     ]
    },
    {
     "name": "stdout",
     "output_type": "stream",
     "text": [
      "Val Loss: 1.2394\n",
      "Val AUC: 0.5131\n",
      "Epoch 43\n"
     ]
    },
    {
     "name": "stderr",
     "output_type": "stream",
     "text": [
      "512it [00:00, 632.45it/s, NLL=0.235, epoch=43]"
     ]
    },
    {
     "name": "stdout",
     "output_type": "stream",
     "text": [
      "Train Phase:  Iteration 2/21\r",
      "Train Phase:  Iteration 3/21\r",
      "Train Phase:  Iteration 4/21\r",
      "Train Phase:  Iteration 5/21\r",
      "Train Phase:  Iteration 6/21\r",
      "Train Phase:  Iteration 7/21\r",
      "Train Phase:  Iteration 8/21\r"
     ]
    },
    {
     "name": "stderr",
     "output_type": "stream",
     "text": [
      "896it [00:00, 847.69it/s, NLL=0.309, epoch=43]"
     ]
    },
    {
     "name": "stdout",
     "output_type": "stream",
     "text": [
      "Train Phase:  Iteration 9/21\r",
      "Train Phase:  Iteration 10/21\r",
      "Train Phase:  Iteration 11/21\r",
      "Train Phase:  Iteration 12/21\r",
      "Train Phase:  Iteration 13/21\r",
      "Train Phase:  Iteration 14/21\r"
     ]
    },
    {
     "name": "stderr",
     "output_type": "stream",
     "text": [
      "1318it [00:00, 1102.27it/s, NLL=0.56, epoch=43] "
     ]
    },
    {
     "name": "stdout",
     "output_type": "stream",
     "text": [
      "Train Loss: 0.3559ation 21/21\n",
      "Train AUC: 0.8827\n"
     ]
    },
    {
     "name": "stderr",
     "output_type": "stream",
     "text": [
      "1318it [00:00, 2204.33it/s, NLL=0.56, epoch=43]\n",
      "  0%|          | 0/21 [00:00<?, ?it/s]"
     ]
    },
    {
     "name": "stdout",
     "output_type": "stream",
     "text": [
      "Val Loss: 1.2411\n",
      "Val AUC: 0.5128\n",
      "Epoch 44\n"
     ]
    },
    {
     "name": "stderr",
     "output_type": "stream",
     "text": [
      "320it [00:00, 1020.43it/s, NLL=0.274, epoch=44]"
     ]
    },
    {
     "name": "stdout",
     "output_type": "stream",
     "text": [
      "Train Phase:  Iteration 2/21\r",
      "Train Phase:  Iteration 3/21\r",
      "Train Phase:  Iteration 4/21\r",
      "Train Phase:  Iteration 5/21\r",
      "Train Phase:  Iteration 6/21"
     ]
    },
    {
     "name": "stderr",
     "output_type": "stream",
     "text": [
      "960it [00:00, 1296.02it/s, NLL=0.221, epoch=44]"
     ]
    },
    {
     "name": "stdout",
     "output_type": "stream",
     "text": [
      "\r",
      "Train Phase:  Iteration 7/21\r",
      "Train Phase:  Iteration 8/21\r",
      "Train Phase:  Iteration 9/21\r",
      "Train Phase:  Iteration 10/21\r",
      "Train Phase:  Iteration 11/21\r",
      "Train Phase:  Iteration 12/21\r",
      "Train Phase:  Iteration 13/21\r",
      "Train Phase:  Iteration 14/21\r",
      "Train Phase:  Iteration 15/21\r"
     ]
    },
    {
     "name": "stderr",
     "output_type": "stream",
     "text": [
      "1318it [00:00, 1639.03it/s, NLL=0.333, epoch=44]"
     ]
    },
    {
     "name": "stdout",
     "output_type": "stream",
     "text": [
      "Train Loss: 0.3548ation 21/21\n",
      "Train AUC: 0.8827\n"
     ]
    },
    {
     "name": "stderr",
     "output_type": "stream",
     "text": [
      "1318it [00:00, 2198.87it/s, NLL=0.333, epoch=44]\n",
      "  0%|          | 0/21 [00:00<?, ?it/s]"
     ]
    },
    {
     "name": "stdout",
     "output_type": "stream",
     "text": [
      "Val Loss: 1.2371\n",
      "Val AUC: 0.5123\n",
      "Epoch 45\n"
     ]
    },
    {
     "name": "stderr",
     "output_type": "stream",
     "text": [
      "512it [00:00, 1178.95it/s, NLL=0.386, epoch=45]"
     ]
    },
    {
     "name": "stdout",
     "output_type": "stream",
     "text": [
      "Train Phase:  Iteration 2/21\r",
      "Train Phase:  Iteration 3/21\r",
      "Train Phase:  Iteration 4/21\r",
      "Train Phase:  Iteration 5/21\r",
      "Train Phase:  Iteration 6/21\r",
      "Train Phase:  Iteration 7/21\r",
      "Train Phase:  Iteration 8/21\r"
     ]
    },
    {
     "name": "stderr",
     "output_type": "stream",
     "text": [
      "960it [00:00, 1467.34it/s, NLL=0.302, epoch=45]"
     ]
    },
    {
     "name": "stdout",
     "output_type": "stream",
     "text": [
      "Train Phase:  Iteration 9/21\r",
      "Train Phase:  Iteration 10/21\r",
      "Train Phase:  Iteration 11/21\r",
      "Train Phase:  Iteration 12/21\r",
      "Train Phase:  Iteration 13/21\r",
      "Train Phase:  Iteration 14/21\r",
      "Train Phase:  Iteration 15/21\r",
      "Train Phase:  Iteration 16/21\r"
     ]
    },
    {
     "name": "stderr",
     "output_type": "stream",
     "text": [
      "1318it [00:00, 1833.45it/s, NLL=0.235, epoch=45]"
     ]
    },
    {
     "name": "stdout",
     "output_type": "stream",
     "text": [
      "Train Loss: 0.3555ation 21/21\n",
      "Train AUC: 0.8827\n"
     ]
    },
    {
     "name": "stderr",
     "output_type": "stream",
     "text": [
      "1318it [00:00, 2246.22it/s, NLL=0.235, epoch=45]\n",
      "  0%|          | 0/21 [00:00<?, ?it/s]"
     ]
    },
    {
     "name": "stdout",
     "output_type": "stream",
     "text": [
      "Val Loss: 1.2395\n",
      "Val AUC: 0.5120\n",
      "Epoch 46\n"
     ]
    },
    {
     "name": "stderr",
     "output_type": "stream",
     "text": [
      "512it [00:00, 617.07it/s, NLL=0.271, epoch=46]"
     ]
    },
    {
     "name": "stdout",
     "output_type": "stream",
     "text": [
      "Train Phase:  Iteration 2/21\r",
      "Train Phase:  Iteration 3/21\r",
      "Train Phase:  Iteration 4/21\r",
      "Train Phase:  Iteration 5/21\r",
      "Train Phase:  Iteration 6/21\r",
      "Train Phase:  Iteration 7/21\r",
      "Train Phase:  Iteration 8/21\r"
     ]
    },
    {
     "name": "stderr",
     "output_type": "stream",
     "text": [
      "1024it [00:00, 823.56it/s, NLL=0.389, epoch=46]"
     ]
    },
    {
     "name": "stdout",
     "output_type": "stream",
     "text": [
      "Train Phase:  Iteration 9/21\r",
      "Train Phase:  Iteration 10/21\r",
      "Train Phase:  Iteration 11/21\r",
      "Train Phase:  Iteration 12/21\r",
      "Train Phase:  Iteration 13/21\r",
      "Train Phase:  Iteration 14/21\r",
      "Train Phase:  Iteration 15/21\r",
      "Train Phase:  Iteration 16/21\r"
     ]
    },
    {
     "name": "stderr",
     "output_type": "stream",
     "text": [
      "1318it [00:00, 1081.93it/s, NLL=0.327, epoch=46]"
     ]
    },
    {
     "name": "stdout",
     "output_type": "stream",
     "text": [
      "Train Loss: 0.3548ation 21/21\n",
      "Train AUC: 0.8827\n"
     ]
    },
    {
     "name": "stderr",
     "output_type": "stream",
     "text": [
      "1318it [00:00, 2188.83it/s, NLL=0.327, epoch=46]\n",
      "  0%|          | 0/21 [00:00<?, ?it/s]"
     ]
    },
    {
     "name": "stdout",
     "output_type": "stream",
     "text": [
      "Val Loss: 1.2373\n",
      "Val AUC: 0.5128\n",
      "Epoch 47\n"
     ]
    },
    {
     "name": "stderr",
     "output_type": "stream",
     "text": [
      "512it [00:00, 605.15it/s, NLL=0.358, epoch=47]"
     ]
    },
    {
     "name": "stdout",
     "output_type": "stream",
     "text": [
      "Train Phase:  Iteration 2/21\r",
      "Train Phase:  Iteration 3/21\r",
      "Train Phase:  Iteration 4/21\r",
      "Train Phase:  Iteration 5/21\r",
      "Train Phase:  Iteration 6/21\r",
      "Train Phase:  Iteration 7/21\r",
      "Train Phase:  Iteration 8/21\r"
     ]
    },
    {
     "name": "stderr",
     "output_type": "stream",
     "text": [
      "1024it [00:00, 811.75it/s, NLL=0.361, epoch=47]"
     ]
    },
    {
     "name": "stdout",
     "output_type": "stream",
     "text": [
      "Train Phase:  Iteration 9/21\r",
      "Train Phase:  Iteration 10/21\r",
      "Train Phase:  Iteration 11/21\r",
      "Train Phase:  Iteration 12/21\r",
      "Train Phase:  Iteration 13/21\r",
      "Train Phase:  Iteration 14/21\r",
      "Train Phase:  Iteration 15/21\r",
      "Train Phase:  Iteration 16/21\r"
     ]
    },
    {
     "name": "stderr",
     "output_type": "stream",
     "text": [
      "1318it [00:00, 1062.92it/s, NLL=0.281, epoch=47]"
     ]
    },
    {
     "name": "stdout",
     "output_type": "stream",
     "text": [
      "Train Loss: 0.3554ation 21/21\n",
      "Train AUC: 0.8827\n"
     ]
    },
    {
     "name": "stderr",
     "output_type": "stream",
     "text": [
      "1318it [00:00, 2242.71it/s, NLL=0.281, epoch=47]\n",
      "  0%|          | 0/21 [00:00<?, ?it/s]"
     ]
    },
    {
     "name": "stdout",
     "output_type": "stream",
     "text": [
      "Val Loss: 1.2392\n",
      "Val AUC: 0.5130\n",
      "Epoch 48\n"
     ]
    },
    {
     "name": "stderr",
     "output_type": "stream",
     "text": [
      "512it [00:00, 1132.88it/s, NLL=0.277, epoch=48]"
     ]
    },
    {
     "name": "stdout",
     "output_type": "stream",
     "text": [
      "Train Phase:  Iteration 2/21\r",
      "Train Phase:  Iteration 3/21\r",
      "Train Phase:  Iteration 4/21\r",
      "Train Phase:  Iteration 5/21\r",
      "Train Phase:  Iteration 6/21\r",
      "Train Phase:  Iteration 7/21\r",
      "Train Phase:  Iteration 8/21\r"
     ]
    },
    {
     "name": "stderr",
     "output_type": "stream",
     "text": [
      "896it [00:00, 1425.62it/s, NLL=0.374, epoch=48]"
     ]
    },
    {
     "name": "stdout",
     "output_type": "stream",
     "text": [
      "Train Phase:  Iteration 9/21\r",
      "Train Phase:  Iteration 10/21\r",
      "Train Phase:  Iteration 11/21\r",
      "Train Phase:  Iteration 12/21\r",
      "Train Phase:  Iteration 13/21\r",
      "Train Phase:  Iteration 14/21\r",
      "Train Phase:  Iteration 15/21\r"
     ]
    },
    {
     "name": "stderr",
     "output_type": "stream",
     "text": [
      "1318it [00:00, 1772.81it/s, NLL=0.413, epoch=48]"
     ]
    },
    {
     "name": "stdout",
     "output_type": "stream",
     "text": [
      "Train Loss: 0.3553ation 21/21\n",
      "Train AUC: 0.8827\n"
     ]
    },
    {
     "name": "stderr",
     "output_type": "stream",
     "text": [
      "1318it [00:00, 1959.03it/s, NLL=0.413, epoch=48]\n",
      "  0%|          | 0/21 [00:00<?, ?it/s]"
     ]
    },
    {
     "name": "stdout",
     "output_type": "stream",
     "text": [
      "Val Loss: 1.2388\n",
      "Val AUC: 0.5115\n",
      "Epoch 49\n"
     ]
    },
    {
     "name": "stderr",
     "output_type": "stream",
     "text": [
      "448it [00:00, 504.68it/s, NLL=0.334, epoch=49]"
     ]
    },
    {
     "name": "stdout",
     "output_type": "stream",
     "text": [
      "Train Phase:  Iteration 2/21\r",
      "Train Phase:  Iteration 3/21\r",
      "Train Phase:  Iteration 4/21\r",
      "Train Phase:  Iteration 5/21\r",
      "Train Phase:  Iteration 6/21\r",
      "Train Phase:  Iteration 7/21\r"
     ]
    },
    {
     "name": "stderr",
     "output_type": "stream",
     "text": [
      "1024it [00:00, 688.75it/s, NLL=0.415, epoch=49]"
     ]
    },
    {
     "name": "stdout",
     "output_type": "stream",
     "text": [
      "Train Phase:  Iteration 8/21\r",
      "Train Phase:  Iteration 9/21\r",
      "Train Phase:  Iteration 10/21\r",
      "Train Phase:  Iteration 11/21\r",
      "Train Phase:  Iteration 12/21\r",
      "Train Phase:  Iteration 13/21\r",
      "Train Phase:  Iteration 14/21\r",
      "Train Phase:  Iteration 15/21\r",
      "Train Phase:  Iteration 16/21\r"
     ]
    },
    {
     "name": "stderr",
     "output_type": "stream",
     "text": [
      "1318it [00:00, 923.20it/s, NLL=0.379, epoch=49]"
     ]
    },
    {
     "name": "stdout",
     "output_type": "stream",
     "text": [
      "Train Loss: 0.3550ation 21/21\n",
      "Train AUC: 0.8827\n"
     ]
    },
    {
     "name": "stderr",
     "output_type": "stream",
     "text": [
      "1318it [00:00, 2263.17it/s, NLL=0.379, epoch=49]\n",
      "  0%|          | 0/21 [00:00<?, ?it/s]"
     ]
    },
    {
     "name": "stdout",
     "output_type": "stream",
     "text": [
      "Val Loss: 1.2376\n",
      "Val AUC: 0.5118\n",
      "Epoch 50\n"
     ]
    },
    {
     "name": "stderr",
     "output_type": "stream",
     "text": [
      "512it [00:00, 537.28it/s, NLL=0.29, epoch=50] "
     ]
    },
    {
     "name": "stdout",
     "output_type": "stream",
     "text": [
      "Train Phase:  Iteration 2/21\r",
      "Train Phase:  Iteration 3/21\r",
      "Train Phase:  Iteration 4/21\r",
      "Train Phase:  Iteration 5/21\r",
      "Train Phase:  Iteration 6/21\r",
      "Train Phase:  Iteration 7/21\r",
      "Train Phase:  Iteration 8/21\r"
     ]
    },
    {
     "name": "stderr",
     "output_type": "stream",
     "text": [
      "1024it [00:00, 726.19it/s, NLL=0.34, epoch=50]"
     ]
    },
    {
     "name": "stdout",
     "output_type": "stream",
     "text": [
      "Train Phase:  Iteration 9/21\r",
      "Train Phase:  Iteration 10/21\r",
      "Train Phase:  Iteration 11/21\r",
      "Train Phase:  Iteration 12/21\r",
      "Train Phase:  Iteration 13/21\r",
      "Train Phase:  Iteration 14/21\r",
      "Train Phase:  Iteration 15/21\r",
      "Train Phase:  Iteration 16/21\r"
     ]
    },
    {
     "name": "stderr",
     "output_type": "stream",
     "text": [
      "1318it [00:00, 959.84it/s, NLL=0.354, epoch=50]"
     ]
    },
    {
     "name": "stdout",
     "output_type": "stream",
     "text": [
      "Train Loss: 0.3548ation 21/21\n",
      "Train AUC: 0.8827\n"
     ]
    },
    {
     "name": "stderr",
     "output_type": "stream",
     "text": [
      "1318it [00:00, 2159.89it/s, NLL=0.354, epoch=50]\n",
      "  0%|          | 0/21 [00:00<?, ?it/s]"
     ]
    },
    {
     "name": "stdout",
     "output_type": "stream",
     "text": [
      "Val Loss: 1.2370\n",
      "Val AUC: 0.5128\n",
      "Epoch 51\n"
     ]
    },
    {
     "name": "stderr",
     "output_type": "stream",
     "text": [
      "448it [00:00, 1103.52it/s, NLL=0.441, epoch=51]"
     ]
    },
    {
     "name": "stdout",
     "output_type": "stream",
     "text": [
      "Train Phase:  Iteration 2/21\r",
      "Train Phase:  Iteration 3/21\r",
      "Train Phase:  Iteration 4/21\r",
      "Train Phase:  Iteration 5/21\r",
      "Train Phase:  Iteration 6/21\r",
      "Train Phase:  Iteration 7/21\r"
     ]
    },
    {
     "name": "stderr",
     "output_type": "stream",
     "text": [
      "960it [00:00, 1389.35it/s, NLL=0.276, epoch=51]"
     ]
    },
    {
     "name": "stdout",
     "output_type": "stream",
     "text": [
      "Train Phase:  Iteration 8/21\r",
      "Train Phase:  Iteration 9/21\r",
      "Train Phase:  Iteration 10/21\r",
      "Train Phase:  Iteration 11/21\r",
      "Train Phase:  Iteration 12/21\r",
      "Train Phase:  Iteration 13/21\r",
      "Train Phase:  Iteration 14/21\r",
      "Train Phase:  Iteration 15/21\r"
     ]
    },
    {
     "name": "stderr",
     "output_type": "stream",
     "text": [
      "1318it [00:00, 1725.70it/s, NLL=0.239, epoch=51]"
     ]
    },
    {
     "name": "stdout",
     "output_type": "stream",
     "text": [
      "Train Loss: 0.3548ation 21/21\n",
      "Train AUC: 0.8827\n"
     ]
    },
    {
     "name": "stderr",
     "output_type": "stream",
     "text": [
      "1318it [00:00, 2209.67it/s, NLL=0.239, epoch=51]\n",
      "  0%|          | 0/21 [00:00<?, ?it/s]"
     ]
    },
    {
     "name": "stdout",
     "output_type": "stream",
     "text": [
      "Val Loss: 1.2370\n",
      "Val AUC: 0.5118\n",
      "Epoch 52\n"
     ]
    },
    {
     "name": "stderr",
     "output_type": "stream",
     "text": [
      "512it [00:00, 635.17it/s, NLL=0.331, epoch=52]"
     ]
    },
    {
     "name": "stdout",
     "output_type": "stream",
     "text": [
      "Train Phase:  Iteration 2/21\r",
      "Train Phase:  Iteration 3/21\r",
      "Train Phase:  Iteration 4/21\r",
      "Train Phase:  Iteration 5/21\r",
      "Train Phase:  Iteration 6/21\r",
      "Train Phase:  Iteration 7/21\r",
      "Train Phase:  Iteration 8/21\r"
     ]
    },
    {
     "name": "stderr",
     "output_type": "stream",
     "text": [
      "1024it [00:00, 845.20it/s, NLL=0.326, epoch=52]"
     ]
    },
    {
     "name": "stdout",
     "output_type": "stream",
     "text": [
      "Train Phase:  Iteration 9/21\r",
      "Train Phase:  Iteration 10/21\r",
      "Train Phase:  Iteration 11/21\r",
      "Train Phase:  Iteration 12/21\r",
      "Train Phase:  Iteration 13/21\r",
      "Train Phase:  Iteration 14/21\r",
      "Train Phase:  Iteration 15/21\r",
      "Train Phase:  Iteration 16/21\r"
     ]
    },
    {
     "name": "stderr",
     "output_type": "stream",
     "text": [
      "1318it [00:00, 1114.15it/s, NLL=0.338, epoch=52]"
     ]
    },
    {
     "name": "stdout",
     "output_type": "stream",
     "text": [
      "Train Loss: 0.3551ation 21/21\n",
      "Train AUC: 0.8827\n"
     ]
    },
    {
     "name": "stderr",
     "output_type": "stream",
     "text": [
      "1318it [00:00, 2247.25it/s, NLL=0.338, epoch=52]\n",
      "  0%|          | 0/21 [00:00<?, ?it/s]"
     ]
    },
    {
     "name": "stdout",
     "output_type": "stream",
     "text": [
      "Val Loss: 1.2383\n",
      "Val AUC: 0.5122\n",
      "Epoch 53\n"
     ]
    },
    {
     "name": "stderr",
     "output_type": "stream",
     "text": [
      "192it [00:00, 502.43it/s, NLL=0.481, epoch=53]"
     ]
    },
    {
     "name": "stdout",
     "output_type": "stream",
     "text": [
      "Train Phase:  Iteration 2/21\r",
      "Train Phase:  Iteration 3/21\r",
      "Train Phase:  Iteration 4/21\r"
     ]
    },
    {
     "name": "stderr",
     "output_type": "stream",
     "text": [
      "704it [00:00, 667.71it/s, NLL=0.316, epoch=53]"
     ]
    },
    {
     "name": "stdout",
     "output_type": "stream",
     "text": [
      "Train Phase:  Iteration 5/21\r",
      "Train Phase:  Iteration 6/21\r",
      "Train Phase:  Iteration 7/21\r",
      "Train Phase:  Iteration 8/21\r",
      "Train Phase:  Iteration 9/21\r",
      "Train Phase:  Iteration 10/21\r",
      "Train Phase:  Iteration 11/21\r",
      "Train Phase:  Iteration 12/21\r"
     ]
    },
    {
     "name": "stderr",
     "output_type": "stream",
     "text": [
      "1318it [00:00, 902.80it/s, NLL=0.345, epoch=53]"
     ]
    },
    {
     "name": "stdout",
     "output_type": "stream",
     "text": [
      "Train Loss: 0.3542ation 21/21\n",
      "Train AUC: 0.8827\n"
     ]
    },
    {
     "name": "stderr",
     "output_type": "stream",
     "text": [
      "1318it [00:00, 2175.72it/s, NLL=0.345, epoch=53]\n",
      "  0%|          | 0/21 [00:00<?, ?it/s]"
     ]
    },
    {
     "name": "stdout",
     "output_type": "stream",
     "text": [
      "Val Loss: 1.2351\n",
      "Val AUC: 0.5109\n",
      "Epoch 54\n"
     ]
    },
    {
     "name": "stderr",
     "output_type": "stream",
     "text": [
      "512it [00:00, 1239.61it/s, NLL=0.398, epoch=54]"
     ]
    },
    {
     "name": "stdout",
     "output_type": "stream",
     "text": [
      "Train Phase:  Iteration 2/21\r",
      "Train Phase:  Iteration 3/21\r",
      "Train Phase:  Iteration 4/21\r",
      "Train Phase:  Iteration 5/21\r",
      "Train Phase:  Iteration 6/21\r",
      "Train Phase:  Iteration 7/21\r",
      "Train Phase:  Iteration 8/21\r"
     ]
    },
    {
     "name": "stderr",
     "output_type": "stream",
     "text": [
      "832it [00:00, 1530.04it/s, NLL=0.34, epoch=54] "
     ]
    },
    {
     "name": "stdout",
     "output_type": "stream",
     "text": [
      "Train Phase:  Iteration 9/21\r",
      "Train Phase:  Iteration 10/21\r",
      "Train Phase:  Iteration 11/21\r",
      "Train Phase:  Iteration 12/21\r",
      "Train Phase:  Iteration 13/21\r",
      "Train Phase:  Iteration 14/21\r"
     ]
    },
    {
     "name": "stderr",
     "output_type": "stream",
     "text": [
      "1318it [00:00, 1886.74it/s, NLL=0.311, epoch=54]"
     ]
    },
    {
     "name": "stdout",
     "output_type": "stream",
     "text": [
      "Train Loss: 0.3549ation 21/21\n",
      "Train AUC: 0.8827\n"
     ]
    },
    {
     "name": "stderr",
     "output_type": "stream",
     "text": [
      "1318it [00:00, 2198.26it/s, NLL=0.311, epoch=54]\n",
      "  0%|          | 0/21 [00:00<?, ?it/s]"
     ]
    },
    {
     "name": "stdout",
     "output_type": "stream",
     "text": [
      "Val Loss: 1.2375\n",
      "Val AUC: 0.5124\n",
      "Epoch 55\n"
     ]
    },
    {
     "name": "stderr",
     "output_type": "stream",
     "text": [
      "512it [00:00, 619.58it/s, NLL=0.347, epoch=55]"
     ]
    },
    {
     "name": "stdout",
     "output_type": "stream",
     "text": [
      "Train Phase:  Iteration 2/21\r",
      "Train Phase:  Iteration 3/21\r",
      "Train Phase:  Iteration 4/21\r",
      "Train Phase:  Iteration 5/21\r",
      "Train Phase:  Iteration 6/21\r",
      "Train Phase:  Iteration 7/21\r",
      "Train Phase:  Iteration 8/21\r"
     ]
    },
    {
     "name": "stderr",
     "output_type": "stream",
     "text": [
      "832it [00:00, 826.42it/s, NLL=0.486, epoch=55]"
     ]
    },
    {
     "name": "stdout",
     "output_type": "stream",
     "text": [
      "Train Phase:  Iteration 9/21\r",
      "Train Phase:  Iteration 10/21\r",
      "Train Phase:  Iteration 11/21\r",
      "Train Phase:  Iteration 12/21\r",
      "Train Phase:  Iteration 13/21\r"
     ]
    },
    {
     "name": "stderr",
     "output_type": "stream",
     "text": [
      "1318it [00:00, 1075.43it/s, NLL=0.368, epoch=55]"
     ]
    },
    {
     "name": "stdout",
     "output_type": "stream",
     "text": [
      "Train Loss: 0.3547ation 21/21\n",
      "Train AUC: 0.8827\n"
     ]
    },
    {
     "name": "stderr",
     "output_type": "stream",
     "text": [
      "1318it [00:00, 2178.00it/s, NLL=0.368, epoch=55]\n",
      "  0%|          | 0/21 [00:00<?, ?it/s]"
     ]
    },
    {
     "name": "stdout",
     "output_type": "stream",
     "text": [
      "Val Loss: 1.2369\n",
      "Val AUC: 0.5115\n",
      "Epoch 56\n"
     ]
    },
    {
     "name": "stderr",
     "output_type": "stream",
     "text": [
      "768it [00:00, 2530.58it/s, NLL=0.319, epoch=56]"
     ]
    },
    {
     "name": "stdout",
     "output_type": "stream",
     "text": [
      "Train Phase:  Iteration 2/21\r",
      "Train Phase:  Iteration 3/21\r",
      "Train Phase:  Iteration 4/21\r",
      "Train Phase:  Iteration 5/21\r",
      "Train Phase:  Iteration 6/21\r",
      "Train Phase:  Iteration 7/21\r",
      "Train Phase:  Iteration 8/21\r",
      "Train Phase:  Iteration 9/21\r",
      "Train Phase:  Iteration 10/21\r",
      "Train Phase:  Iteration 11/21\r",
      "Train Phase:  Iteration 12/21\r"
     ]
    },
    {
     "name": "stderr",
     "output_type": "stream",
     "text": [
      "1280it [00:00, 3015.32it/s, NLL=0.365, epoch=56]"
     ]
    },
    {
     "name": "stdout",
     "output_type": "stream",
     "text": [
      "Train Phase:  Iteration 13/21\r",
      "Train Phase:  Iteration 14/21\r",
      "Train Phase:  Iteration 15/21\r",
      "Train Phase:  Iteration 16/21\r",
      "Train Phase:  Iteration 17/21\r",
      "Train Phase:  Iteration 18/21\r",
      "Train Phase:  Iteration 19/21\r",
      "Train Phase:  Iteration 20/21\r"
     ]
    },
    {
     "name": "stderr",
     "output_type": "stream",
     "text": [
      "\r",
      "1318it [00:00, 3015.32it/s, NLL=0.31, epoch=56] "
     ]
    },
    {
     "name": "stdout",
     "output_type": "stream",
     "text": [
      "Train Phase:  Iteration 21/21\r",
      "Train Loss: 0.3538\n",
      "Train AUC: 0.8827\n"
     ]
    },
    {
     "name": "stderr",
     "output_type": "stream",
     "text": [
      "1318it [00:00, 2756.28it/s, NLL=0.31, epoch=56]\n",
      "  0%|          | 0/21 [00:00<?, ?it/s]"
     ]
    },
    {
     "name": "stdout",
     "output_type": "stream",
     "text": [
      "Val Loss: 1.2335\n",
      "Val AUC: 0.5129\n",
      "Epoch 57\n"
     ]
    },
    {
     "name": "stderr",
     "output_type": "stream",
     "text": [
      "576it [00:00, 551.37it/s, NLL=0.462, epoch=57]"
     ]
    },
    {
     "name": "stdout",
     "output_type": "stream",
     "text": [
      "Train Phase:  Iteration 2/21\r",
      "Train Phase:  Iteration 3/21\r",
      "Train Phase:  Iteration 4/21\r",
      "Train Phase:  Iteration 5/21\r",
      "Train Phase:  Iteration 6/21\r",
      "Train Phase:  Iteration 7/21\r",
      "Train Phase:  Iteration 8/21\r",
      "Train Phase:  Iteration 9/21\r"
     ]
    },
    {
     "name": "stderr",
     "output_type": "stream",
     "text": [
      "1318it [00:00, 757.15it/s, NLL=0.271, epoch=57]"
     ]
    },
    {
     "name": "stdout",
     "output_type": "stream",
     "text": [
      "Train Loss: 0.3543ation 21/21\n",
      "Train AUC: 0.8827\n"
     ]
    },
    {
     "name": "stderr",
     "output_type": "stream",
     "text": [
      "1318it [00:00, 2521.01it/s, NLL=0.271, epoch=57]\n",
      "  0%|          | 0/21 [00:00<?, ?it/s]"
     ]
    },
    {
     "name": "stdout",
     "output_type": "stream",
     "text": [
      "Val Loss: 1.2354\n",
      "Val AUC: 0.5122\n",
      "Epoch 58\n"
     ]
    },
    {
     "name": "stderr",
     "output_type": "stream",
     "text": [
      "640it [00:00, 2430.75it/s, NLL=0.308, epoch=58]"
     ]
    },
    {
     "name": "stdout",
     "output_type": "stream",
     "text": [
      "Train Phase:  Iteration 2/21\r",
      "Train Phase:  Iteration 3/21\r",
      "Train Phase:  Iteration 4/21\r",
      "Train Phase:  Iteration 5/21\r",
      "Train Phase:  Iteration 6/21\r",
      "Train Phase:  Iteration 7/21\r",
      "Train Phase:  Iteration 8/21\r",
      "Train Phase:  Iteration 9/21\r",
      "Train Phase:  Iteration 10/21\r",
      "Train Phase:  Iteration 11/21\r"
     ]
    },
    {
     "name": "stderr",
     "output_type": "stream",
     "text": [
      "960it [00:00, 2874.95it/s, NLL=0.37, epoch=58] "
     ]
    },
    {
     "name": "stdout",
     "output_type": "stream",
     "text": [
      "Train Phase:  Iteration 12/21\r",
      "Train Phase:  Iteration 13/21\r",
      "Train Phase:  Iteration 14/21\r",
      "Train Phase:  Iteration 15/21\r"
     ]
    },
    {
     "name": "stderr",
     "output_type": "stream",
     "text": [
      "1318it [00:00, 3127.36it/s, NLL=0.361, epoch=58]"
     ]
    },
    {
     "name": "stdout",
     "output_type": "stream",
     "text": [
      "Train Loss: 0.3541ation 21/21\n",
      "Train AUC: 0.8827\n"
     ]
    },
    {
     "name": "stderr",
     "output_type": "stream",
     "text": [
      "\r",
      "1318it [00:00, 2084.16it/s, NLL=0.361, epoch=58]"
     ]
    },
    {
     "name": "stdout",
     "output_type": "stream",
     "text": [
      "Val Loss: 1.2345\n",
      "Val AUC: 0.5122\n"
     ]
    },
    {
     "name": "stderr",
     "output_type": "stream",
     "text": [
      "\n",
      "\r",
      "  0%|          | 0/21 [00:00<?, ?it/s]"
     ]
    },
    {
     "name": "stdout",
     "output_type": "stream",
     "text": [
      "Epoch 59\n"
     ]
    },
    {
     "name": "stderr",
     "output_type": "stream",
     "text": [
      "256it [00:00, 548.99it/s, NLL=0.358, epoch=59]"
     ]
    },
    {
     "name": "stdout",
     "output_type": "stream",
     "text": [
      "Train Phase:  Iteration 2/21\r",
      "Train Phase:  Iteration 3/21\r",
      "Train Phase:  Iteration 4/21\r"
     ]
    },
    {
     "name": "stderr",
     "output_type": "stream",
     "text": [
      "512it [00:00, 729.62it/s, NLL=0.336, epoch=59]"
     ]
    },
    {
     "name": "stdout",
     "output_type": "stream",
     "text": [
      "Train Phase:  Iteration 5/21\r",
      "Train Phase:  Iteration 6/21\r",
      "Train Phase:  Iteration 7/21\r",
      "Train Phase:  Iteration 8/21\r"
     ]
    },
    {
     "name": "stderr",
     "output_type": "stream",
     "text": [
      "768it [00:00, 854.35it/s, NLL=0.311, epoch=59]"
     ]
    },
    {
     "name": "stdout",
     "output_type": "stream",
     "text": [
      "Train Phase:  Iteration 9/21\r",
      "Train Phase:  Iteration 10/21\r",
      "Train Phase:  Iteration 11/21\r",
      "Train Phase:  Iteration 12/21\r"
     ]
    },
    {
     "name": "stderr",
     "output_type": "stream",
     "text": [
      "1318it [00:00, 1103.32it/s, NLL=0.3, epoch=59]  "
     ]
    },
    {
     "name": "stdout",
     "output_type": "stream",
     "text": [
      "Train Loss: 0.3547ation 21/21\n",
      "Train AUC: 0.8827\n"
     ]
    },
    {
     "name": "stderr",
     "output_type": "stream",
     "text": [
      "1318it [00:00, 1797.57it/s, NLL=0.3, epoch=59]\n",
      "  0%|          | 0/21 [00:00<?, ?it/s]"
     ]
    },
    {
     "name": "stdout",
     "output_type": "stream",
     "text": [
      "Val Loss: 1.2369\n",
      "Val AUC: 0.5124\n",
      "Epoch 60\n"
     ]
    },
    {
     "name": "stderr",
     "output_type": "stream",
     "text": [
      "512it [00:00, 1085.67it/s, NLL=0.294, epoch=60]"
     ]
    },
    {
     "name": "stdout",
     "output_type": "stream",
     "text": [
      "Train Phase:  Iteration 2/21\r",
      "Train Phase:  Iteration 3/21\r",
      "Train Phase:  Iteration 4/21\r",
      "Train Phase:  Iteration 5/21\r",
      "Train Phase:  Iteration 6/21\r",
      "Train Phase:  Iteration 7/21\r",
      "Train Phase:  Iteration 8/21\r"
     ]
    },
    {
     "name": "stderr",
     "output_type": "stream",
     "text": [
      "1024it [00:00, 1377.80it/s, NLL=0.271, epoch=60]"
     ]
    },
    {
     "name": "stdout",
     "output_type": "stream",
     "text": [
      "Train Phase:  Iteration 9/21\r",
      "Train Phase:  Iteration 10/21\r",
      "Train Phase:  Iteration 11/21\r",
      "Train Phase:  Iteration 12/21\r",
      "Train Phase:  Iteration 13/21\r",
      "Train Phase:  Iteration 14/21\r",
      "Train Phase:  Iteration 15/21\r",
      "Train Phase:  Iteration 16/21\r"
     ]
    },
    {
     "name": "stderr",
     "output_type": "stream",
     "text": [
      "1318it [00:00, 1709.51it/s, NLL=0.473, epoch=60]"
     ]
    },
    {
     "name": "stdout",
     "output_type": "stream",
     "text": [
      "Train Loss: 0.3546ation 21/21\n",
      "Train AUC: 0.8827\n"
     ]
    },
    {
     "name": "stderr",
     "output_type": "stream",
     "text": [
      "1318it [00:00, 2198.51it/s, NLL=0.473, epoch=60]\n",
      "  0%|          | 0/21 [00:00<?, ?it/s]"
     ]
    },
    {
     "name": "stdout",
     "output_type": "stream",
     "text": [
      "Val Loss: 1.2362\n",
      "Val AUC: 0.5110\n",
      "Epoch 61\n"
     ]
    },
    {
     "name": "stderr",
     "output_type": "stream",
     "text": [
      "512it [00:00, 1274.79it/s, NLL=0.486, epoch=61]"
     ]
    },
    {
     "name": "stdout",
     "output_type": "stream",
     "text": [
      "Train Phase:  Iteration 2/21\r",
      "Train Phase:  Iteration 3/21\r",
      "Train Phase:  Iteration 4/21\r",
      "Train Phase:  Iteration 5/21\r",
      "Train Phase:  Iteration 6/21\r",
      "Train Phase:  Iteration 7/21\r",
      "Train Phase:  Iteration 8/21\r"
     ]
    },
    {
     "name": "stderr",
     "output_type": "stream",
     "text": [
      "896it [00:00, 1555.61it/s, NLL=0.353, epoch=61]"
     ]
    },
    {
     "name": "stdout",
     "output_type": "stream",
     "text": [
      "Train Phase:  Iteration 9/21\r",
      "Train Phase:  Iteration 10/21\r",
      "Train Phase:  Iteration 11/21\r",
      "Train Phase:  Iteration 12/21\r",
      "Train Phase:  Iteration 13/21\r",
      "Train Phase:  Iteration 14/21\r"
     ]
    },
    {
     "name": "stderr",
     "output_type": "stream",
     "text": [
      "1318it [00:00, 1932.53it/s, NLL=0.482, epoch=61]"
     ]
    },
    {
     "name": "stdout",
     "output_type": "stream",
     "text": [
      "Train Loss: 0.3540ation 21/21\n",
      "Train AUC: 0.8827\n"
     ]
    },
    {
     "name": "stderr",
     "output_type": "stream",
     "text": [
      "1318it [00:00, 2230.51it/s, NLL=0.482, epoch=61]\n",
      "  0%|          | 0/21 [00:00<?, ?it/s]"
     ]
    },
    {
     "name": "stdout",
     "output_type": "stream",
     "text": [
      "Val Loss: 1.2343\n",
      "Val AUC: 0.5129\n",
      "Epoch 62\n"
     ]
    },
    {
     "name": "stderr",
     "output_type": "stream",
     "text": [
      "512it [00:00, 562.60it/s, NLL=0.306, epoch=62]"
     ]
    },
    {
     "name": "stdout",
     "output_type": "stream",
     "text": [
      "Train Phase:  Iteration 2/21\r",
      "Train Phase:  Iteration 3/21\r",
      "Train Phase:  Iteration 4/21\r",
      "Train Phase:  Iteration 5/21\r",
      "Train Phase:  Iteration 6/21\r",
      "Train Phase:  Iteration 7/21\r",
      "Train Phase:  Iteration 8/21\r"
     ]
    },
    {
     "name": "stderr",
     "output_type": "stream",
     "text": [
      "1024it [00:00, 759.03it/s, NLL=0.353, epoch=62]"
     ]
    },
    {
     "name": "stdout",
     "output_type": "stream",
     "text": [
      "Train Phase:  Iteration 9/21\r",
      "Train Phase:  Iteration 10/21\r",
      "Train Phase:  Iteration 11/21\r",
      "Train Phase:  Iteration 12/21\r",
      "Train Phase:  Iteration 13/21\r",
      "Train Phase:  Iteration 14/21\r",
      "Train Phase:  Iteration 15/21\r",
      "Train Phase:  Iteration 16/21\r"
     ]
    },
    {
     "name": "stderr",
     "output_type": "stream",
     "text": [
      "1318it [00:00, 1005.56it/s, NLL=0.296, epoch=62]"
     ]
    },
    {
     "name": "stdout",
     "output_type": "stream",
     "text": [
      "Train Loss: 0.3545ation 21/21\n",
      "Train AUC: 0.8827\n"
     ]
    },
    {
     "name": "stderr",
     "output_type": "stream",
     "text": [
      "1318it [00:00, 2158.08it/s, NLL=0.296, epoch=62]\n",
      "  0%|          | 0/21 [00:00<?, ?it/s]"
     ]
    },
    {
     "name": "stdout",
     "output_type": "stream",
     "text": [
      "Val Loss: 1.2360\n",
      "Val AUC: 0.5115\n",
      "Epoch 63\n"
     ]
    },
    {
     "name": "stderr",
     "output_type": "stream",
     "text": [
      "384it [00:00, 557.84it/s, NLL=0.411, epoch=63]"
     ]
    },
    {
     "name": "stdout",
     "output_type": "stream",
     "text": [
      "Train Phase:  Iteration 2/21\r",
      "Train Phase:  Iteration 3/21\r",
      "Train Phase:  Iteration 4/21\r",
      "Train Phase:  Iteration 5/21\r",
      "Train Phase:  Iteration 6/21\r"
     ]
    },
    {
     "name": "stderr",
     "output_type": "stream",
     "text": [
      "832it [00:00, 753.76it/s, NLL=0.296, epoch=63]"
     ]
    },
    {
     "name": "stdout",
     "output_type": "stream",
     "text": [
      "Train Phase:  Iteration 7/21\r",
      "Train Phase:  Iteration 8/21\r",
      "Train Phase:  Iteration 9/21\r",
      "Train Phase:  Iteration 10/21\r",
      "Train Phase:  Iteration 11/21\r",
      "Train Phase:  Iteration 12/21\r",
      "Train Phase:  Iteration 13/21\r",
      "Train Phase:  Iteration 14/21\r"
     ]
    },
    {
     "name": "stderr",
     "output_type": "stream",
     "text": [
      "1152it [00:00, 992.99it/s, NLL=0.528, epoch=63]"
     ]
    },
    {
     "name": "stdout",
     "output_type": "stream",
     "text": [
      "Train Phase:  Iteration 15/21\r",
      "Train Phase:  Iteration 16/21\r",
      "Train Phase:  Iteration 17/21\r",
      "Train Phase:  Iteration 18/21\r"
     ]
    },
    {
     "name": "stderr",
     "output_type": "stream",
     "text": [
      "1318it [00:00, 1184.53it/s, NLL=0.313, epoch=63]"
     ]
    },
    {
     "name": "stdout",
     "output_type": "stream",
     "text": [
      "Train Phase:  Iteration 19/21\r",
      "Train Phase:  Iteration 20/21\r",
      "Train Phase:  Iteration 21/21\r",
      "Train Loss: 0.3543\n",
      "Train AUC: 0.8827\n"
     ]
    },
    {
     "name": "stderr",
     "output_type": "stream",
     "text": [
      "1318it [00:00, 1914.19it/s, NLL=0.313, epoch=63]\n",
      "  0%|          | 0/21 [00:00<?, ?it/s]"
     ]
    },
    {
     "name": "stdout",
     "output_type": "stream",
     "text": [
      "Val Loss: 1.2353\n",
      "Val AUC: 0.5107\n",
      "Epoch 64\n"
     ]
    },
    {
     "name": "stderr",
     "output_type": "stream",
     "text": [
      "512it [00:00, 481.21it/s, NLL=0.265, epoch=64]"
     ]
    },
    {
     "name": "stdout",
     "output_type": "stream",
     "text": [
      "Train Phase:  Iteration 2/21\r",
      "Train Phase:  Iteration 3/21\r",
      "Train Phase:  Iteration 4/21\r",
      "Train Phase:  Iteration 5/21\r",
      "Train Phase:  Iteration 6/21\r",
      "Train Phase:  Iteration 7/21\r",
      "Train Phase:  Iteration 8/21\r"
     ]
    },
    {
     "name": "stderr",
     "output_type": "stream",
     "text": [
      "1024it [00:00, 665.18it/s, NLL=0.353, epoch=64]"
     ]
    },
    {
     "name": "stdout",
     "output_type": "stream",
     "text": [
      "Train Phase:  Iteration 9/21\r",
      "Train Phase:  Iteration 10/21\r",
      "Train Phase:  Iteration 11/21\r",
      "Train Phase:  Iteration 12/21\r",
      "Train Phase:  Iteration 13/21\r",
      "Train Phase:  Iteration 14/21\r",
      "Train Phase:  Iteration 15/21\r",
      "Train Phase:  Iteration 16/21\r"
     ]
    },
    {
     "name": "stderr",
     "output_type": "stream",
     "text": [
      "1318it [00:00, 862.82it/s, NLL=0.471, epoch=64]"
     ]
    },
    {
     "name": "stdout",
     "output_type": "stream",
     "text": [
      "Train Loss: 0.3537ation 21/21\n",
      "Train AUC: 0.8827\n"
     ]
    },
    {
     "name": "stderr",
     "output_type": "stream",
     "text": [
      "1318it [00:00, 2215.34it/s, NLL=0.471, epoch=64]\n",
      "  0%|          | 0/21 [00:00<?, ?it/s]"
     ]
    },
    {
     "name": "stdout",
     "output_type": "stream",
     "text": [
      "Val Loss: 1.2332\n",
      "Val AUC: 0.5115\n",
      "Epoch 65\n"
     ]
    },
    {
     "name": "stderr",
     "output_type": "stream",
     "text": [
      "384it [00:00, 1162.40it/s, NLL=0.268, epoch=65]"
     ]
    },
    {
     "name": "stdout",
     "output_type": "stream",
     "text": [
      "Train Phase:  Iteration 2/21\r",
      "Train Phase:  Iteration 3/21\r",
      "Train Phase:  Iteration 4/21\r",
      "Train Phase:  Iteration 5/21\r",
      "Train Phase:  Iteration 6/21\r"
     ]
    },
    {
     "name": "stderr",
     "output_type": "stream",
     "text": [
      "768it [00:00, 1438.84it/s, NLL=0.355, epoch=65]"
     ]
    },
    {
     "name": "stdout",
     "output_type": "stream",
     "text": [
      "Train Phase:  Iteration 7/21\r",
      "Train Phase:  Iteration 8/21\r",
      "Train Phase:  Iteration 9/21\r",
      "Train Phase:  Iteration 10/21\r",
      "Train Phase:  Iteration 11/21\r",
      "Train Phase:  Iteration 12/21\r"
     ]
    },
    {
     "name": "stderr",
     "output_type": "stream",
     "text": [
      "1088it [00:00, 1698.02it/s, NLL=0.469, epoch=65]"
     ]
    },
    {
     "name": "stdout",
     "output_type": "stream",
     "text": [
      "Train Phase:  Iteration 13/21\r",
      "Train Phase:  Iteration 14/21\r",
      "Train Phase:  Iteration 15/21\r",
      "Train Phase:  Iteration 16/21\r",
      "Train Phase:  Iteration 17/21\r"
     ]
    },
    {
     "name": "stderr",
     "output_type": "stream",
     "text": [
      "1318it [00:00, 1698.02it/s, NLL=0.391, epoch=65]"
     ]
    },
    {
     "name": "stdout",
     "output_type": "stream",
     "text": [
      "Train Phase:  Iteration 18/21\r",
      "Train Phase:  Iteration 19/21\r",
      "Train Phase:  Iteration 20/21\r",
      "Train Phase:  Iteration 21/21\r",
      "Train Loss: 0.3542\n",
      "Train AUC: 0.8827\n"
     ]
    },
    {
     "name": "stderr",
     "output_type": "stream",
     "text": [
      "1318it [00:00, 1878.67it/s, NLL=0.391, epoch=65]\n",
      "  0%|          | 0/21 [00:00<?, ?it/s]"
     ]
    },
    {
     "name": "stdout",
     "output_type": "stream",
     "text": [
      "Val Loss: 1.2349\n",
      "Val AUC: 0.5121\n",
      "Epoch 66\n"
     ]
    },
    {
     "name": "stderr",
     "output_type": "stream",
     "text": [
      "320it [00:00, 595.54it/s, NLL=0.27, epoch=66] "
     ]
    },
    {
     "name": "stdout",
     "output_type": "stream",
     "text": [
      "Train Phase:  Iteration 2/21\r",
      "Train Phase:  Iteration 3/21\r",
      "Train Phase:  Iteration 4/21\r",
      "Train Phase:  Iteration 5/21\r"
     ]
    },
    {
     "name": "stderr",
     "output_type": "stream",
     "text": [
      "512it [00:00, 794.14it/s, NLL=0.391, epoch=66]"
     ]
    },
    {
     "name": "stdout",
     "output_type": "stream",
     "text": [
      "Train Phase:  Iteration 6/21\r",
      "Train Phase:  Iteration 7/21\r",
      "Train Phase:  Iteration 8/21\r"
     ]
    },
    {
     "name": "stderr",
     "output_type": "stream",
     "text": [
      "768it [00:00, 825.78it/s, NLL=0.357, epoch=66]"
     ]
    },
    {
     "name": "stdout",
     "output_type": "stream",
     "text": [
      "Train Phase:  Iteration 9/21\r",
      "Train Phase:  Iteration 10/21\r",
      "Train Phase:  Iteration 11/21\r",
      "Train Phase:  Iteration 12/21\r"
     ]
    },
    {
     "name": "stderr",
     "output_type": "stream",
     "text": [
      "1318it [00:00, 1073.71it/s, NLL=0.352, epoch=66]"
     ]
    },
    {
     "name": "stdout",
     "output_type": "stream",
     "text": [
      "Train Loss: 0.3542ation 21/21\n",
      "Train AUC: 0.8827\n"
     ]
    },
    {
     "name": "stderr",
     "output_type": "stream",
     "text": [
      "1318it [00:00, 1810.69it/s, NLL=0.352, epoch=66]\n",
      "  0%|          | 0/21 [00:00<?, ?it/s]"
     ]
    },
    {
     "name": "stdout",
     "output_type": "stream",
     "text": [
      "Val Loss: 1.2351\n",
      "Val AUC: 0.5100\n",
      "Epoch 67\n"
     ]
    },
    {
     "name": "stderr",
     "output_type": "stream",
     "text": [
      "512it [00:00, 1908.67it/s, NLL=0.302, epoch=67]"
     ]
    },
    {
     "name": "stdout",
     "output_type": "stream",
     "text": [
      "Train Phase:  Iteration 2/21\r",
      "Train Phase:  Iteration 3/21\r",
      "Train Phase:  Iteration 4/21\r",
      "Train Phase:  Iteration 5/21\r",
      "Train Phase:  Iteration 6/21\r",
      "Train Phase:  Iteration 7/21\r",
      "Train Phase:  Iteration 8/21\r"
     ]
    },
    {
     "name": "stderr",
     "output_type": "stream",
     "text": [
      "768it [00:00, 2148.85it/s, NLL=0.46, epoch=67] "
     ]
    },
    {
     "name": "stdout",
     "output_type": "stream",
     "text": [
      "Train Phase:  Iteration 9/21\r",
      "Train Phase:  Iteration 10/21\r",
      "Train Phase:  Iteration 11/21\r",
      "Train Phase:  Iteration 12/21\r",
      "Train Phase:  Iteration 13/21"
     ]
    },
    {
     "name": "stderr",
     "output_type": "stream",
     "text": [
      "1318it [00:00, 2486.26it/s, NLL=0.389, epoch=67]"
     ]
    },
    {
     "name": "stdout",
     "output_type": "stream",
     "text": [
      "Train Loss: 0.3539ation 21/21\n",
      "Train AUC: 0.8827\n"
     ]
    },
    {
     "name": "stderr",
     "output_type": "stream",
     "text": [
      "1318it [00:00, 2163.53it/s, NLL=0.389, epoch=67]\n",
      "  0%|          | 0/21 [00:00<?, ?it/s]"
     ]
    },
    {
     "name": "stdout",
     "output_type": "stream",
     "text": [
      "Val Loss: 1.2341\n",
      "Val AUC: 0.5122\n",
      "Epoch 68\n"
     ]
    },
    {
     "name": "stderr",
     "output_type": "stream",
     "text": [
      "384it [00:00, 1162.48it/s, NLL=0.223, epoch=68]"
     ]
    },
    {
     "name": "stdout",
     "output_type": "stream",
     "text": [
      "Train Phase:  Iteration 2/21\r",
      "Train Phase:  Iteration 3/21\r",
      "Train Phase:  Iteration 4/21\r",
      "Train Phase:  Iteration 5/21\r",
      "Train Phase:  Iteration 6/21\r",
      "Train Phase:  Iteration 7/21\r"
     ]
    },
    {
     "name": "stderr",
     "output_type": "stream",
     "text": [
      "832it [00:00, 1450.39it/s, NLL=0.416, epoch=68]"
     ]
    },
    {
     "name": "stdout",
     "output_type": "stream",
     "text": [
      "Train Phase:  Iteration 8/21\r",
      "Train Phase:  Iteration 9/21\r",
      "Train Phase:  Iteration 10/21\r",
      "Train Phase:  Iteration 11/21\r",
      "Train Phase:  Iteration 12/21\r",
      "Train Phase:  Iteration 13/21\r"
     ]
    },
    {
     "name": "stderr",
     "output_type": "stream",
     "text": [
      "1088it [00:00, 1777.99it/s, NLL=0.429, epoch=68]"
     ]
    },
    {
     "name": "stdout",
     "output_type": "stream",
     "text": [
      "Train Phase:  Iteration 14/21\r",
      "Train Phase:  Iteration 15/21\r",
      "Train Phase:  Iteration 16/21\r",
      "Train Phase:  Iteration 17/21\r"
     ]
    },
    {
     "name": "stderr",
     "output_type": "stream",
     "text": [
      "1318it [00:00, 1777.99it/s, NLL=0.333, epoch=68]"
     ]
    },
    {
     "name": "stdout",
     "output_type": "stream",
     "text": [
      "Train Phase:  Iteration 18/21\r",
      "Train Phase:  Iteration 19/21\r",
      "Train Phase:  Iteration 20/21\r",
      "Train Phase:  Iteration 21/21\r",
      "Train Loss: 0.3539\n",
      "Train AUC: 0.8827\n"
     ]
    },
    {
     "name": "stderr",
     "output_type": "stream",
     "text": [
      "1318it [00:00, 2109.49it/s, NLL=0.333, epoch=68]\n",
      "  0%|          | 0/21 [00:00<?, ?it/s]"
     ]
    },
    {
     "name": "stdout",
     "output_type": "stream",
     "text": [
      "Val Loss: 1.2341\n",
      "Val AUC: 0.5109\n",
      "Epoch 69\n"
     ]
    },
    {
     "name": "stderr",
     "output_type": "stream",
     "text": [
      "512it [00:00, 1238.59it/s, NLL=0.343, epoch=69]"
     ]
    },
    {
     "name": "stdout",
     "output_type": "stream",
     "text": [
      "Train Phase:  Iteration 2/21\r",
      "Train Phase:  Iteration 3/21\r",
      "Train Phase:  Iteration 4/21\r",
      "Train Phase:  Iteration 5/21\r",
      "Train Phase:  Iteration 6/21\r",
      "Train Phase:  Iteration 7/21\r",
      "Train Phase:  Iteration 8/21\r"
     ]
    },
    {
     "name": "stderr",
     "output_type": "stream",
     "text": [
      "832it [00:00, 1521.35it/s, NLL=0.245, epoch=69]"
     ]
    },
    {
     "name": "stdout",
     "output_type": "stream",
     "text": [
      "Train Phase:  Iteration 9/21\r",
      "Train Phase:  Iteration 10/21\r",
      "Train Phase:  Iteration 11/21\r",
      "Train Phase:  Iteration 12/21\r",
      "Train Phase:  Iteration 13/21\r"
     ]
    },
    {
     "name": "stderr",
     "output_type": "stream",
     "text": [
      "1318it [00:00, 1836.68it/s, NLL=0.351, epoch=69]"
     ]
    },
    {
     "name": "stdout",
     "output_type": "stream",
     "text": [
      "Train Loss: 0.3533ation 21/21\n",
      "Train AUC: 0.8827\n"
     ]
    },
    {
     "name": "stderr",
     "output_type": "stream",
     "text": [
      "1318it [00:00, 2144.17it/s, NLL=0.351, epoch=69]\n",
      "  0%|          | 0/21 [00:00<?, ?it/s]"
     ]
    },
    {
     "name": "stdout",
     "output_type": "stream",
     "text": [
      "Val Loss: 1.2320\n",
      "Val AUC: 0.5119\n",
      "Epoch 70\n"
     ]
    },
    {
     "name": "stderr",
     "output_type": "stream",
     "text": [
      "384it [00:00, 464.55it/s, NLL=0.283, epoch=70]"
     ]
    },
    {
     "name": "stdout",
     "output_type": "stream",
     "text": [
      "Train Phase:  Iteration 2/21\r",
      "Train Phase:  Iteration 3/21\r",
      "Train Phase:  Iteration 4/21\r",
      "Train Phase:  Iteration 5/21\r",
      "Train Phase:  Iteration 6/21\r",
      "Train Phase:  Iteration 7/21\r"
     ]
    },
    {
     "name": "stderr",
     "output_type": "stream",
     "text": [
      "1024it [00:00, 848.85it/s, NLL=0.39, epoch=70] "
     ]
    },
    {
     "name": "stdout",
     "output_type": "stream",
     "text": [
      "Train Phase:  Iteration 8/21\r",
      "Train Phase:  Iteration 9/21\r",
      "Train Phase:  Iteration 10/21\r",
      "Train Phase:  Iteration 11/21\r",
      "Train Phase:  Iteration 12/21\r",
      "Train Phase:  Iteration 13/21\r",
      "Train Phase:  Iteration 14/21\r",
      "Train Phase:  Iteration 15/21\r",
      "Train Phase:  Iteration 16/21\r"
     ]
    },
    {
     "name": "stderr",
     "output_type": "stream",
     "text": [
      "1216it [00:00, 848.85it/s, NLL=0.333, epoch=70]"
     ]
    },
    {
     "name": "stdout",
     "output_type": "stream",
     "text": [
      "Train Phase:  Iteration 17/21\r",
      "Train Phase:  Iteration 18/21\r",
      "Train Phase:  Iteration 19/21\r"
     ]
    },
    {
     "name": "stderr",
     "output_type": "stream",
     "text": [
      "1318it [00:00, 848.85it/s, NLL=0.376, epoch=70]"
     ]
    },
    {
     "name": "stdout",
     "output_type": "stream",
     "text": [
      "Train Phase:  Iteration 20/21\r",
      "Train Phase:  Iteration 21/21\r",
      "Train Loss: 0.3535\n",
      "Train AUC: 0.8827\n"
     ]
    },
    {
     "name": "stderr",
     "output_type": "stream",
     "text": [
      "1318it [00:00, 2117.08it/s, NLL=0.376, epoch=70]\n",
      "  0%|          | 0/21 [00:00<?, ?it/s]"
     ]
    },
    {
     "name": "stdout",
     "output_type": "stream",
     "text": [
      "Val Loss: 1.2327\n",
      "Val AUC: 0.5120\n",
      "Epoch 71\n"
     ]
    },
    {
     "name": "stderr",
     "output_type": "stream",
     "text": [
      "512it [00:00, 615.33it/s, NLL=0.398, epoch=71]"
     ]
    },
    {
     "name": "stdout",
     "output_type": "stream",
     "text": [
      "Train Phase:  Iteration 2/21\r",
      "Train Phase:  Iteration 3/21\r",
      "Train Phase:  Iteration 4/21\r",
      "Train Phase:  Iteration 5/21\r",
      "Train Phase:  Iteration 6/21\r",
      "Train Phase:  Iteration 7/21\r",
      "Train Phase:  Iteration 8/21\r"
     ]
    },
    {
     "name": "stderr",
     "output_type": "stream",
     "text": [
      "960it [00:00, 823.06it/s, NLL=0.432, epoch=71]"
     ]
    },
    {
     "name": "stdout",
     "output_type": "stream",
     "text": [
      "Train Phase:  Iteration 9/21\r",
      "Train Phase:  Iteration 10/21\r",
      "Train Phase:  Iteration 11/21\r",
      "Train Phase:  Iteration 12/21\r",
      "Train Phase:  Iteration 13/21\r",
      "Train Phase:  Iteration 14/21\r",
      "Train Phase:  Iteration 15/21\r"
     ]
    },
    {
     "name": "stderr",
     "output_type": "stream",
     "text": [
      "1318it [00:00, 1076.89it/s, NLL=0.392, epoch=71]"
     ]
    },
    {
     "name": "stdout",
     "output_type": "stream",
     "text": [
      "Train Loss: 0.3530ation 21/21\n",
      "Train AUC: 0.8827\n"
     ]
    },
    {
     "name": "stderr",
     "output_type": "stream",
     "text": [
      "1318it [00:00, 2211.06it/s, NLL=0.392, epoch=71]\n",
      "  0%|          | 0/21 [00:00<?, ?it/s]"
     ]
    },
    {
     "name": "stdout",
     "output_type": "stream",
     "text": [
      "Val Loss: 1.2308\n",
      "Val AUC: 0.5100\n",
      "Epoch 72\n"
     ]
    },
    {
     "name": "stderr",
     "output_type": "stream",
     "text": [
      "448it [00:00, 565.34it/s, NLL=0.276, epoch=72]"
     ]
    },
    {
     "name": "stdout",
     "output_type": "stream",
     "text": [
      "Train Phase:  Iteration 2/21\r",
      "Train Phase:  Iteration 3/21\r",
      "Train Phase:  Iteration 4/21\r",
      "Train Phase:  Iteration 5/21\r",
      "Train Phase:  Iteration 6/21\r",
      "Train Phase:  Iteration 7/21\r",
      "Train Phase:  Iteration 8/21"
     ]
    },
    {
     "name": "stderr",
     "output_type": "stream",
     "text": [
      "896it [00:00, 765.92it/s, NLL=0.377, epoch=72]"
     ]
    },
    {
     "name": "stdout",
     "output_type": "stream",
     "text": [
      "\r",
      "Train Phase:  Iteration 9/21\r",
      "Train Phase:  Iteration 10/21\r",
      "Train Phase:  Iteration 11/21\r",
      "Train Phase:  Iteration 12/21\r",
      "Train Phase:  Iteration 13/21\r",
      "Train Phase:  Iteration 14/21\r"
     ]
    },
    {
     "name": "stderr",
     "output_type": "stream",
     "text": [
      "1152it [00:00, 1005.34it/s, NLL=0.407, epoch=72]"
     ]
    },
    {
     "name": "stdout",
     "output_type": "stream",
     "text": [
      "Train Phase:  Iteration 15/21\r",
      "Train Phase:  Iteration 16/21\r",
      "Train Phase:  Iteration 17/21\r",
      "Train Phase:  Iteration 18/21\r"
     ]
    },
    {
     "name": "stderr",
     "output_type": "stream",
     "text": [
      "1318it [00:00, 1005.34it/s, NLL=0.381, epoch=72]"
     ]
    },
    {
     "name": "stdout",
     "output_type": "stream",
     "text": [
      "Train Phase:  Iteration 19/21\r",
      "Train Phase:  Iteration 20/21\r",
      "Train Phase:  Iteration 21/21\r",
      "Train Loss: 0.3532\n",
      "Train AUC: 0.8827\n"
     ]
    },
    {
     "name": "stderr",
     "output_type": "stream",
     "text": [
      "1318it [00:00, 2079.87it/s, NLL=0.381, epoch=72]\n",
      "  0%|          | 0/21 [00:00<?, ?it/s]"
     ]
    },
    {
     "name": "stdout",
     "output_type": "stream",
     "text": [
      "Val Loss: 1.2315\n",
      "Val AUC: 0.5110\n",
      "Epoch 73\n"
     ]
    },
    {
     "name": "stderr",
     "output_type": "stream",
     "text": [
      "192it [00:00, 463.86it/s, NLL=0.432, epoch=73]"
     ]
    },
    {
     "name": "stdout",
     "output_type": "stream",
     "text": [
      "Train Phase:  Iteration 2/21\r",
      "Train Phase:  Iteration 3/21\r",
      "Train Phase:  Iteration 4/21\r"
     ]
    },
    {
     "name": "stderr",
     "output_type": "stream",
     "text": [
      "1024it [00:00, 629.14it/s, NLL=0.468, epoch=73]"
     ]
    },
    {
     "name": "stdout",
     "output_type": "stream",
     "text": [
      "Train Phase:  Iteration 5/21\r",
      "Train Phase:  Iteration 6/21\r",
      "Train Phase:  Iteration 7/21\r",
      "Train Phase:  Iteration 8/21\r",
      "Train Phase:  Iteration 9/21\r",
      "Train Phase:  Iteration 10/21\r",
      "Train Phase:  Iteration 11/21\r",
      "Train Phase:  Iteration 12/21\r",
      "Train Phase:  Iteration 13/21\r",
      "Train Phase:  Iteration 14/21\r",
      "Train Phase:  Iteration 15/21\r",
      "Train Phase:  Iteration 16/21\r"
     ]
    },
    {
     "name": "stderr",
     "output_type": "stream",
     "text": [
      "1216it [00:00, 854.79it/s, NLL=0.339, epoch=73]"
     ]
    },
    {
     "name": "stdout",
     "output_type": "stream",
     "text": [
      "Train Phase:  Iteration 17/21\r",
      "Train Phase:  Iteration 18/21\r",
      "Train Phase:  Iteration 19/21\r"
     ]
    },
    {
     "name": "stderr",
     "output_type": "stream",
     "text": [
      "1318it [00:00, 854.79it/s, NLL=0.318, epoch=73]"
     ]
    },
    {
     "name": "stdout",
     "output_type": "stream",
     "text": [
      "Train Phase:  Iteration 20/21\r",
      "Train Phase:  Iteration 21/21\r",
      "Train Loss: 0.3529\n",
      "Train AUC: 0.8827\n"
     ]
    },
    {
     "name": "stderr",
     "output_type": "stream",
     "text": [
      "1318it [00:00, 2129.66it/s, NLL=0.318, epoch=73]\n",
      "  0%|          | 0/21 [00:00<?, ?it/s]"
     ]
    },
    {
     "name": "stdout",
     "output_type": "stream",
     "text": [
      "Val Loss: 1.2305\n",
      "Val AUC: 0.5108\n",
      "Epoch 74\n"
     ]
    },
    {
     "name": "stderr",
     "output_type": "stream",
     "text": [
      "512it [00:00, 1094.55it/s, NLL=0.374, epoch=74]"
     ]
    },
    {
     "name": "stdout",
     "output_type": "stream",
     "text": [
      "Train Phase:  Iteration 2/21\r",
      "Train Phase:  Iteration 3/21\r",
      "Train Phase:  Iteration 4/21\r",
      "Train Phase:  Iteration 5/21\r",
      "Train Phase:  Iteration 6/21\r",
      "Train Phase:  Iteration 7/21\r",
      "Train Phase:  Iteration 8/21\r"
     ]
    },
    {
     "name": "stderr",
     "output_type": "stream",
     "text": [
      "896it [00:00, 1386.28it/s, NLL=0.285, epoch=74]"
     ]
    },
    {
     "name": "stdout",
     "output_type": "stream",
     "text": [
      "Train Phase:  Iteration 9/21\r",
      "Train Phase:  Iteration 10/21\r",
      "Train Phase:  Iteration 11/21\r",
      "Train Phase:  Iteration 12/21\r",
      "Train Phase:  Iteration 13/21\r",
      "Train Phase:  Iteration 14/21\r"
     ]
    },
    {
     "name": "stderr",
     "output_type": "stream",
     "text": [
      "1318it [00:00, 1703.78it/s, NLL=0.292, epoch=74]"
     ]
    },
    {
     "name": "stdout",
     "output_type": "stream",
     "text": [
      "Train Loss: 0.3533ation 21/21\n",
      "Train AUC: 0.8827\n"
     ]
    },
    {
     "name": "stderr",
     "output_type": "stream",
     "text": [
      "1318it [00:00, 2079.61it/s, NLL=0.292, epoch=74]\n",
      "  0%|          | 0/21 [00:00<?, ?it/s]"
     ]
    },
    {
     "name": "stdout",
     "output_type": "stream",
     "text": [
      "Val Loss: 1.2319\n",
      "Val AUC: 0.5115\n",
      "Epoch 75\n"
     ]
    },
    {
     "name": "stderr",
     "output_type": "stream",
     "text": [
      "320it [00:00, 467.44it/s, NLL=0.459, epoch=75]"
     ]
    },
    {
     "name": "stdout",
     "output_type": "stream",
     "text": [
      "Train Phase:  Iteration 2/21\r",
      "Train Phase:  Iteration 3/21\r",
      "Train Phase:  Iteration 4/21\r",
      "Train Phase:  Iteration 5/21\r",
      "Train Phase:  Iteration 6/21\r"
     ]
    },
    {
     "name": "stderr",
     "output_type": "stream",
     "text": [
      "1024it [00:00, 646.09it/s, NLL=0.407, epoch=75]"
     ]
    },
    {
     "name": "stdout",
     "output_type": "stream",
     "text": [
      "Train Phase:  Iteration 7/21\r",
      "Train Phase:  Iteration 8/21\r",
      "Train Phase:  Iteration 9/21\r",
      "Train Phase:  Iteration 10/21\r",
      "Train Phase:  Iteration 11/21\r",
      "Train Phase:  Iteration 12/21\r",
      "Train Phase:  Iteration 13/21\r",
      "Train Phase:  Iteration 14/21\r",
      "Train Phase:  Iteration 15/21\r",
      "Train Phase:  Iteration 16/21\r"
     ]
    },
    {
     "name": "stderr",
     "output_type": "stream",
     "text": [
      "1280it [00:00, 835.43it/s, NLL=0.366, epoch=75]"
     ]
    },
    {
     "name": "stdout",
     "output_type": "stream",
     "text": [
      "Train Phase:  Iteration 17/21\r",
      "Train Phase:  Iteration 18/21\r",
      "Train Phase:  Iteration 19/21\r",
      "Train Phase:  Iteration 20/21\r"
     ]
    },
    {
     "name": "stderr",
     "output_type": "stream",
     "text": [
      "\r",
      "1318it [00:00, 835.43it/s, NLL=0.587, epoch=75]"
     ]
    },
    {
     "name": "stdout",
     "output_type": "stream",
     "text": [
      "Train Phase:  Iteration 21/21\r",
      "Train Loss: 0.3532\n",
      "Train AUC: 0.8827\n"
     ]
    },
    {
     "name": "stderr",
     "output_type": "stream",
     "text": [
      "1318it [00:00, 2171.38it/s, NLL=0.587, epoch=75]\n",
      "  0%|          | 0/21 [00:00<?, ?it/s]"
     ]
    },
    {
     "name": "stdout",
     "output_type": "stream",
     "text": [
      "Val Loss: 1.2315\n",
      "Val AUC: 0.5102\n",
      "Epoch 76\n"
     ]
    },
    {
     "name": "stderr",
     "output_type": "stream",
     "text": [
      "256it [00:00, 495.67it/s, NLL=0.31, epoch=76] "
     ]
    },
    {
     "name": "stdout",
     "output_type": "stream",
     "text": [
      "Train Phase:  Iteration 2/21\r",
      "Train Phase:  Iteration 3/21\r",
      "Train Phase:  Iteration 4/21\r"
     ]
    },
    {
     "name": "stderr",
     "output_type": "stream",
     "text": [
      "1024it [00:00, 672.34it/s, NLL=0.323, epoch=76]"
     ]
    },
    {
     "name": "stdout",
     "output_type": "stream",
     "text": [
      "Train Phase:  Iteration 5/21\r",
      "Train Phase:  Iteration 6/21\r",
      "Train Phase:  Iteration 7/21\r",
      "Train Phase:  Iteration 8/21\r",
      "Train Phase:  Iteration 9/21\r",
      "Train Phase:  Iteration 10/21\r",
      "Train Phase:  Iteration 11/21\r",
      "Train Phase:  Iteration 12/21\r",
      "Train Phase:  Iteration 13/21\r",
      "Train Phase:  Iteration 14/21\r",
      "Train Phase:  Iteration 15/21\r",
      "Train Phase:  Iteration 16/21\r"
     ]
    },
    {
     "name": "stderr",
     "output_type": "stream",
     "text": [
      "1280it [00:00, 900.31it/s, NLL=0.327, epoch=76]"
     ]
    },
    {
     "name": "stdout",
     "output_type": "stream",
     "text": [
      "Train Phase:  Iteration 17/21\r",
      "Train Phase:  Iteration 18/21\r",
      "Train Phase:  Iteration 19/21\r",
      "Train Phase:  Iteration 20/21\r",
      "Train Phase:  Iteration 21/21\r"
     ]
    },
    {
     "name": "stderr",
     "output_type": "stream",
     "text": [
      "\r",
      "1318it [00:00, 900.31it/s, NLL=0.521, epoch=76]"
     ]
    },
    {
     "name": "stdout",
     "output_type": "stream",
     "text": [
      "Train Loss: 0.3537\n",
      "Train AUC: 0.8827\n"
     ]
    },
    {
     "name": "stderr",
     "output_type": "stream",
     "text": [
      "1318it [00:00, 2173.15it/s, NLL=0.521, epoch=76]\n",
      "  0%|          | 0/21 [00:00<?, ?it/s]"
     ]
    },
    {
     "name": "stdout",
     "output_type": "stream",
     "text": [
      "Val Loss: 1.2332\n",
      "Val AUC: 0.5110\n",
      "Epoch 77\n"
     ]
    },
    {
     "name": "stderr",
     "output_type": "stream",
     "text": [
      "512it [00:00, 606.05it/s, NLL=0.402, epoch=77]"
     ]
    },
    {
     "name": "stdout",
     "output_type": "stream",
     "text": [
      "Train Phase:  Iteration 2/21\r",
      "Train Phase:  Iteration 3/21\r",
      "Train Phase:  Iteration 4/21\r",
      "Train Phase:  Iteration 5/21\r",
      "Train Phase:  Iteration 6/21\r",
      "Train Phase:  Iteration 7/21\r",
      "Train Phase:  Iteration 8/21\r"
     ]
    },
    {
     "name": "stderr",
     "output_type": "stream",
     "text": [
      "768it [00:00, 809.56it/s, NLL=0.476, epoch=77]"
     ]
    },
    {
     "name": "stdout",
     "output_type": "stream",
     "text": [
      "Train Phase:  Iteration 9/21\r",
      "Train Phase:  Iteration 10/21\r",
      "Train Phase:  Iteration 11/21\r",
      "Train Phase:  Iteration 12/21\r"
     ]
    },
    {
     "name": "stderr",
     "output_type": "stream",
     "text": [
      "1318it [00:00, 1071.32it/s, NLL=0.321, epoch=77]"
     ]
    },
    {
     "name": "stdout",
     "output_type": "stream",
     "text": [
      "Train Loss: 0.3522ation 21/21\n",
      "Train AUC: 0.8827\n"
     ]
    },
    {
     "name": "stderr",
     "output_type": "stream",
     "text": [
      "1318it [00:00, 2131.12it/s, NLL=0.321, epoch=77]\n",
      "  0%|          | 0/21 [00:00<?, ?it/s]"
     ]
    },
    {
     "name": "stdout",
     "output_type": "stream",
     "text": [
      "Val Loss: 1.2282\n",
      "Val AUC: 0.5118\n",
      "Epoch 78\n"
     ]
    },
    {
     "name": "stderr",
     "output_type": "stream",
     "text": [
      "128it [00:00, 484.10it/s, NLL=0.313, epoch=78]"
     ]
    },
    {
     "name": "stdout",
     "output_type": "stream",
     "text": [
      "Train Phase:  Iteration 2/21\r",
      "Train Phase:  Iteration 3/21\r"
     ]
    },
    {
     "name": "stderr",
     "output_type": "stream",
     "text": [
      "1024it [00:00, 886.31it/s, NLL=0.41, epoch=78] "
     ]
    },
    {
     "name": "stdout",
     "output_type": "stream",
     "text": [
      "Train Phase:  Iteration 4/21\r",
      "Train Phase:  Iteration 5/21\r",
      "Train Phase:  Iteration 6/21\r",
      "Train Phase:  Iteration 7/21\r",
      "Train Phase:  Iteration 8/21\r",
      "Train Phase:  Iteration 9/21\r",
      "Train Phase:  Iteration 10/21\r",
      "Train Phase:  Iteration 11/21\r",
      "Train Phase:  Iteration 12/21\r",
      "Train Phase:  Iteration 13/21\r",
      "Train Phase:  Iteration 14/21\r",
      "Train Phase:  Iteration 15/21\r",
      "Train Phase:  Iteration 16/21\r"
     ]
    },
    {
     "name": "stderr",
     "output_type": "stream",
     "text": [
      "1318it [00:00, 886.31it/s, NLL=0.19, epoch=78] "
     ]
    },
    {
     "name": "stdout",
     "output_type": "stream",
     "text": [
      "Train Loss: 0.3523ation 21/21\n",
      "Train AUC: 0.8827\n"
     ]
    },
    {
     "name": "stderr",
     "output_type": "stream",
     "text": [
      "1318it [00:00, 2090.66it/s, NLL=0.19, epoch=78]\n",
      "  0%|          | 0/21 [00:00<?, ?it/s]"
     ]
    },
    {
     "name": "stdout",
     "output_type": "stream",
     "text": [
      "Val Loss: 1.2285\n",
      "Val AUC: 0.5122\n",
      "Epoch 79\n"
     ]
    },
    {
     "name": "stderr",
     "output_type": "stream",
     "text": [
      "448it [00:00, 543.86it/s, NLL=0.38, epoch=79] "
     ]
    },
    {
     "name": "stdout",
     "output_type": "stream",
     "text": [
      "Train Phase:  Iteration 2/21\r",
      "Train Phase:  Iteration 3/21\r",
      "Train Phase:  Iteration 4/21\r",
      "Train Phase:  Iteration 5/21\r",
      "Train Phase:  Iteration 6/21\r",
      "Train Phase:  Iteration 7/21\r",
      "Train Phase:  Iteration 8/21\r"
     ]
    },
    {
     "name": "stderr",
     "output_type": "stream",
     "text": [
      "768it [00:00, 735.13it/s, NLL=0.286, epoch=79]"
     ]
    },
    {
     "name": "stdout",
     "output_type": "stream",
     "text": [
      "Train Phase:  Iteration 9/21\r",
      "Train Phase:  Iteration 10/21\r",
      "Train Phase:  Iteration 11/21\r",
      "Train Phase:  Iteration 12/21\r"
     ]
    },
    {
     "name": "stderr",
     "output_type": "stream",
     "text": [
      "1318it [00:00, 967.24it/s, NLL=0.368, epoch=79]"
     ]
    },
    {
     "name": "stdout",
     "output_type": "stream",
     "text": [
      "Train Loss: 0.3528ation 21/21\n",
      "Train AUC: 0.8827\n"
     ]
    },
    {
     "name": "stderr",
     "output_type": "stream",
     "text": [
      "1318it [00:00, 2053.49it/s, NLL=0.368, epoch=79]\n",
      "  0%|          | 0/21 [00:00<?, ?it/s]"
     ]
    },
    {
     "name": "stdout",
     "output_type": "stream",
     "text": [
      "Val Loss: 1.2302\n",
      "Val AUC: 0.5110\n",
      "Epoch 80\n"
     ]
    },
    {
     "name": "stderr",
     "output_type": "stream",
     "text": [
      "256it [00:00, 484.67it/s, NLL=0.232, epoch=80]"
     ]
    },
    {
     "name": "stdout",
     "output_type": "stream",
     "text": [
      "Train Phase:  Iteration 2/21\r",
      "Train Phase:  Iteration 3/21\r",
      "Train Phase:  Iteration 4/21\r"
     ]
    },
    {
     "name": "stderr",
     "output_type": "stream",
     "text": [
      "960it [00:00, 661.64it/s, NLL=0.39, epoch=80] "
     ]
    },
    {
     "name": "stdout",
     "output_type": "stream",
     "text": [
      "Train Phase:  Iteration 5/21\r",
      "Train Phase:  Iteration 6/21\r",
      "Train Phase:  Iteration 7/21\r",
      "Train Phase:  Iteration 8/21\r",
      "Train Phase:  Iteration 9/21\r",
      "Train Phase:  Iteration 10/21\r",
      "Train Phase:  Iteration 11/21\r",
      "Train Phase:  Iteration 12/21\r",
      "Train Phase:  Iteration 13/21\r",
      "Train Phase:  Iteration 14/21\r",
      "Train Phase:  Iteration 15/21\r",
      "Train Phase:  Iteration 16/21\r"
     ]
    },
    {
     "name": "stderr",
     "output_type": "stream",
     "text": [
      "1318it [00:00, 892.11it/s, NLL=0.377, epoch=80]"
     ]
    },
    {
     "name": "stdout",
     "output_type": "stream",
     "text": [
      "Train Loss: 0.3519ation 21/21\n",
      "Train AUC: 0.8827\n"
     ]
    },
    {
     "name": "stderr",
     "output_type": "stream",
     "text": [
      "1318it [00:00, 2158.30it/s, NLL=0.377, epoch=80]\n",
      "  0%|          | 0/21 [00:00<?, ?it/s]"
     ]
    },
    {
     "name": "stdout",
     "output_type": "stream",
     "text": [
      "Val Loss: 1.2272\n",
      "Val AUC: 0.5108\n",
      "Epoch 81\n"
     ]
    },
    {
     "name": "stderr",
     "output_type": "stream",
     "text": [
      "512it [00:00, 601.88it/s, NLL=0.212, epoch=81]"
     ]
    },
    {
     "name": "stdout",
     "output_type": "stream",
     "text": [
      "Train Phase:  Iteration 2/21\r",
      "Train Phase:  Iteration 3/21\r",
      "Train Phase:  Iteration 4/21\r",
      "Train Phase:  Iteration 5/21\r",
      "Train Phase:  Iteration 6/21\r",
      "Train Phase:  Iteration 7/21\r",
      "Train Phase:  Iteration 8/21\r"
     ]
    },
    {
     "name": "stderr",
     "output_type": "stream",
     "text": [
      "832it [00:00, 804.46it/s, NLL=0.303, epoch=81]"
     ]
    },
    {
     "name": "stdout",
     "output_type": "stream",
     "text": [
      "Train Phase:  Iteration 9/21\r",
      "Train Phase:  Iteration 10/21\r",
      "Train Phase:  Iteration 11/21\r",
      "Train Phase:  Iteration 12/21\r",
      "Train Phase:  Iteration 13/21\r",
      "Train Phase:  Iteration 14/21\r"
     ]
    },
    {
     "name": "stderr",
     "output_type": "stream",
     "text": [
      "1318it [00:00, 1053.86it/s, NLL=0.345, epoch=81]"
     ]
    },
    {
     "name": "stdout",
     "output_type": "stream",
     "text": [
      "Train Loss: 0.3521ation 21/21\n",
      "Train AUC: 0.8827\n"
     ]
    },
    {
     "name": "stderr",
     "output_type": "stream",
     "text": [
      "1318it [00:00, 2185.62it/s, NLL=0.345, epoch=81]\n",
      "  0%|          | 0/21 [00:00<?, ?it/s]"
     ]
    },
    {
     "name": "stdout",
     "output_type": "stream",
     "text": [
      "Val Loss: 1.2278\n",
      "Val AUC: 0.5097\n",
      "Epoch 82\n"
     ]
    },
    {
     "name": "stderr",
     "output_type": "stream",
     "text": [
      "512it [00:00, 2379.22it/s, NLL=0.317, epoch=82]"
     ]
    },
    {
     "name": "stdout",
     "output_type": "stream",
     "text": [
      "Train Phase:  Iteration 2/21\r",
      "Train Phase:  Iteration 3/21\r",
      "Train Phase:  Iteration 4/21\r",
      "Train Phase:  Iteration 5/21\r",
      "Train Phase:  Iteration 6/21\r",
      "Train Phase:  Iteration 7/21\r",
      "Train Phase:  Iteration 8/21\r"
     ]
    },
    {
     "name": "stderr",
     "output_type": "stream",
     "text": [
      "768it [00:00, 2487.33it/s, NLL=0.317, epoch=82]"
     ]
    },
    {
     "name": "stdout",
     "output_type": "stream",
     "text": [
      "Train Phase:  Iteration 9/21\r",
      "Train Phase:  Iteration 10/21\r",
      "Train Phase:  Iteration 11/21\r",
      "Train Phase:  Iteration 12/21\r"
     ]
    },
    {
     "name": "stderr",
     "output_type": "stream",
     "text": [
      "1024it [00:00, 2728.45it/s, NLL=0.387, epoch=82]"
     ]
    },
    {
     "name": "stdout",
     "output_type": "stream",
     "text": [
      "Train Phase:  Iteration 13/21\r",
      "Train Phase:  Iteration 14/21\r",
      "Train Phase:  Iteration 15/21\r",
      "Train Phase:  Iteration 16/21\r",
      "Train Phase:  Iteration 17/21\r"
     ]
    },
    {
     "name": "stderr",
     "output_type": "stream",
     "text": [
      "1280it [00:00, 2265.83it/s, NLL=0.316, epoch=82]"
     ]
    },
    {
     "name": "stdout",
     "output_type": "stream",
     "text": [
      "Train Phase:  Iteration 18/21\r",
      "Train Phase:  Iteration 19/21\r",
      "Train Phase:  Iteration 20/21\r"
     ]
    },
    {
     "name": "stderr",
     "output_type": "stream",
     "text": [
      "\r",
      "1318it [00:00, 2265.83it/s, NLL=0.331, epoch=82]"
     ]
    },
    {
     "name": "stdout",
     "output_type": "stream",
     "text": [
      "Train Phase:  Iteration 21/21\r",
      "Train Loss: 0.3523\n",
      "Train AUC: 0.8827\n"
     ]
    },
    {
     "name": "stderr",
     "output_type": "stream",
     "text": [
      "1318it [00:00, 1729.45it/s, NLL=0.331, epoch=82]\n",
      "  0%|          | 0/21 [00:00<?, ?it/s]"
     ]
    },
    {
     "name": "stdout",
     "output_type": "stream",
     "text": [
      "Val Loss: 1.2285\n",
      "Val AUC: 0.5112\n",
      "Epoch 83\n"
     ]
    },
    {
     "name": "stderr",
     "output_type": "stream",
     "text": [
      "512it [00:00, 1872.46it/s, NLL=0.4, epoch=83]  "
     ]
    },
    {
     "name": "stdout",
     "output_type": "stream",
     "text": [
      "Train Phase:  Iteration 2/21\r",
      "Train Phase:  Iteration 3/21\r",
      "Train Phase:  Iteration 4/21\r",
      "Train Phase:  Iteration 5/21\r",
      "Train Phase:  Iteration 6/21\r",
      "Train Phase:  Iteration 7/21\r",
      "Train Phase:  Iteration 8/21\r"
     ]
    },
    {
     "name": "stderr",
     "output_type": "stream",
     "text": [
      "832it [00:00, 2113.58it/s, NLL=0.368, epoch=83]"
     ]
    },
    {
     "name": "stdout",
     "output_type": "stream",
     "text": [
      "Train Phase:  Iteration 9/21\r",
      "Train Phase:  Iteration 10/21\r",
      "Train Phase:  Iteration 11/21\r",
      "Train Phase:  Iteration 12/21\r",
      "Train Phase:  Iteration 13/21\r",
      "Train Phase:  Iteration 14/21\r"
     ]
    },
    {
     "name": "stderr",
     "output_type": "stream",
     "text": [
      "1318it [00:00, 2450.97it/s, NLL=0.314, epoch=83]"
     ]
    },
    {
     "name": "stdout",
     "output_type": "stream",
     "text": [
      "Train Loss: 0.3518ation 21/21\n",
      "Train AUC: 0.8827\n"
     ]
    },
    {
     "name": "stderr",
     "output_type": "stream",
     "text": [
      "1318it [00:00, 2218.61it/s, NLL=0.314, epoch=83]\n",
      "  0%|          | 0/21 [00:00<?, ?it/s]"
     ]
    },
    {
     "name": "stdout",
     "output_type": "stream",
     "text": [
      "Val Loss: 1.2268\n",
      "Val AUC: 0.5108\n",
      "Epoch 84\n"
     ]
    },
    {
     "name": "stderr",
     "output_type": "stream",
     "text": [
      "512it [00:00, 592.47it/s, NLL=0.228, epoch=84]"
     ]
    },
    {
     "name": "stdout",
     "output_type": "stream",
     "text": [
      "Train Phase:  Iteration 2/21\r",
      "Train Phase:  Iteration 3/21\r",
      "Train Phase:  Iteration 4/21\r",
      "Train Phase:  Iteration 5/21\r",
      "Train Phase:  Iteration 6/21\r",
      "Train Phase:  Iteration 7/21\r",
      "Train Phase:  Iteration 8/21\r"
     ]
    },
    {
     "name": "stderr",
     "output_type": "stream",
     "text": [
      "1024it [00:00, 791.60it/s, NLL=0.328, epoch=84]"
     ]
    },
    {
     "name": "stdout",
     "output_type": "stream",
     "text": [
      "Train Phase:  Iteration 9/21\r",
      "Train Phase:  Iteration 10/21\r",
      "Train Phase:  Iteration 11/21\r",
      "Train Phase:  Iteration 12/21\r",
      "Train Phase:  Iteration 13/21\r",
      "Train Phase:  Iteration 14/21\r",
      "Train Phase:  Iteration 15/21\r",
      "Train Phase:  Iteration 16/21\r"
     ]
    },
    {
     "name": "stderr",
     "output_type": "stream",
     "text": [
      "1318it [00:00, 1038.06it/s, NLL=0.194, epoch=84]"
     ]
    },
    {
     "name": "stdout",
     "output_type": "stream",
     "text": [
      "Train Loss: 0.3524ation 21/21\n",
      "Train AUC: 0.8827\n"
     ]
    },
    {
     "name": "stderr",
     "output_type": "stream",
     "text": [
      "1318it [00:00, 2149.82it/s, NLL=0.194, epoch=84]\n",
      "  0%|          | 0/21 [00:00<?, ?it/s]"
     ]
    },
    {
     "name": "stdout",
     "output_type": "stream",
     "text": [
      "Val Loss: 1.2286\n",
      "Val AUC: 0.5110\n",
      "Epoch 85\n"
     ]
    },
    {
     "name": "stderr",
     "output_type": "stream",
     "text": [
      "512it [00:00, 623.57it/s, NLL=0.384, epoch=85]"
     ]
    },
    {
     "name": "stdout",
     "output_type": "stream",
     "text": [
      "Train Phase:  Iteration 2/21\r",
      "Train Phase:  Iteration 3/21\r",
      "Train Phase:  Iteration 4/21\r",
      "Train Phase:  Iteration 5/21\r",
      "Train Phase:  Iteration 6/21\r",
      "Train Phase:  Iteration 7/21\r",
      "Train Phase:  Iteration 8/21\r"
     ]
    },
    {
     "name": "stderr",
     "output_type": "stream",
     "text": [
      "896it [00:00, 831.70it/s, NLL=0.263, epoch=85]"
     ]
    },
    {
     "name": "stdout",
     "output_type": "stream",
     "text": [
      "Train Phase:  Iteration 9/21\r",
      "Train Phase:  Iteration 10/21\r",
      "Train Phase:  Iteration 11/21\r",
      "Train Phase:  Iteration 12/21\r",
      "Train Phase:  Iteration 13/21\r",
      "Train Phase:  Iteration 14/21\r"
     ]
    },
    {
     "name": "stderr",
     "output_type": "stream",
     "text": [
      "1318it [00:00, 1099.44it/s, NLL=0.291, epoch=85]"
     ]
    },
    {
     "name": "stdout",
     "output_type": "stream",
     "text": [
      "Train Loss: 0.3524ation 21/21\n",
      "Train AUC: 0.8827\n"
     ]
    },
    {
     "name": "stderr",
     "output_type": "stream",
     "text": [
      "1318it [00:00, 2120.68it/s, NLL=0.291, epoch=85]\n",
      "  0%|          | 0/21 [00:00<?, ?it/s]"
     ]
    },
    {
     "name": "stdout",
     "output_type": "stream",
     "text": [
      "Val Loss: 1.2287\n",
      "Val AUC: 0.5108\n",
      "Epoch 86\n"
     ]
    },
    {
     "name": "stderr",
     "output_type": "stream",
     "text": [
      "512it [00:00, 613.11it/s, NLL=0.342, epoch=86]"
     ]
    },
    {
     "name": "stdout",
     "output_type": "stream",
     "text": [
      "Train Phase:  Iteration 2/21\r",
      "Train Phase:  Iteration 3/21\r",
      "Train Phase:  Iteration 4/21\r",
      "Train Phase:  Iteration 5/21\r",
      "Train Phase:  Iteration 6/21\r",
      "Train Phase:  Iteration 7/21\r",
      "Train Phase:  Iteration 8/21\r"
     ]
    },
    {
     "name": "stderr",
     "output_type": "stream",
     "text": [
      "832it [00:00, 819.49it/s, NLL=0.443, epoch=86]"
     ]
    },
    {
     "name": "stdout",
     "output_type": "stream",
     "text": [
      "Train Phase:  Iteration 9/21\r",
      "Train Phase:  Iteration 10/21\r",
      "Train Phase:  Iteration 11/21\r",
      "Train Phase:  Iteration 12/21\r",
      "Train Phase:  Iteration 13/21\r"
     ]
    },
    {
     "name": "stderr",
     "output_type": "stream",
     "text": [
      "1318it [00:00, 1072.43it/s, NLL=0.309, epoch=86]"
     ]
    },
    {
     "name": "stdout",
     "output_type": "stream",
     "text": [
      "Train Loss: 0.3530ation 21/21\n",
      "Train AUC: 0.8827\n"
     ]
    },
    {
     "name": "stderr",
     "output_type": "stream",
     "text": [
      "1318it [00:00, 2186.83it/s, NLL=0.309, epoch=86]\n",
      "  0%|          | 0/21 [00:00<?, ?it/s]"
     ]
    },
    {
     "name": "stdout",
     "output_type": "stream",
     "text": [
      "Val Loss: 1.2310\n",
      "Val AUC: 0.5103\n",
      "Epoch 87\n"
     ]
    },
    {
     "name": "stderr",
     "output_type": "stream",
     "text": [
      "512it [00:00, 492.78it/s, NLL=0.326, epoch=87]"
     ]
    },
    {
     "name": "stdout",
     "output_type": "stream",
     "text": [
      "Train Phase:  Iteration 2/21\r",
      "Train Phase:  Iteration 3/21\r",
      "Train Phase:  Iteration 4/21\r",
      "Train Phase:  Iteration 5/21\r",
      "Train Phase:  Iteration 6/21\r",
      "Train Phase:  Iteration 7/21\r",
      "Train Phase:  Iteration 8/21\r"
     ]
    },
    {
     "name": "stderr",
     "output_type": "stream",
     "text": [
      "960it [00:00, 676.29it/s, NLL=0.416, epoch=87]"
     ]
    },
    {
     "name": "stdout",
     "output_type": "stream",
     "text": [
      "Train Phase:  Iteration 9/21\r",
      "Train Phase:  Iteration 10/21\r",
      "Train Phase:  Iteration 11/21\r",
      "Train Phase:  Iteration 12/21\r",
      "Train Phase:  Iteration 13/21\r",
      "Train Phase:  Iteration 14/21\r",
      "Train Phase:  Iteration 15/21\r"
     ]
    },
    {
     "name": "stderr",
     "output_type": "stream",
     "text": [
      "1216it [00:00, 866.69it/s, NLL=0.363, epoch=87]"
     ]
    },
    {
     "name": "stdout",
     "output_type": "stream",
     "text": [
      "Train Phase:  Iteration 16/21\r",
      "Train Phase:  Iteration 17/21\r",
      "Train Phase:  Iteration 18/21\r",
      "Train Phase:  Iteration 19/21\r"
     ]
    },
    {
     "name": "stderr",
     "output_type": "stream",
     "text": [
      "1318it [00:00, 866.69it/s, NLL=0.4, epoch=87]  "
     ]
    },
    {
     "name": "stdout",
     "output_type": "stream",
     "text": [
      "Train Phase:  Iteration 20/21\r",
      "Train Phase:  Iteration 21/21\r",
      "Train Loss: 0.3522\n",
      "Train AUC: 0.8827\n"
     ]
    },
    {
     "name": "stderr",
     "output_type": "stream",
     "text": [
      "1318it [00:00, 2019.17it/s, NLL=0.4, epoch=87]\n",
      "  0%|          | 0/21 [00:00<?, ?it/s]"
     ]
    },
    {
     "name": "stdout",
     "output_type": "stream",
     "text": [
      "Val Loss: 1.2281\n",
      "Val AUC: 0.5117\n",
      "Epoch 88\n"
     ]
    },
    {
     "name": "stderr",
     "output_type": "stream",
     "text": [
      "512it [00:00, 1222.44it/s, NLL=0.358, epoch=88]"
     ]
    },
    {
     "name": "stdout",
     "output_type": "stream",
     "text": [
      "Train Phase:  Iteration 2/21\r",
      "Train Phase:  Iteration 3/21\r",
      "Train Phase:  Iteration 4/21\r",
      "Train Phase:  Iteration 5/21\r",
      "Train Phase:  Iteration 6/21\r",
      "Train Phase:  Iteration 7/21\r",
      "Train Phase:  Iteration 8/21\r"
     ]
    },
    {
     "name": "stderr",
     "output_type": "stream",
     "text": [
      "832it [00:00, 1531.46it/s, NLL=0.372, epoch=88]"
     ]
    },
    {
     "name": "stdout",
     "output_type": "stream",
     "text": [
      "Train Phase:  Iteration 9/21\r",
      "Train Phase:  Iteration 10/21\r",
      "Train Phase:  Iteration 11/21\r",
      "Train Phase:  Iteration 12/21\r",
      "Train Phase:  Iteration 13/21\r"
     ]
    },
    {
     "name": "stderr",
     "output_type": "stream",
     "text": [
      "1318it [00:00, 1847.87it/s, NLL=0.355, epoch=88]"
     ]
    },
    {
     "name": "stdout",
     "output_type": "stream",
     "text": [
      "Train Loss: 0.3516ation 21/21\n",
      "Train AUC: 0.8827\n"
     ]
    },
    {
     "name": "stderr",
     "output_type": "stream",
     "text": [
      "1318it [00:00, 2156.93it/s, NLL=0.355, epoch=88]\n",
      "  0%|          | 0/21 [00:00<?, ?it/s]"
     ]
    },
    {
     "name": "stdout",
     "output_type": "stream",
     "text": [
      "Val Loss: 1.2259\n",
      "Val AUC: 0.5110\n",
      "Epoch 89\n"
     ]
    },
    {
     "name": "stderr",
     "output_type": "stream",
     "text": [
      "512it [00:00, 635.85it/s, NLL=0.243, epoch=89]"
     ]
    },
    {
     "name": "stdout",
     "output_type": "stream",
     "text": [
      "Train Phase:  Iteration 2/21\r",
      "Train Phase:  Iteration 3/21\r",
      "Train Phase:  Iteration 4/21\r",
      "Train Phase:  Iteration 5/21\r",
      "Train Phase:  Iteration 6/21\r",
      "Train Phase:  Iteration 7/21\r",
      "Train Phase:  Iteration 8/21\r"
     ]
    },
    {
     "name": "stderr",
     "output_type": "stream",
     "text": [
      "768it [00:00, 843.99it/s, NLL=0.471, epoch=89]"
     ]
    },
    {
     "name": "stdout",
     "output_type": "stream",
     "text": [
      "Train Phase:  Iteration 9/21\r",
      "Train Phase:  Iteration 10/21\r",
      "Train Phase:  Iteration 11/21\r",
      "Train Phase:  Iteration 12/21\r"
     ]
    },
    {
     "name": "stderr",
     "output_type": "stream",
     "text": [
      "1318it [00:00, 1101.76it/s, NLL=0.405, epoch=89]"
     ]
    },
    {
     "name": "stdout",
     "output_type": "stream",
     "text": [
      "Train Loss: 0.3517ation 21/21\n",
      "Train AUC: 0.8827\n"
     ]
    },
    {
     "name": "stderr",
     "output_type": "stream",
     "text": [
      "1318it [00:00, 2092.75it/s, NLL=0.405, epoch=89]\n",
      "  0%|          | 0/21 [00:00<?, ?it/s]"
     ]
    },
    {
     "name": "stdout",
     "output_type": "stream",
     "text": [
      "Val Loss: 1.2262\n",
      "Val AUC: 0.5113\n",
      "Epoch 90\n"
     ]
    },
    {
     "name": "stderr",
     "output_type": "stream",
     "text": [
      "512it [00:00, 492.53it/s, NLL=0.383, epoch=90]"
     ]
    },
    {
     "name": "stdout",
     "output_type": "stream",
     "text": [
      "Train Phase:  Iteration 2/21\r",
      "Train Phase:  Iteration 3/21\r",
      "Train Phase:  Iteration 4/21\r",
      "Train Phase:  Iteration 5/21\r",
      "Train Phase:  Iteration 6/21\r",
      "Train Phase:  Iteration 7/21\r",
      "Train Phase:  Iteration 8/21\r"
     ]
    },
    {
     "name": "stderr",
     "output_type": "stream",
     "text": [
      "1024it [00:00, 906.07it/s, NLL=0.341, epoch=90]"
     ]
    },
    {
     "name": "stdout",
     "output_type": "stream",
     "text": [
      "Train Phase:  Iteration 9/21\r",
      "Train Phase:  Iteration 10/21\r",
      "Train Phase:  Iteration 11/21\r",
      "Train Phase:  Iteration 12/21\r",
      "Train Phase:  Iteration 13/21\r",
      "Train Phase:  Iteration 14/21\r",
      "Train Phase:  Iteration 15/21\r",
      "Train Phase:  Iteration 16/21\r"
     ]
    },
    {
     "name": "stderr",
     "output_type": "stream",
     "text": [
      "1318it [00:00, 906.07it/s, NLL=0.411, epoch=90]"
     ]
    },
    {
     "name": "stdout",
     "output_type": "stream",
     "text": [
      "Train Loss: 0.3516ation 21/21\n",
      "Train AUC: 0.8827\n"
     ]
    },
    {
     "name": "stderr",
     "output_type": "stream",
     "text": [
      "1318it [00:00, 2153.42it/s, NLL=0.411, epoch=90]\n",
      "  0%|          | 0/21 [00:00<?, ?it/s]"
     ]
    },
    {
     "name": "stdout",
     "output_type": "stream",
     "text": [
      "Val Loss: 1.2258\n",
      "Val AUC: 0.5104\n",
      "Epoch 91\n"
     ]
    },
    {
     "name": "stderr",
     "output_type": "stream",
     "text": [
      "512it [00:00, 1787.42it/s, NLL=0.259, epoch=91]"
     ]
    },
    {
     "name": "stdout",
     "output_type": "stream",
     "text": [
      "Train Phase:  Iteration 2/21\r",
      "Train Phase:  Iteration 3/21\r",
      "Train Phase:  Iteration 4/21\r",
      "Train Phase:  Iteration 5/21\r",
      "Train Phase:  Iteration 6/21\r",
      "Train Phase:  Iteration 7/21\r",
      "Train Phase:  Iteration 8/21\r"
     ]
    },
    {
     "name": "stderr",
     "output_type": "stream",
     "text": [
      "768it [00:00, 2049.81it/s, NLL=0.391, epoch=91]"
     ]
    },
    {
     "name": "stdout",
     "output_type": "stream",
     "text": [
      "Train Phase:  Iteration 9/21\r",
      "Train Phase:  Iteration 10/21\r",
      "Train Phase:  Iteration 11/21\r",
      "Train Phase:  Iteration 12/21\r"
     ]
    },
    {
     "name": "stderr",
     "output_type": "stream",
     "text": [
      "1318it [00:00, 2395.18it/s, NLL=0.244, epoch=91]"
     ]
    },
    {
     "name": "stdout",
     "output_type": "stream",
     "text": [
      "Train Loss: 0.3517ation 21/21\n",
      "Train AUC: 0.8827\n"
     ]
    },
    {
     "name": "stderr",
     "output_type": "stream",
     "text": [
      "1318it [00:00, 2111.72it/s, NLL=0.244, epoch=91]\n",
      "  0%|          | 0/21 [00:00<?, ?it/s]"
     ]
    },
    {
     "name": "stdout",
     "output_type": "stream",
     "text": [
      "Val Loss: 1.2264\n",
      "Val AUC: 0.5101\n",
      "Epoch 92\n"
     ]
    },
    {
     "name": "stderr",
     "output_type": "stream",
     "text": [
      "384it [00:00, 530.67it/s, NLL=0.279, epoch=92]"
     ]
    },
    {
     "name": "stdout",
     "output_type": "stream",
     "text": [
      "Train Phase:  Iteration 2/21\r",
      "Train Phase:  Iteration 3/21\r",
      "Train Phase:  Iteration 4/21\r",
      "Train Phase:  Iteration 5/21\r",
      "Train Phase:  Iteration 6/21\r",
      "Train Phase:  Iteration 7/21"
     ]
    },
    {
     "name": "stderr",
     "output_type": "stream",
     "text": [
      "832it [00:00, 715.51it/s, NLL=0.344, epoch=92]"
     ]
    },
    {
     "name": "stdout",
     "output_type": "stream",
     "text": [
      "\r",
      "Train Phase:  Iteration 8/21\r",
      "Train Phase:  Iteration 9/21\r",
      "Train Phase:  Iteration 10/21\r",
      "Train Phase:  Iteration 11/21\r",
      "Train Phase:  Iteration 12/21\r",
      "Train Phase:  Iteration 13/21\r"
     ]
    },
    {
     "name": "stderr",
     "output_type": "stream",
     "text": [
      "1024it [00:00, 922.57it/s, NLL=0.33, epoch=92]"
     ]
    },
    {
     "name": "stdout",
     "output_type": "stream",
     "text": [
      "Train Phase:  Iteration 14/21\r",
      "Train Phase:  Iteration 15/21\r",
      "Train Phase:  Iteration 16/21\r"
     ]
    },
    {
     "name": "stderr",
     "output_type": "stream",
     "text": [
      "1318it [00:00, 922.57it/s, NLL=0.372, epoch=92]"
     ]
    },
    {
     "name": "stdout",
     "output_type": "stream",
     "text": [
      "Train Loss: 0.3517ation 21/21\n",
      "Train AUC: 0.8827\n"
     ]
    },
    {
     "name": "stderr",
     "output_type": "stream",
     "text": [
      "1318it [00:00, 1900.12it/s, NLL=0.372, epoch=92]\n",
      "  0%|          | 0/21 [00:00<?, ?it/s]"
     ]
    },
    {
     "name": "stdout",
     "output_type": "stream",
     "text": [
      "Val Loss: 1.2263\n",
      "Val AUC: 0.5110\n",
      "Epoch 93\n"
     ]
    },
    {
     "name": "stderr",
     "output_type": "stream",
     "text": [
      "320it [00:00, 1071.69it/s, NLL=0.401, epoch=93]"
     ]
    },
    {
     "name": "stdout",
     "output_type": "stream",
     "text": [
      "Train Phase:  Iteration 2/21\r",
      "Train Phase:  Iteration 3/21\r",
      "Train Phase:  Iteration 4/21\r",
      "Train Phase:  Iteration 5/21\r"
     ]
    },
    {
     "name": "stderr",
     "output_type": "stream",
     "text": [
      "896it [00:00, 1347.29it/s, NLL=0.344, epoch=93]"
     ]
    },
    {
     "name": "stdout",
     "output_type": "stream",
     "text": [
      "Train Phase:  Iteration 6/21\r",
      "Train Phase:  Iteration 7/21\r",
      "Train Phase:  Iteration 8/21\r",
      "Train Phase:  Iteration 9/21\r",
      "Train Phase:  Iteration 10/21\r",
      "Train Phase:  Iteration 11/21\r",
      "Train Phase:  Iteration 12/21\r",
      "Train Phase:  Iteration 13/21\r",
      "Train Phase:  Iteration 14/21\r",
      "Train Phase:  Iteration 15/21\r"
     ]
    },
    {
     "name": "stderr",
     "output_type": "stream",
     "text": [
      "1280it [00:00, 1692.17it/s, NLL=0.387, epoch=93]"
     ]
    },
    {
     "name": "stdout",
     "output_type": "stream",
     "text": [
      "Train Phase:  Iteration 16/21\r",
      "Train Phase:  Iteration 17/21\r",
      "Train Phase:  Iteration 18/21\r",
      "Train Phase:  Iteration 19/21\r",
      "Train Phase:  Iteration 20/21\r"
     ]
    },
    {
     "name": "stderr",
     "output_type": "stream",
     "text": [
      "\r",
      "1318it [00:00, 1692.17it/s, NLL=0.344, epoch=93]"
     ]
    },
    {
     "name": "stdout",
     "output_type": "stream",
     "text": [
      "Train Loss: 0.3515ation 21/21\n",
      "Train AUC: 0.8827\n",
      "Val Loss: 1.2257\n",
      "Val AUC: 0.5117\n"
     ]
    },
    {
     "name": "stderr",
     "output_type": "stream",
     "text": [
      "1318it [00:00, 2188.18it/s, NLL=0.344, epoch=93]\n",
      "  0%|          | 0/21 [00:00<?, ?it/s]"
     ]
    },
    {
     "name": "stdout",
     "output_type": "stream",
     "text": [
      "Epoch 94\n"
     ]
    },
    {
     "name": "stderr",
     "output_type": "stream",
     "text": [
      "512it [00:00, 1096.34it/s, NLL=0.294, epoch=94]"
     ]
    },
    {
     "name": "stdout",
     "output_type": "stream",
     "text": [
      "Train Phase:  Iteration 2/21\r",
      "Train Phase:  Iteration 3/21\r",
      "Train Phase:  Iteration 4/21\r",
      "Train Phase:  Iteration 5/21\r",
      "Train Phase:  Iteration 6/21\r",
      "Train Phase:  Iteration 7/21\r",
      "Train Phase:  Iteration 8/21\r"
     ]
    },
    {
     "name": "stderr",
     "output_type": "stream",
     "text": [
      "768it [00:00, 1396.95it/s, NLL=0.401, epoch=94]"
     ]
    },
    {
     "name": "stdout",
     "output_type": "stream",
     "text": [
      "Train Phase:  Iteration 9/21\r",
      "Train Phase:  Iteration 10/21\r",
      "Train Phase:  Iteration 11/21\r",
      "Train Phase:  Iteration 12/21\r",
      "Train Phase:  Iteration 13/21\r"
     ]
    },
    {
     "name": "stderr",
     "output_type": "stream",
     "text": [
      "1318it [00:00, 1665.16it/s, NLL=0.385, epoch=94]"
     ]
    },
    {
     "name": "stdout",
     "output_type": "stream",
     "text": [
      "Train Loss: 0.3513ation 21/21\n",
      "Train AUC: 0.8827\n"
     ]
    },
    {
     "name": "stderr",
     "output_type": "stream",
     "text": [
      "1318it [00:00, 2109.90it/s, NLL=0.385, epoch=94]\n",
      "  0%|          | 0/21 [00:00<?, ?it/s]"
     ]
    },
    {
     "name": "stdout",
     "output_type": "stream",
     "text": [
      "Val Loss: 1.2248\n",
      "Val AUC: 0.5103\n",
      "Epoch 95\n"
     ]
    },
    {
     "name": "stderr",
     "output_type": "stream",
     "text": [
      "448it [00:00, 627.51it/s, NLL=0.367, epoch=95]"
     ]
    },
    {
     "name": "stdout",
     "output_type": "stream",
     "text": [
      "Train Phase:  Iteration 2/21\r",
      "Train Phase:  Iteration 3/21\r",
      "Train Phase:  Iteration 4/21\r",
      "Train Phase:  Iteration 5/21\r",
      "Train Phase:  Iteration 6/21\r",
      "Train Phase:  Iteration 7/21\r"
     ]
    },
    {
     "name": "stderr",
     "output_type": "stream",
     "text": [
      "768it [00:00, 835.34it/s, NLL=0.362, epoch=95]"
     ]
    },
    {
     "name": "stdout",
     "output_type": "stream",
     "text": [
      "Train Phase:  Iteration 8/21\r",
      "Train Phase:  Iteration 9/21\r",
      "Train Phase:  Iteration 10/21\r",
      "Train Phase:  Iteration 11/21\r",
      "Train Phase:  Iteration 12/21\r"
     ]
    },
    {
     "name": "stderr",
     "output_type": "stream",
     "text": [
      "1152it [00:00, 1073.24it/s, NLL=0.355, epoch=95]"
     ]
    },
    {
     "name": "stdout",
     "output_type": "stream",
     "text": [
      "Train Phase:  Iteration 13/21\r",
      "Train Phase:  Iteration 14/21\r",
      "Train Phase:  Iteration 15/21\r",
      "Train Phase:  Iteration 16/21\r",
      "Train Phase:  Iteration 17/21\r",
      "Train Phase:  Iteration 18/21\r",
      "Train Phase:  Iteration 19/21\r"
     ]
    },
    {
     "name": "stderr",
     "output_type": "stream",
     "text": [
      "1318it [00:00, 1366.14it/s, NLL=0.246, epoch=95]"
     ]
    },
    {
     "name": "stdout",
     "output_type": "stream",
     "text": [
      "Train Phase:  Iteration 20/21\r",
      "Train Phase:  Iteration 21/21\r",
      "Train Loss: 0.3509\n",
      "Train AUC: 0.8827\n"
     ]
    },
    {
     "name": "stderr",
     "output_type": "stream",
     "text": [
      "1318it [00:00, 2045.79it/s, NLL=0.246, epoch=95]\n",
      "  0%|          | 0/21 [00:00<?, ?it/s]"
     ]
    },
    {
     "name": "stdout",
     "output_type": "stream",
     "text": [
      "Val Loss: 1.2236\n",
      "Val AUC: 0.5108\n",
      "Epoch 96\n"
     ]
    },
    {
     "name": "stderr",
     "output_type": "stream",
     "text": [
      "512it [00:00, 497.54it/s, NLL=0.449, epoch=96]"
     ]
    },
    {
     "name": "stdout",
     "output_type": "stream",
     "text": [
      "Train Phase:  Iteration 2/21\r",
      "Train Phase:  Iteration 3/21\r",
      "Train Phase:  Iteration 4/21\r",
      "Train Phase:  Iteration 5/21\r",
      "Train Phase:  Iteration 6/21\r",
      "Train Phase:  Iteration 7/21\r",
      "Train Phase:  Iteration 8/21\r"
     ]
    },
    {
     "name": "stderr",
     "output_type": "stream",
     "text": [
      "1152it [00:00, 681.01it/s, NLL=0.378, epoch=96]"
     ]
    },
    {
     "name": "stdout",
     "output_type": "stream",
     "text": [
      "Train Phase:  Iteration 9/21\r",
      "Train Phase:  Iteration 10/21\r",
      "Train Phase:  Iteration 11/21\r",
      "Train Phase:  Iteration 12/21\r",
      "Train Phase:  Iteration 13/21\r",
      "Train Phase:  Iteration 14/21\r",
      "Train Phase:  Iteration 15/21\r",
      "Train Phase:  Iteration 16/21\r",
      "Train Phase:  Iteration 17/21\r",
      "Train Phase:  Iteration 18/21\r"
     ]
    },
    {
     "name": "stderr",
     "output_type": "stream",
     "text": [
      "1318it [00:00, 681.01it/s, NLL=0.328, epoch=96]"
     ]
    },
    {
     "name": "stdout",
     "output_type": "stream",
     "text": [
      "Train Loss: 0.3512ation 21/21\n",
      "Train AUC: 0.8827\n"
     ]
    },
    {
     "name": "stderr",
     "output_type": "stream",
     "text": [
      "1318it [00:00, 2299.54it/s, NLL=0.328, epoch=96]\n",
      "  0%|          | 0/21 [00:00<?, ?it/s]"
     ]
    },
    {
     "name": "stdout",
     "output_type": "stream",
     "text": [
      "Val Loss: 1.2246\n",
      "Val AUC: 0.5092\n",
      "Epoch 97\n"
     ]
    },
    {
     "name": "stderr",
     "output_type": "stream",
     "text": [
      "512it [00:00, 624.71it/s, NLL=0.363, epoch=97]"
     ]
    },
    {
     "name": "stdout",
     "output_type": "stream",
     "text": [
      "Train Phase:  Iteration 2/21\r",
      "Train Phase:  Iteration 3/21\r",
      "Train Phase:  Iteration 4/21\r",
      "Train Phase:  Iteration 5/21\r",
      "Train Phase:  Iteration 6/21\r",
      "Train Phase:  Iteration 7/21\r",
      "Train Phase:  Iteration 8/21\r"
     ]
    },
    {
     "name": "stderr",
     "output_type": "stream",
     "text": [
      "1024it [00:00, 832.98it/s, NLL=0.262, epoch=97]"
     ]
    },
    {
     "name": "stdout",
     "output_type": "stream",
     "text": [
      "Train Phase:  Iteration 9/21\r",
      "Train Phase:  Iteration 10/21\r",
      "Train Phase:  Iteration 11/21\r",
      "Train Phase:  Iteration 12/21\r",
      "Train Phase:  Iteration 13/21\r",
      "Train Phase:  Iteration 14/21\r",
      "Train Phase:  Iteration 15/21\r",
      "Train Phase:  Iteration 16/21\r"
     ]
    },
    {
     "name": "stderr",
     "output_type": "stream",
     "text": [
      "1318it [00:00, 1087.43it/s, NLL=0.443, epoch=97]"
     ]
    },
    {
     "name": "stdout",
     "output_type": "stream",
     "text": [
      "Train Loss: 0.3506ation 21/21\n",
      "Train AUC: 0.8827\n"
     ]
    },
    {
     "name": "stderr",
     "output_type": "stream",
     "text": [
      "1318it [00:00, 2163.07it/s, NLL=0.443, epoch=97]\n",
      "  0%|          | 0/21 [00:00<?, ?it/s]"
     ]
    },
    {
     "name": "stdout",
     "output_type": "stream",
     "text": [
      "Val Loss: 1.2225\n",
      "Val AUC: 0.5108\n",
      "Epoch 98\n"
     ]
    },
    {
     "name": "stderr",
     "output_type": "stream",
     "text": [
      "512it [00:00, 1249.38it/s, NLL=0.413, epoch=98]"
     ]
    },
    {
     "name": "stdout",
     "output_type": "stream",
     "text": [
      "Train Phase:  Iteration 2/21\r",
      "Train Phase:  Iteration 3/21\r",
      "Train Phase:  Iteration 4/21\r",
      "Train Phase:  Iteration 5/21\r",
      "Train Phase:  Iteration 6/21\r",
      "Train Phase:  Iteration 7/21\r",
      "Train Phase:  Iteration 8/21\r"
     ]
    },
    {
     "name": "stderr",
     "output_type": "stream",
     "text": [
      "832it [00:00, 1558.61it/s, NLL=0.296, epoch=98]"
     ]
    },
    {
     "name": "stdout",
     "output_type": "stream",
     "text": [
      "Train Phase:  Iteration 9/21\r",
      "Train Phase:  Iteration 10/21\r",
      "Train Phase:  Iteration 11/21\r",
      "Train Phase:  Iteration 12/21\r",
      "Train Phase:  Iteration 13/21\r"
     ]
    },
    {
     "name": "stderr",
     "output_type": "stream",
     "text": [
      "1318it [00:00, 1860.09it/s, NLL=0.369, epoch=98]"
     ]
    },
    {
     "name": "stdout",
     "output_type": "stream",
     "text": [
      "Train Loss: 0.3511ation 21/21\n",
      "Train AUC: 0.8827\n"
     ]
    },
    {
     "name": "stderr",
     "output_type": "stream",
     "text": [
      "1318it [00:00, 2143.49it/s, NLL=0.369, epoch=98]\n",
      "  0%|          | 0/21 [00:00<?, ?it/s]"
     ]
    },
    {
     "name": "stdout",
     "output_type": "stream",
     "text": [
      "Val Loss: 1.2242\n",
      "Val AUC: 0.5103\n",
      "Epoch 99\n"
     ]
    },
    {
     "name": "stderr",
     "output_type": "stream",
     "text": [
      "512it [00:00, 1108.90it/s, NLL=0.341, epoch=99]"
     ]
    },
    {
     "name": "stdout",
     "output_type": "stream",
     "text": [
      "Train Phase:  Iteration 2/21\r",
      "Train Phase:  Iteration 3/21\r",
      "Train Phase:  Iteration 4/21\r",
      "Train Phase:  Iteration 5/21\r",
      "Train Phase:  Iteration 6/21\r",
      "Train Phase:  Iteration 7/21\r",
      "Train Phase:  Iteration 8/21\r"
     ]
    },
    {
     "name": "stderr",
     "output_type": "stream",
     "text": [
      "1024it [00:00, 1394.28it/s, NLL=0.285, epoch=99]"
     ]
    },
    {
     "name": "stdout",
     "output_type": "stream",
     "text": [
      "Train Phase:  Iteration 9/21\r",
      "Train Phase:  Iteration 10/21\r",
      "Train Phase:  Iteration 11/21\r",
      "Train Phase:  Iteration 12/21\r",
      "Train Phase:  Iteration 13/21\r",
      "Train Phase:  Iteration 14/21\r",
      "Train Phase:  Iteration 15/21\r",
      "Train Phase:  Iteration 16/21\r"
     ]
    },
    {
     "name": "stderr",
     "output_type": "stream",
     "text": [
      "1318it [00:00, 1749.33it/s, NLL=0.406, epoch=99]"
     ]
    },
    {
     "name": "stdout",
     "output_type": "stream",
     "text": [
      "Train Loss: 0.3507ation 21/21\n",
      "Train AUC: 0.8827\n"
     ]
    },
    {
     "name": "stderr",
     "output_type": "stream",
     "text": [
      "\r",
      "1318it [00:00, 2211.24it/s, NLL=0.406, epoch=99]"
     ]
    },
    {
     "name": "stdout",
     "output_type": "stream",
     "text": [
      "Val Loss: 1.2229\n",
      "Val AUC: 0.5102\n"
     ]
    },
    {
     "name": "stderr",
     "output_type": "stream",
     "text": [
      "\n"
     ]
    }
   ],
   "source": [
    "optimizer = optim.SGD(model.parameters(), lr=0.01, momentum=0.9)\n",
    "criterion = nn.CrossEntropyLoss()\n",
    "scheduler = torch.optim.lr_scheduler.ReduceLROnPlateau(optimizer, 'min', patience=10)\n",
    "\n",
    "\n",
    "model = mlpnet_model\n",
    "\n",
    "losslisttrain = []\n",
    "losslisttest = []\n",
    "best_val_loss = 100\n",
    "\n",
    "for epoch in range(100):\n",
    "    print('Epoch {}'.format(epoch))\n",
    "    \n",
    "    y_true_list_train = []\n",
    "    y_score_list_train = [] # score of the malignant class - class 2\n",
    "    y_true_list_test = []\n",
    "    y_score_list_test = [] # score of the malignant class - class 2\n",
    "    \n",
    "    best_weights = copy.deepcopy(model.state_dict())\n",
    "    model.train()\n",
    "\n",
    "    cur_loss = 0\n",
    "    with torch.enable_grad(), \\\n",
    "        tqdm(total=len(data_train_loader)) as progress_bar:\n",
    "        for iter_, (x, y_true) in enumerate(data_train_loader):\n",
    "\n",
    "            if iter_ % 100:\n",
    "                print(f'Train Phase:  Iteration {iter_+1}/{len(data_train_loader)}', end=\"\\r\")\n",
    "\n",
    "            # zero out the parameter gradients\n",
    "            optimizer.zero_grad()\n",
    "\n",
    "            with torch.set_grad_enabled(True):\n",
    "                \n",
    "                # Setup for forward\n",
    "                x = x.to(device)\n",
    "                y_true = y_true.to(device)\n",
    "                batch_size = x.size(0)\n",
    "                optimizer.zero_grad()\n",
    "\n",
    "                # Feed forward to get the logits\n",
    "                logit = model(x)\n",
    "                loss = criterion(logit, y_true)\n",
    "                loss_val = loss.item()\n",
    "                cur_loss += loss_val * batch_size\n",
    "                #print('cur_loss', cur_loss)\n",
    "                \n",
    "                # Add y_true and y_pred to list to calculate AUC score\n",
    "                y_true_list_train += y_true.data.tolist()\n",
    "                y_pred = logit.data.numpy().ravel()[2]\n",
    "                y_score_list_train += logit.data.numpy()[:, 2].tolist()\n",
    "\n",
    "            # Backward\n",
    "            loss.backward()\n",
    "            optimizer.step()\n",
    "\n",
    "            progress_bar.update(batch_size)\n",
    "            progress_bar.set_postfix(epoch=epoch,\n",
    "                         NLL=loss_val)\n",
    "            \n",
    "\n",
    "        avg_train_loss = cur_loss / len(data_train)\n",
    "        losslisttrain.append(avg_train_loss)\n",
    "        # get the auc\n",
    "        train_auc =  roc_auc_score(y_true=(np.array(y_true_list)==2), y_score=np.array(y_score_list))\n",
    "\n",
    "\n",
    "        print(f'Train Loss: {avg_train_loss:.4f}')\n",
    "        print(f'Train AUC: {train_auc:.4f}')\n",
    "        \n",
    "        \n",
    "        ######### Evaluation #####\n",
    "        \n",
    "        val_loss = 0\n",
    "        \n",
    "        for iter_, (x, y_true) in enumerate(data_test_loader):\n",
    "            # Setup for forward\n",
    "            x = x.to(device)\n",
    "            y_true = y_true.to(device)\n",
    "            batch_size = x.size(0)\n",
    "\n",
    "            # Feed forward to get the logits\n",
    "            logit = model(x)\n",
    "            loss = criterion(logit, y_true)\n",
    "            loss_val = loss.item()\n",
    "            val_loss += loss_val * batch_size\n",
    "            #print('cur_loss', cur_loss)\n",
    "\n",
    "            # Add y_true and y_pred to list to calculate AUC score\n",
    "            y_true_list_test += y_true.data.tolist()\n",
    "            y_pred = logit.data.numpy().ravel()[2]\n",
    "            y_score_list_test += logit.data.numpy()[:, 2].tolist()\n",
    "            \n",
    "        avg_val_loss = cur_loss / len(data_test)\n",
    "        losslisttest.append(avg_val_loss)\n",
    "        # get the auc\n",
    "        val_auc =  roc_auc_score(y_true=(np.array(y_true_list_test)==2),\n",
    "                                 y_score=np.array(y_score_list_test))\n",
    "\n",
    "\n",
    "        print(f'Val Loss: {avg_val_loss:.4f}')\n",
    "        print(f'Val AUC: {val_auc:.4f}')\n",
    "\n",
    "        \n",
    "        if avg_val_loss < best_val_loss:\n",
    "            best_val_loss = avg_val_loss\n",
    "            best_weights = copy.deepcopy(model.state_dict())\n",
    "\n",
    "#             torch.save({\n",
    "#             'state_dict': EncoderTransformer_model.state_dict()\n",
    "#                 }, f'./chat_EncoderTransformer_model_best_{epoch}.pt')"
   ]
  },
  {
   "cell_type": "code",
   "execution_count": 208,
   "metadata": {
    "scrolled": true
   },
   "outputs": [
    {
     "data": {
      "image/png": "[encoded data removed]",
      "text/plain": [
       "<Figure size 432x288 with 1 Axes>"
      ]
     },
     "metadata": {
      "needs_background": "light"
     },
     "output_type": "display_data"
    }
   ],
   "source": [
    "plt.plot(losslisttrain); plt.show()"
   ]
  },
  {
   "cell_type": "code",
   "execution_count": 217,
   "metadata": {},
   "outputs": [
    {
     "name": "stdout",
     "output_type": "stream",
     "text": [
      "avg train loss is 0.776403496951455\n",
      "AUC train is: 0.7864876889420628\n",
      "avg test loss is 0.7776630283078922\n",
      "AUC test is: 0.8185646552993492\n",
      "avg train loss is 0.5991981001728873\n",
      "AUC train is: 0.866571230322017\n",
      "avg test loss is 0.7162172816104658\n",
      "AUC test is: 0.8013517095149748\n",
      "avg train loss is 0.5701754389219945\n",
      "AUC train is: 0.8771314693278192\n",
      "avg test loss is 0.8705279775899837\n",
      "AUC test is: 0.8321995464852608\n",
      "avg train loss is 0.5539195132282319\n",
      "AUC train is: 0.8753218671406211\n",
      "avg test loss is 0.8051292415811628\n",
      "AUC test is: 0.8079630120446447\n",
      "avg train loss is 0.532216925558927\n",
      "AUC train is: 0.8830743412241209\n",
      "avg test loss is 0.8935109759492686\n",
      "AUC test is: 0.7853019995877137\n",
      "avg train loss is 0.5250603675317184\n",
      "AUC train is: 0.8791347104751762\n",
      "avg test loss is 0.7733848489354538\n",
      "AUC test is: 0.7741555496657537\n",
      "avg train loss is 0.5130061578969705\n",
      "AUC train is: 0.8903657701643857\n",
      "avg test loss is 0.8989206913495543\n",
      "AUC test is: 0.813131313131313\n",
      "avg train loss is 0.531116944657561\n",
      "AUC train is: 0.8677468954372668\n",
      "avg test loss is 0.9773922354806308\n",
      "AUC test is: 0.8186088288129105\n",
      "avg train loss is 0.5204322254554141\n",
      "AUC train is: 0.8497615243996617\n",
      "avg test loss is 0.9318453039616454\n",
      "AUC test is: 0.7808846482315871\n",
      "avg train loss is 0.5049744121700467\n",
      "AUC train is: 0.8691669144784311\n",
      "avg test loss is 0.8950405360719738\n",
      "AUC test is: 0.820405218364402\n"
     ]
    },
    {
     "data": {
      "image/png": "[encoded data removed]",
      "text/plain": [
       "<Figure size 432x288 with 1 Axes>"
      ]
     },
     "metadata": {
      "needs_background": "light"
     },
     "output_type": "display_data"
    },
    {
     "data": {
      "image/png": "[encoded data removed]",
      "text/plain": [
       "<Figure size 432x288 with 1 Axes>"
      ]
     },
     "metadata": {
      "needs_background": "light"
     },
     "output_type": "display_data"
    }
   ],
   "source": [
    "model = MLPNet().double()\n",
    "optimizer = optim.SGD(model.parameters(), lr=0.01, momentum=0.9)\n",
    "criterion = nn.CrossEntropyLoss()\n",
    "from sklearn.metrics import roc_auc_score\n",
    "\n",
    "losslisttrain = []\n",
    "losslisttest = []\n",
    "\n",
    "for epoch in range(100):\n",
    "    avg_loss = 0\n",
    "    ix_shuffle = np.arange(xtrain.shape[0])\n",
    "    np.random.shuffle(ix_shuffle)\n",
    "    ypred =  np.zeros(ytrain.shape)\n",
    "    for ix in ix_shuffle:\n",
    "        optimizer.zero_grad()\n",
    "        x = Variable(torch.from_numpy(xtrain[ix]))\n",
    "        target = Variable(torch.LongTensor(ytrain[ix]))\n",
    "        out = model(x)\n",
    "        ypred[ix] = out.data.numpy().ravel()[2]\n",
    "        loss = criterion(out, target)\n",
    "        avg_loss += loss.data.numpy().ravel()[0]\n",
    "        loss.backward()\n",
    "        optimizer.step()\n",
    "    losslisttrain.append(avg_loss/xtrain.shape[0])\n",
    "    if epoch % 10 == 0:\n",
    "        print('avg train loss is', avg_loss/xtrain.shape[0])\n",
    "        print('AUC train is:', roc_auc_score(y_true=(ytrain==2), y_score=ypred))\n",
    "\n",
    "    ix_shuffle = np.arange(xtest.shape[0])\n",
    "    np.random.shuffle(ix_shuffle)\n",
    "    avg_loss = 0\n",
    "    ypredtest = np.zeros(ytest.shape)\n",
    "    for ix in ix_shuffle:\n",
    "        x = Variable(torch.from_numpy(xtest[ix]))\n",
    "        target = Variable(torch.LongTensor(ytest[ix]))\n",
    "        out = model(x)\n",
    "        ypredtest[ix] = out.data.numpy().ravel()[2]\n",
    "        loss = criterion(out, target)\n",
    "        avg_loss += loss.data.numpy().ravel()[0]\n",
    "    losslisttest.append(avg_loss/xtest.shape[0])\n",
    "    if epoch % 10 == 0:\n",
    "        print('avg test loss is', avg_loss/xtest.shape[0])\n",
    "        print('AUC test is:', roc_auc_score(y_true=(ytest==2), y_score=ypredtest))\n",
    "\n",
    "plt.plot(losslisttrain); plt.show()\n",
    "plt.plot(losslisttest); plt.show()"
   ]
  }
 ],
 "metadata": {
  "kernelspec": {
   "display_name": "Python 3",
   "language": "python",
   "name": "python3"
  },
  "language_info": {
   "codemirror_mode": {
    "name": "ipython",
    "version": 3
   },
   "file_extension": ".py",
   "mimetype": "text/x-python",
   "name": "python",
   "nbconvert_exporter": "python",
   "pygments_lexer": "ipython3",
   "version": "3.7.1"
  }
 },
 "nbformat": 4,
 "nbformat_minor": 2
}
