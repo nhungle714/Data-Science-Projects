{
 "cells": [
  {
   "cell_type": "markdown",
   "metadata": {},
   "source": [
    "# Breast Cancer Classification"
   ]
  },
  {
   "cell_type": "markdown",
   "metadata": {},
   "source": [
    "Now we know how to optimize, let's get some real machine learning done!\t\n",
    "\n",
    "Instead of the small dataset we had in questions 2 and 3, now let's use the the CBIS-DDSM (Curated Breast Imaging Subset of DDSM) dataset from <a href=\"https://wiki.cancerimagingarchive.net/display/Public/CBIS-DDSM#385f2cd4e86f4142b1d32bdb5803bd96\"> here</a>\n",
    "\n",
    "\n",
    "In this homework, we will *only* focus on the following items in the dataset:\t\n",
    "Mass-Training-Description (csv)\t\n",
    "Mass-Test-Description (csv)\t\n",
    "(Don't download the images on your laptop! That file is too big and we deal with it on the cluster later!)\n",
    "\n",
    "This dataset contains several features related to Mammography and detection of breast cancer. \n",
    "\n",
    "The Mass-Training-Description and Mass-Test-Description include these columns:\n",
    "\n",
    "patient_id\t\n",
    "breast_density\t\n",
    "left or right breast\t\n",
    "image view\t\t\n",
    "abnormality id\t\t\n",
    "abnormality type\t\n",
    "mass shape\t\n",
    "mass margins\t\n",
    "assessment\t\n",
    "pathology\n",
    "\n",
    "There is more data in this dataset, including images, but for this homework we will not focus on them.\n",
    "\n",
    "We are interested in this question:\t\n",
    "Using variables:\t\n",
    "\n",
    "breast_density\t\n",
    "left or right breast\t\n",
    "image view\t\t\n",
    "abnormality id\t\t\n",
    "abnormality type\t\n",
    "mass shape\t\n",
    "mass margins\t\n",
    "\n",
    "How well can we predict the **pathology type**?\n",
    "\n",
    "We can answer that by training a model on the Mass-Training-Description, and evaluating it on Mass-Test-Description. \n",
    "See questions 3.1 and 3.2\n",
    "\n"
   ]
  },
  {
   "cell_type": "markdown",
   "metadata": {},
   "source": [
    "### 3.1.\n",
    "Write a script to prepare input [breast_density, left or right breast, image view, abnormality id,\n",
    "abnormality type, mass shape, mass margins] and output [pathology type].\n",
    "\n",
    "The output of your script should be a matrix X and a vector Y, where each row of X are one set of variables for a patient, and each row of Y is the pathology type class, for that patient.\t\n",
    "\n",
    "Use *matplotlib.imshow* to visualize the X.\t\n",
    "(And if there are multiple equivalent rows per patient, keep only one of them - any, up to you)\n"
   ]
  },
  {
   "cell_type": "code",
   "execution_count": 8,
   "metadata": {},
   "outputs": [
    {
     "name": "stdout",
     "output_type": "stream",
     "text": [
      "headers are Index(['breast_density', 'abnormality id', 'left or right breast_LEFT',\n",
      "       'left or right breast_RIGHT', 'image view_CC', 'image view_MLO',\n",
      "       'abnormality type_mass', 'mass shape_ARCHITECTURAL_DISTORTION',\n",
      "       'mass shape_ASYMMETRIC_BREAST_TISSUE',\n",
      "       'mass shape_FOCAL_ASYMMETRIC_DENSITY', 'mass shape_IRREGULAR',\n",
      "       'mass shape_IRREGULAR-ARCHITECTURAL_DISTORTION',\n",
      "       'mass shape_IRREGULAR-ASYMMETRIC_BREAST_TISSUE',\n",
      "       'mass shape_IRREGULAR-FOCAL_ASYMMETRIC_DENSITY', 'mass shape_LOBULATED',\n",
      "       'mass shape_LOBULATED-ARCHITECTURAL_DISTORTION',\n",
      "       'mass shape_LOBULATED-IRREGULAR', 'mass shape_LOBULATED-LYMPH_NODE',\n",
      "       'mass shape_LOBULATED-OVAL', 'mass shape_LYMPH_NODE', 'mass shape_OVAL',\n",
      "       'mass shape_OVAL-LOBULATED', 'mass shape_OVAL-LYMPH_NODE',\n",
      "       'mass shape_ROUND',\n",
      "       'mass shape_ROUND-IRREGULAR-ARCHITECTURAL_DISTORTION',\n",
      "       'mass shape_ROUND-LOBULATED', 'mass shape_ROUND-OVAL',\n",
      "       'mass margins_CIRCUMSCRIBED', 'mass margins_CIRCUMSCRIBED-ILL_DEFINED',\n",
      "       'mass margins_CIRCUMSCRIBED-MICROLOBULATED',\n",
      "       'mass margins_CIRCUMSCRIBED-MICROLOBULATED-ILL_DEFINED',\n",
      "       'mass margins_CIRCUMSCRIBED-OBSCURED',\n",
      "       'mass margins_CIRCUMSCRIBED-OBSCURED-ILL_DEFINED',\n",
      "       'mass margins_CIRCUMSCRIBED-SPICULATED', 'mass margins_ILL_DEFINED',\n",
      "       'mass margins_ILL_DEFINED-SPICULATED', 'mass margins_MICROLOBULATED',\n",
      "       'mass margins_MICROLOBULATED-ILL_DEFINED',\n",
      "       'mass margins_MICROLOBULATED-ILL_DEFINED-SPICULATED',\n",
      "       'mass margins_MICROLOBULATED-SPICULATED', 'mass margins_OBSCURED',\n",
      "       'mass margins_OBSCURED-CIRCUMSCRIBED',\n",
      "       'mass margins_OBSCURED-ILL_DEFINED',\n",
      "       'mass margins_OBSCURED-ILL_DEFINED-SPICULATED',\n",
      "       'mass margins_OBSCURED-SPICULATED', 'mass margins_SPICULATED'],\n",
      "      dtype='object') xtrain shape (1318, 46) ytrain shape (1318, 1)\n"
     ]
    },
    {
     "name": "stderr",
     "output_type": "stream",
     "text": [
      "/anaconda3/lib/python3.7/site-packages/ipykernel_launcher.py:27: FutureWarning: Method .as_matrix will be removed in a future version. Use .values instead.\n"
     ]
    },
    {
     "data": {
      "image/png": "[encoded data removed]",
      "text/plain": [
       "<Figure size 432x288 with 2 Axes>"
      ]
     },
     "metadata": {
      "needs_background": "light"
     },
     "output_type": "display_data"
    }
   ],
   "source": [
    "import pandas as pd\n",
    "import torch\n",
    "import torch.nn as nn\n",
    "from torch.autograd import Variable\n",
    "import torchvision.datasets as dset\n",
    "import torchvision.transforms as transforms\n",
    "import torch.nn.functional as F\n",
    "import torch.optim as optim\n",
    "import numpy as np\n",
    "import matplotlib.pylab as plt\n",
    "\n",
    "traindata = pd.read_csv('mass_case_description_train_set.csv')\n",
    "testdata = pd.read_csv('mass_case_description_test_set.csv')\n",
    "\n",
    "train_objs_num = len(traindata)\n",
    "dataset = pd.concat(objs=[traindata, testdata], axis=0)\n",
    "\n",
    "datasetx = dataset[['breast_density', 'left or right breast', 'image view', 'abnormality id', 'abnormality type', 'mass shape', 'mass margins']]\n",
    "datasety = dataset[['pathology']]\n",
    "\n",
    "dataset_preprocessed_x, dataset_preprocessed_y = pd.get_dummies(datasetx),  pd.get_dummies(datasety)\n",
    "train_preprocessed_x, train_preprocessed_y = dataset_preprocessed_x[:train_objs_num], dataset_preprocessed_y[:train_objs_num]\n",
    "test_preprocessed_x, test_preprocessed_y = dataset_preprocessed_x[train_objs_num:], dataset_preprocessed_y[train_objs_num:]\n",
    "headers = dataset_preprocessed_x.columns\n",
    "\n",
    "def load_data(xintermed, yintermed):\n",
    "    return xintermed.as_matrix().astype(float), yintermed.as_matrix().argmax(axis=1).astype(np.int64).reshape(-1,1)\n",
    "\n",
    "xtrain, ytrain = load_data(train_preprocessed_x, train_preprocessed_y)\n",
    "xtest, ytest = load_data(test_preprocessed_x, test_preprocessed_y)\n",
    "print('headers are', headers, 'xtrain shape', xtrain.shape, 'ytrain shape', ytrain.shape)\n",
    "\n",
    "plt.imshow(xtrain, aspect='auto'); plt.colorbar(); plt.show()"
   ]
  },
  {
   "cell_type": "markdown",
   "metadata": {},
   "source": [
    "### 3.2.\n",
    "Repeat Question 3.1 for the test set - remember to make sure you have same number of columns for test and train set!\n",
    "Use matplotlib.imshow(xtest, aspect='auto') to show the x dataset"
   ]
  },
  {
   "cell_type": "code",
   "execution_count": 40,
   "metadata": {},
   "outputs": [
    {
     "data": {
      "image/png": "[encoded data removed]",
      "text/plain": [
       "<matplotlib.figure.Figure at 0x1100f1be0>"
      ]
     },
     "metadata": {},
     "output_type": "display_data"
    }
   ],
   "source": [
    "plt.imshow(xtest, aspect='auto'); plt.colorbar(); plt.show()"
   ]
  },
  {
   "cell_type": "code",
   "execution_count": 14,
   "metadata": {},
   "outputs": [
    {
     "data": {
      "text/plain": [
       "MALIGNANT                  637\n",
       "BENIGN                     577\n",
       "BENIGN_WITHOUT_CALLBACK    104\n",
       "Name: pathology, dtype: int64"
      ]
     },
     "execution_count": 14,
     "metadata": {},
     "output_type": "execute_result"
    }
   ],
   "source": [
    "traindata['pathology'].value_counts()"
   ]
  },
  {
   "cell_type": "markdown",
   "metadata": {},
   "source": [
    "### 3.3. Logistic Regression"
   ]
  },
  {
   "cell_type": "markdown",
   "metadata": {},
   "source": [
    "### 3.3.a.\n",
    "\n",
    "Design a multi-class logistic regression model which takes the input and outputs the probability of 3 classes. "
   ]
  },
  {
   "cell_type": "code",
   "execution_count": 11,
   "metadata": {},
   "outputs": [
    {
     "data": {
      "text/plain": [
       "Linear(in_features=46, out_features=3, bias=True)"
      ]
     },
     "execution_count": 11,
     "metadata": {},
     "output_type": "execute_result"
    }
   ],
   "source": [
    "import torch\n",
    "\n",
    "# you can generate a random image tensor for batch_size 8\n",
    "x = torch.Tensor(8,1,46).normal_().type(torch.FloatTensor)\n",
    "x = Variable(x, requires_grad=False)\n",
    "\n",
    "model = torch.nn.Linear(in_features=46, out_features=3, bias=True)\n",
    "model"
   ]
  },
  {
   "cell_type": "markdown",
   "metadata": {},
   "source": [
    "### 3.3.b.\n",
    "What are the sizes for your input and output?"
   ]
  },
  {
   "cell_type": "markdown",
   "metadata": {},
   "source": [
    "input size is 46 since each pixel requires a variable to fit\n",
    "\n",
    "output size is 3 since we have 3 classes"
   ]
  },
  {
   "cell_type": "markdown",
   "metadata": {},
   "source": [
    "### 3.3.c.\n",
    "What type of activation function you will use and why?"
   ]
  },
  {
   "cell_type": "markdown",
   "metadata": {},
   "source": [
    "Logistic regression finds a model achieving y=Wx+b, when we talk about activation functions we have the formula y=$sigma$(Wx+b) where $sigma$ is the activation function. For a logistic regression model, we can think Identity function as an activation function"
   ]
  },
  {
   "cell_type": "markdown",
   "metadata": {},
   "source": [
    "### 3.3.d.\n",
    "How many parameters you need to fit for your design?"
   ]
  },
  {
   "cell_type": "code",
   "execution_count": 15,
   "metadata": {},
   "outputs": [
    {
     "name": "stdout",
     "output_type": "stream",
     "text": [
      "We need this many parameters to fit:  141\n"
     ]
    }
   ],
   "source": [
    "#Also, you can use model.parameters() to calculate number of trainable parameters as well\n",
    "#Using the function from: https://discuss.pytorch.org/t/how-do-i-check-the-number-of-parameters-of-a-model/4325/7\n",
    "        \n",
    "def get_n_params(model):\n",
    "    pp=0\n",
    "    for p in list(model.parameters()):\n",
    "        nn=1\n",
    "        for s in list(p.size()):\n",
    "            nn = nn*s\n",
    "        pp += nn\n",
    "    return pp\n",
    "\n",
    "print('We need this many parameters to fit: ', get_n_params(model))"
   ]
  },
  {
   "cell_type": "markdown",
   "metadata": {},
   "source": [
    "### 3.4. Multi-layered-perceptron\n",
    "\n",
    "Design a multi layer perceptron (MLP) with a single hidden layer which first maps the vectorized image to a vector of 100 then feeds this vector to a fully connected layer to get the probability of 3 classes.\n",
    "\n",
    "You can choose optimizer and criterion of interest.\n",
    "\n",
    "Plot the ***average loss on all the train samples*** per epoch. (Stop the training after 1000 epochs). \n",
    "\n"
   ]
  },
  {
   "cell_type": "code",
   "execution_count": 17,
   "metadata": {},
   "outputs": [],
   "source": [
    "class MLPNet(nn.Module):\n",
    "    def __init__(self):\n",
    "        super(MLPNet, self).__init__()\n",
    "        self.fc1 = nn.Linear(46, 100)\n",
    "        self.fc2 = nn.Linear(100, 3)\n",
    "\n",
    "\n",
    "    def forward(self, x):\n",
    "        x = x.contiguous().view(-1,46)\n",
    "        x = F.relu(self.fc1(x))\n",
    "        x = self.fc2(x)\n",
    "        return x"
   ]
  },
  {
   "cell_type": "code",
   "execution_count": 18,
   "metadata": {},
   "outputs": [],
   "source": [
    "model = MLPNet().double()"
   ]
  },
  {
   "cell_type": "code",
   "execution_count": 19,
   "metadata": {},
   "outputs": [
    {
     "name": "stdout",
     "output_type": "stream",
     "text": [
      "avg train loss is 0.7759830264092094\n",
      "AUC train is: 0.7908076819341765\n",
      "avg train loss is 0.6213911417399681\n",
      "AUC train is: 0.8525324057105051\n",
      "avg train loss is 0.5868477241915715\n",
      "AUC train is: 0.8578666980177364\n",
      "avg train loss is 0.5835652956972255\n",
      "AUC train is: 0.8504807548231086\n",
      "avg train loss is 0.5460442122837985\n",
      "AUC train is: 0.8628828691761353\n",
      "avg train loss is 0.532768722754058\n",
      "AUC train is: 0.8785007734032277\n",
      "avg train loss is 0.5465102568086946\n",
      "AUC train is: 0.8711747660772204\n",
      "avg train loss is 0.537830207083059\n",
      "AUC train is: 0.8733739514104523\n",
      "avg train loss is 0.5225182499659282\n",
      "AUC train is: 0.8791093529922982\n",
      "avg train loss is 0.497284289570871\n",
      "AUC train is: 0.8802919337846965\n"
     ]
    },
    {
     "data": {
      "image/png": "[encoded data removed]",
      "text/plain": [
       "<Figure size 432x288 with 1 Axes>"
      ]
     },
     "metadata": {
      "needs_background": "light"
     },
     "output_type": "display_data"
    }
   ],
   "source": [
    "optimizer = optim.SGD(model.parameters(), lr=0.01, momentum=0.9)\n",
    "criterion = nn.CrossEntropyLoss()\n",
    "from sklearn.metrics import roc_auc_score\n",
    "\n",
    "losslisttrain = []\n",
    "losslisttest = []\n",
    "\n",
    "for epoch in range(100):\n",
    "    avg_loss = 0\n",
    "    ix_shuffle = np.arange(xtrain.shape[0])\n",
    "    np.random.shuffle(ix_shuffle)\n",
    "    ypred =  np.zeros(ytrain.shape)\n",
    "    for ix in ix_shuffle:\n",
    "        optimizer.zero_grad()\n",
    "        x = Variable(torch.from_numpy(xtrain[ix]))\n",
    "        target = Variable(torch.LongTensor(ytrain[ix]))\n",
    "        out = model(x)\n",
    "        ypred[ix] = out.data.numpy().ravel()[2]\n",
    "        loss = criterion(out, target)\n",
    "        avg_loss += loss.data.numpy().ravel()[0]\n",
    "        loss.backward()\n",
    "        optimizer.step()\n",
    "    losslisttrain.append(avg_loss/xtrain.shape[0])\n",
    "    if epoch % 10 == 0:\n",
    "        print('avg train loss is', avg_loss/xtrain.shape[0])\n",
    "        print('AUC train is:', roc_auc_score(y_true=(ytrain==2), y_score=ypred))\n",
    "plt.plot(losslisttrain); plt.show()"
   ]
  },
  {
   "cell_type": "markdown",
   "metadata": {},
   "source": [
    "### 3.5.\n",
    "Add the loss of the test set to the loss of the train set and plot the ***average loss on all the test samples*** per epoch. (Stop the training after 100 epochs)"
   ]
  },
  {
   "cell_type": "code",
   "execution_count": 20,
   "metadata": {},
   "outputs": [
    {
     "name": "stdout",
     "output_type": "stream",
     "text": [
      "avg train loss is 0.7616949405809429\n",
      "AUC train is: 0.7966998388647225\n",
      "avg test loss is 1.3581428819548942\n",
      "AUC test is: 0.7891156462585034\n",
      "avg train loss is 0.609118062258083\n",
      "AUC train is: 0.8594665246647626\n",
      "avg test loss is 0.8018942428437652\n",
      "AUC test is: 0.8280766852195424\n",
      "avg train loss is 0.6015540887116005\n",
      "AUC train is: 0.8585997597954805\n",
      "avg test loss is 0.8227686382419129\n",
      "AUC test is: 0.82137703566275\n",
      "avg train loss is 0.5686414425287531\n",
      "AUC train is: 0.8737082091392979\n",
      "avg test loss is 0.8411510039013144\n",
      "AUC test is: 0.7891598197720646\n",
      "avg train loss is 0.5497825197357993\n",
      "AUC train is: 0.8760434027897841\n",
      "avg test loss is 0.9522232334480456\n",
      "AUC test is: 0.7737727125482228\n",
      "avg train loss is 0.542252194858037\n",
      "AUC train is: 0.8807460632507832\n",
      "avg test loss is 0.8550129697755615\n",
      "AUC test is: 0.8232912212504049\n",
      "avg train loss is 0.5368043285030513\n",
      "AUC train is: 0.8799599812815673\n",
      "avg test loss is 0.8181337140299614\n",
      "AUC test is: 0.8118944547515976\n",
      "avg train loss is 0.5292222590349578\n",
      "AUC train is: 0.8787612639091557\n",
      "avg test loss is 1.201434083436171\n",
      "AUC test is: 0.8139411608799365\n",
      "avg train loss is 0.5109510945487337\n",
      "AUC train is: 0.8825026452465093\n",
      "avg test loss is 1.0124263534355105\n",
      "AUC test is: 0.7912212504049237\n",
      "avg train loss is 0.5072697300671378\n",
      "AUC train is: 0.8916566965654441\n",
      "avg test loss is 1.0151053259370129\n",
      "AUC test is: 0.7721971905645375\n"
     ]
    },
    {
     "data": {
      "image/png": "[encoded data removed]",
      "text/plain": [
       "<Figure size 432x288 with 1 Axes>"
      ]
     },
     "metadata": {
      "needs_background": "light"
     },
     "output_type": "display_data"
    },
    {
     "data": {
      "image/png": "[encoded data removed]",
      "text/plain": [
       "<Figure size 432x288 with 1 Axes>"
      ]
     },
     "metadata": {
      "needs_background": "light"
     },
     "output_type": "display_data"
    }
   ],
   "source": [
    "model = MLPNet().double()\n",
    "optimizer = optim.SGD(model.parameters(), lr=0.01, momentum=0.9)\n",
    "criterion = nn.CrossEntropyLoss()\n",
    "from sklearn.metrics import roc_auc_score\n",
    "\n",
    "losslisttrain = []\n",
    "losslisttest = []\n",
    "\n",
    "for epoch in range(100):\n",
    "    avg_loss = 0\n",
    "    ix_shuffle = np.arange(xtrain.shape[0])\n",
    "    np.random.shuffle(ix_shuffle)\n",
    "    ypred =  np.zeros(ytrain.shape)\n",
    "    for ix in ix_shuffle:\n",
    "        optimizer.zero_grad()\n",
    "        x = Variable(torch.from_numpy(xtrain[ix]))\n",
    "        target = Variable(torch.LongTensor(ytrain[ix]))\n",
    "        out = model(x)\n",
    "        ypred[ix] = out.data.numpy().ravel()[2]\n",
    "        loss = criterion(out, target)\n",
    "        avg_loss += loss.data.numpy().ravel()[0]\n",
    "        loss.backward()\n",
    "        optimizer.step()\n",
    "    losslisttrain.append(avg_loss/xtrain.shape[0])\n",
    "    if epoch % 10 == 0:\n",
    "        print('avg train loss is', avg_loss/xtrain.shape[0])\n",
    "        print('AUC train is:', roc_auc_score(y_true=(ytrain==2), y_score=ypred))\n",
    "\n",
    "    ix_shuffle = np.arange(xtest.shape[0])\n",
    "    np.random.shuffle(ix_shuffle)\n",
    "    avg_loss = 0\n",
    "    ypredtest = np.zeros(ytest.shape)\n",
    "    for ix in ix_shuffle:\n",
    "        x = Variable(torch.from_numpy(xtest[ix]))\n",
    "        target = Variable(torch.LongTensor(ytest[ix]))\n",
    "        out = model(x)\n",
    "        ypredtest[ix] = out.data.numpy().ravel()[2]\n",
    "        loss = criterion(out, target)\n",
    "        avg_loss += loss.data.numpy().ravel()[0]\n",
    "    losslisttest.append(avg_loss/xtest.shape[0])\n",
    "    if epoch % 10 == 0:\n",
    "        print('avg test loss is', avg_loss/xtest.shape[0])\n",
    "        print('AUC test is:', roc_auc_score(y_true=(ytest==2), y_score=ypredtest))\n",
    "\n",
    "plt.plot(losslisttrain); plt.show()\n",
    "plt.plot(losslisttest); plt.show()"
   ]
  },
  {
   "cell_type": "markdown",
   "metadata": {},
   "source": [
    "### 3.6. \n",
    "Define two types of activation functions you can use in the first layer. Which activation function you will use on the second fully connected layer?"
   ]
  },
  {
   "cell_type": "markdown",
   "metadata": {},
   "source": [
    "In the first layer, we can use relu, leaky relu, elu, selu ... check available activation functions: http://pytorch.org/docs/0.3.1/nn.html#non-linear-activations\n",
    "We do not need an activation function for the last layer, you can still think Identity as the last activation function"
   ]
  },
  {
   "cell_type": "markdown",
   "metadata": {},
   "source": [
    "### 3.7.\n",
    "How many parameters you need to fit for your design? How does adding another hidden layer effected the number of parameters to use?"
   ]
  },
  {
   "cell_type": "code",
   "execution_count": 21,
   "metadata": {},
   "outputs": [
    {
     "name": "stdout",
     "output_type": "stream",
     "text": [
      "We need this many parameters to fit:  5003\n"
     ]
    }
   ],
   "source": [
    "print('We need this many parameters to fit: ', get_n_params(model))\n",
    "# The number of parameters increased significantly by adding an additional fully connected hidden layer, \n",
    "# now we have almost 13 times more parameters to fit"
   ]
  }
 ],
 "metadata": {
  "kernelspec": {
   "display_name": "Python 3",
   "language": "python",
   "name": "python3"
  },
  "language_info": {
   "codemirror_mode": {
    "name": "ipython",
    "version": 3
   },
   "file_extension": ".py",
   "mimetype": "text/x-python",
   "name": "python",
   "nbconvert_exporter": "python",
   "pygments_lexer": "ipython3",
   "version": "3.7.1"
  }
 },
 "nbformat": 4,
 "nbformat_minor": 2
}
