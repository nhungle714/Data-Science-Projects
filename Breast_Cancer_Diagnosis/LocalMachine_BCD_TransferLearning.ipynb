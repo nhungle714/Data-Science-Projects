{
 "cells": [
  {
   "cell_type": "code",
   "execution_count": 1,
   "metadata": {},
   "outputs": [],
   "source": [
    "import pandas as pd\n",
    "from sklearn.utils import shuffle\n",
    "import os\n",
    "from torch.utils.data import Dataset, DataLoader\n",
    "import pandas as pd\n",
    "import numpy as np\n",
    "import os\n",
    "from skimage import io\n",
    "import torch\n",
    "from torchvision import transforms\n",
    "import torchvision\n",
    "from skimage import color\n",
    "import copy\n",
    "\n",
    "import time\n",
    "import torch\n",
    "import torch.nn as nn\n",
    "from torch.autograd import Variable\n",
    "import torch.optim as optim\n",
    "import torchvision\n",
    "from torchvision import datasets, models\n",
    "from torchvision import transforms as T\n",
    "from torch.utils.data import DataLoader, Dataset\n",
    "import numpy as np\n",
    "import matplotlib.pyplot as plt\n",
    "import os\n",
    "import time\n",
    "import pandas as pd\n",
    "from skimage import io, transform\n",
    "import matplotlib.image as mpimg\n",
    "from PIL import Image\n",
    "from sklearn.metrics import roc_auc_score\n",
    "import torch.nn.functional as F\n",
    "import scipy\n",
    "import random\n",
    "import pickle\n",
    "import scipy.io as sio\n",
    "import itertools\n",
    "from scipy.ndimage.interpolation import shift\n",
    "import copy\n",
    "import warnings\n",
    "#warnings.filterwarnings(\"ignore\")\n",
    "plt.ion()\n",
    "from sklearn.metrics import roc_curve, auc\n",
    "from sklearn.preprocessing import label_binarize\n",
    "import pydicom"
   ]
  },
  {
   "cell_type": "code",
   "execution_count": 4,
   "metadata": {},
   "outputs": [],
   "source": [
    "from DataLoader import *\n",
    "from train import *"
   ]
  },
  {
   "cell_type": "code",
   "execution_count": null,
   "metadata": {},
   "outputs": [],
   "source": [
    "# ### The less memory method\n",
    "# class MammogramDataset_TL(Dataset):   \n",
    "#     def __init__(self, csv_file, root_dir, image_column, num_channel=1, transform = None, transform_type = 'Custom', transform_prob=0.5):\n",
    "#         \"\"\"\n",
    "#         Args:\n",
    "#             csv_file (string): Path to the csv file filename information.\n",
    "#             root_dir (string): Directory with all the images.\n",
    "#             transform (callable, optional): Optional transform to be applied\n",
    "#                 on a sample.\n",
    "#             image_column: column name from csv file where we take the file path\n",
    "#         \"\"\"\n",
    "#         #self.data_frame = pickle.load(open(os.path.join(root_dir,data_file),\"rb\"))\n",
    "#         self.data_frame = pd.read_csv(csv_file)\n",
    "#         self.root_dir = root_dir\n",
    "#         self.transform = transform\n",
    "#         self.image_column = image_column\n",
    "#         self.num_channel = num_channel\n",
    "#         self.transform_prob = transform_prob\n",
    "#         self.transform_type = transform_type\n",
    "\n",
    "#     def __len__(self):\n",
    "#         return len(self.data_frame)\n",
    "\n",
    "#     def __getitem__(self, idx):\n",
    "#         img_name = os.path.join(self.root_dir, str(self.data_frame.loc[idx, self.image_column]))\n",
    "#         image = pydicom.dcmread(img_name).pixel_array\n",
    "#         if self.num_channel > 1:\n",
    "#             image = np.uint8(image/65535*255)\n",
    "#             image = np.repeat(image[...,None],self.num_channel,axis=-1)\n",
    "#         else:\n",
    "#             h,w = image.shape\n",
    "#             resized_h = 1024\n",
    "#             resized_w = int(resized_h/h*w)\n",
    "#             image = transform.resize(image, (resized_h, resized_w), anti_aliasing=True,mode='constant')\n",
    "#             pad_col = resized_h-resized_w\n",
    "#             image = np.pad(image,((0,0),(0,pad_col)),mode='constant',constant_values=0)\n",
    "#             image = (image - image.mean()) / image.std()\n",
    "#             image = image[None,...]\n",
    "        \n",
    "#         image_class = self.data_frame.loc[idx, 'class']\n",
    "\n",
    "#         if self.transform:\n",
    "#             image = self.transform(image)\n",
    "#         elif self.transform_type == 'Custom':\n",
    "#             p1 = random.uniform(0, 1)\n",
    "#             p2 = random.uniform(0, 1)\n",
    "#             if p1 <= self.transform_prob:\n",
    "#                 image = image[:,:,-1].copy()\n",
    "#             if p2 <= self.transform_prob:\n",
    "#                 image = transform.rotate(image,180)\n",
    "        \n",
    "#         sample = {'x': image, 'y': image_class}\n",
    "\n",
    "#         return sample"
   ]
  },
  {
   "cell_type": "code",
   "execution_count": 1,
   "metadata": {},
   "outputs": [
    {
     "name": "stderr",
     "output_type": "stream",
     "text": [
      "ERROR:root:Internal Python error in the inspect module.\n",
      "Below is the traceback from this internal error.\n",
      "\n"
     ]
    },
    {
     "name": "stdout",
     "output_type": "stream",
     "text": [
      "Traceback (most recent call last):\n",
      "  File \"/anaconda3/lib/python3.7/site-packages/IPython/core/interactiveshell.py\", line 3267, in run_code\n",
      "    exec(code_obj, self.user_global_ns, self.user_ns)\n",
      "  File \"<ipython-input-1-0e6ea27d3714>\", line 2, in <module>\n",
      "    class MammogramDataset_TL(Dataset):\n",
      "NameError: name 'Dataset' is not defined\n",
      "\n",
      "During handling of the above exception, another exception occurred:\n",
      "\n",
      "Traceback (most recent call last):\n",
      "  File \"/anaconda3/lib/python3.7/site-packages/IPython/core/interactiveshell.py\", line 2018, in showtraceback\n",
      "    stb = value._render_traceback_()\n",
      "AttributeError: 'NameError' object has no attribute '_render_traceback_'\n",
      "\n",
      "During handling of the above exception, another exception occurred:\n",
      "\n",
      "Traceback (most recent call last):\n",
      "  File \"/anaconda3/lib/python3.7/site-packages/IPython/core/ultratb.py\", line 1095, in get_records\n",
      "    return _fixed_getinnerframes(etb, number_of_lines_of_context, tb_offset)\n",
      "  File \"/anaconda3/lib/python3.7/site-packages/IPython/core/ultratb.py\", line 313, in wrapped\n",
      "    return f(*args, **kwargs)\n",
      "  File \"/anaconda3/lib/python3.7/site-packages/IPython/core/ultratb.py\", line 347, in _fixed_getinnerframes\n",
      "    records = fix_frame_records_filenames(inspect.getinnerframes(etb, context))\n",
      "  File \"/anaconda3/lib/python3.7/inspect.py\", line 1500, in getinnerframes\n",
      "    frameinfo = (tb.tb_frame,) + getframeinfo(tb, context)\n",
      "  File \"/anaconda3/lib/python3.7/inspect.py\", line 1458, in getframeinfo\n",
      "    filename = getsourcefile(frame) or getfile(frame)\n",
      "  File \"/anaconda3/lib/python3.7/inspect.py\", line 696, in getsourcefile\n",
      "    if getattr(getmodule(object, filename), '__loader__', None) is not None:\n",
      "  File \"/anaconda3/lib/python3.7/inspect.py\", line 725, in getmodule\n",
      "    file = getabsfile(object, _filename)\n",
      "  File \"/anaconda3/lib/python3.7/inspect.py\", line 709, in getabsfile\n",
      "    return os.path.normcase(os.path.abspath(_filename))\n",
      "  File \"/anaconda3/lib/python3.7/posixpath.py\", line 376, in abspath\n",
      "    cwd = os.getcwd()\n",
      "OSError: [Errno 6] Device not configured\n"
     ]
    },
    {
     "ename": "NameError",
     "evalue": "name 'Dataset' is not defined",
     "output_type": "error",
     "traceback": [
      "\u001b[0;31m---------------------------------------------------------------------------\u001b[0m"
     ]
    }
   ],
   "source": [
    "# # This method makes it faster\n",
    "class MammogramDataset_TL(Dataset):\n",
    "\n",
    "    def __init__(self, csv_file, root_dir, image_column, num_channel, transform=None,\n",
    "                transform_type = 'Custom', transform_prob=0.5):\n",
    "        \"\"\"\n",
    "        Args:\n",
    "            csv_file (string): Path to the csv file filename information.\n",
    "            root_dir (string): Directory with all the images.\n",
    "            transform (callable, optional): Optional transform to be applied\n",
    "                on a sample.\n",
    "            image_column (string): name of the column image used\n",
    "        \"\"\"\n",
    "        self.data_frame = pd.read_csv(csv_file)\n",
    "        self.root_dir = root_dir\n",
    "        self.transform = transform\n",
    "        self.image_column = image_column\n",
    "        self.num_channel = num_channel\n",
    "        self.transform_prob = transform_prob\n",
    "        self.transform_type = transform_type\n",
    "        self.samples = []\n",
    "        \n",
    "        for idx in range(len(self.data_frame)):\n",
    "            image_name = os.path.join(self.root_dir,\n",
    "                                    self.data_frame.loc[idx, image_column])\n",
    "\n",
    "            image = pydicom.dcmread(image_name).pixel_array\n",
    "            \n",
    "            if self.num_channel > 1:\n",
    "                image = np.uint8(image/65535*255)\n",
    "                image = np.repeat(image[...,None],self.num_channel,axis=-1)\n",
    "            else:\n",
    "                h,w = image.shape\n",
    "                resized_h = 1024\n",
    "                resized_w = int(resized_h/h*w)\n",
    "                image = transform.resize(image, (resized_h, resized_w), anti_aliasing=True,mode='constant')\n",
    "                pad_col = resized_h-resized_w\n",
    "                image = np.pad(image,((0,0),(0,pad_col)),mode='constant',constant_values=0)\n",
    "                image = (image - image.mean()) / image.std()\n",
    "                image = image[None,...]\n",
    "\n",
    "            image_class = self.data_frame.loc[idx, 'class']\n",
    "\n",
    "            if self.transform:\n",
    "                image = self.transform(image)\n",
    "            elif self.transform_type == 'Custom':\n",
    "                p1 = random.uniform(0, 1)\n",
    "                p2 = random.uniform(0, 1)\n",
    "                if p1 <= self.transform_prob:\n",
    "                    image = image[:,:,-1].copy()\n",
    "                if p2 <= self.transform_prob:\n",
    "                    image = transform.rotate(image,180)\n",
    "\n",
    "            sample = {'x': image, 'y': image_class}\n",
    "            self.samples.append(sample)\n",
    "\n",
    "    def __len__(self):\n",
    "        return len(self.data_frame)\n",
    "\n",
    "    def __getitem__(self, idx):\n",
    "        return self.samples[idx]"
   ]
  },
  {
   "cell_type": "code",
   "execution_count": 6,
   "metadata": {},
   "outputs": [],
   "source": [
    "def GetDataLoader_TL(train_csv, validation_csv, test_csv, \n",
    "                     root_dir, image_column, num_channel, \n",
    "                     transform_type, transform_prob, \n",
    "               train_transform, validation_transform, \n",
    "               batch_size, shuffle, num_workers): \n",
    "\n",
    "    train_data = MammogramDataset_TL(csv_file = train_csv, \n",
    "                              root_dir = root_image,\n",
    "                              image_column = image_column,\n",
    "                              num_channel = num_channel, \n",
    "                               transform=train_transform, \n",
    "                               transform_type = transform_type, \n",
    "                                   transform_prob = transform_prob)\n",
    "    val_data = MammogramDataset_TL(csv_file = validation_csv, \n",
    "                            root_dir = root_image,\n",
    "                            image_column = image_column,\n",
    "                            transform = validation_transform,\n",
    "                                 num_channel = num_channel, \n",
    "                               transform_type = transform_type, \n",
    "                                   transform_prob = transform_prob)\n",
    "    test_data = MammogramDataset_TL(csv_file = test_csv, \n",
    "                            root_dir = root_image,\n",
    "                            image_column = image_column,\n",
    "                            transform = validation_transform,\n",
    "                            num_channel = num_channel, \n",
    "                               transform_type = transform_type, \n",
    "                                   transform_prob = transform_prob)\n",
    "    \n",
    "    image_datasets = {'train': train_data, 'val': val_data, 'test': test_data}\n",
    "#     train_loader = DataLoader(train_data, batch_size=BATCH_SIZE,\n",
    "#                             shuffle = shuffle, num_workers = NUM_WORKERS)\n",
    "#     val_loader = DataLoader(val_data, batch_size=BATCH_SIZE,\n",
    "#                             shuffle = shuffle, num_workers = NUM_WORKERS)\n",
    "#     test_loader = DataLoader(test_data, batch_size=BATCH_SIZE,\n",
    "#                             shuffle = shuffle, num_workers = NUM_WORKERS)\n",
    "    \n",
    "\n",
    "    dataloaders = {x: torch.utils.data.DataLoader(image_datasets[x], \n",
    "                                              batch_size=BATCH_SIZE, \n",
    "                                              shuffle=True, \n",
    "                                              num_workers=NUM_WORKERS) \n",
    "                    for x in ['train', 'val', 'test']}\n",
    "    dataset_sizes = {x: len(image_datasets[x]) for x in ['train', 'val', 'test']}\n",
    "#     print(len(image_datasets['train']), \n",
    "#           len(image_datasets['val']),\n",
    "#          len(image_datasets['test']))\n",
    "    return dataloaders, dataset_sizes"
   ]
  },
  {
   "cell_type": "code",
   "execution_count": 7,
   "metadata": {},
   "outputs": [],
   "source": [
    "# ######### Local Machine Paths ######## \n",
    "excel_path = '/Users/nhungle/Box/Free/Data-Science-Projects/Breast_Cancer_Diagnosis/excel_files'\n",
    "train_local_csv = os.path.join(excel_path, \n",
    "                              'train_local.csv')\n",
    "validation_local_csv = os.path.join(excel_path, \n",
    "                              'validation_local.csv')\n",
    "test_local_csv = os.path.join(excel_path, \n",
    "                              'test_local.csv')\n",
    "\n",
    "image_path = '/Users/nhungle/Box/Free/Data-Science-Projects/Breast_Cancer_Diagnosis'\n",
    "root_image = os.path.join(image_path ,'images')\n",
    "\n",
    "NUM_WORKERS = 1\n",
    "BATCH_SIZE = 1\n",
    "graph_path = '/Users/nhungle/Box/Free/Data-Science-Projects/Breast_Cancer_Diagnosis/graphs'\n"
   ]
  },
  {
   "cell_type": "code",
   "execution_count": 8,
   "metadata": {},
   "outputs": [],
   "source": [
    "train_transform = transforms.Compose([\n",
    "        transforms.ToPILImage(),\n",
    "        transforms.Resize([2048,2048]),\n",
    "        transforms.RandomHorizontalFlip(),\n",
    "        transforms.ToTensor(),\n",
    "        transforms.Normalize([0.485, 0.456, 0.406], [0.229, 0.224, 0.225])])\n",
    "\n",
    "validation_transform = transforms.Compose([\n",
    "        transforms.ToPILImage(),\n",
    "        transforms.Resize([2048,2048]),\n",
    "        transforms.ToTensor(),\n",
    "        transforms.Normalize([0.485, 0.456, 0.406], [0.229, 0.224, 0.225])])"
   ]
  },
  {
   "cell_type": "code",
   "execution_count": 9,
   "metadata": {},
   "outputs": [],
   "source": [
    "use_gpu = torch.cuda.is_available()\n",
    "if torch.cuda.is_available:\n",
    "    device = torch.device('cuda')\n",
    "else:\n",
    "    device = torch.device('cpu')\n",
    "\n",
    "#### Get Dataloaders and Datasets_sizes\n",
    "dataloaders, dataset_sizes = GetDataLoader_TL(train_csv = train_local_csv, \n",
    "                                            validation_csv = validation_local_csv, \n",
    "                                            test_csv = test_local_csv, \n",
    "                                            root_dir = root_image, \n",
    "                                           image_column = 'local_image',\n",
    "                                            num_channel = 3, \n",
    "                                            transform_type = None, \n",
    "                                              transform_prob=0.5,\n",
    "               train_transform = train_transform, validation_transform = validation_transform, \n",
    "               batch_size = BATCH_SIZE, shuffle = True, num_workers = NUM_WORKERS) "
   ]
  },
  {
   "cell_type": "code",
   "execution_count": 16,
   "metadata": {},
   "outputs": [],
   "source": [
    "def train_model(model, model_name, criterion, optimizer, scheduler, num_epochs = 10,verbose = True):\n",
    "\n",
    "    start_time = time.time()\n",
    "    \n",
    "    best_model_wts = copy.deepcopy(model.state_dict())\n",
    "    best_acc = 0.0\n",
    "\n",
    "    acc_dict = {'train':[],'validation':[]}\n",
    "    loss_dict = {'train':[],'validation':[]}\n",
    "    auc_dict ={'train': [], 'validation': []}\n",
    "    \n",
    "\n",
    "    for epoch in range(num_epochs):\n",
    "        if verbose:\n",
    "            #if epoch % 5 == 4:\n",
    "            print('Epoch {}/{}'.format(epoch+1, num_epochs))\n",
    "            print('-' * 10)\n",
    "            \n",
    "        for phase in ['train','val']:\n",
    "            if phase == 'train':\n",
    "                model.train(True)\n",
    "            else:\n",
    "                model.train(False)\n",
    "\n",
    "            running_loss = 0.0\n",
    "            running_corrects = 0\n",
    "            whole_output = []\n",
    "            whole_target = []\n",
    "\n",
    "            for data in dataloaders[phase]:\n",
    "                \n",
    "                inputs = data['x']\n",
    "                labels = data['y']\n",
    "                \n",
    "                # wrap them in Variable\n",
    "                if use_gpu:\n",
    "                    inputs = inputs.type(torch.FloatTensor).to(device)\n",
    "                    labels = labels.to(device)\n",
    "                else:\n",
    "                    inputs = Variable(inputs).type(torch.FloatTensor)\n",
    "                    labels = Variable(labels).type(torch.LongTensor)\n",
    "\n",
    "                    \n",
    "                optimizer.zero_grad()\n",
    "\n",
    "                out = model(inputs)\n",
    "                _, preds = torch.max(out, dim = 1)\n",
    "                #print('out: {}'.format(out))\n",
    "                loss = criterion(out, labels)\n",
    "                \n",
    "                #To get AUC score later\n",
    "                output =F.softmax(model(inputs),dim=1)\n",
    "                whole_output.append( output.cpu().data.numpy())\n",
    "                whole_target.append( data['y'])\n",
    "                \n",
    "                if phase == 'train':\n",
    "                    loss.backward()\n",
    "                    optimizer.step()\n",
    "                    \n",
    "                running_loss += loss.item() * inputs.size()[0]\n",
    "                running_corrects += torch.sum(preds == labels).item()\n",
    "                \n",
    "            epoch_loss = running_loss / dataset_sizes[phase]\n",
    "            epoch_acc = running_corrects / dataset_sizes[phase]\n",
    "            epoch_whole_output = np.concatenate(whole_output)\n",
    "            y_target = list(np.concatenate(whole_target))\n",
    "            y_score = [output[1] for output in epoch_whole_output]\n",
    "            fpr, tpr, _ = roc_curve(y_target, y_score, pos_label=1)\n",
    "            epoch_roc_auc = auc(fpr, tpr)\n",
    "\n",
    "            if verbose:\n",
    "#                 if epoch % 5 == 4:\n",
    "                print('{} Loss: {:.4f} Acc: {:.4f}'.format(phase, epoch_loss, epoch_acc))\n",
    "\n",
    "            if phase == 'train':\n",
    "                loss_dict['train'].append(epoch_loss)\n",
    "                acc_dict['train'].append(epoch_acc)\n",
    "                auc_dict['train'].append(epoch_roc_auc)\n",
    "            else:\n",
    "                loss_dict['validation'].append(epoch_loss)\n",
    "                acc_dict['validation'].append(epoch_acc)\n",
    "                auc_dict['validation'].append(epoch_roc_auc)\n",
    "                    \n",
    "            if phase == 'val' and epoch_acc > best_acc:\n",
    "                best_acc = epoch_acc\n",
    "                best_model_wts = copy.deepcopy(model.state_dict())\n",
    "                scheduler.step(epoch_loss)\n",
    "\n",
    "    time_elapsed = time.time() - start_time\n",
    "    print('Training time: {}minutes {}s'.format(int(time_elapsed / 60), time_elapsed % 60))\n",
    "    print('Best val Acc: {:4f}'.format(best_acc))\n",
    "    \n",
    "    # for i, phase in enumerate(['train','validation']):\n",
    "\n",
    "    #     fig = plt.figure()\n",
    "        \n",
    "    #     a = fig.add_subplot(1,2,1*i+1)\n",
    "    #     plt.plot(loss_dict[phase])\n",
    "    #     plt.title('Loss per epoch for ' + phase)\n",
    "\n",
    "    #     a = fig.add_subplot(1,2,1*i+2)\n",
    "    #     plt.plot(acc_dict[phase])\n",
    "    #     plt.title('Accuracy per epoch for ' + phase)\n",
    "    #     plt.show()\n",
    "    #     plt.savefig(os.path.join(graph_path ,'Curve {}.png'.format(phase)))\n",
    "\n",
    "    model.load_state_dict(best_model_wts)\n",
    "    torch.save(model, os.path.join(graph_path, '{}.pt'.format(model_name)))\n",
    "    \n",
    "    return {'Model': model, 'LossDict': loss_dict, 'AccDict': acc_dict, \n",
    "           'AucDict': auc_dict}\n"
   ]
  },
  {
   "cell_type": "markdown",
   "metadata": {},
   "source": [
    "## ResNet34_TL"
   ]
  },
  {
   "cell_type": "code",
   "execution_count": 11,
   "metadata": {},
   "outputs": [],
   "source": [
    "resNet34_tl = torchvision.models.resnet34(pretrained=True)\n",
    "for param in resNet34_tl.parameters():\n",
    "    param.requires_grad = False\n",
    "\n",
    "fc_in_features = resNet34_tl.fc.in_features\n",
    "resNet34_tl.fc = torch.nn.Linear(fc_in_features, 2)"
   ]
  },
  {
   "cell_type": "code",
   "execution_count": 17,
   "metadata": {},
   "outputs": [
    {
     "name": "stdout",
     "output_type": "stream",
     "text": [
      "Epoch 1/3\n",
      "----------\n",
      "train Loss: 2.4842 Acc: 0.2500\n",
      "val Loss: 2.1208 Acc: 0.0000\n",
      "Epoch 2/3\n",
      "----------\n"
     ]
    },
    {
     "name": "stderr",
     "output_type": "stream",
     "text": [
      "/anaconda3/lib/python3.7/site-packages/sklearn/metrics/ranking.py:656: UndefinedMetricWarning: No positive samples in y_true, true positive value should be meaningless\n",
      "  UndefinedMetricWarning)\n"
     ]
    },
    {
     "name": "stdout",
     "output_type": "stream",
     "text": [
      "train Loss: 1.6726 Acc: 0.5000\n",
      "val Loss: 0.6351 Acc: 1.0000\n",
      "Epoch 3/3\n",
      "----------\n",
      "train Loss: 3.0350 Acc: 0.5000\n",
      "val Loss: 1.2011 Acc: 0.0000\n",
      "Training time: 4minutes 56.21484303474426s\n",
      "Best val Acc: 1.000000\n"
     ]
    }
   ],
   "source": [
    "resNet34_tl = resNet34_tl#.to(device)\n",
    "\n",
    "optimizer = torch.optim.SGD(resNet34_tl.fc.parameters(), lr = 0.005, momentum=0.9)\n",
    "\n",
    "criterion = nn.CrossEntropyLoss()\n",
    "\n",
    "scheduler = torch.optim.lr_scheduler.ReduceLROnPlateau(optimizer, 'min',patience=2)\n",
    "\n",
    "\n",
    "BestResNet34_tl = train_model(resNet34_tl, 'resNet34_tl', criterion, optimizer, scheduler, num_epochs = 3, verbose = True)"
   ]
  },
  {
   "cell_type": "code",
   "execution_count": 20,
   "metadata": {},
   "outputs": [],
   "source": [
    "#BestResNet34_tl"
   ]
  },
  {
   "cell_type": "code",
   "execution_count": 19,
   "metadata": {},
   "outputs": [],
   "source": [
    "##### Plot #####\n",
    "def PlotAccLoss(model, model_name): \n",
    "    fig, ax = plt.subplots()\n",
    "    for key in model['LossDict']: \n",
    "        ax.plot(model['LossDict'][key], label = key)\n",
    "    ax.set_title('Train and Validation Loss Curves')\n",
    "    ax.set_ylabel('Loss')\n",
    "    ax.set_xlabel('Epochs')\n",
    "    legend = ax.legend(loc= 'best', shadow=True,\n",
    "                          bbox_to_anchor = (0.5, 0, 0.5, 0.5), ncol = 1, prop = {'size': 10})\n",
    "    plt.savefig(os.path.join(graph_path ,'LossCurves_{}.png'.format(model_name)))\n",
    "\n",
    "    fig, ax = plt.subplots()\n",
    "    for key in model['AccDict']: \n",
    "        ax.plot(model['AccDict'][key], label = key)\n",
    "    ax.set_title('Train and Validation Accuracy Curves')\n",
    "    ax.set_ylabel('Accuracy')\n",
    "    ax.set_xlabel('Epochs')\n",
    "    legend = ax.legend(loc= 'best', shadow=True,\n",
    "                          bbox_to_anchor = (0.5, 0, 0.5, 0.5), ncol = 1, prop = {'size': 10})\n",
    "    plt.savefig(os.path.join(graph_path ,'AccuracyCurves_{}.png'.format(model_name)))\n",
    "    \n",
    "    \n",
    "    fig, ax = plt.subplots()\n",
    "    for key in model['AucDict']: \n",
    "        ax.plot(model['AucDict'][key], label = key)\n",
    "    ax.set_title('Train and Validation AUC Curves')\n",
    "    ax.set_ylabel('AUC Score')\n",
    "    ax.set_xlabel('Epochs')\n",
    "    legend = ax.legend(loc= 'best', shadow=True,\n",
    "                          bbox_to_anchor = (0.5, 0, 0.5, 0.5), ncol = 1, prop = {'size': 10})\n",
    "    plt.savefig(os.path.join(graph_path ,'AUCCurves_{}.png'.format(model_name)))"
   ]
  },
  {
   "cell_type": "code",
   "execution_count": 114,
   "metadata": {
    "collapsed": true
   },
   "outputs": [
    {
     "data": {
      "image/png": "[encoded data removed]",
      "text/plain": [
       "<Figure size 432x288 with 1 Axes>"
      ]
     },
     "metadata": {
      "needs_background": "light"
     },
     "output_type": "display_data"
    },
    {
     "data": {
      "image/png": "[encoded data removed]",
      "text/plain": [
       "<Figure size 432x288 with 1 Axes>"
      ]
     },
     "metadata": {
      "needs_background": "light"
     },
     "output_type": "display_data"
    }
   ],
   "source": [
    "PlotAccLoss(BestResNet34_tl, 'ResNet34')"
   ]
  },
  {
   "cell_type": "markdown",
   "metadata": {},
   "source": [
    "## ResNet18_TL"
   ]
  },
  {
   "cell_type": "code",
   "execution_count": 187,
   "metadata": {},
   "outputs": [
    {
     "name": "stderr",
     "output_type": "stream",
     "text": [
      "Downloading: \"https://download.pytorch.org/models/resnet18-5c106cde.pth\" to /Users/nhungle/.torch/models/resnet18-5c106cde.pth\n",
      "46827520it [00:05, 7831596.62it/s]\n"
     ]
    }
   ],
   "source": [
    "resNet18_tl = torchvision.models.resnet18(pretrained=True)\n",
    "for param in resNet18_tl.parameters():\n",
    "    param.requires_grad = False\n",
    "\n",
    "fc_in_features = resNet18_tl.fc.in_features\n",
    "resNet18_tl.fc = torch.nn.Linear(fc_in_features, 2)"
   ]
  },
  {
   "cell_type": "code",
   "execution_count": 189,
   "metadata": {},
   "outputs": [
    {
     "name": "stdout",
     "output_type": "stream",
     "text": [
      "Epoch 1/3\n",
      "----------\n",
      "train Loss: 3.2853 Acc: 0.2500\n",
      "val Loss: 0.6765 Acc: 1.0000\n",
      "Epoch 2/3\n",
      "----------\n",
      "train Loss: 1.1338 Acc: 0.7500\n",
      "val Loss: 3.2416 Acc: 0.0000\n",
      "Epoch 3/3\n",
      "----------\n",
      "train Loss: 1.5686 Acc: 0.5000\n",
      "val Loss: 0.0628 Acc: 1.0000\n",
      "Training time: 1minutes 40.980589866638184s\n",
      "Best val Acc: 1.000000\n"
     ]
    }
   ],
   "source": [
    "resNet18_tl = resNet18_tl#.to(device)\n",
    "\n",
    "# params (iterable) – iterable of parameters to optimize or dicts defining parameter groups\n",
    "optimizer = torch.optim.Adam(resNet18_tl.fc.parameters(), lr = 0.01, weight_decay=1)\n",
    "\n",
    "criterion = nn.CrossEntropyLoss()\n",
    "\n",
    "scheduler = torch.optim.lr_scheduler.ReduceLROnPlateau(optimizer, 'min',patience=2)\n",
    "\n",
    "\n",
    "BestResNet18_tl = train_model(resNet18_tl, 'resNet18_tl', criterion, optimizer, scheduler, num_epochs = 3, verbose = True)"
   ]
  },
  {
   "cell_type": "markdown",
   "metadata": {},
   "source": [
    "## ResNet50_TL"
   ]
  },
  {
   "cell_type": "code",
   "execution_count": 10,
   "metadata": {},
   "outputs": [
    {
     "name": "stderr",
     "output_type": "stream",
     "text": [
      "Downloading: \"https://download.pytorch.org/models/resnet50-19c8e357.pth\" to /Users/nhungle/.torch/models/resnet50-19c8e357.pth\n",
      "102502400it [00:08, 12519828.08it/s]\n"
     ]
    }
   ],
   "source": [
    "resNet50_tl = torchvision.models.resnet50(pretrained=True)\n",
    "for param in resNet50_tl.parameters():\n",
    "    param.requires_grad = False\n",
    "\n",
    "fc_in_features = resNet50_tl.fc.in_features\n",
    "resNet50_tl.fc = torch.nn.Linear(fc_in_features, 2)"
   ]
  },
  {
   "cell_type": "code",
   "execution_count": 11,
   "metadata": {},
   "outputs": [
    {
     "name": "stdout",
     "output_type": "stream",
     "text": [
      "Epoch 1/3\n",
      "----------\n",
      "train Loss: 11.7420 Acc: 0.5000\n",
      "val Loss: 5.3971 Acc: 0.0000\n",
      "Epoch 2/3\n",
      "----------\n",
      "train Loss: 2.6619 Acc: 0.7500\n",
      "val Loss: 0.0000 Acc: 1.0000\n",
      "Epoch 3/3\n",
      "----------\n",
      "train Loss: 7.1961 Acc: 0.5000\n",
      "val Loss: 0.9291 Acc: 0.0000\n",
      "Training time: 5minutes 5.0708229541778564s\n",
      "Best val Acc: 1.000000\n"
     ]
    }
   ],
   "source": [
    "resNet50_tl = resNet50_tl#.to(device)\n",
    "\n",
    "# params (iterable) – iterable of parameters to optimize or dicts defining parameter groups\n",
    "optimizer = torch.optim.Adam(resNet50_tl.fc.parameters(), lr = 0.01, weight_decay=1)\n",
    "\n",
    "criterion = nn.CrossEntropyLoss()\n",
    "\n",
    "scheduler = torch.optim.lr_scheduler.ReduceLROnPlateau(optimizer, 'min',patience=2)\n",
    "\n",
    "\n",
    "BestResNet50_tl = train_model(resNet50_tl, 'resNet50_tl', criterion, optimizer, scheduler, num_epochs = 3, verbose = True)"
   ]
  },
  {
   "cell_type": "markdown",
   "metadata": {},
   "source": [
    "## Evaluation on Test Set"
   ]
  },
  {
   "cell_type": "code",
   "execution_count": 2,
   "metadata": {},
   "outputs": [],
   "source": [
    "def inference(model_ft,loader):\n",
    "    model_ft.eval()\n",
    "    whole_output =[]\n",
    "    whole_target = []\n",
    "    \n",
    "\n",
    "    for valData in loader:\n",
    "        data = valData['x']\n",
    "        target = valData['y']\n",
    "        if use_gpu:\n",
    "            data = Variable(data,volatile=True).type(torch.FloatTensor).cuda()\n",
    "            target = Variable(target,volatile=True).type(torch.LongTensor).cuda()\n",
    "        else:\n",
    "            data= Variable(data,volatile=True).type(torch.FloatTensor)\n",
    "            target = Variable(target,volatile=True).type(torch.LongTensor)\n",
    "\n",
    "        output =F.softmax(model_ft(data),dim=1)\n",
    "        whole_output.append( output.cpu().data.numpy())\n",
    "        whole_target.append( valData['y'].numpy())\n",
    "\n",
    "    whole_output = np.concatenate(whole_output)\n",
    "    whole_target = list(np.concatenate(whole_target))\n",
    "    y_target = whole_target\n",
    "\n",
    "\n",
    "    #print('Whole_output: {}, whole_target: {}'.format(whole_output, whole_target))\n",
    "    #print('y_target: {}'.format(y_target))\n",
    "    # Get the probability of being in class 1 \n",
    "    y_score = [output[1] for output in whole_output]\n",
    "    return y_score, y_target\n"
   ]
  },
  {
   "cell_type": "code",
   "execution_count": 60,
   "metadata": {},
   "outputs": [],
   "source": [
    "def write_list_to_file(filename, my_list):\n",
    "    with open(filename, 'w') as f:\n",
    "        for item in my_list:\n",
    "            f.write(\"%s\\n\" % item)"
   ]
  },
  {
   "cell_type": "code",
   "execution_count": 190,
   "metadata": {},
   "outputs": [],
   "source": [
    "##### Inference Resnet34 #######\n",
    "BestResNet34_tl = torch.load(os.path.join(graph_path, 'resNet34_tl.pt'))\n",
    "y_score_resnet34_tl, y_target_resnet34_tl = inference(BestResNet34_tl, dataloaders['test'])\n",
    "write_list_to_file(os.path.join(graph_path, 'y_score_resnet34_tl.txt'), y_score_resnet34_tl)\n",
    "write_list_to_file(os.path.join(graph_path, 'y_target_resnet34_tl.txt'), y_target_resnet34_tl)"
   ]
  },
  {
   "cell_type": "code",
   "execution_count": 204,
   "metadata": {},
   "outputs": [
    {
     "name": "stderr",
     "output_type": "stream",
     "text": [
      "/anaconda3/lib/python3.7/site-packages/ipykernel_launcher.py:14: UserWarning: volatile was removed and now has no effect. Use `with torch.no_grad():` instead.\n",
      "  \n",
      "/anaconda3/lib/python3.7/site-packages/ipykernel_launcher.py:15: UserWarning: volatile was removed and now has no effect. Use `with torch.no_grad():` instead.\n",
      "  from ipykernel import kernelapp as app\n"
     ]
    }
   ],
   "source": [
    "##### Inference Resnet18 #######\n",
    "BestResNet18_tl = torch.load(os.path.join(graph_path, 'resNet18_tl.pt'))\n",
    "y_score_resnet18_tl, y_target_resnet18_tl = inference(BestResNet18_tl, dataloaders['test'])\n",
    "write_list_to_file(os.path.join(graph_path, 'y_score_resnet18_tl.txt'), y_score_resnet18_tl)\n",
    "write_list_to_file(os.path.join(graph_path, 'y_target_resnet18_tl.txt'), y_target_resnet18_tl)"
   ]
  },
  {
   "cell_type": "code",
   "execution_count": null,
   "metadata": {},
   "outputs": [],
   "source": [
    "def evaluate_model(model, dataloader, loss_fn, phase = 'test'):\n",
    "    model.eval()\n",
    "    running_correct = 0\n",
    "    running_loss = 0\n",
    "    running_total = 0\n",
    "    outputs = np.array(0)\n",
    "    preds = np.array(0)\n",
    "    labels = np.array(0)\n",
    "    for data in dataloader[phase]:\n",
    "        inputs = data['x'].type(torch.FloatTensor).to(device)\n",
    "        label = data['y'].to(device)\n",
    "        output = model(inputs)\n",
    "        loss = loss_fn(output, label)\n",
    "        _, pred = torch.max(output, dim = 1)\n",
    "        num_inputs = inputs.size()[0]\n",
    "        outputs = np.append(outputs, output.cpu().detach().numpy())\n",
    "        preds = np.append(preds, pred.cpu().detach().numpy())\n",
    "        labels = np.append(labels, label.cpu().detach().numpy())\n",
    "        running_correct += torch.sum(pred ==label).item()\n",
    "        running_loss += loss.item()*num_inputs\n",
    "        running_total += num_inputs\n",
    "    accuracy = float(running_correct/running_total)\n",
    "    loss = float(running_loss/running_total)\n",
    "    \n",
    "    return outputs[1:], preds[1:], labels[1:], accuracy, loss"
   ]
  },
  {
   "cell_type": "code",
   "execution_count": null,
   "metadata": {},
   "outputs": [],
   "source": [
    "criterion = nn.CrossEntropyLoss()\n",
    "outputs_TL, preds_TL, labels_TL, accuracy_TL, loss_TL = evaluate_model(BestResNet34_tl, dataloaders, criterion)"
   ]
  },
  {
   "cell_type": "code",
   "execution_count": null,
   "metadata": {},
   "outputs": [],
   "source": []
  },
  {
   "cell_type": "code",
   "execution_count": null,
   "metadata": {},
   "outputs": [],
   "source": []
  }
 ],
 "metadata": {
  "kernelspec": {
   "display_name": "Python 3",
   "language": "python",
   "name": "python3"
  },
  "language_info": {
   "codemirror_mode": {
    "name": "ipython",
    "version": 3
   },
   "file_extension": ".py",
   "mimetype": "text/x-python",
   "name": "python",
   "nbconvert_exporter": "python",
   "pygments_lexer": "ipython3",
   "version": "3.7.1"
  }
 },
 "nbformat": 4,
 "nbformat_minor": 2
}
