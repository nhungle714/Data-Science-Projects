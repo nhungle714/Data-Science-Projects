{
 "cells": [
  {
   "cell_type": "code",
   "execution_count": 3,
   "metadata": {},
   "outputs": [],
   "source": [
    "import pandas as pd\n",
    "import numpy as np\n",
    "\n",
    "from scipy import stats\n",
    "from scipy.stats import norm\n",
    "\n",
    "import matplotlib.pyplot as plt\n",
    "import seaborn as sns\n",
    "\n",
    "import os"
   ]
  },
  {
   "cell_type": "code",
   "execution_count": 13,
   "metadata": {},
   "outputs": [],
   "source": [
    "path = os.getcwd()\n",
    "excel_path = os.path.join(path, 'Excel Data')"
   ]
  },
  {
   "cell_type": "code",
   "execution_count": 19,
   "metadata": {},
   "outputs": [],
   "source": [
    "cal_test = pd.read_csv(os.path.join(excel_path, 'calc_case_description_test_set.csv'))\n",
    "cal_train = pd.read_csv(os.path.join(excel_path, 'calc_case_description_train_set.csv'))\n",
    "mass_test = pd.read_csv(os.path.join(excel_path, 'mass_case_description_test_set.csv'))\n",
    "mass_train = pd.read_csv(os.path.join(excel_path, 'mass_case_description_train_set.csv'))"
   ]
  },
  {
   "cell_type": "code",
   "execution_count": 18,
   "metadata": {},
   "outputs": [
    {
     "data": {
      "text/plain": [
       "0       CBIS-DDSM/Calc-Training_P_00005_RIGHT_CC/08-07...\n",
       "1       CBIS-DDSM/Calc-Training_P_00005_RIGHT_MLO/08-0...\n",
       "2       CBIS-DDSM/Calc-Training_P_00007_LEFT_CC/08-07-...\n",
       "3       CBIS-DDSM/Calc-Training_P_00007_LEFT_MLO/08-07...\n",
       "4       CBIS-DDSM/Calc-Training_P_00008_LEFT_CC/08-07-...\n",
       "5       CBIS-DDSM/Calc-Training_P_00008_LEFT_MLO/08-07...\n",
       "6       CBIS-DDSM/Calc-Training_P_00008_RIGHT_CC/08-07...\n",
       "7       CBIS-DDSM/Calc-Training_P_00008_RIGHT_MLO/08-0...\n",
       "8       CBIS-DDSM/Calc-Training_P_00010_LEFT_CC/08-07-...\n",
       "9       CBIS-DDSM/Calc-Training_P_00010_LEFT_MLO/08-07...\n",
       "10      CBIS-DDSM/Calc-Training_P_00011_LEFT_CC/08-07-...\n",
       "11      CBIS-DDSM/Calc-Training_P_00011_LEFT_MLO/08-07...\n",
       "12      CBIS-DDSM/Calc-Training_P_00012_LEFT_CC/08-07-...\n",
       "13      CBIS-DDSM/Calc-Training_P_00012_LEFT_MLO/08-07...\n",
       "14      CBIS-DDSM/Calc-Training_P_00013_RIGHT_MLO/08-0...\n",
       "15      CBIS-DDSM/Calc-Training_P_00014_LEFT_CC/08-07-...\n",
       "16      CBIS-DDSM/Calc-Training_P_00014_LEFT_MLO/08-07...\n",
       "17      CBIS-DDSM/Calc-Training_P_00016_LEFT_CC/08-07-...\n",
       "18      CBIS-DDSM/Calc-Training_P_00016_LEFT_MLO/08-07...\n",
       "19      CBIS-DDSM/Calc-Training_P_00019_RIGHT_CC/08-07...\n",
       "20      CBIS-DDSM/Calc-Training_P_00019_RIGHT_MLO/08-0...\n",
       "21      CBIS-DDSM/Calc-Training_P_00020_LEFT_CC/08-07-...\n",
       "22      CBIS-DDSM/Calc-Training_P_00020_LEFT_MLO/08-07...\n",
       "23      CBIS-DDSM/Calc-Training_P_00022_LEFT_CC/08-07-...\n",
       "24      CBIS-DDSM/Calc-Training_P_00022_LEFT_MLO/08-07...\n",
       "25      CBIS-DDSM/Calc-Training_P_00024_LEFT_CC/08-07-...\n",
       "26      CBIS-DDSM/Calc-Training_P_00024_LEFT_MLO/08-07...\n",
       "27      CBIS-DDSM/Calc-Training_P_00028_LEFT_MLO/08-07...\n",
       "28      CBIS-DDSM/Calc-Training_P_00029_LEFT_CC/08-07-...\n",
       "29      CBIS-DDSM/Calc-Training_P_00029_LEFT_MLO/08-07...\n",
       "                              ...                        \n",
       "1197    CBIS-DDSM/Calc-Training_P_02437_LEFT_MLO/08-07...\n",
       "1198    CBIS-DDSM/Calc-Training_P_02442_LEFT_CC/08-07-...\n",
       "1199    CBIS-DDSM/Calc-Training_P_02442_LEFT_MLO/08-07...\n",
       "1200    CBIS-DDSM/Calc-Training_P_02456_LEFT_MLO/08-07...\n",
       "1201    CBIS-DDSM/Calc-Training_P_02459_RIGHT_CC/08-07...\n",
       "1202    CBIS-DDSM/Calc-Training_P_02459_RIGHT_MLO/08-0...\n",
       "1203    CBIS-DDSM/Calc-Training_P_02460_RIGHT_CC/08-07...\n",
       "1204    CBIS-DDSM/Calc-Training_P_02460_RIGHT_MLO/08-0...\n",
       "1205    CBIS-DDSM/Calc-Training_P_02468_LEFT_CC/08-07-...\n",
       "1206    CBIS-DDSM/Calc-Training_P_02468_LEFT_MLO/08-07...\n",
       "1207    CBIS-DDSM/Calc-Training_P_02475_LEFT_CC/08-07-...\n",
       "1208    CBIS-DDSM/Calc-Training_P_02475_LEFT_MLO/08-07...\n",
       "1209    CBIS-DDSM/Calc-Training_P_02489_RIGHT_CC/08-07...\n",
       "1210    CBIS-DDSM/Calc-Training_P_02489_RIGHT_MLO/08-0...\n",
       "1211    CBIS-DDSM/Calc-Training_P_02508_LEFT_CC/08-07-...\n",
       "1212    CBIS-DDSM/Calc-Training_P_02508_LEFT_MLO/08-07...\n",
       "1213    CBIS-DDSM/Calc-Training_P_02518_RIGHT_CC/08-07...\n",
       "1214    CBIS-DDSM/Calc-Training_P_02518_RIGHT_MLO/08-0...\n",
       "1215    CBIS-DDSM/Calc-Training_P_02522_RIGHT_CC/08-07...\n",
       "1216    CBIS-DDSM/Calc-Training_P_02522_RIGHT_MLO/08-0...\n",
       "1217    CBIS-DDSM/Calc-Training_P_02559_RIGHT_CC/08-07...\n",
       "1218    CBIS-DDSM/Calc-Training_P_02559_RIGHT_MLO/08-0...\n",
       "1219    CBIS-DDSM/Calc-Training_P_02563_RIGHT_CC/08-07...\n",
       "1220    CBIS-DDSM/Calc-Training_P_02563_RIGHT_MLO/08-0...\n",
       "1221    CBIS-DDSM/Calc-Training_P_02566_RIGHT_CC/08-07...\n",
       "1222    CBIS-DDSM/Calc-Training_P_02566_RIGHT_MLO/08-0...\n",
       "1223    CBIS-DDSM/Calc-Training_P_02572_LEFT_CC/08-07-...\n",
       "1224    CBIS-DDSM/Calc-Training_P_02572_LEFT_MLO/08-07...\n",
       "1225    CBIS-DDSM/Calc-Training_P_02584_LEFT_CC/08-07-...\n",
       "1226    CBIS-DDSM/Calc-Training_P_02584_LEFT_MLO/08-07...\n",
       "Name: image file path, Length: 1227, dtype: object"
      ]
     },
     "execution_count": 18,
     "metadata": {},
     "output_type": "execute_result"
    }
   ],
   "source": [
    "cal_train['image file path']"
   ]
  }
 ],
 "metadata": {
  "kernelspec": {
   "display_name": "Python 3",
   "language": "python",
   "name": "python3"
  },
  "language_info": {
   "codemirror_mode": {
    "name": "ipython",
    "version": 3
   },
   "file_extension": ".py",
   "mimetype": "text/x-python",
   "name": "python",
   "nbconvert_exporter": "python",
   "pygments_lexer": "ipython3",
   "version": "3.7.1"
  }
 },
 "nbformat": 4,
 "nbformat_minor": 2
}
