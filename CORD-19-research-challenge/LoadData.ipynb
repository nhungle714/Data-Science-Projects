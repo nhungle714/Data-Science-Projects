{
 "cells": [
  {
   "cell_type": "markdown",
   "metadata": {},
   "source": [
    "# Goal:\n",
    "\n",
    "Create a data frame that stores abstract of each research paper"
   ]
  },
  {
   "cell_type": "markdown",
   "metadata": {},
   "source": [
    "# Data Preprocessing"
   ]
  },
  {
   "cell_type": "code",
   "execution_count": 2,
   "metadata": {},
   "outputs": [],
   "source": [
    "import numpy as np # linear algebra\n",
    "import pandas as pd # data processing, CSV file I/O (e.g. pd.read_csv)\n",
    "import glob\n",
    "import json\n",
    "import os\n",
    "\n",
    "import matplotlib.pyplot as plt\n",
    "plt.style.use('ggplot')"
   ]
  },
  {
   "cell_type": "code",
   "execution_count": 14,
   "metadata": {},
   "outputs": [],
   "source": [
    "current_folder = os.getcwd()"
   ]
  },
  {
   "cell_type": "code",
   "execution_count": 15,
   "metadata": {},
   "outputs": [],
   "source": [
    "root_path = os.path.join(current_folder, 'data/')"
   ]
  },
  {
   "cell_type": "code",
   "execution_count": 19,
   "metadata": {},
   "outputs": [],
   "source": [
    "metadata_path = os.path.join(root_path, 'metadata.csv')"
   ]
  },
  {
   "cell_type": "code",
   "execution_count": 20,
   "metadata": {},
   "outputs": [
    {
     "data": {
      "text/plain": [
       "'/Users/nhungle/Desktop/repos/Data-Science-Projects/CORD-19-research-challenge/data/metadata.csv'"
      ]
     },
     "execution_count": 20,
     "metadata": {},
     "output_type": "execute_result"
    }
   ],
   "source": [
    "metadata_path"
   ]
  },
  {
   "cell_type": "code",
   "execution_count": 39,
   "metadata": {},
   "outputs": [],
   "source": [
    "meta_df = pd.read_csv(metadata_path,\n",
    "                     dtype={\n",
    "                         'pubmed_id': str,\n",
    "                         'Microsoft Academic Paper ID': str, \n",
    "                         'doi': str\n",
    "                     })"
   ]
  },
  {
   "cell_type": "code",
   "execution_count": 41,
   "metadata": {},
   "outputs": [
    {
     "name": "stdout",
     "output_type": "stream",
     "text": [
      "<class 'pandas.core.frame.DataFrame'>\n",
      "RangeIndex: 44220 entries, 0 to 44219\n",
      "Data columns (total 15 columns):\n",
      "sha                            28462 non-null object\n",
      "source_x                       44220 non-null object\n",
      "title                          43996 non-null object\n",
      "doi                            40750 non-null object\n",
      "pmcid                          23319 non-null object\n",
      "pubmed_id                      22943 non-null object\n",
      "license                        44220 non-null object\n",
      "abstract                       35806 non-null object\n",
      "publish_time                   34197 non-null object\n",
      "authors                        41074 non-null object\n",
      "journal                        33173 non-null object\n",
      "Microsoft Academic Paper ID    964 non-null object\n",
      "WHO #Covidence                 1767 non-null object\n",
      "has_full_text                  44220 non-null bool\n",
      "full_text_file                 32829 non-null object\n",
      "dtypes: bool(1), object(14)\n",
      "memory usage: 4.8+ MB\n"
     ]
    }
   ],
   "source": [
    "meta_df.info()"
   ]
  },
  {
   "cell_type": "code",
   "execution_count": 42,
   "metadata": {},
   "outputs": [
    {
     "data": {
      "text/plain": [
       "29315"
      ]
     },
     "execution_count": 42,
     "metadata": {},
     "output_type": "execute_result"
    }
   ],
   "source": [
    "all_json= glob.glob(f'{root_path}/**/*.json', recursive=True)\n",
    "len(all_json)"
   ]
  },
  {
   "cell_type": "code",
   "execution_count": 67,
   "metadata": {},
   "outputs": [
    {
     "name": "stdout",
     "output_type": "stream",
     "text": [
      "ab680d5dbc4f51252da3473109a7885dd6b5eb6f: ... The evolutionary history of humans is characterized by dynamic shifts in population density and the structure of our social contact networks. Agriculture, the advent of City-States, European expansion...\n"
     ]
    }
   ],
   "source": [
    "class FileReader:\n",
    "    def __init__(self, file_path):\n",
    "        with open(file_path) as file:\n",
    "            content = json.load(file)\n",
    "            self.paper_id = content['paper_id']\n",
    "            self.abstract = []\n",
    "            self.body_text = []\n",
    "            # Abstract\n",
    "            for entry in content['abstract']:\n",
    "                self.abstract.append(entry['text'])\n",
    "            # Body text\n",
    "            for entry in content['body_text']:\n",
    "                self.body_text.append(entry['text'])\n",
    "            self.abstract = '\\n'.join(self.abstract)\n",
    "            self.body_text = '\\n'.join(self.body_text)\n",
    "    def __repr__(self):\n",
    "        return f'{self.paper_id}: {self.abstract[:200]}... {self.body_text[:200]}...'\n",
    "first_entry = FileReader(all_json[0])\n",
    "print(first_entry)"
   ]
  },
  {
   "cell_type": "code",
   "execution_count": 66,
   "metadata": {},
   "outputs": [],
   "source": [
    "def get_breaks(content, length):\n",
    "    data = \"\"\n",
    "    words = content.split(' ')\n",
    "    total_chars = 0\n",
    "\n",
    "    # add break every length characters\n",
    "    for i in range(len(words)):\n",
    "        total_chars += len(words[i])\n",
    "        if total_chars > length:\n",
    "            data = data + \"<br>\" + words[i]\n",
    "            total_chars = 0\n",
    "        else:\n",
    "            data = data + \" \" + words[i]\n",
    "    return data"
   ]
  },
  {
   "cell_type": "code",
   "execution_count": 68,
   "metadata": {},
   "outputs": [
    {
     "data": {
      "text/plain": [
       "'ab680d5dbc4f51252da3473109a7885dd6b5eb6f'"
      ]
     },
     "execution_count": 68,
     "metadata": {},
     "output_type": "execute_result"
    }
   ],
   "source": [
    "first_entry.paper_id"
   ]
  },
  {
   "cell_type": "code",
   "execution_count": 102,
   "metadata": {},
   "outputs": [
    {
     "data": {
      "text/plain": [
       "True"
      ]
     },
     "execution_count": 102,
     "metadata": {},
     "output_type": "execute_result"
    }
   ],
   "source": [
    "type(meta_df['authors'][1])==str"
   ]
  },
  {
   "cell_type": "code",
   "execution_count": 98,
   "metadata": {},
   "outputs": [
    {
     "data": {
      "text/plain": [
       "0        False\n",
       "1        False\n",
       "2        False\n",
       "3        False\n",
       "4        False\n",
       "         ...  \n",
       "44215    False\n",
       "44216    False\n",
       "44217    False\n",
       "44218    False\n",
       "44219    False\n",
       "Name: authors, Length: 44220, dtype: bool"
      ]
     },
     "execution_count": 98,
     "metadata": {},
     "output_type": "execute_result"
    }
   ],
   "source": [
    "meta_df['authors'].apply(lambda x: type(x)=='float')"
   ]
  },
  {
   "cell_type": "code",
   "execution_count": 150,
   "metadata": {},
   "outputs": [
    {
     "name": "stdout",
     "output_type": "stream",
     "text": [
      "Processing index: 0 of 29315\n",
      "Processing index: 2931 of 29315\n",
      "Processing index: 5862 of 29315\n",
      "Processing index: 8793 of 29315\n",
      "Processing index: 11724 of 29315\n",
      "Processing index: 14655 of 29315\n",
      "Processing index: 17586 of 29315\n",
      "Processing index: 20517 of 29315\n",
      "Processing index: 23448 of 29315\n",
      "Processing index: 26379 of 29315\n",
      "Processing index: 29310 of 29315\n"
     ]
    }
   ],
   "source": [
    "dict_ = {'paper_id': [], 'abstract': [],\n",
    "         'body_text': [], 'authors': [],\n",
    "         'title': [], 'journal': [],\n",
    "         'abstract_summary': []}\n",
    "for idx, entry in enumerate(all_json):\n",
    "    if idx % (len(all_json) // 10) == 0:\n",
    "        print(f'Processing index: {idx} of {len(all_json)}')\n",
    "    content = FileReader(entry)\n",
    "    \n",
    "    # get metadata information\n",
    "    meta_data = meta_df.loc[meta_df['sha'] == content.paper_id]\n",
    "    \n",
    "    # no metadata, skip this paper\n",
    "    if len(meta_data) == 0:\n",
    "        continue\n",
    "    \n",
    "    \n",
    "    dict_['paper_id'].append(content.paper_id)\n",
    "    dict_['abstract'].append(content.abstract)\n",
    "    dict_['body_text'].append(content.body_text)\n",
    "    \n",
    "    # get abstract summary\n",
    "\n",
    "    if len(content.abstract) == 0:\n",
    "        dict_['abstract_summary'].append(\"Not provided\")\n",
    "        \n",
    "    elif len(content.abstract.split(' ')) > 100:\n",
    "        info = content.abstract.split(' ')[:100]\n",
    "        # add break every 40 characters\n",
    "        summary = get_breaks(' '.join(info), 40)\n",
    "        dict_['abstract_summary'].append(summary + \"...\")\n",
    "        \n",
    "    else:\n",
    "        # abstract is short enough\n",
    "        summary = get_breaks(content.abstract, 40)\n",
    "        dict_['abstract_summary'].append(summary)\n",
    "        \n",
    "        \n",
    "\n",
    "    \n",
    "    # get authors\n",
    "    try:\n",
    "        authors_list = meta_data['authors'].values[0].split(';')\n",
    "        if len(authors_list) > 2:\n",
    "            dict_['authors'].append('; '.join(authors_list[:2]) + '...')\n",
    "            \n",
    "        else:\n",
    "            dict_['authors'].append('; '.join(authors_list))\n",
    "    except Exception as e:\n",
    "        # if only one author - or Null value\n",
    "        dict_['authors'].append(meta_data['authors'].values[0])\n",
    "        \n",
    "        \n",
    "        \n",
    "    # get title\n",
    "    try:\n",
    "        title = get_breaks(meta_data['title'].values[0], 40)\n",
    "        dict_['title'].append(title)\n",
    "    # if title was not provided\n",
    "    except Exception as e:\n",
    "        dict_['title'].append(meta_data['title'].values[0])\n",
    "    \n",
    "    # add the journal information\n",
    "    dict_['journal'].append(meta_data['journal'].values[0])\n",
    "            \n",
    "    "
   ]
  },
  {
   "cell_type": "code",
   "execution_count": 151,
   "metadata": {},
   "outputs": [
    {
     "data": {
      "text/plain": [
       "dict_keys(['paper_id', 'abstract', 'body_text', 'authors', 'title', 'journal', 'abstract_summary'])"
      ]
     },
     "execution_count": 151,
     "metadata": {},
     "output_type": "execute_result"
    }
   ],
   "source": [
    "dict_.keys()"
   ]
  },
  {
   "cell_type": "code",
   "execution_count": 152,
   "metadata": {},
   "outputs": [
    {
     "name": "stdout",
     "output_type": "stream",
     "text": [
      "paper_id 27678\n",
      "abstract 27678\n",
      "body_text 27678\n",
      "authors 27678\n",
      "title 27678\n",
      "journal 27678\n",
      "abstract_summary 27678\n"
     ]
    }
   ],
   "source": [
    "for key in dict_.keys():\n",
    "    print(key, len(dict_[key]))"
   ]
  },
  {
   "cell_type": "code",
   "execution_count": 153,
   "metadata": {},
   "outputs": [],
   "source": [
    "covid19_df = pd.DataFrame(dict_,\n",
    "                         columns=['paper_id', 'abstract', 'body_text', 'authors', 'title', 'journal', 'abstract_summary'])\n"
   ]
  },
  {
   "cell_type": "code",
   "execution_count": 154,
   "metadata": {},
   "outputs": [
    {
     "data": {
      "text/html": [
       "<div>\n",
       "<style scoped>\n",
       "    .dataframe tbody tr th:only-of-type {\n",
       "        vertical-align: middle;\n",
       "    }\n",
       "\n",
       "    .dataframe tbody tr th {\n",
       "        vertical-align: top;\n",
       "    }\n",
       "\n",
       "    .dataframe thead th {\n",
       "        text-align: right;\n",
       "    }\n",
       "</style>\n",
       "<table border=\"1\" class=\"dataframe\">\n",
       "  <thead>\n",
       "    <tr style=\"text-align: right;\">\n",
       "      <th></th>\n",
       "      <th>paper_id</th>\n",
       "      <th>abstract</th>\n",
       "      <th>body_text</th>\n",
       "      <th>authors</th>\n",
       "      <th>title</th>\n",
       "      <th>journal</th>\n",
       "      <th>abstract_summary</th>\n",
       "    </tr>\n",
       "  </thead>\n",
       "  <tbody>\n",
       "    <tr>\n",
       "      <td>0</td>\n",
       "      <td>ab680d5dbc4f51252da3473109a7885dd6b5eb6f</td>\n",
       "      <td></td>\n",
       "      <td>The evolutionary history of humans is characte...</td>\n",
       "      <td>Scarpino, S.V.</td>\n",
       "      <td>Evolutionary Medicine IV. Evolution and&lt;br&gt;Em...</td>\n",
       "      <td>Encyclopedia of Evolutionary Biology</td>\n",
       "      <td>Not provided</td>\n",
       "    </tr>\n",
       "    <tr>\n",
       "      <td>1</td>\n",
       "      <td>6599ebbef3d868afac9daa4f80fa075675cf03bc</td>\n",
       "      <td>International aviation is growing rapidly, res...</td>\n",
       "      <td>Sixty years ago, civil aviation was an infant ...</td>\n",
       "      <td>Macintosh, Andrew;  Wallace, Lailey</td>\n",
       "      <td>International aviation emissions to 2025: Can...</td>\n",
       "      <td>Energy Policy</td>\n",
       "      <td>International aviation is growing rapidly,&lt;br...</td>\n",
       "    </tr>\n",
       "    <tr>\n",
       "      <td>2</td>\n",
       "      <td>eb5c7f3ff921ad6469b79cc8a3c122648204ece4</td>\n",
       "      <td></td>\n",
       "      <td>Acute infections of the gastrointestinal tract...</td>\n",
       "      <td>Booth, I.W.;  McNeish, A.S.</td>\n",
       "      <td>Mechanisms of diarrhoea</td>\n",
       "      <td>Baillière's Clinical Gastroenterology</td>\n",
       "      <td>Not provided</td>\n",
       "    </tr>\n",
       "    <tr>\n",
       "      <td>3</td>\n",
       "      <td>b87b790c96c75faa22a085cb560f7b3d8e018b24</td>\n",
       "      <td></td>\n",
       "      <td>There are three domains of life-Bacteria, Arch...</td>\n",
       "      <td>Louten, Jennifer</td>\n",
       "      <td>Chapter 3 Features of Host Cells Cellular and...</td>\n",
       "      <td>Essential Human Virology</td>\n",
       "      <td>Not provided</td>\n",
       "    </tr>\n",
       "    <tr>\n",
       "      <td>4</td>\n",
       "      <td>68c0bb1989b6ca2b38da32a0d992027db39f80bc</td>\n",
       "      <td>Hong Kong's new Police Commissioner Chris Tang...</td>\n",
       "      <td>It is also noteworthy that Tang, who was once ...</td>\n",
       "      <td>Hui, Victoria Tin-bor</td>\n",
       "      <td>Beijing's Hard and Soft Repression in Hong Kong</td>\n",
       "      <td>Orbis</td>\n",
       "      <td>Hong Kong's new Police Commissioner Chris Tan...</td>\n",
       "    </tr>\n",
       "    <tr>\n",
       "      <td>...</td>\n",
       "      <td>...</td>\n",
       "      <td>...</td>\n",
       "      <td>...</td>\n",
       "      <td>...</td>\n",
       "      <td>...</td>\n",
       "      <td>...</td>\n",
       "      <td>...</td>\n",
       "    </tr>\n",
       "    <tr>\n",
       "      <td>27673</td>\n",
       "      <td>228650bc0429064d800d4b9c5fb0e00c2533a579</td>\n",
       "      <td>We hypothesized that postnatal development of ...</td>\n",
       "      <td>Early nutritional environment affects long ter...</td>\n",
       "      <td>Harlow, KaLynn;  Ferreira, Christina R....</td>\n",
       "      <td>Lipidome profiles of postnatal day 2 vaginal&lt;...</td>\n",
       "      <td>PLoS One</td>\n",
       "      <td>We hypothesized that postnatal development of...</td>\n",
       "    </tr>\n",
       "    <tr>\n",
       "      <td>27674</td>\n",
       "      <td>2246e28681bde69c65dc9081df367bb661997f19</td>\n",
       "      <td>Venereal syphilis is a multi-stage, sexually t...</td>\n",
       "      <td>Syphilis is a sexually transmitted disease (ST...</td>\n",
       "      <td>Cruz, Adriana R.;  Pillay, Allan...</td>\n",
       "      <td>Secondary Syphilis in Cali, Colombia: New&lt;br&gt;...</td>\n",
       "      <td>PLoS Negl Trop Dis</td>\n",
       "      <td>Venereal syphilis is a multi-stage, sexually&lt;...</td>\n",
       "    </tr>\n",
       "    <tr>\n",
       "      <td>27675</td>\n",
       "      <td>577c6a13f9ef70e9756890fc66e98f537c01ac0a</td>\n",
       "      <td>The emergence of Middle East respiratory syndr...</td>\n",
       "      <td>Scientific RepoRts | 6:21878 | DOI: 10 .1038/s...</td>\n",
       "      <td>Munster, Vincent J.;  Adney, Danielle R....</td>\n",
       "      <td>Replication and shedding of MERS-CoV in&lt;br&gt;Ja...</td>\n",
       "      <td>Sci Rep</td>\n",
       "      <td>The emergence of Middle East respiratory&lt;br&gt;s...</td>\n",
       "    </tr>\n",
       "    <tr>\n",
       "      <td>27676</td>\n",
       "      <td>c5c2bc7a07670d6fb970d84a59aab3832752a3f1</td>\n",
       "      <td>We have previously shown that the infection of...</td>\n",
       "      <td>Arenaviruses are enveloped RNA viruses contain...</td>\n",
       "      <td>Brunetti, Jesús E.;  Foscaldi, Sabrina...</td>\n",
       "      <td>Role of the ERK1/2 Signaling Pathway in the&lt;b...</td>\n",
       "      <td>Viruses</td>\n",
       "      <td>We have previously shown that the infection o...</td>\n",
       "    </tr>\n",
       "    <tr>\n",
       "      <td>27677</td>\n",
       "      <td>ba29366173f97f54a22e5c410b3d05e9a9649d28</td>\n",
       "      <td>Virus host shifts occur frequently, but the wh...</td>\n",
       "      <td>Emerging infectious diseases (EIDs) can cause ...</td>\n",
       "      <td>Schläppi, Daniel;  Lattrell, Patrick...</td>\n",
       "      <td>Foodborne Transmission of Deformed Wing Virus...</td>\n",
       "      <td>Insects</td>\n",
       "      <td>Virus host shifts occur frequently, but the&lt;b...</td>\n",
       "    </tr>\n",
       "  </tbody>\n",
       "</table>\n",
       "<p>27678 rows × 7 columns</p>\n",
       "</div>"
      ],
      "text/plain": [
       "                                       paper_id  \\\n",
       "0      ab680d5dbc4f51252da3473109a7885dd6b5eb6f   \n",
       "1      6599ebbef3d868afac9daa4f80fa075675cf03bc   \n",
       "2      eb5c7f3ff921ad6469b79cc8a3c122648204ece4   \n",
       "3      b87b790c96c75faa22a085cb560f7b3d8e018b24   \n",
       "4      68c0bb1989b6ca2b38da32a0d992027db39f80bc   \n",
       "...                                         ...   \n",
       "27673  228650bc0429064d800d4b9c5fb0e00c2533a579   \n",
       "27674  2246e28681bde69c65dc9081df367bb661997f19   \n",
       "27675  577c6a13f9ef70e9756890fc66e98f537c01ac0a   \n",
       "27676  c5c2bc7a07670d6fb970d84a59aab3832752a3f1   \n",
       "27677  ba29366173f97f54a22e5c410b3d05e9a9649d28   \n",
       "\n",
       "                                                abstract  \\\n",
       "0                                                          \n",
       "1      International aviation is growing rapidly, res...   \n",
       "2                                                          \n",
       "3                                                          \n",
       "4      Hong Kong's new Police Commissioner Chris Tang...   \n",
       "...                                                  ...   \n",
       "27673  We hypothesized that postnatal development of ...   \n",
       "27674  Venereal syphilis is a multi-stage, sexually t...   \n",
       "27675  The emergence of Middle East respiratory syndr...   \n",
       "27676  We have previously shown that the infection of...   \n",
       "27677  Virus host shifts occur frequently, but the wh...   \n",
       "\n",
       "                                               body_text  \\\n",
       "0      The evolutionary history of humans is characte...   \n",
       "1      Sixty years ago, civil aviation was an infant ...   \n",
       "2      Acute infections of the gastrointestinal tract...   \n",
       "3      There are three domains of life-Bacteria, Arch...   \n",
       "4      It is also noteworthy that Tang, who was once ...   \n",
       "...                                                  ...   \n",
       "27673  Early nutritional environment affects long ter...   \n",
       "27674  Syphilis is a sexually transmitted disease (ST...   \n",
       "27675  Scientific RepoRts | 6:21878 | DOI: 10 .1038/s...   \n",
       "27676  Arenaviruses are enveloped RNA viruses contain...   \n",
       "27677  Emerging infectious diseases (EIDs) can cause ...   \n",
       "\n",
       "                                           authors  \\\n",
       "0                                   Scarpino, S.V.   \n",
       "1              Macintosh, Andrew;  Wallace, Lailey   \n",
       "2                      Booth, I.W.;  McNeish, A.S.   \n",
       "3                                 Louten, Jennifer   \n",
       "4                            Hui, Victoria Tin-bor   \n",
       "...                                            ...   \n",
       "27673   Harlow, KaLynn;  Ferreira, Christina R....   \n",
       "27674          Cruz, Adriana R.;  Pillay, Allan...   \n",
       "27675  Munster, Vincent J.;  Adney, Danielle R....   \n",
       "27676    Brunetti, Jesús E.;  Foscaldi, Sabrina...   \n",
       "27677      Schläppi, Daniel;  Lattrell, Patrick...   \n",
       "\n",
       "                                                   title  \\\n",
       "0       Evolutionary Medicine IV. Evolution and<br>Em...   \n",
       "1       International aviation emissions to 2025: Can...   \n",
       "2                                Mechanisms of diarrhoea   \n",
       "3       Chapter 3 Features of Host Cells Cellular and...   \n",
       "4        Beijing's Hard and Soft Repression in Hong Kong   \n",
       "...                                                  ...   \n",
       "27673   Lipidome profiles of postnatal day 2 vaginal<...   \n",
       "27674   Secondary Syphilis in Cali, Colombia: New<br>...   \n",
       "27675   Replication and shedding of MERS-CoV in<br>Ja...   \n",
       "27676   Role of the ERK1/2 Signaling Pathway in the<b...   \n",
       "27677   Foodborne Transmission of Deformed Wing Virus...   \n",
       "\n",
       "                                     journal  \\\n",
       "0       Encyclopedia of Evolutionary Biology   \n",
       "1                              Energy Policy   \n",
       "2      Baillière's Clinical Gastroenterology   \n",
       "3                   Essential Human Virology   \n",
       "4                                      Orbis   \n",
       "...                                      ...   \n",
       "27673                               PLoS One   \n",
       "27674                     PLoS Negl Trop Dis   \n",
       "27675                                Sci Rep   \n",
       "27676                                Viruses   \n",
       "27677                                Insects   \n",
       "\n",
       "                                        abstract_summary  \n",
       "0                                           Not provided  \n",
       "1       International aviation is growing rapidly,<br...  \n",
       "2                                           Not provided  \n",
       "3                                           Not provided  \n",
       "4       Hong Kong's new Police Commissioner Chris Tan...  \n",
       "...                                                  ...  \n",
       "27673   We hypothesized that postnatal development of...  \n",
       "27674   Venereal syphilis is a multi-stage, sexually<...  \n",
       "27675   The emergence of Middle East respiratory<br>s...  \n",
       "27676   We have previously shown that the infection o...  \n",
       "27677   Virus host shifts occur frequently, but the<b...  \n",
       "\n",
       "[27678 rows x 7 columns]"
      ]
     },
     "execution_count": 154,
     "metadata": {},
     "output_type": "execute_result"
    }
   ],
   "source": [
    "covid19_df "
   ]
  },
  {
   "cell_type": "code",
   "execution_count": null,
   "metadata": {},
   "outputs": [],
   "source": []
  }
 ],
 "metadata": {
  "kernelspec": {
   "display_name": "Python 3",
   "language": "python",
   "name": "python3"
  },
  "language_info": {
   "codemirror_mode": {
    "name": "ipython",
    "version": 3
   },
   "file_extension": ".py",
   "mimetype": "text/x-python",
   "name": "python",
   "nbconvert_exporter": "python",
   "pygments_lexer": "ipython3",
   "version": "3.7.1"
  }
 },
 "nbformat": 4,
 "nbformat_minor": 2
}
