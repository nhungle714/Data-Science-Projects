{
 "cells": [
  {
   "cell_type": "code",
   "execution_count": 31,
   "metadata": {},
   "outputs": [],
   "source": [
    "import pandas as pd\n",
    "import numpy as np\n",
    "import os\n",
    "import seaborn as sns\n",
    "import pylab\n",
    "from sklearn.preprocessing import StandardScaler\n",
    "from sklearn.decomposition import PCA\n",
    "from sklearn.model_selection import train_test_split\n",
    "import numpy as np\n",
    "from sklearn.metrics import roc_auc_score\n",
    "import pickle\n",
    "import matplotlib.pyplot as plt"
   ]
  },
  {
   "cell_type": "code",
   "execution_count": 2,
   "metadata": {},
   "outputs": [],
   "source": [
    "root = os.getcwd()\n",
    "data_root = os.path.join(root, 'data')"
   ]
  },
  {
   "cell_type": "code",
   "execution_count": 3,
   "metadata": {},
   "outputs": [],
   "source": [
    "recovered_df = pd.read_csv(os.path.join(data_root, 'time_series_covid_19_recovered.csv'))\n",
    "\n",
    "deaths_df = pd.read_csv(os.path.join(data_root, 'time_series_covid_19_deaths.csv'))\n",
    "\n",
    "confirmed_df = pd.read_csv(os.path.join(data_root, 'time_series_covid_19_confirmed.csv'))"
   ]
  },
  {
   "cell_type": "code",
   "execution_count": 6,
   "metadata": {},
   "outputs": [],
   "source": [
    "open_line_df = pd.read_csv(os.path.join(data_root, 'COVID19_open_line_list.csv'))\n",
    "line_df = pd.read_csv(os.path.join(data_root, 'COVID19_line_list_data.csv'))\n",
    "data_df = pd.read_csv(os.path.join(data_root, 'covid_19_data.csv'))"
   ]
  },
  {
   "cell_type": "code",
   "execution_count": 13,
   "metadata": {},
   "outputs": [
    {
     "data": {
      "text/plain": [
       "Index(['SNo', 'ObservationDate', 'Province/State', 'Country/Region',\n",
       "       'Last Update', 'Confirmed', 'Deaths', 'Recovered'],\n",
       "      dtype='object')"
      ]
     },
     "execution_count": 13,
     "metadata": {},
     "output_type": "execute_result"
    }
   ],
   "source": [
    "data_df.columns"
   ]
  },
  {
   "cell_type": "code",
   "execution_count": 46,
   "metadata": {},
   "outputs": [],
   "source": [
    "agg_data = data_df\\\n",
    ".groupby(['ObservationDate', 'Country/Region'])\\\n",
    ".agg({'Confirmed': sum, 'Deaths': sum, 'Recovered': sum})\\\n",
    ".reset_index()\\\n",
    ".sort_values(by=['Country/Region', 'ObservationDate'])\n"
   ]
  },
  {
   "cell_type": "code",
   "execution_count": 58,
   "metadata": {},
   "outputs": [],
   "source": [
    "agg_data['new_confirmed'] = agg_data\\\n",
    ".groupby(['Country/Region'])['Confirmed'].transform(lambda x: x.diff().fillna(0))\n",
    "\n",
    "agg_data['new_deaths'] = agg_data\\\n",
    ".groupby(['Country/Region'])['Deaths'].transform(lambda x: x.diff().fillna(0))\n",
    "\n",
    "agg_data['new_recovered'] = agg_data\\\n",
    ".groupby(['Country/Region'])['Recovered'].transform(lambda x: x.diff().fillna(0))"
   ]
  },
  {
   "cell_type": "code",
   "execution_count": 59,
   "metadata": {},
   "outputs": [
    {
     "data": {
      "text/plain": [
       "Index(['ObservationDate', 'Country/Region', 'Confirmed', 'Deaths', 'Recovered',\n",
       "       'new_confirmed', 'new_deaths', 'new_recovered'],\n",
       "      dtype='object')"
      ]
     },
     "execution_count": 59,
     "metadata": {},
     "output_type": "execute_result"
    }
   ],
   "source": [
    "agg_data.columns"
   ]
  },
  {
   "cell_type": "code",
   "execution_count": 60,
   "metadata": {},
   "outputs": [
    {
     "data": {
      "text/html": [
       "<div>\n",
       "<style scoped>\n",
       "    .dataframe tbody tr th:only-of-type {\n",
       "        vertical-align: middle;\n",
       "    }\n",
       "\n",
       "    .dataframe tbody tr th {\n",
       "        vertical-align: top;\n",
       "    }\n",
       "\n",
       "    .dataframe thead th {\n",
       "        text-align: right;\n",
       "    }\n",
       "</style>\n",
       "<table border=\"1\" class=\"dataframe\">\n",
       "  <thead>\n",
       "    <tr style=\"text-align: right;\">\n",
       "      <th></th>\n",
       "      <th>ObservationDate</th>\n",
       "      <th>Country/Region</th>\n",
       "      <th>Confirmed</th>\n",
       "      <th>Deaths</th>\n",
       "      <th>Recovered</th>\n",
       "      <th>new_confirmed</th>\n",
       "      <th>new_deaths</th>\n",
       "      <th>new_recovered</th>\n",
       "    </tr>\n",
       "  </thead>\n",
       "  <tbody>\n",
       "    <tr>\n",
       "      <td>23</td>\n",
       "      <td>01/23/2020</td>\n",
       "      <td>Vietnam</td>\n",
       "      <td>2.0</td>\n",
       "      <td>0.0</td>\n",
       "      <td>0.0</td>\n",
       "      <td>0.0</td>\n",
       "      <td>0.0</td>\n",
       "      <td>0.0</td>\n",
       "    </tr>\n",
       "    <tr>\n",
       "      <td>34</td>\n",
       "      <td>01/24/2020</td>\n",
       "      <td>Vietnam</td>\n",
       "      <td>2.0</td>\n",
       "      <td>0.0</td>\n",
       "      <td>0.0</td>\n",
       "      <td>0.0</td>\n",
       "      <td>0.0</td>\n",
       "      <td>0.0</td>\n",
       "    </tr>\n",
       "    <tr>\n",
       "      <td>48</td>\n",
       "      <td>01/25/2020</td>\n",
       "      <td>Vietnam</td>\n",
       "      <td>2.0</td>\n",
       "      <td>0.0</td>\n",
       "      <td>0.0</td>\n",
       "      <td>0.0</td>\n",
       "      <td>0.0</td>\n",
       "      <td>0.0</td>\n",
       "    </tr>\n",
       "    <tr>\n",
       "      <td>63</td>\n",
       "      <td>01/26/2020</td>\n",
       "      <td>Vietnam</td>\n",
       "      <td>2.0</td>\n",
       "      <td>0.0</td>\n",
       "      <td>0.0</td>\n",
       "      <td>0.0</td>\n",
       "      <td>0.0</td>\n",
       "      <td>0.0</td>\n",
       "    </tr>\n",
       "    <tr>\n",
       "      <td>81</td>\n",
       "      <td>01/27/2020</td>\n",
       "      <td>Vietnam</td>\n",
       "      <td>2.0</td>\n",
       "      <td>0.0</td>\n",
       "      <td>0.0</td>\n",
       "      <td>0.0</td>\n",
       "      <td>0.0</td>\n",
       "      <td>0.0</td>\n",
       "    </tr>\n",
       "    <tr>\n",
       "      <td>...</td>\n",
       "      <td>...</td>\n",
       "      <td>...</td>\n",
       "      <td>...</td>\n",
       "      <td>...</td>\n",
       "      <td>...</td>\n",
       "      <td>...</td>\n",
       "      <td>...</td>\n",
       "      <td>...</td>\n",
       "    </tr>\n",
       "    <tr>\n",
       "      <td>3396</td>\n",
       "      <td>03/19/2020</td>\n",
       "      <td>Vietnam</td>\n",
       "      <td>85.0</td>\n",
       "      <td>0.0</td>\n",
       "      <td>16.0</td>\n",
       "      <td>10.0</td>\n",
       "      <td>0.0</td>\n",
       "      <td>0.0</td>\n",
       "    </tr>\n",
       "    <tr>\n",
       "      <td>3571</td>\n",
       "      <td>03/20/2020</td>\n",
       "      <td>Vietnam</td>\n",
       "      <td>91.0</td>\n",
       "      <td>0.0</td>\n",
       "      <td>16.0</td>\n",
       "      <td>6.0</td>\n",
       "      <td>0.0</td>\n",
       "      <td>0.0</td>\n",
       "    </tr>\n",
       "    <tr>\n",
       "      <td>3751</td>\n",
       "      <td>03/21/2020</td>\n",
       "      <td>Vietnam</td>\n",
       "      <td>94.0</td>\n",
       "      <td>0.0</td>\n",
       "      <td>17.0</td>\n",
       "      <td>3.0</td>\n",
       "      <td>0.0</td>\n",
       "      <td>1.0</td>\n",
       "    </tr>\n",
       "    <tr>\n",
       "      <td>3936</td>\n",
       "      <td>03/22/2020</td>\n",
       "      <td>Vietnam</td>\n",
       "      <td>113.0</td>\n",
       "      <td>0.0</td>\n",
       "      <td>17.0</td>\n",
       "      <td>19.0</td>\n",
       "      <td>0.0</td>\n",
       "      <td>0.0</td>\n",
       "    </tr>\n",
       "    <tr>\n",
       "      <td>4106</td>\n",
       "      <td>03/23/2020</td>\n",
       "      <td>Vietnam</td>\n",
       "      <td>123.0</td>\n",
       "      <td>0.0</td>\n",
       "      <td>17.0</td>\n",
       "      <td>10.0</td>\n",
       "      <td>0.0</td>\n",
       "      <td>0.0</td>\n",
       "    </tr>\n",
       "  </tbody>\n",
       "</table>\n",
       "<p>61 rows × 8 columns</p>\n",
       "</div>"
      ],
      "text/plain": [
       "     ObservationDate Country/Region  Confirmed  Deaths  Recovered  \\\n",
       "23        01/23/2020        Vietnam        2.0     0.0        0.0   \n",
       "34        01/24/2020        Vietnam        2.0     0.0        0.0   \n",
       "48        01/25/2020        Vietnam        2.0     0.0        0.0   \n",
       "63        01/26/2020        Vietnam        2.0     0.0        0.0   \n",
       "81        01/27/2020        Vietnam        2.0     0.0        0.0   \n",
       "...              ...            ...        ...     ...        ...   \n",
       "3396      03/19/2020        Vietnam       85.0     0.0       16.0   \n",
       "3571      03/20/2020        Vietnam       91.0     0.0       16.0   \n",
       "3751      03/21/2020        Vietnam       94.0     0.0       17.0   \n",
       "3936      03/22/2020        Vietnam      113.0     0.0       17.0   \n",
       "4106      03/23/2020        Vietnam      123.0     0.0       17.0   \n",
       "\n",
       "      new_confirmed  new_deaths  new_recovered  \n",
       "23              0.0         0.0            0.0  \n",
       "34              0.0         0.0            0.0  \n",
       "48              0.0         0.0            0.0  \n",
       "63              0.0         0.0            0.0  \n",
       "81              0.0         0.0            0.0  \n",
       "...             ...         ...            ...  \n",
       "3396           10.0         0.0            0.0  \n",
       "3571            6.0         0.0            0.0  \n",
       "3751            3.0         0.0            1.0  \n",
       "3936           19.0         0.0            0.0  \n",
       "4106           10.0         0.0            0.0  \n",
       "\n",
       "[61 rows x 8 columns]"
      ]
     },
     "execution_count": 60,
     "metadata": {},
     "output_type": "execute_result"
    }
   ],
   "source": [
    "agg_data.loc[agg_data['Country/Region']=='Vietnam']"
   ]
  },
  {
   "cell_type": "code",
   "execution_count": 73,
   "metadata": {},
   "outputs": [
    {
     "data": {
      "text/plain": [
       "Thailand               62\n",
       "Macau                  62\n",
       "Hong Kong              62\n",
       "Japan                  62\n",
       "Taiwan                 62\n",
       "                       ..\n",
       "Republic of Ireland     1\n",
       "St. Martin              1\n",
       "Bahamas                 1\n",
       " Azerbaijan             1\n",
       "('St. Martin',)         1\n",
       "Name: Country/Region, Length: 203, dtype: int64"
      ]
     },
     "execution_count": 73,
     "metadata": {},
     "output_type": "execute_result"
    }
   ],
   "source": [
    "agg_data['Country/Region'].value_counts()"
   ]
  },
  {
   "cell_type": "code",
   "execution_count": 74,
   "metadata": {},
   "outputs": [
    {
     "data": {
      "image/png": "[encoded data removed]",
      "text/plain": [
       "<Figure size 1296x576 with 1 Axes>"
      ]
     },
     "metadata": {
      "needs_background": "light"
     },
     "output_type": "display_data"
    }
   ],
   "source": [
    "country = 'South Korea'\n",
    "data = agg_data.loc[agg_data['Country/Region']==country]\n",
    "fig, ax = plt.subplots(figsize=(18, 8))\n",
    "ax.plot(data.ObservationDate, data.new_confirmed)\n",
    "ax.plot(data.ObservationDate, data.new_deaths)\n",
    "ax.set_xlabel('date', fontsize=15)\n",
    "ax.set_ylabel('count', fontsize=15)\n",
    "ax.legend(['New Confirmed', 'New Deaths'], loc='best')\n",
    "fig.suptitle(country, fontsize=20)\n",
    "plt.show()"
   ]
  },
  {
   "cell_type": "code",
   "execution_count": null,
   "metadata": {},
   "outputs": [],
   "source": []
  }
 ],
 "metadata": {
  "kernelspec": {
   "display_name": "Python 3",
   "language": "python",
   "name": "python3"
  },
  "language_info": {
   "codemirror_mode": {
    "name": "ipython",
    "version": 3
   },
   "file_extension": ".py",
   "mimetype": "text/x-python",
   "name": "python",
   "nbconvert_exporter": "python",
   "pygments_lexer": "ipython3",
   "version": "3.7.1"
  }
 },
 "nbformat": 4,
 "nbformat_minor": 2
}
