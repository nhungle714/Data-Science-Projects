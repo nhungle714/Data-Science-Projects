{
 "cells": [
  {
   "cell_type": "code",
   "execution_count": 246,
   "metadata": {},
   "outputs": [],
   "source": [
    "from torch.utils.data import Dataset, DataLoader\n",
    "import pandas as pd\n",
    "import numpy as np\n",
    "import os\n",
    "from skimage import io\n",
    "import torch\n",
    "from torchvision import transforms\n",
    "import torchvision\n",
    "from skimage import color\n",
    "import copy\n",
    "\n",
    "import time\n",
    "import torch\n",
    "import torch.nn as nn\n",
    "from torch.autograd import Variable\n",
    "import torch.optim as optim\n",
    "import torchvision\n",
    "from torchvision import datasets, models\n",
    "from torchvision import transforms as T\n",
    "from torch.utils.data import DataLoader, Dataset\n",
    "import numpy as np\n",
    "import matplotlib.pyplot as plt\n",
    "import os\n",
    "import time\n",
    "import pandas as pd\n",
    "from skimage import io, transform\n",
    "import matplotlib.image as mpimg\n",
    "from PIL import Image\n",
    "from sklearn.metrics import roc_auc_score\n",
    "import torch.nn.functional as F\n",
    "import scipy\n",
    "import random\n",
    "import pickle\n",
    "import scipy.io as sio\n",
    "import itertools\n",
    "from scipy.ndimage.interpolation import shift\n",
    "import copy\n",
    "import warnings\n",
    "#warnings.filterwarnings(\"ignore\")\n",
    "plt.ion()\n"
   ]
  },
  {
   "cell_type": "code",
   "execution_count": 424,
   "metadata": {},
   "outputs": [],
   "source": [
    "class ChestXrayDataset_TL(Dataset):\n",
    "    \"\"\"Chest X-ray dataset from https://nihcc.app.box.com/v/ChestXray-NIHCC.\"\"\"\n",
    "\n",
    "    def __init__(self, csv_file, root_dir, transform=None):\n",
    "        \"\"\"\n",
    "        Args:\n",
    "            csv_file (string): Path to the csv file filename information.\n",
    "            root_dir (string): Directory with all the images.\n",
    "            transform (callable, optional): Optional transform to be applied\n",
    "                on a sample.\n",
    "        \"\"\"\n",
    "        self.data_frame = pd.read_csv(csv_file)\n",
    "        self.root_dir = root_dir\n",
    "        self.transform = transform\n",
    "        self.samples = []\n",
    "        for idx in range(len(self.data_frame)):\n",
    "            img_name = os.path.join(self.root_dir,\n",
    "                                    self.data_frame.loc[idx, 'Image Index'])\n",
    "\n",
    "            image = io.imread(img_name)\n",
    "            if len(image.shape) > 2 and image.shape[2] == 4:\n",
    "                image = image[:,:,0]\n",
    "\n",
    "            image=np.repeat(image[None,...],3,axis=0)\n",
    "\n",
    "            image_class = self.data_frame.loc[idx, 'Class']\n",
    "\n",
    "            if self.transform:\n",
    "                image = self.transform(image)\n",
    "\n",
    "            sample = {'x': image, 'y': image_class}\n",
    "            self.samples.append(sample)\n",
    "\n",
    "    def __len__(self):\n",
    "        return len(self.data_frame)\n",
    "\n",
    "    def __getitem__(self, idx):\n",
    "        return self.samples[idx]"
   ]
  },
  {
   "cell_type": "code",
   "execution_count": null,
   "metadata": {},
   "outputs": [],
   "source": []
  },
  {
   "cell_type": "code",
   "execution_count": null,
   "metadata": {},
   "outputs": [],
   "source": []
  },
  {
   "cell_type": "code",
   "execution_count": null,
   "metadata": {},
   "outputs": [],
   "source": [
    "t"
   ]
  },
  {
   "cell_type": "code",
   "execution_count": 391,
   "metadata": {},
   "outputs": [],
   "source": [
    "train_transform = transforms.Compose([\n",
    "        transforms.ToPILImage(),\n",
    "        transforms.Resize([256,256]),\n",
    "        transforms.RandomResizedCrop(224),\n",
    "        transforms.RandomHorizontalFlip(),\n",
    "        transforms.ToTensor(),\n",
    "        transforms.Normalize([0.485, 0.456, 0.406], [0.229, 0.224, 0.225])])\n",
    "\n",
    "validation_transform = transforms.Compose([\n",
    "        transforms.ToPILImage(),\n",
    "        transforms.Resize([256,256]),\n",
    "        transforms.CenterCrop(224),\n",
    "        transforms.ToTensor(),\n",
    "        transforms.Normalize([0.485, 0.456, 0.406], [0.229, 0.224, 0.225])])"
   ]
  },
  {
   "cell_type": "code",
   "execution_count": 141,
   "metadata": {},
   "outputs": [],
   "source": []
  },
  {
   "cell_type": "code",
   "execution_count": 389,
   "metadata": {
    "scrolled": true
   },
   "outputs": [],
   "source": [
    "#pd.read_csv(train_local_csv)"
   ]
  },
  {
   "cell_type": "code",
   "execution_count": 13,
   "metadata": {},
   "outputs": [],
   "source": [
    "#### Get Images into a local files\n",
    "# df = pd.read_csv('HW2_trainSet.csv')[:10]\n",
    "# df['Image Index']\n",
    "# for im in df['Image Index']:\n",
    "#     print(\"scp prince:/beegfs/ga4493/data/HW2/images/{} ./\".format(im))"
   ]
  },
  {
   "cell_type": "code",
   "execution_count": 425,
   "metadata": {},
   "outputs": [],
   "source": [
    "##### Define train, validation, and test loaders \n",
    "#################################################\n",
    "\n",
    "\n",
    "def GetDataLoader(train_csv, validation_csv, test_csv, root_dir, \n",
    "               train_transform, validation_transform, \n",
    "               batch_size, shuffle, num_workers): \n",
    "    chestXray_TrainData = ChestXrayDataset_TL(csv_file = train_csv,\n",
    "                                        root_dir=root_dir, transform=train_transform)\n",
    "    train_loader = DataLoader(chestXray_TrainData, batch_size=batch_size,\n",
    "                            shuffle = shuffle, num_workers = num_workers)\n",
    "\n",
    "    chestXray_ValidationData = ChestXrayDataset_TL(csv_file = validation_csv, \n",
    "                                                   root_dir=root_dir, \n",
    "                                                   transform = validation_transform)\n",
    "    validation_loader = DataLoader(chestXray_ValidationData, \n",
    "                                   batch_size =batch_size, \n",
    "                                   shuffle = shuffle, num_workers = num_workers)\n",
    "\n",
    "\n",
    "    chestXray_TestData = ChestXrayDataset_TL(csv_file = test_csv, \n",
    "                                                   root_dir=root_dir, \n",
    "                                                   transform=None)\n",
    "    test_loader = DataLoader(chestXray_TestData, \n",
    "                             batch_size = batch_size, \n",
    "                             shuffle = shuffle, num_workers = num_workers)\n",
    "    \n",
    "    dataset_sizes = {'train': len(chestXray_TrainData), 'val': len(chestXray_ValidationData)}\n",
    "\n",
    "    return train_loader, validation_loader, test_loader, dataset_sizes"
   ]
  },
  {
   "cell_type": "code",
   "execution_count": 26,
   "metadata": {},
   "outputs": [],
   "source": [
    "df[:7].to_csv('train_local.csv')\n",
    "df[7:9].to_csv('validation_local.csv')\n",
    "df[9:].to_csv('test_local.csv')\n",
    "#BATCH_SIZE = 16"
   ]
  },
  {
   "cell_type": "code",
   "execution_count": 393,
   "metadata": {},
   "outputs": [],
   "source": [
    "train_local_csv = os.path.join('/Users/nhungle/Box/Free/Deep Learning in Medicine/Deep-Learning-in-Medicine/HW2', \n",
    "                              'train_local.csv')\n",
    "validation_local_csv = os.path.join('/Users/nhungle/Box/Free/Deep Learning in Medicine/Deep-Learning-in-Medicine/HW2', \n",
    "                              'validation_local.csv')\n",
    "test_local_csv = os.path.join('/Users/nhungle/Box/Free/Deep Learning in Medicine/Deep-Learning-in-Medicine/HW2', \n",
    "                              'test_local.csv')"
   ]
  },
  {
   "cell_type": "code",
   "execution_count": 430,
   "metadata": {},
   "outputs": [],
   "source": [
    "excel_path = '/Users/nhungle/Box/Free/Deep Learning in Medicine/Deep-Learning-in-Medicine/HW2/excel_files'\n",
    "train_local_csv = os.path.join(excel_path, \n",
    "                              'train_local.csv')\n",
    "validation_local_csv = os.path.join(excel_path, \n",
    "                              'validation_local.csv')\n",
    "test_local_csv = os.path.join(excel_path, \n",
    "                              'test_local.csv')"
   ]
  },
  {
   "cell_type": "code",
   "execution_count": 431,
   "metadata": {},
   "outputs": [],
   "source": [
    "image_path = '/Users/nhungle/Box/Free/Deep Learning in Medicine/Deep-Learning-in-Medicine/HW2'\n",
    "root_image = os.path.join(image_path ,'images')\n"
   ]
  },
  {
   "cell_type": "code",
   "execution_count": 432,
   "metadata": {},
   "outputs": [],
   "source": [
    "train_loader, validation_loader, test_loader, dataset_sizes= GetDataLoader(train_csv = train_local_csv, validation_csv=validation_local_csv, test_csv=test_local_csv, \n",
    "               root_dir = root_image, train_transform=train_transform, \n",
    "                validation_transform=validation_transform, \n",
    "               batch_size=2, shuffle=True, num_workers=1)"
   ]
  },
  {
   "cell_type": "code",
   "execution_count": 500,
   "metadata": {},
   "outputs": [
    {
     "name": "stdout",
     "output_type": "stream",
     "text": [
      "y_true tensor([1, 1])\n",
      "preds tensor([1, 1])\n",
      "cur_correct 2\n",
      "acc 0.2857142857142857\n",
      "y_true tensor([1, 1])\n",
      "preds tensor([1, 1])\n",
      "cur_correct 2\n",
      "acc 0.2857142857142857\n",
      "y_true tensor([1, 0])\n",
      "preds tensor([1, 0])\n",
      "cur_correct 2\n",
      "acc 0.2857142857142857\n",
      "y_true tensor([0])\n",
      "preds tensor([1])\n",
      "cur_correct 0\n",
      "acc 0.0\n"
     ]
    }
   ],
   "source": [
    "##### Test for train function\n",
    "chestXray_TrainData = ChestXrayDataset_TL(csv_file = train_local_csv,\n",
    "                                        root_dir=root_image, transform=train_transform)\n",
    "train_loader_t = DataLoader(chestXray_TrainData, batch_size=2,\n",
    "                            shuffle = True, num_workers =1)\n",
    "imageLoader_t = train_loader_t\n",
    "criterion = torch.nn.CrossEntropyLoss()\n",
    "for sample in imageLoader_t:\n",
    "    #print(sample)\n",
    "    #print(sample['x'])\n",
    "    #print(sample['y'])\n",
    "    x_input = sample['x']\n",
    "    y_true = sample['y']\n",
    "    \n",
    "    x_input = Variable(x_input).type(torch.FloatTensor)\n",
    "    y_true = Variable(y_true).type(torch.LongTensor)\n",
    "    \n",
    "    optimizer.zero_grad()\n",
    "    # forward\n",
    "    y_pred =model_conv_resnet34(x_input)\n",
    "    #print(\"y_pred\", y_pred)\n",
    "    print(\"y_true\", y_true)\n",
    "    #print(\"y_pred_data\", y_pred.data)\n",
    "    #print(\"torch.max(y_pred.data, 1)\", torch.max(y_pred.data, 1))\n",
    "    _, preds = torch.max(y_pred.data, 1)\n",
    "    print(\"preds\", preds)\n",
    "    loss = criterion(y_pred, y_true)\n",
    "    #print(loss.data)\n",
    "    \n",
    "    cur_loss_t = loss.data * x_input.size(0)\n",
    "    cur_correct_t = torch.sum(preds == y_true.data).item()\n",
    "    print('cur_correct', cur_correct_t)\n",
    "    print('acc', cur_correct_t / 7)"
   ]
  },
  {
   "cell_type": "code",
   "execution_count": 362,
   "metadata": {},
   "outputs": [],
   "source": [
    "#dir(imageLoader_t)"
   ]
  },
  {
   "cell_type": "code",
   "execution_count": 501,
   "metadata": {},
   "outputs": [],
   "source": [
    "def train_model(model, criterion, optimizer, num_epochs, data_sizes,\n",
    "               trainVal = ['train', 'val'], verbose = True): \n",
    "    best_weights = copy.deepcopy(model.state_dict())\n",
    "    best_accuracy = 0\n",
    "    best_loss = np.inf\n",
    "    loss_hist = {'train': [], 'val': []}\n",
    "    accuracy_hist = {'train': [], 'val': []}\n",
    "    \n",
    "    for epoch in range(num_epochs): \n",
    "        if verbose:\n",
    "            print('Epoch {}/{}'.format(epoch + 1, num_epochs))\n",
    "            print('-' * 15)\n",
    "            \n",
    "        for phase in trainVal: \n",
    "            if phase == 'train': \n",
    "                imageLoader = train_loader\n",
    "            else:\n",
    "                imageLoader = validation_loader\n",
    "            print('Phase {}'.format(phase))\n",
    "        \n",
    "            cur_loss = 0\n",
    "            cur_correct = 0\n",
    "            \n",
    "            for sample in imageLoader: \n",
    "                x_input = sample['x']\n",
    "                y_true = sample['y']\n",
    "                \n",
    "                x_input = Variable(x_input).type(torch.FloatTensor)\n",
    "                y_true = Variable(y_true).type(torch.LongTensor)\n",
    "                \n",
    "                # zero the parameter gradients\n",
    "                optimizer.zero_grad()\n",
    "\n",
    "                # forward\n",
    "                y_pred = model(x_input)\n",
    "                _, preds = torch.max(y_pred.data, 1)\n",
    "                loss = criterion(y_pred, y_true)\n",
    "\n",
    "                # backward + optimize only if in training phase\n",
    "                if phase == 'train':\n",
    "                    loss.backward()\n",
    "                    optimizer.step()\n",
    "\n",
    "                \n",
    "                cur_loss += loss.data * x_input.size(0)\n",
    "                cur_correct += torch.sum(preds == y_true.data).item()\n",
    "                \n",
    "                #print(\"preds, y_true\", preds, y_true)\n",
    "                #print(\"cur_correct\", cur_correct)\n",
    "                \n",
    "            epoch_loss = cur_loss / data_sizes[phase]\n",
    "            epoch_acc = cur_correct / data_sizes[phase]\n",
    "\n",
    "            if verbose:\n",
    "                print('{} Loss: {:.4f} Acc: {:.4f}'.format(\n",
    "                    phase, epoch_loss, epoch_acc))\n",
    "\n",
    "            if phase == 'train':\n",
    "                loss_hist['train'].append(epoch_loss)\n",
    "                accuracy_hist['train'].append(epoch_acc)\n",
    "            else:\n",
    "                loss_hist['val'].append(epoch_loss)\n",
    "                accuracy_hist['val'].append(epoch_acc)\n",
    "\n",
    "\n",
    "            # deep copy the model\n",
    "            if phase == 'val' and epoch_loss < best_loss:\n",
    "                best_accuracy = epoch_acc\n",
    "                best_weights = copy.deepcopy(model.state_dict())\n",
    "                best_loss = epoch_loss\n",
    "\n",
    "    print('Best Validation Acc: {:4f}'.format(best_accuracy))\n",
    "    \n",
    "    return model, loss_hist, accuracy_hist, best_weights"
   ]
  },
  {
   "cell_type": "code",
   "execution_count": 399,
   "metadata": {},
   "outputs": [],
   "source": [
    "########## Get the model and train ####### \n",
    "import torch.nn as nn\n",
    "import math\n",
    "import torch.utils.model_zoo as model_zoo\n",
    "from torch.autograd import Variable\n",
    "from torch import optim\n"
   ]
  },
  {
   "cell_type": "code",
   "execution_count": 502,
   "metadata": {},
   "outputs": [],
   "source": [
    "model_conv_resnet34 = torchvision.models.resnet34(pretrained=True)\n",
    "for param in model_conv_resnet34.parameters():\n",
    "    param.requires_grad = False\n"
   ]
  },
  {
   "cell_type": "code",
   "execution_count": 503,
   "metadata": {},
   "outputs": [],
   "source": [
    "number_features = model_conv_resnet34.fc.in_features\n",
    "model_conv_resnet34.fc = torch.nn.Linear(number_features, 2)\n",
    "criterion = torch.nn.CrossEntropyLoss()\n",
    "optimizer = optim.SGD(model_conv_resnet34.parameters(), lr=0.01)\n",
    "#print(number_features)\n",
    "#print(model_conv_resnet34)"
   ]
  },
  {
   "cell_type": "code",
   "execution_count": 564,
   "metadata": {
    "scrolled": true
   },
   "outputs": [
    {
     "name": "stdout",
     "output_type": "stream",
     "text": [
      "Epoch 1/3\n",
      "---------------\n",
      "Phase train\n",
      "train Loss: 0.1275 Acc: 1.0000\n",
      "Phase val\n",
      "val Loss: 3.6409 Acc: 0.0000\n",
      "Epoch 2/3\n",
      "---------------\n",
      "Phase train\n",
      "train Loss: 0.2255 Acc: 0.8571\n",
      "Phase val\n",
      "val Loss: 4.1036 Acc: 0.0000\n",
      "Epoch 3/3\n",
      "---------------\n",
      "Phase train\n",
      "train Loss: 0.6717 Acc: 0.8571\n",
      "Phase val\n",
      "val Loss: 0.0041 Acc: 1.0000\n",
      "Best Validation Acc: 1.000000\n"
     ]
    }
   ],
   "source": [
    "model_conv_resnet34.train()  \n",
    "model_conv_resnet34_ft, resnet34_ft_loss, resnet34_ft_acc, resnet34_ft_weights = train_model(model_conv_resnet34, criterion, optimizer=optimizer, \n",
    "                    num_epochs=3, data_sizes = dataset_sizes,\n",
    "               trainVal = ['train', 'val'], verbose = True)"
   ]
  },
  {
   "cell_type": "markdown",
   "metadata": {},
   "source": [
    "Train the model for ~100 epochs and save the weights of the best model using the validation loss. Plot train and validation loss curves. Explain the learning behavior of training TL model as a feature extractor using the observations from loss/accuracy curves."
   ]
  },
  {
   "cell_type": "code",
   "execution_count": 548,
   "metadata": {},
   "outputs": [
    {
     "data": {
      "text/plain": [
       "{'train': [tensor(0.6405), tensor(0.3700), tensor(0.4922)],\n",
       " 'val': [tensor(2.9773), tensor(4.6584), tensor(3.2873)]}"
      ]
     },
     "execution_count": 548,
     "metadata": {},
     "output_type": "execute_result"
    }
   ],
   "source": [
    "resnet34_ft_loss"
   ]
  },
  {
   "cell_type": "code",
   "execution_count": 549,
   "metadata": {},
   "outputs": [
    {
     "data": {
      "image/png": "[encoded data removed]",
      "text/plain": [
       "<Figure size 432x288 with 1 Axes>"
      ]
     },
     "metadata": {
      "needs_background": "light"
     },
     "output_type": "display_data"
    }
   ],
   "source": [
    "# Plots\n",
    "fig, ax = plt.subplots()\n",
    "\n",
    "for key in resnet34_ft_loss: \n",
    "    ax.plot(resnet34_ft_loss[key], label = key)\n",
    "    \n",
    "ax.set_title('Train and Validation Loss Curves')\n",
    "ax.set_ylabel('Loss')\n",
    "ax.set_xlabel('Epochs')\n",
    "legend = ax.legend(loc= 'best', shadow=True,\n",
    "                      bbox_to_anchor = (0.5, 0, 0.5, 0.5), ncol = 1, prop = {'size': 10})\n",
    "\n",
    "plt.savefig('LossCurves.png')"
   ]
  },
  {
   "cell_type": "code",
   "execution_count": 630,
   "metadata": {},
   "outputs": [],
   "source": [
    "\n",
    "def inference(model_ft,loader):\n",
    "    use_gpu = None\n",
    "    model_ft.eval()\n",
    "    whole_output =[]\n",
    "    whole_target = []\n",
    "    \n",
    "\n",
    "    for valData in loader:\n",
    "        data = valData['x']\n",
    "        target = valData['y']\n",
    "        if use_gpu:\n",
    "            data = Variable(data,volatile=True).type(torch.FloatTensor).cuda()\n",
    "            target = Variable(target,volatile=True).type(torch.LongTensor).cuda()\n",
    "        else:\n",
    "            data= Variable(data,volatile=True).type(torch.FloatTensor)\n",
    "            target = Variable(target,volatile=True).type(torch.LongTensor)\n",
    "\n",
    "        output =F.softmax(model_ft(data),dim=1)\n",
    "        whole_output.append( output.cpu().data.numpy())\n",
    "        whole_target.append( valData['y'].numpy())\n",
    "\n",
    "    whole_output = np.concatenate(whole_output)\n",
    "    whole_target = list(np.concatenate(whole_target))\n",
    "    y_target = whole_target\n",
    "\n",
    "\n",
    "    #print('Whole_output: {}, whole_target: {}'.format(whole_output, whole_target))\n",
    "    #print('y_target: {}'.format(y_target))\n",
    "        \n",
    "    ### WHAT SHOULD BE THE Y_SCORE?\n",
    "    y_pred = np.argmax(whole_output,axis=1)\n",
    "    y_score = [output[1] for output in whole_output]\n",
    "    \n",
    "    #for idx in range(len(whole_output)): \n",
    "        #print(y_target[idx])\n",
    "    #    y_score.append((whole_output[idx][1]))\n",
    "\n",
    "    return y_score, y_target, y_pred\n"
   ]
  },
  {
   "cell_type": "code",
   "execution_count": 628,
   "metadata": {},
   "outputs": [],
   "source": [
    "def roc_plot(y_target, y_score): \n",
    "\n",
    "    fpr, tpr, _ = roc_curve(y_target, y_score, pos_label=1)\n",
    "    roc_auc = auc(fpr, tpr)\n",
    "    \n",
    "    \n",
    "    import matplotlib.pyplot as plt\n",
    "    plt.title('Receiver Operating Characteristic')\n",
    "    plt.plot(fpr, tpr, 'b', label = 'AUC = %0.2f' % roc_auc)\n",
    "    plt.legend(loc = 'lower right')\n",
    "    plt.plot([0, 1], [0, 1],'r--')\n",
    "    plt.xlim([0, 1])\n",
    "    plt.ylim([0, 1])\n",
    "    plt.ylabel('True Positive Rate')\n",
    "    plt.xlabel('False Positive Rate')\n",
    "\n",
    "    plt.savefig('ROC Curve_ResNet34.png')\n",
    "    plt.show()"
   ]
  },
  {
   "cell_type": "code",
   "execution_count": 622,
   "metadata": {},
   "outputs": [
    {
     "data": {
      "text/plain": [
       "[1, 1, 1, 0, 0, 1, 1]"
      ]
     },
     "execution_count": 622,
     "metadata": {},
     "output_type": "execute_result"
    }
   ],
   "source": [
    "y_target"
   ]
  },
  {
   "cell_type": "code",
   "execution_count": 623,
   "metadata": {},
   "outputs": [
    {
     "data": {
      "text/plain": [
       "[0.0635646,\n",
       " 0.020184135,\n",
       " 0.04598235,\n",
       " 0.9995832,\n",
       " 0.9908097,\n",
       " 0.0033688513,\n",
       " 0.018966526]"
      ]
     },
     "execution_count": 623,
     "metadata": {},
     "output_type": "execute_result"
    }
   ],
   "source": [
    "y_score"
   ]
  },
  {
   "cell_type": "code",
   "execution_count": 626,
   "metadata": {},
   "outputs": [
    {
     "data": {
      "text/plain": [
       "(array([0., 0., 0., 1.]),\n",
       " array([0. , 0.5, 1. , 1. ]),\n",
       " array([1.9995832 , 0.9995832 , 0.9908097 , 0.00336885], dtype=float32))"
      ]
     },
     "execution_count": 626,
     "metadata": {},
     "output_type": "execute_result"
    }
   ],
   "source": [
    "roc_curve(y_target, y_score, pos_label=0)"
   ]
  },
  {
   "cell_type": "code",
   "execution_count": 629,
   "metadata": {},
   "outputs": [
    {
     "name": "stdout",
     "output_type": "stream",
     "text": [
      "Whole_output: [[9.9958318e-01 4.1680626e-04]\n",
      " [9.9663109e-01 3.3688513e-03]\n",
      " [9.7981584e-01 2.0184135e-02]\n",
      " [9.5401758e-01 4.5982350e-02]\n",
      " [9.8103344e-01 1.8966520e-02]\n",
      " [9.9080968e-01 9.1903321e-03]\n",
      " [9.3643540e-01 6.3564613e-02]], whole_target: [0, 1, 1, 1, 1, 0, 1]\n",
      "y_pred [0 0 0 0 0 0 0]\n",
      "y_score [0.00041680626, 0.0033688513, 0.020184135, 0.04598235, 0.01896652, 0.009190332, 0.06356461]\n",
      "y_target [0, 1, 1, 1, 1, 0, 1]\n"
     ]
    },
    {
     "data": {
      "image/png": "[encoded data removed]",
      "text/plain": [
       "<Figure size 432x288 with 1 Axes>"
      ]
     },
     "metadata": {
      "needs_background": "light"
     },
     "output_type": "display_data"
    }
   ],
   "source": [
    "y_score, y_target, y_pred= inference(model_conv_resnet34_ft, train_loader)\n",
    "print('y_pred', y_pred)\n",
    "print('y_score', y_score)\n",
    "print('y_target', y_target)\n",
    "#roc_plot([1, 1, 0, 0, 1, 1, 1], y_score)\n",
    "roc_plot(y_target, y_score)"
   ]
  },
  {
   "cell_type": "code",
   "execution_count": 560,
   "metadata": {},
   "outputs": [],
   "source": [
    "import numpy as np\n",
    "\n",
    "\n",
    "def plot_confusion_matrix(cm,\n",
    "                          target_names,\n",
    "                          model,\n",
    "                          title='Confusion matrix',\n",
    "                          cmap=None,\n",
    "                          normalize=True):\n",
    "    \"\"\"\n",
    "    given a sklearn confusion matrix (cm), make a nice plot\n",
    "\n",
    "    Arguments\n",
    "    ---------\n",
    "    cm:           confusion matrix from sklearn.metrics.confusion_matrix\n",
    "\n",
    "    target_names: given classification classes such as [0, 1, 2]\n",
    "                  the class names, for example: ['high', 'medium', 'low']\n",
    "\n",
    "    title:        the text to display at the top of the matrix\n",
    "\n",
    "    cmap:         the gradient of the values displayed from matplotlib.pyplot.cm\n",
    "                  see http://matplotlib.org/examples/color/colormaps_reference.html\n",
    "                  plt.get_cmap('jet') or plt.cm.Blues\n",
    "\n",
    "    normalize:    If False, plot the raw numbers\n",
    "                  If True, plot the proportions\n",
    "\n",
    "    Usage\n",
    "    -----\n",
    "    plot_confusion_matrix(cm           = cm,                  # confusion matrix created by\n",
    "                                                              # sklearn.metrics.confusion_matrix\n",
    "                          normalize    = True,                # show proportions\n",
    "                          target_names = y_labels_vals,       # list of names of the classes\n",
    "                          title        = best_estimator_name) # title of graph\n",
    "\n",
    "    Citiation\n",
    "    ---------\n",
    "    http://scikit-learn.org/stable/auto_examples/model_selection/plot_confusion_matrix.html\n",
    "\n",
    "    \"\"\"\n",
    "    import matplotlib.pyplot as plt\n",
    "    import numpy as np\n",
    "    import itertools\n",
    "\n",
    "    accuracy = np.trace(cm) / float(np.sum(cm))\n",
    "    misclass = 1 - accuracy\n",
    "\n",
    "    if cmap is None:\n",
    "        cmap = plt.get_cmap('Blues')\n",
    "\n",
    "    plt.figure(figsize=(8, 6))\n",
    "    plt.imshow(cm, interpolation='nearest', cmap=cmap)\n",
    "    plt.title(title)\n",
    "    plt.colorbar()\n",
    "\n",
    "    if target_names is not None:\n",
    "        tick_marks = np.arange(len(target_names))\n",
    "        plt.xticks(tick_marks, target_names, rotation=45)\n",
    "        plt.yticks(tick_marks, target_names)\n",
    "\n",
    "    if normalize:\n",
    "        cm = cm.astype('float') / cm.sum(axis=1)[:, np.newaxis]\n",
    "\n",
    "\n",
    "    thresh = cm.max() / 1.5 if normalize else cm.max() / 2\n",
    "    for i, j in itertools.product(range(cm.shape[0]), range(cm.shape[1])):\n",
    "        if normalize:\n",
    "            plt.text(j, i, \"{:0.4f}\".format(cm[i, j]),\n",
    "                     horizontalalignment=\"center\",\n",
    "                     color=\"white\" if cm[i, j] > thresh else \"black\")\n",
    "        else:\n",
    "            plt.text(j, i, \"{:,}\".format(cm[i, j]),\n",
    "                     horizontalalignment=\"center\",\n",
    "                     color=\"white\" if cm[i, j] > thresh else \"black\")\n",
    "\n",
    "\n",
    "    plt.tight_layout()\n",
    "    plt.ylabel('True label')\n",
    "    plt.xlabel('Predicted label\\naccuracy={:0.4f}; misclass={:0.4f}'.format(accuracy, misclass))\n",
    "    plt.savefig('Confusion Matrix of {}'.format(model))\n",
    "    plt.show()\n"
   ]
  },
  {
   "cell_type": "code",
   "execution_count": null,
   "metadata": {},
   "outputs": [],
   "source": [
    "print(y_)"
   ]
  },
  {
   "cell_type": "code",
   "execution_count": 609,
   "metadata": {},
   "outputs": [
    {
     "data": {
      "image/png": "[encoded data removed]",
      "text/plain": [
       "<Figure size 576x432 with 2 Axes>"
      ]
     },
     "metadata": {
      "needs_background": "light"
     },
     "output_type": "display_data"
    }
   ],
   "source": [
    "from sklearn.metrics import confusion_matrix\n",
    "#y_true = [2, 0, 2, 2, 0, 1]\n",
    "#y_pred = [0, 0, 2, 2, 0, 2]\n",
    "cm = confusion_matrix(y_target, y_pred)\n",
    "#cm = confusion_matrix(y_target, y_pred)\n",
    "plot_confusion_matrix(cm, \n",
    "                      model = 'ResNet34',\n",
    "                      normalize    = False,\n",
    "                      target_names = ['0', '1'],\n",
    "                      title        = \"Confusion Matrix\")\n"
   ]
  }
 ],
 "metadata": {
  "kernelspec": {
   "display_name": "Python 3",
   "language": "python",
   "name": "python3"
  },
  "language_info": {
   "codemirror_mode": {
    "name": "ipython",
    "version": 3
   },
   "file_extension": ".py",
   "mimetype": "text/x-python",
   "name": "python",
   "nbconvert_exporter": "python",
   "pygments_lexer": "ipython3",
   "version": "3.7.1"
  }
 },
 "nbformat": 4,
 "nbformat_minor": 2
}
