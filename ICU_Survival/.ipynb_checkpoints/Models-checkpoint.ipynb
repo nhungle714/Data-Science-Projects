{
 "cells": [
  {
   "cell_type": "code",
   "execution_count": 255,
   "metadata": {},
   "outputs": [],
   "source": [
    "import pandas as pd\n",
    "import torch\n",
    "import torch.nn as nn\n",
    "from torch.autograd import Variable\n",
    "import torchvision.datasets as dset\n",
    "import torchvision.transforms as transforms\n",
    "import torch.nn.functional as F\n",
    "import torch.optim as optim\n",
    "import numpy as np\n",
    "import matplotlib.pylab as plt\n",
    "from torch.utils.data import Dataset, DataLoader\n",
    "import copy\n",
    "from tqdm import tqdm\n",
    "import torch.optim.lr_scheduler as sched\n",
    "import warnings\n",
    "warnings.filterwarnings('ignore')\n",
    "from sklearn.metrics import roc_auc_score, roc_curve\n",
    "import pickle\n",
    "import os"
   ]
  },
  {
   "cell_type": "code",
   "execution_count": 256,
   "metadata": {},
   "outputs": [],
   "source": [
    "root = os.getcwd()\n",
    "data_root = os.path.join(root, 'data')"
   ]
  },
  {
   "cell_type": "markdown",
   "metadata": {},
   "source": [
    "### Prepare Data"
   ]
  },
  {
   "cell_type": "code",
   "execution_count": 319,
   "metadata": {},
   "outputs": [],
   "source": [
    "train_X = pickle.load(open(os.path.join(data_root, 'train_X.pickle'), \"rb\"))\n",
    "train_y = pickle.load(open(os.path.join(data_root, 'train_y.pickle'), \"rb\"))\n",
    "test_X = pickle.load(open(os.path.join(data_root, 'test_X.pickle'), \"rb\"))\n",
    "test_y = pickle.load(open(os.path.join(data_root, 'test_y.pickle'), \"rb\"))"
   ]
  },
  {
   "cell_type": "code",
   "execution_count": 320,
   "metadata": {},
   "outputs": [],
   "source": [
    "unlabeled_X = pickle.load(open(os.path.join(data_root, 'scaled_unlabeled_X.pickle'), \"rb\"))\n",
    "unlabeled_y = pickle.load(open(os.path.join(data_root, 'unlabeled_y.pickle'), \"rb\"))"
   ]
  },
  {
   "cell_type": "code",
   "execution_count": 321,
   "metadata": {},
   "outputs": [],
   "source": [
    "unlabeled_y['hospital_death'] = 0"
   ]
  },
  {
   "cell_type": "code",
   "execution_count": 323,
   "metadata": {},
   "outputs": [
    {
     "data": {
      "text/plain": [
       "(73370, 411)"
      ]
     },
     "execution_count": 323,
     "metadata": {},
     "output_type": "execute_result"
    }
   ],
   "source": [
    "train_X.shape"
   ]
  },
  {
   "cell_type": "code",
   "execution_count": 324,
   "metadata": {},
   "outputs": [],
   "source": [
    "device = torch.device(\"cuda\" if torch.cuda.is_available() else \"cpu\")\n",
    "class ICUDataset(Dataset):\n",
    "    \n",
    "    def __init__(self, input_array, label_df):\n",
    "        # Args:\n",
    "        #      input_array: list of list\n",
    "        #      label_array: list of list\n",
    "        \n",
    "        super(ICUDataset, self).__init__()\n",
    "        self.input_tensors = []\n",
    "        self.labels = torch.tensor(list(label_df.iloc[:,-1]), dtype=torch.long)\n",
    "        for sample in input_array:\n",
    "            self.input_tensors.append(torch.tensor([sample[:]], dtype=torch.float))\n",
    "        \n",
    "    def __len__(self):\n",
    "        return len(self.input_tensors)\n",
    "\n",
    "    def __getitem__(self, index):\n",
    "        x = self.input_tensors[index]\n",
    "        # want to have y as tensor([1]), for 1 being class\n",
    "        y = self.labels[index]\n",
    "                   \n",
    "        return x, y"
   ]
  },
  {
   "cell_type": "code",
   "execution_count": 325,
   "metadata": {},
   "outputs": [],
   "source": [
    "data_train = ICUDataset(train_X, train_y)\n",
    "data_test = ICUDataset(test_X, test_y)"
   ]
  },
  {
   "cell_type": "code",
   "execution_count": 326,
   "metadata": {},
   "outputs": [],
   "source": [
    "data_unlabeled = ICUDataset(unlabeled_X, unlabeled_y)"
   ]
  },
  {
   "cell_type": "code",
   "execution_count": 327,
   "metadata": {},
   "outputs": [
    {
     "data": {
      "text/plain": [
       "torch.Size([1, 411])"
      ]
     },
     "execution_count": 327,
     "metadata": {},
     "output_type": "execute_result"
    }
   ],
   "source": [
    "# Test data train\n",
    "x, y = next(iter(data_train))\n",
    "x.shape\n",
    "#y.shape"
   ]
  },
  {
   "cell_type": "code",
   "execution_count": 328,
   "metadata": {},
   "outputs": [],
   "source": [
    "data_train_loader = DataLoader(data_train, batch_size = 64, shuffle=False, num_workers=4)\n",
    "data_test_loader = DataLoader(data_test, batch_size = 64, shuffle=False, num_workers=4)"
   ]
  },
  {
   "cell_type": "code",
   "execution_count": 329,
   "metadata": {},
   "outputs": [],
   "source": [
    "data_unlabeled_loader = DataLoader(data_unlabeled, batch_size = 64, shuffle=False, num_workers=4)"
   ]
  },
  {
   "cell_type": "code",
   "execution_count": 330,
   "metadata": {},
   "outputs": [],
   "source": [
    "# We want to have x.shape = [batch_size, height, width = len of input]\n",
    "# y.shape = [batch_size, 1] because y is a class\n",
    "x, y = next(iter(data_train_loader))"
   ]
  },
  {
   "cell_type": "code",
   "execution_count": 331,
   "metadata": {},
   "outputs": [
    {
     "data": {
      "text/plain": [
       "torch.Size([64])"
      ]
     },
     "execution_count": 331,
     "metadata": {},
     "output_type": "execute_result"
    }
   ],
   "source": [
    "y.shape"
   ]
  },
  {
   "cell_type": "code",
   "execution_count": 142,
   "metadata": {},
   "outputs": [],
   "source": []
  },
  {
   "cell_type": "markdown",
   "metadata": {},
   "source": [
    "#### 1. MLP Model"
   ]
  },
  {
   "cell_type": "code",
   "execution_count": 497,
   "metadata": {},
   "outputs": [],
   "source": [
    "class MLPNet(nn.Module):\n",
    "    def __init__(self, input_size, hidden_size, output_size):\n",
    "        super(MLPNet, self).__init__()\n",
    "        self.fc1 = nn.Linear(input_size, hidden_size)\n",
    "        self.fc2 = nn.Linear(hidden_size, output_size)\n",
    "\n",
    "\n",
    "    def forward(self, x):\n",
    "        x = x.contiguous().view(-1,input_size)\n",
    "        x = F.relu(self.fc1(x))\n",
    "        x = self.fc2(x)\n",
    "        return x\n",
    "    \n"
   ]
  },
  {
   "cell_type": "code",
   "execution_count": 498,
   "metadata": {},
   "outputs": [],
   "source": [
    "# nn package also has different loss functions.\n",
    "# we use NLLLoss to \n",
    "#criterion = torch.nn.NLLLoss()\n",
    "criterion = torch.nn.CrossEntropyLoss()\n",
    "\n",
    "# we use the optim package to apply\n",
    "# stochastic gradient descent for our parameter updates\n",
    "# built-in L2\n",
    "learning_rate = 1e-3\n",
    "lambda_l2 = 1e-5\n",
    "\n",
    "input_size = train_X.shape[1]\n",
    "hidden_size = 200\n",
    "output_size = 2\n",
    "\n",
    "model = MLPNet(input_size, hidden_size, output_size)\n",
    "optimizer = torch.optim.SGD(model.parameters(), lr=learning_rate, weight_decay=lambda_l2) \n",
    "num_epochs = 160"
   ]
  },
  {
   "cell_type": "code",
   "execution_count": null,
   "metadata": {},
   "outputs": [],
   "source": []
  },
  {
   "cell_type": "code",
   "execution_count": 499,
   "metadata": {},
   "outputs": [],
   "source": [
    "logit = model(x)"
   ]
  },
  {
   "cell_type": "code",
   "execution_count": 507,
   "metadata": {},
   "outputs": [
    {
     "data": {
      "text/plain": [
       "tensor([0.5453, 0.4547], grad_fn=<SoftmaxBackward>)"
      ]
     },
     "execution_count": 507,
     "metadata": {},
     "output_type": "execute_result"
    }
   ],
   "source": [
    "F.softmax(logit[0])"
   ]
  },
  {
   "cell_type": "code",
   "execution_count": 508,
   "metadata": {},
   "outputs": [],
   "source": [
    "#F.softmax(logit).data.numpy()[:, 1].tolist()"
   ]
  },
  {
   "cell_type": "code",
   "execution_count": 448,
   "metadata": {},
   "outputs": [],
   "source": [
    "loss = criterion(probability, y)"
   ]
  },
  {
   "cell_type": "code",
   "execution_count": 468,
   "metadata": {},
   "outputs": [],
   "source": [
    "#probability.argmax(dim=1).data.tolist()"
   ]
  },
  {
   "cell_type": "code",
   "execution_count": 454,
   "metadata": {},
   "outputs": [],
   "source": [
    "probability.data.numpy()[:, 1].tolist()"
   ]
  },
  {
   "cell_type": "code",
   "execution_count": 473,
   "metadata": {},
   "outputs": [],
   "source": [
    "avg_train_loss, train_auc, train_acc, model, y_true_list_train, y_pred_list_train = train(model,\n",
    "                                                                                         data_train_loader, data_train, optimizer, criterion\n",
    "                                                                                         )"
   ]
  },
  {
   "cell_type": "code",
   "execution_count": 482,
   "metadata": {},
   "outputs": [
    {
     "data": {
      "text/plain": [
       "True"
      ]
     },
     "execution_count": 482,
     "metadata": {},
     "output_type": "execute_result"
    }
   ],
   "source": [
    "list(train_y['hospital_death']) == y_true_list_train"
   ]
  },
  {
   "cell_type": "code",
   "execution_count": 485,
   "metadata": {},
   "outputs": [
    {
     "data": {
      "text/plain": [
       "True"
      ]
     },
     "execution_count": 485,
     "metadata": {},
     "output_type": "execute_result"
    }
   ],
   "source": [
    "len(y_pred_list_train) == len(y_true_list_train)"
   ]
  },
  {
   "cell_type": "code",
   "execution_count": 488,
   "metadata": {},
   "outputs": [],
   "source": [
    "# Compute ROC curve and ROC area for each class\n",
    "from sklearn.metrics import roc_curve, auc\n",
    "fpr = dict()\n",
    "tpr = dict()\n",
    "roc_auc = dict()\n",
    "for i in range(2):\n",
    "    fpr[i], tpr[i], _ = roc_curve(np.array(pd.get_dummies(y_true_list_train))[:, i], \n",
    "                                  np.array(pd.get_dummies(y_pred_list_train))[:, i])\n",
    "    roc_auc[i] = auc(fpr[i], tpr[i])"
   ]
  },
  {
   "cell_type": "code",
   "execution_count": 489,
   "metadata": {},
   "outputs": [
    {
     "data": {
      "text/plain": [
       "{0: 0.5098069655614139, 1: 0.5098069655614138}"
      ]
     },
     "execution_count": 489,
     "metadata": {},
     "output_type": "execute_result"
    }
   ],
   "source": [
    "roc_auc"
   ]
  },
  {
   "cell_type": "code",
   "execution_count": 491,
   "metadata": {},
   "outputs": [
    {
     "data": {
      "text/plain": [
       "0.49231175404537686"
      ]
     },
     "execution_count": 491,
     "metadata": {},
     "output_type": "execute_result"
    }
   ],
   "source": [
    "train_auc"
   ]
  },
  {
   "cell_type": "code",
   "execution_count": null,
   "metadata": {},
   "outputs": [],
   "source": [
    "y_target = label_binarize(labels, classes=[0, 1, 2, 3])\n",
    "y_score = F.softmax(torch.from_numpy(outputs.reshape(-1, 4)).type(torch.FloatTensor).to(device),dim=1).cpu().detach().numpy()"
   ]
  },
  {
   "cell_type": "markdown",
   "metadata": {},
   "source": [
    "### Train and Valid"
   ]
  },
  {
   "cell_type": "code",
   "execution_count": 509,
   "metadata": {},
   "outputs": [],
   "source": [
    "def train(model, data_train_loader, data_train, optimizer, criterion):\n",
    "    y_true_list_train = []\n",
    "    y_pred_list_train = []\n",
    "    y_score_list_train = []\n",
    "    num_correct = 0\n",
    "    cur_loss = 0\n",
    "    losslisttrain = []\n",
    "    \n",
    "    model.train()\n",
    "    \n",
    "    for iter_, (inputs, targets) in enumerate(data_train_loader):\n",
    "#         if iter_ % 500 == 0:\n",
    "#             print(\"Train Phase: Iteration {}/{}\".format(iter_+1, len(data_train_loader)))\n",
    "\n",
    "        # zero out the parameter gradients\n",
    "        optimizer.zero_grad()\n",
    "\n",
    "        # Setup for forward\n",
    "        inputs = inputs.to(device)\n",
    "        targets = targets.to(device)\n",
    "        batch_size = inputs.size(0)\n",
    "\n",
    "\n",
    "        # Feed forward to get the logits\n",
    "        logit = model(inputs)\n",
    "        loss = criterion(logit, targets)\n",
    "        loss_val = loss.item()\n",
    "        cur_loss += loss_val * batch_size\n",
    "        #print('cur_loss', cur_loss)\n",
    "\n",
    "        # Add y_true and y_pred to list to calculate AUC score\n",
    "        y_true_list_train += targets.data.tolist()\n",
    "        y_pred = logit.argmax(dim=1)\n",
    "        y_pred_list_train += y_pred.data.tolist()\n",
    "        num_correct += (y_pred == targets).sum().item()\n",
    "        \n",
    "        y_score_list_train += F.softmax(logit).data.numpy()[:, 1].tolist()\n",
    "\n",
    "        # Backward\n",
    "        loss.backward()\n",
    "        optimizer.step()\n",
    "\n",
    "\n",
    "    avg_train_loss = cur_loss / len(data_train)\n",
    "    losslisttrain.append(avg_train_loss)\n",
    "\n",
    "    train_auc =  roc_auc_score(y_true=(np.array(y_true_list_train)==1),\n",
    "                               y_score=np.array(y_score_list_train))\n",
    "\n",
    "\n",
    "    train_acc = (num_correct / len(data_train)) * 100 \n",
    "#     print(f'Train Loss: {avg_train_loss:.4f}')\n",
    "#     print(f'Train AUC: {train_auc:.4f}')\n",
    "#     print(f'Train ACC: {train_acc:.4f}')\n",
    "\n",
    "    return(avg_train_loss, train_auc, train_acc,\n",
    "           model)"
   ]
  },
  {
   "cell_type": "code",
   "execution_count": 470,
   "metadata": {},
   "outputs": [],
   "source": [
    "def test(model, data_test_loader, data_test):\n",
    "    y_true_list_test = []\n",
    "    y_pred_list_test = []\n",
    "    y_score_list_test = []\n",
    "    num_correct = 0\n",
    "    cur_loss = 0\n",
    "    losslisttest = []\n",
    "    \n",
    "    model.eval()\n",
    "    \n",
    "    for iter_, (inputs, targets) in enumerate(data_test_loader):\n",
    "#         if iter_ % 500 == 0:\n",
    "#             print(\"Valid Phase: Iteration {}/{}\".format(iter_+1, len(data_test_loader)))\n",
    "        # Setup for forward\n",
    "        inputs = inputs.to(device)\n",
    "        targets = targets.to(device)\n",
    "        batch_size = inputs.size(0)\n",
    "\n",
    "        # Feed forward to get the Logit\n",
    "        logit = model(inputs)\n",
    "        loss = criterion(logit, targets)\n",
    "        loss_val = loss.item()\n",
    "        cur_loss += loss_val * batch_size\n",
    "        #print('cur_loss', cur_loss)\n",
    "\n",
    "        # Add y_true and y_pred to list to calculate AUC score\n",
    "        y_true_list_test += targets.data.tolist()\n",
    "        y_pred = logit.argmax(dim=1)\n",
    "        y_pred_list_test += y_pred.data.tolist()\n",
    "        num_correct += (y_pred == targets).sum().item()\n",
    "        y_score_list_test += F.softmax(logit).data.numpy()[:, 1].tolist()\n",
    "\n",
    "\n",
    "\n",
    "    avg_test_loss = cur_loss / len(data_test)\n",
    "    losslisttest.append(avg_test_loss)\n",
    "\n",
    "    test_auc =  roc_auc_score(y_true=(np.array(y_true_list_test)==1),\n",
    "                              y_score=np.array(y_score_list_test))\n",
    "\n",
    "\n",
    "    test_acc = (num_correct / len(data_test)) * 100 \n",
    "#     print(f'Valid Loss: {avg_test_loss:.4f}')\n",
    "#     print(f'Valid AUC: {test_auc:.4f}')\n",
    "#     print(f'Valid ACC: {test_acc:.4f}')\n",
    "\n",
    "    return(avg_test_loss, test_auc, test_acc)"
   ]
  },
  {
   "cell_type": "code",
   "execution_count": 457,
   "metadata": {},
   "outputs": [],
   "source": [
    "def train_valid(model, data_train_loader, data_train, optimizer, criterion,\n",
    "                data_test_loader, data_test, num_epochs):\n",
    "    best_val_loss = 1000\n",
    "    best_weights = copy.deepcopy(model.state_dict())\n",
    "    history_train = {'loss': [], 'acc': [], 'auc': []}\n",
    "    history_test = {'loss': [], 'acc': [], 'auc': []}\n",
    "\n",
    "    for epoch in range(num_epochs):\n",
    "        if epoch % 20 == 0:\n",
    "            print(epoch)\n",
    "        avg_train_loss, train_auc, train_acc, model = train(model, data_train_loader,\n",
    "                                                            data_train, optimizer, criterion)\n",
    "        avg_test_loss, test_auc, test_acc = test(model, data_test_loader, data_test)\n",
    "        history_train['loss'].append(avg_train_loss)\n",
    "        history_train['auc'].append(train_auc)\n",
    "        history_train['acc'].append(train_acc)\n",
    "        history_test['loss'].append(avg_test_loss)\n",
    "        history_test['auc'].append(test_auc)\n",
    "        history_test['acc'].append(test_acc)\n",
    "        \n",
    "        \n",
    "        \n",
    "        if avg_test_loss < best_val_loss:\n",
    "            best_val_loss = avg_test_loss\n",
    "            best_weights = copy.deepcopy(model.state_dict())\n",
    "            \n",
    "        #print('-'*20)\n",
    "    return (best_weights, history_train, history_test)"
   ]
  },
  {
   "cell_type": "code",
   "execution_count": 458,
   "metadata": {},
   "outputs": [],
   "source": [
    "def plot_train_test(history_train, history_test):\n",
    "    fig, axes = plt.subplots(ncols=3, figsize=(9, 4))\n",
    "    for ax, metric in zip(axes, ['loss', 'acc', 'auc']):\n",
    "        ax.plot(history_train[metric])\n",
    "        ax.plot(history_test[metric])\n",
    "        ax.set_xlabel('epoch', fontsize=12)\n",
    "        ax.set_ylabel(metric, fontsize=12)\n",
    "        ax.legend(['Train', 'Test'], loc='best')\n",
    "    fig.tight_layout(pad=0.5)\n",
    "    plt.show()"
   ]
  },
  {
   "cell_type": "markdown",
   "metadata": {},
   "source": [
    "### Training and Validating\n"
   ]
  },
  {
   "cell_type": "code",
   "execution_count": 460,
   "metadata": {},
   "outputs": [],
   "source": [
    "# nn package also has different loss functions.\n",
    "# we use NLLLoss to \n",
    "# criterion = torch.nn.CrossEntropyLoss()\n",
    "criterion = torch.nn.NLLLoss()\n",
    "\n",
    "# we use the optim package to apply\n",
    "# stochastic gradient descent for our parameter updates\n",
    "# built-in L2\n",
    "learning_rate = 1e-3\n",
    "lambda_l2 = 1e-5\n",
    "\n",
    "input_size = train_X.shape[1]\n",
    "hidden_size = 200\n",
    "output_size = 2\n",
    "\n",
    "model = MLPNet(input_size, hidden_size, output_size)\n",
    "optimizer = torch.optim.SGD(model.parameters(), lr=learning_rate, weight_decay=lambda_l2) \n",
    "num_epochs = 2"
   ]
  },
  {
   "cell_type": "code",
   "execution_count": 461,
   "metadata": {},
   "outputs": [
    {
     "name": "stdout",
     "output_type": "stream",
     "text": [
      "0\n"
     ]
    }
   ],
   "source": [
    "best_weights_fc, history_train_fc, history_test_fc = train_valid(model, data_train_loader, data_train,\n",
    "                                         optimizer, criterion,\n",
    "                                         data_test_loader, data_test, num_epochs)"
   ]
  },
  {
   "cell_type": "code",
   "execution_count": 462,
   "metadata": {},
   "outputs": [
    {
     "data": {
      "image/png": "[encoded data removed]",
      "text/plain": [
       "<Figure size 648x288 with 3 Axes>"
      ]
     },
     "metadata": {
      "needs_background": "light"
     },
     "output_type": "display_data"
    }
   ],
   "source": [
    "plot_train_test(history_train_fc, history_test_fc)"
   ]
  },
  {
   "cell_type": "code",
   "execution_count": 417,
   "metadata": {},
   "outputs": [
    {
     "data": {
      "text/plain": [
       "0.895972050164773"
      ]
     },
     "execution_count": 417,
     "metadata": {},
     "output_type": "execute_result"
    }
   ],
   "source": [
    "max(history_test_fc['auc'])"
   ]
  },
  {
   "cell_type": "markdown",
   "metadata": {},
   "source": [
    "### Train on the whole dataset"
   ]
  },
  {
   "cell_type": "markdown",
   "metadata": {},
   "source": [
    "### Evaluation on Unlabeled Set\n"
   ]
  },
  {
   "cell_type": "code",
   "execution_count": 418,
   "metadata": {},
   "outputs": [],
   "source": [
    "def evaluate(model, data_loader):\n",
    "\n",
    "    y_score_list_test = []\n",
    "    \n",
    "    model.eval()\n",
    "    \n",
    "    for iter_, (inputs, targets) in enumerate(data_test_loader):\n",
    "#         if iter_ % 500 == 0:\n",
    "#             print(\"Valid Phase: Iteration {}/{}\".format(iter_+1, len(data_test_loader)))\n",
    "        # Setup for forward\n",
    "        inputs = inputs.to(device)\n",
    "        targets = targets.to(device)\n",
    "        batch_size = inputs.size(0)\n",
    "\n",
    "        # Feed forward to get the Logit\n",
    "        logit = model(inputs)\n",
    "        y_score_list_test += logit.data.numpy()[:, 1].tolist()\n",
    "\n",
    "\n",
    "\n",
    "    return(y_score_list_test)"
   ]
  },
  {
   "cell_type": "code",
   "execution_count": 420,
   "metadata": {},
   "outputs": [
    {
     "data": {
      "text/plain": [
       "MLPNet(\n",
       "  (fc1): Linear(in_features=411, out_features=200, bias=True)\n",
       "  (fc2): Linear(in_features=200, out_features=2, bias=True)\n",
       ")"
      ]
     },
     "execution_count": 420,
     "metadata": {},
     "output_type": "execute_result"
    }
   ],
   "source": [
    "best_mlp = MLPNet(input_size, hidden_size, output_size)\n",
    "best_mlp.load_state_dict(best_weights_fc)\n",
    "best_mlp.eval()"
   ]
  },
  {
   "cell_type": "code",
   "execution_count": 439,
   "metadata": {},
   "outputs": [],
   "source": [
    "inputs, target = next(iter(data_unlabeled_loader))\n",
    "logit = best_mlp(inputs)"
   ]
  },
  {
   "cell_type": "code",
   "execution_count": 436,
   "metadata": {},
   "outputs": [
    {
     "data": {
      "text/plain": [
       "39308"
      ]
     },
     "execution_count": 436,
     "metadata": {},
     "output_type": "execute_result"
    }
   ],
   "source": [
    "data_unlabeled.__len__()"
   ]
  },
  {
   "cell_type": "code",
   "execution_count": null,
   "metadata": {},
   "outputs": [],
   "source": [
    "data_unlabeled_loader."
   ]
  },
  {
   "cell_type": "code",
   "execution_count": 423,
   "metadata": {},
   "outputs": [],
   "source": [
    "y_unlabeled_score = evaluate(best_mlp, data_unlabeled_loader) \n"
   ]
  },
  {
   "cell_type": "code",
   "execution_count": 427,
   "metadata": {},
   "outputs": [
    {
     "data": {
      "text/plain": [
       "(39308, 411)"
      ]
     },
     "execution_count": 427,
     "metadata": {},
     "output_type": "execute_result"
    }
   ],
   "source": [
    "unlabeled_X.shape"
   ]
  },
  {
   "cell_type": "code",
   "execution_count": 429,
   "metadata": {},
   "outputs": [
    {
     "data": {
      "text/plain": [
       "18343"
      ]
     },
     "execution_count": 429,
     "metadata": {},
     "output_type": "execute_result"
    }
   ],
   "source": [
    "len(y_unlabeled_score)\n"
   ]
  },
  {
   "cell_type": "code",
   "execution_count": 388,
   "metadata": {},
   "outputs": [],
   "source": [
    "unlabeled_X_df = pickle.load(open(os.path.join(data_root, 'unlabeled_X.pickle'), \"rb\"))"
   ]
  },
  {
   "cell_type": "code",
   "execution_count": 390,
   "metadata": {},
   "outputs": [
    {
     "data": {
      "text/html": [
       "<div>\n",
       "<style scoped>\n",
       "    .dataframe tbody tr th:only-of-type {\n",
       "        vertical-align: middle;\n",
       "    }\n",
       "\n",
       "    .dataframe tbody tr th {\n",
       "        vertical-align: top;\n",
       "    }\n",
       "\n",
       "    .dataframe thead th {\n",
       "        text-align: right;\n",
       "    }\n",
       "</style>\n",
       "<table border=\"1\" class=\"dataframe\">\n",
       "  <thead>\n",
       "    <tr style=\"text-align: right;\">\n",
       "      <th></th>\n",
       "      <th>encounter_id</th>\n",
       "    </tr>\n",
       "  </thead>\n",
       "  <tbody>\n",
       "    <tr>\n",
       "      <td>0</td>\n",
       "      <td>2</td>\n",
       "    </tr>\n",
       "    <tr>\n",
       "      <td>1</td>\n",
       "      <td>5</td>\n",
       "    </tr>\n",
       "    <tr>\n",
       "      <td>2</td>\n",
       "      <td>7</td>\n",
       "    </tr>\n",
       "    <tr>\n",
       "      <td>3</td>\n",
       "      <td>8</td>\n",
       "    </tr>\n",
       "    <tr>\n",
       "      <td>4</td>\n",
       "      <td>10</td>\n",
       "    </tr>\n",
       "    <tr>\n",
       "      <td>...</td>\n",
       "      <td>...</td>\n",
       "    </tr>\n",
       "    <tr>\n",
       "      <td>39303</td>\n",
       "      <td>131035</td>\n",
       "    </tr>\n",
       "    <tr>\n",
       "      <td>39304</td>\n",
       "      <td>131037</td>\n",
       "    </tr>\n",
       "    <tr>\n",
       "      <td>39305</td>\n",
       "      <td>131039</td>\n",
       "    </tr>\n",
       "    <tr>\n",
       "      <td>39306</td>\n",
       "      <td>131041</td>\n",
       "    </tr>\n",
       "    <tr>\n",
       "      <td>39307</td>\n",
       "      <td>131050</td>\n",
       "    </tr>\n",
       "  </tbody>\n",
       "</table>\n",
       "<p>39308 rows × 1 columns</p>\n",
       "</div>"
      ],
      "text/plain": [
       "       encounter_id\n",
       "0                 2\n",
       "1                 5\n",
       "2                 7\n",
       "3                 8\n",
       "4                10\n",
       "...             ...\n",
       "39303        131035\n",
       "39304        131037\n",
       "39305        131039\n",
       "39306        131041\n",
       "39307        131050\n",
       "\n",
       "[39308 rows x 1 columns]"
      ]
     },
     "execution_count": 390,
     "metadata": {},
     "output_type": "execute_result"
    }
   ],
   "source": [
    "unlabeled_X_df[['encounter_id']]"
   ]
  },
  {
   "cell_type": "markdown",
   "metadata": {},
   "source": [
    "#### 2. 1D Convolutional Network"
   ]
  },
  {
   "cell_type": "code",
   "execution_count": 253,
   "metadata": {},
   "outputs": [],
   "source": [
    "class CNN(nn.Module):\n",
    "    def __init__(self, input_size, n_feature1, n_feature2, \n",
    "                 hidden_size, output_size):\n",
    "        super(CNN, self).__init__()\n",
    "        self.n_feature1 = n_feature1\n",
    "        self.n_feature2 = n_feature2\n",
    "        self.conv1 = nn.Conv1d(in_channels=input_size,\n",
    "                               out_channels=n_feature1, \n",
    "                               kernel_size = 5)\n",
    "        self.conv2 = nn.Conv1d(in_channels=n_feature1,\n",
    "                               out_channels=n_feature2, \n",
    "                               kernel_size = 5)\n",
    "        self.fc1 = nn.Linear(50 * 100, hidden_size)\n",
    "        self.fc2 = nn.Linear(hidden_size, output_size)\n",
    "        \n",
    "    def forward(self, x, verbose=False):\n",
    "        # After conv1, \n",
    "        # shape: (batch_size, n_feature1, o1)\n",
    "        # o1 = ((input_len - kernel_size + 2P) / S + 1))\n",
    "        x = self.conv1(x)\n",
    "        x = F.relu(x)\n",
    "        # After maxpool\n",
    "        # shape = (batch_size, n_feature1, 1/2 * o1)\n",
    "        x = F.max_pool1d(x, kernel_size=2)\n",
    "        # After conv2, \n",
    "        # shape = (batch_size, n_feature2, o2 )\n",
    "        # o2 = (o1 - kernel_size + 2P) / S + 1\n",
    "        x = self.conv2(x)\n",
    "        x = F.relu(x)\n",
    "        # After maxpool,\n",
    "        # shape = (batch_size, n_feature2, o2/2)\n",
    "        x = F.max_pool1d(x, kernel_size=2)\n",
    "        \n",
    "        x = x.view(-1, 50 * 100)\n",
    "        # After fc1, \n",
    "        # shape: (o3, hidden_size)\n",
    "        # o3 = 50 * 1000. When we flat it for view, we want to keep the \n",
    "        # batch size, so we need to find that o3 dimension. In this case, it is 50 * 1000\n",
    "        x = self.fc1(x)\n",
    "        x = F.relu(x)\n",
    "        # After fc2, \n",
    "        # shape: (hidden_size, output_size)\n",
    "        x = self.fc2(x)\n",
    "        \n",
    "        return x"
   ]
  },
  {
   "cell_type": "code",
   "execution_count": 238,
   "metadata": {},
   "outputs": [],
   "source": [
    "input_size = 1\n",
    "n_feature1 = 200\n",
    "n_feature2 = 50\n",
    "hidden_size = 30\n",
    "output_size = 2\n",
    "\n",
    "criterion = torch.nn.CrossEntropyLoss()\n",
    "\n",
    "# we use the optim package to apply\n",
    "# stochastic gradient descent for our parameter updates\n",
    "# built-in L2\n",
    "learning_rate = 1e-3\n",
    "lambda_l2 = 1e-5\n",
    "\n",
    "model = CNN(input_size=1, n_feature1=200, n_feature2=50, \n",
    "           hidden_size = 30, output_size=2)\n",
    "optimizer = torch.optim.SGD(model.parameters(), lr=learning_rate, weight_decay=lambda_l2) \n",
    "num_epochs = 2"
   ]
  },
  {
   "cell_type": "code",
   "execution_count": 250,
   "metadata": {},
   "outputs": [
    {
     "data": {
      "text/plain": [
       "torch.Size([64, 1, 412])"
      ]
     },
     "execution_count": 250,
     "metadata": {},
     "output_type": "execute_result"
    }
   ],
   "source": [
    "x.shape"
   ]
  },
  {
   "cell_type": "code",
   "execution_count": 251,
   "metadata": {},
   "outputs": [
    {
     "data": {
      "text/plain": [
       "torch.Size([64, 2])"
      ]
     },
     "execution_count": 251,
     "metadata": {},
     "output_type": "execute_result"
    }
   ],
   "source": [
    "model(x).shape"
   ]
  },
  {
   "cell_type": "code",
   "execution_count": 252,
   "metadata": {},
   "outputs": [],
   "source": [
    "best_weights, history_train, history_test = train_valid(model, data_train_loader, data_train,\n",
    "                                         optimizer, criterion,\n",
    "                                         data_test_loader, data_test, num_epochs)"
   ]
  },
  {
   "cell_type": "code",
   "execution_count": 254,
   "metadata": {},
   "outputs": [
    {
     "data": {
      "image/png": "[encoded data removed]",
      "text/plain": [
       "<Figure size 648x288 with 3 Axes>"
      ]
     },
     "metadata": {
      "needs_background": "light"
     },
     "output_type": "display_data"
    }
   ],
   "source": [
    "plot_train_test(history_train, history_test)"
   ]
  },
  {
   "cell_type": "code",
   "execution_count": null,
   "metadata": {},
   "outputs": [],
   "source": []
  },
  {
   "cell_type": "code",
   "execution_count": null,
   "metadata": {},
   "outputs": [],
   "source": []
  }
 ],
 "metadata": {
  "kernelspec": {
   "display_name": "Python 3",
   "language": "python",
   "name": "python3"
  },
  "language_info": {
   "codemirror_mode": {
    "name": "ipython",
    "version": 3
   },
   "file_extension": ".py",
   "mimetype": "text/x-python",
   "name": "python",
   "nbconvert_exporter": "python",
   "pygments_lexer": "ipython3",
   "version": "3.7.1"
  }
 },
 "nbformat": 4,
 "nbformat_minor": 2
}
