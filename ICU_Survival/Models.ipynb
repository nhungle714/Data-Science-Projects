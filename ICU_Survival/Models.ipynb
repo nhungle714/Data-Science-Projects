{
 "cells": [
  {
   "cell_type": "code",
   "execution_count": 11,
   "metadata": {},
   "outputs": [],
   "source": [
    "import pandas as pd\n",
    "import torch\n",
    "import torch.nn as nn\n",
    "from torch.autograd import Variable\n",
    "import torchvision.datasets as dset\n",
    "import torchvision.transforms as transforms\n",
    "import torch.nn.functional as F\n",
    "import torch.optim as optim\n",
    "import numpy as np\n",
    "import matplotlib.pylab as plt\n",
    "from torch.utils.data import Dataset, DataLoader\n",
    "import copy\n",
    "from tqdm import tqdm\n",
    "import torch.optim.lr_scheduler as sched\n",
    "import warnings\n",
    "warnings.filterwarnings('ignore')\n",
    "from sklearn.metrics import roc_auc_score, roc_curve\n",
    "import pickle\n",
    "import os"
   ]
  },
  {
   "cell_type": "code",
   "execution_count": 12,
   "metadata": {},
   "outputs": [],
   "source": [
    "root = os.getcwd()\n",
    "data_root = os.path.join(root, 'data')"
   ]
  },
  {
   "cell_type": "markdown",
   "metadata": {},
   "source": [
    "### Prepare Data"
   ]
  },
  {
   "cell_type": "code",
   "execution_count": 13,
   "metadata": {},
   "outputs": [],
   "source": [
    "train_X = pickle.load(open(os.path.join(data_root, 'train_X.pickle'), \"rb\"))\n",
    "train_y = pickle.load(open(os.path.join(data_root, 'train_y.pickle'), \"rb\"))\n",
    "test_X = pickle.load(open(os.path.join(data_root, 'test_X.pickle'), \"rb\"))\n",
    "test_y = pickle.load(open(os.path.join(data_root, 'test_y.pickle'), \"rb\"))"
   ]
  },
  {
   "cell_type": "code",
   "execution_count": 14,
   "metadata": {},
   "outputs": [],
   "source": [
    "device = torch.device(\"cuda\" if torch.cuda.is_available() else \"cpu\")\n",
    "class ICUDataset(Dataset):\n",
    "    \n",
    "    def __init__(self, input_array, label_df):\n",
    "        # Args:\n",
    "        #      input_array: list of list\n",
    "        #      label_array: list of list\n",
    "        \n",
    "        super(ICUDataset, self).__init__()\n",
    "        self.input_tensors = []\n",
    "        self.labels = torch.tensor(list(label_df.iloc[:,-1]), dtype=torch.long)\n",
    "        for sample in input_array:\n",
    "            self.input_tensors.append(torch.tensor([sample[:]], dtype=torch.float))\n",
    "        \n",
    "    def __len__(self):\n",
    "        return len(self.input_tensors)\n",
    "\n",
    "    def __getitem__(self, index):\n",
    "        x = self.input_tensors[index]\n",
    "        # want to have y as tensor([1]), for 1 being class\n",
    "        y = self.labels[index]\n",
    "                   \n",
    "        return x, y"
   ]
  },
  {
   "cell_type": "code",
   "execution_count": 15,
   "metadata": {},
   "outputs": [],
   "source": [
    "data_train = ICUDataset(train_X, train_y)\n",
    "data_test = ICUDataset(test_X, test_y)"
   ]
  },
  {
   "cell_type": "code",
   "execution_count": 16,
   "metadata": {},
   "outputs": [
    {
     "data": {
      "text/plain": [
       "torch.Size([])"
      ]
     },
     "execution_count": 16,
     "metadata": {},
     "output_type": "execute_result"
    }
   ],
   "source": [
    "# Test data train\n",
    "x, y = next(iter(data_train))\n",
    "x.shape\n",
    "y.shape"
   ]
  },
  {
   "cell_type": "code",
   "execution_count": 17,
   "metadata": {},
   "outputs": [],
   "source": [
    "data_train_loader = DataLoader(data_train, batch_size = 64, shuffle=False, num_workers=4)\n",
    "data_test_loader = DataLoader(data_test, batch_size = 64, shuffle=False, num_workers=4)"
   ]
  },
  {
   "cell_type": "code",
   "execution_count": 18,
   "metadata": {},
   "outputs": [],
   "source": [
    "# We want to have x.shape = [batch_size, height, width = len of input]\n",
    "# y.shape = [batch_size, 1] because y is a class\n",
    "x, y = next(iter(data_train_loader))"
   ]
  },
  {
   "cell_type": "code",
   "execution_count": 19,
   "metadata": {},
   "outputs": [
    {
     "data": {
      "text/plain": [
       "torch.Size([64])"
      ]
     },
     "execution_count": 19,
     "metadata": {},
     "output_type": "execute_result"
    }
   ],
   "source": [
    "y.shape"
   ]
  },
  {
   "cell_type": "code",
   "execution_count": 142,
   "metadata": {},
   "outputs": [],
   "source": []
  },
  {
   "cell_type": "markdown",
   "metadata": {},
   "source": [
    "### Train and Valid"
   ]
  },
  {
   "cell_type": "code",
   "execution_count": 32,
   "metadata": {},
   "outputs": [],
   "source": [
    "def train(model, data_train_loader, data_train, optimizer, criterion):\n",
    "    y_true_list_train = []\n",
    "    y_score_list_train = []\n",
    "    num_correct = 0\n",
    "    cur_loss = 0\n",
    "    losslisttrain = []\n",
    "    \n",
    "    model.train()\n",
    "    \n",
    "    for iter_, (inputs, targets) in enumerate(data_train_loader):\n",
    "#         if iter_ % 500 == 0:\n",
    "#             print(\"Train Phase: Iteration {}/{}\".format(iter_+1, len(data_train_loader)))\n",
    "\n",
    "        # zero out the parameter gradients\n",
    "        optimizer.zero_grad()\n",
    "\n",
    "        # Setup for forward\n",
    "        inputs = inputs.to(device)\n",
    "        targets = targets.to(device)\n",
    "        batch_size = inputs.size(0)\n",
    "\n",
    "\n",
    "        # Feed forward to get the logits\n",
    "        logit = model(inputs)\n",
    "        loss = criterion(logit, targets)\n",
    "        loss_val = loss.item()\n",
    "        cur_loss += loss_val * batch_size\n",
    "        #print('cur_loss', cur_loss)\n",
    "\n",
    "        # Add y_true and y_pred to list to calculate AUC score\n",
    "        y_true_list_train += targets.data.tolist()\n",
    "        y_pred = logit.argmax(dim=1)\n",
    "        num_correct += (y_pred == targets).sum().item()\n",
    "        y_score_list_train += logit.data.numpy()[:, 1].tolist()\n",
    "\n",
    "        # Backward\n",
    "        loss.backward()\n",
    "        optimizer.step()\n",
    "\n",
    "\n",
    "    avg_train_loss = cur_loss / len(data_train)\n",
    "    losslisttrain.append(avg_train_loss)\n",
    "\n",
    "    train_auc =  roc_auc_score(y_true=(np.array(y_true_list_train)==1),\n",
    "                               y_score=np.array(y_score_list_train))\n",
    "\n",
    "\n",
    "    train_acc = (num_correct / len(data_train)) * 100 \n",
    "#     print(f'Train Loss: {avg_train_loss:.4f}')\n",
    "#     print(f'Train AUC: {train_auc:.4f}')\n",
    "#     print(f'Train ACC: {train_acc:.4f}')\n",
    "\n",
    "    return(avg_train_loss, train_auc, train_acc, model)"
   ]
  },
  {
   "cell_type": "code",
   "execution_count": 33,
   "metadata": {},
   "outputs": [],
   "source": [
    "def test(model, data_test_loader, data_test):\n",
    "    y_true_list_test = []\n",
    "    y_score_list_test = []\n",
    "    num_correct = 0\n",
    "    cur_loss = 0\n",
    "    losslisttest = []\n",
    "    \n",
    "    model.eval()\n",
    "    \n",
    "    for iter_, (inputs, targets) in enumerate(data_test_loader):\n",
    "#         if iter_ % 500 == 0:\n",
    "#             print(\"Valid Phase: Iteration {}/{}\".format(iter_+1, len(data_test_loader)))\n",
    "        # Setup for forward\n",
    "        inputs = inputs.to(device)\n",
    "        targets = targets.to(device)\n",
    "        batch_size = inputs.size(0)\n",
    "\n",
    "        # Feed forward to get the logits\n",
    "        logit = model(inputs)\n",
    "        loss = criterion(logit, targets)\n",
    "        loss_val = loss.item()\n",
    "        cur_loss += loss_val * batch_size\n",
    "        #print('cur_loss', cur_loss)\n",
    "\n",
    "        # Add y_true and y_pred to list to calculate AUC score\n",
    "        y_true_list_test += targets.data.tolist()\n",
    "        y_pred = logit.argmax(dim=1)\n",
    "        num_correct += (y_pred == targets).sum().item()\n",
    "        y_score_list_test += logit.data.numpy()[:, 1].tolist()\n",
    "\n",
    "\n",
    "\n",
    "    avg_test_loss = cur_loss / len(data_test)\n",
    "    losslisttest.append(avg_test_loss)\n",
    "\n",
    "    test_auc =  roc_auc_score(y_true=(np.array(y_true_list_test)==1),\n",
    "                               y_score=np.array(y_score_list_test))\n",
    "\n",
    "\n",
    "    test_acc = (num_correct / len(data_test)) * 100 \n",
    "#     print(f'Valid Loss: {avg_test_loss:.4f}')\n",
    "#     print(f'Valid AUC: {test_auc:.4f}')\n",
    "#     print(f'Valid ACC: {test_acc:.4f}')\n",
    "\n",
    "    return(avg_test_loss, test_auc, test_acc)"
   ]
  },
  {
   "cell_type": "code",
   "execution_count": 47,
   "metadata": {},
   "outputs": [],
   "source": [
    "def train_valid(model, data_train_loader, data_train, optimizer, criterion,\n",
    "                data_test_loader, data_test, num_epochs):\n",
    "    best_val_loss = 1000\n",
    "    best_weights = copy.deepcopy(model.state_dict())\n",
    "    history_train = {'loss': [], 'acc': [], 'auc': []}\n",
    "    history_test = {'loss': [], 'acc': [], 'auc': []}\n",
    "\n",
    "    for epoch in range(num_epochs):\n",
    "        avg_train_loss, train_auc, train_acc, model = train(model, data_train_loader,\n",
    "                                                            data_train, optimizer, criterion)\n",
    "        avg_test_loss, test_auc, test_acc = test(model, data_test_loader, data_test)\n",
    "        history_train['loss'].append(avg_train_loss)\n",
    "        history_train['auc'].append(train_auc)\n",
    "        history_train['acc'].append(train_acc)\n",
    "        history_test['loss'].append(avg_test_loss)\n",
    "        history_test['auc'].append(test_auc)\n",
    "        history_test['acc'].append(test_acc)\n",
    "        \n",
    "        \n",
    "        \n",
    "        if avg_test_loss < best_val_loss:\n",
    "            best_val_loss = avg_test_loss\n",
    "            best_weights = copy.deepcopy(model.state_dict())\n",
    "            \n",
    "        #print('-'*20)\n",
    "    return (best_weights, history_train, history_test)"
   ]
  },
  {
   "cell_type": "code",
   "execution_count": 48,
   "metadata": {},
   "outputs": [],
   "source": [
    "def plot_train_test(history_train, history_test):\n",
    "    fig, axes = plt.subplots(ncols=3, figsize=(9, 4))\n",
    "    for ax, metric in zip(axes, ['loss', 'acc', 'auc']):\n",
    "        ax.plot(history_train[metric])\n",
    "        ax.plot(history_test[metric])\n",
    "        ax.set_xlabel('epoch', fontsize=12)\n",
    "        ax.set_ylabel(metric, fontsize=12)\n",
    "        ax.legend(['Train', 'Test'], loc='best')\n",
    "    fig.tight_layout(pad=0.5)\n",
    "    plt.show()"
   ]
  },
  {
   "cell_type": "markdown",
   "metadata": {},
   "source": [
    "### Training and Validating\n"
   ]
  },
  {
   "cell_type": "markdown",
   "metadata": {},
   "source": [
    "#### 1. MLP Model"
   ]
  },
  {
   "cell_type": "code",
   "execution_count": 20,
   "metadata": {},
   "outputs": [],
   "source": [
    "class MLPNet(nn.Module):\n",
    "    def __init__(self, input_size, hidden_size, output_size):\n",
    "        super(MLPNet, self).__init__()\n",
    "        self.fc1 = nn.Linear(input_size, hidden_size)\n",
    "        self.fc2 = nn.Linear(hidden_size, output_size)\n",
    "\n",
    "\n",
    "    def forward(self, x):\n",
    "        x = x.contiguous().view(-1,input_size)\n",
    "        x = F.relu(self.fc1(x))\n",
    "        x = self.fc2(x)\n",
    "        return x\n",
    "    \n"
   ]
  },
  {
   "cell_type": "code",
   "execution_count": 67,
   "metadata": {},
   "outputs": [],
   "source": [
    "# nn package also has different loss functions.\n",
    "# we use Cross Entropy loss for our regression task\n",
    "criterion = torch.nn.CrossEntropyLoss()\n",
    "\n",
    "# we use the optim package to apply\n",
    "# stochastic gradient descent for our parameter updates\n",
    "# built-in L2\n",
    "learning_rate = 1e-3\n",
    "lambda_l2 = 1e-5\n",
    "\n",
    "input_size = 412\n",
    "hidden_size = 200\n",
    "output_size = 2\n",
    "\n",
    "model = MLPNet(input_size, hidden_size, output_size)\n",
    "optimizer = torch.optim.SGD(model.parameters(), lr=learning_rate, weight_decay=lambda_l2) \n",
    "num_epochs = 150"
   ]
  },
  {
   "cell_type": "code",
   "execution_count": 68,
   "metadata": {},
   "outputs": [],
   "source": [
    "best_weights, history_train, history_test = train_valid(model, data_train_loader, data_train,\n",
    "                                         optimizer, criterion,\n",
    "                                         data_test_loader, data_test, num_epochs)"
   ]
  },
  {
   "cell_type": "code",
   "execution_count": 69,
   "metadata": {},
   "outputs": [
    {
     "data": {
      "image/png": "[encoded data removed]",
      "text/plain": [
       "<Figure size 648x288 with 3 Axes>"
      ]
     },
     "metadata": {
      "needs_background": "light"
     },
     "output_type": "display_data"
    }
   ],
   "source": [
    "plot_train_test(history_train, history_test)"
   ]
  },
  {
   "cell_type": "code",
   "execution_count": null,
   "metadata": {},
   "outputs": [],
   "source": []
  },
  {
   "cell_type": "markdown",
   "metadata": {},
   "source": [
    "#### 2. 1D Convolutional Network"
   ]
  },
  {
   "cell_type": "code",
   "execution_count": 253,
   "metadata": {},
   "outputs": [],
   "source": [
    "class CNN(nn.Module):\n",
    "    def __init__(self, input_size, n_feature1, n_feature2, \n",
    "                 hidden_size, output_size):\n",
    "        super(CNN, self).__init__()\n",
    "        self.n_feature1 = n_feature1\n",
    "        self.n_feature2 = n_feature2\n",
    "        self.conv1 = nn.Conv1d(in_channels=input_size,\n",
    "                               out_channels=n_feature1, \n",
    "                               kernel_size = 5)\n",
    "        self.conv2 = nn.Conv1d(in_channels=n_feature1,\n",
    "                               out_channels=n_feature2, \n",
    "                               kernel_size = 5)\n",
    "        self.fc1 = nn.Linear(50 * 100, hidden_size)\n",
    "        self.fc2 = nn.Linear(hidden_size, output_size)\n",
    "        \n",
    "    def forward(self, x, verbose=False):\n",
    "        # After conv1, \n",
    "        # shape: (batch_size, n_feature1, o1)\n",
    "        # o1 = ((input_len - kernel_size + 2P) / S + 1))\n",
    "        x = self.conv1(x)\n",
    "        x = F.relu(x)\n",
    "        # After maxpool\n",
    "        # shape = (batch_size, n_feature1, 1/2 * o1)\n",
    "        x = F.max_pool1d(x, kernel_size=2)\n",
    "        # After conv2, \n",
    "        # shape = (batch_size, n_feature2, o2 )\n",
    "        # o2 = (o1 - kernel_size + 2P) / S + 1\n",
    "        x = self.conv2(x)\n",
    "        x = F.relu(x)\n",
    "        # After maxpool,\n",
    "        # shape = (batch_size, n_feature2, o2/2)\n",
    "        x = F.max_pool1d(x, kernel_size=2)\n",
    "        \n",
    "        x = x.view(-1, 50 * 100)\n",
    "        # After fc1, \n",
    "        # shape: (o3, hidden_size)\n",
    "        # o3 = 50 * 1000. When we flat it for view, we want to keep the \n",
    "        # batch size, so we need to find that o3 dimension. In this case, it is 50 * 1000\n",
    "        x = self.fc1(x)\n",
    "        x = F.relu(x)\n",
    "        # After fc2, \n",
    "        # shape: (hidden_size, output_size)\n",
    "        x = self.fc2(x)\n",
    "        \n",
    "        return x"
   ]
  },
  {
   "cell_type": "code",
   "execution_count": 238,
   "metadata": {},
   "outputs": [],
   "source": [
    "input_size = 1\n",
    "n_feature1 = 200\n",
    "n_feature2 = 50\n",
    "hidden_size = 30\n",
    "output_size = 2\n",
    "\n",
    "criterion = torch.nn.CrossEntropyLoss()\n",
    "\n",
    "# we use the optim package to apply\n",
    "# stochastic gradient descent for our parameter updates\n",
    "# built-in L2\n",
    "learning_rate = 1e-3\n",
    "lambda_l2 = 1e-5\n",
    "\n",
    "model = CNN(input_size=1, n_feature1=200, n_feature2=50, \n",
    "           hidden_size = 30, output_size=2)\n",
    "optimizer = torch.optim.SGD(model.parameters(), lr=learning_rate, weight_decay=lambda_l2) \n",
    "num_epochs = 2"
   ]
  },
  {
   "cell_type": "code",
   "execution_count": 250,
   "metadata": {},
   "outputs": [
    {
     "data": {
      "text/plain": [
       "torch.Size([64, 1, 412])"
      ]
     },
     "execution_count": 250,
     "metadata": {},
     "output_type": "execute_result"
    }
   ],
   "source": [
    "x.shape"
   ]
  },
  {
   "cell_type": "code",
   "execution_count": 251,
   "metadata": {},
   "outputs": [
    {
     "data": {
      "text/plain": [
       "torch.Size([64, 2])"
      ]
     },
     "execution_count": 251,
     "metadata": {},
     "output_type": "execute_result"
    }
   ],
   "source": [
    "model(x).shape"
   ]
  },
  {
   "cell_type": "code",
   "execution_count": 252,
   "metadata": {},
   "outputs": [],
   "source": [
    "best_weights, history_train, history_test = train_valid(model, data_train_loader, data_train,\n",
    "                                         optimizer, criterion,\n",
    "                                         data_test_loader, data_test, num_epochs)"
   ]
  },
  {
   "cell_type": "code",
   "execution_count": 254,
   "metadata": {},
   "outputs": [
    {
     "data": {
      "image/png": "[encoded data removed]",
      "text/plain": [
       "<Figure size 648x288 with 3 Axes>"
      ]
     },
     "metadata": {
      "needs_background": "light"
     },
     "output_type": "display_data"
    }
   ],
   "source": [
    "plot_train_test(history_train, history_test)"
   ]
  },
  {
   "cell_type": "code",
   "execution_count": null,
   "metadata": {},
   "outputs": [],
   "source": []
  },
  {
   "cell_type": "code",
   "execution_count": null,
   "metadata": {},
   "outputs": [],
   "source": []
  }
 ],
 "metadata": {
  "kernelspec": {
   "display_name": "Python 3",
   "language": "python",
   "name": "python3"
  },
  "language_info": {
   "codemirror_mode": {
    "name": "ipython",
    "version": 3
   },
   "file_extension": ".py",
   "mimetype": "text/x-python",
   "name": "python",
   "nbconvert_exporter": "python",
   "pygments_lexer": "ipython3",
   "version": "3.7.1"
  }
 },
 "nbformat": 4,
 "nbformat_minor": 2
}
