{
 "cells": [
  {
   "cell_type": "code",
   "execution_count": 1,
   "metadata": {},
   "outputs": [
    {
     "name": "stderr",
     "output_type": "stream",
     "text": [
      "[nltk_data] Downloading package punkt to /Users/nhungle/nltk_data...\n",
      "[nltk_data]   Package punkt is already up-to-date!\n"
     ]
    }
   ],
   "source": [
    "import re\n",
    "import os\n",
    "import time\n",
    "import pandas as pd\n",
    "import numpy as np\n",
    "from collections import Counter\n",
    "from sklearn.model_selection import train_test_split\n",
    "from sklearn.metrics.pairwise import cosine_similarity\n",
    "# from gensim.models import KeyedVectors\n",
    "import nltk\n",
    "nltk.download('punkt')\n",
    "from nltk.tokenize import word_tokenize\n",
    "from torch.nn.utils.rnn import pad_sequence\n",
    "from torch.nn.utils.rnn import pack_padded_sequence\n",
    "import torch\n",
    "import torch.nn as nn\n",
    "import torch.nn.functional as F\n",
    "from sklearn.metrics import roc_auc_score\n",
    "from torch.utils.data import DataLoader, Dataset"
   ]
  },
  {
   "cell_type": "code",
   "execution_count": 2,
   "metadata": {},
   "outputs": [],
   "source": [
    "# !pip install spacy\n",
    "# !python -m spacy download en_core_web_sm\n",
    "import spacy\n",
    "import string"
   ]
  },
  {
   "cell_type": "code",
   "execution_count": 3,
   "metadata": {},
   "outputs": [],
   "source": [
    "raw_data = pd.read_csv('medicaltranscriptions.zip')"
   ]
  },
  {
   "cell_type": "code",
   "execution_count": 4,
   "metadata": {},
   "outputs": [
    {
     "data": {
      "text/plain": [
       "Index(['Unnamed: 0', 'description', 'medical_specialty', 'sample_name',\n",
       "       'transcription', 'keywords'],\n",
       "      dtype='object')"
      ]
     },
     "execution_count": 4,
     "metadata": {},
     "output_type": "execute_result"
    }
   ],
   "source": [
    "raw_data.columns"
   ]
  },
  {
   "cell_type": "code",
   "execution_count": 5,
   "metadata": {},
   "outputs": [],
   "source": [
    "top_5_specialties = list(raw_data['medical_specialty'].value_counts()[:5].index)\n",
    "data = raw_data.loc[raw_data['medical_specialty'].isin(top_5_specialties)]"
   ]
  },
  {
   "cell_type": "markdown",
   "metadata": {},
   "source": [
    "### Clean Text"
   ]
  },
  {
   "cell_type": "code",
   "execution_count": 6,
   "metadata": {},
   "outputs": [
    {
     "name": "stderr",
     "output_type": "stream",
     "text": [
      "[nltk_data] Downloading package punkt to /Users/nhungle/nltk_data...\n",
      "[nltk_data]   Package punkt is already up-to-date!\n"
     ]
    }
   ],
   "source": [
    "# Clean Data\n",
    "import clean_text\n"
   ]
  },
  {
   "cell_type": "code",
   "execution_count": 19,
   "metadata": {},
   "outputs": [
    {
     "data": {
      "text/plain": [
       "[str, float]"
      ]
     },
     "execution_count": 19,
     "metadata": {},
     "output_type": "execute_result"
    }
   ],
   "source": [
    "list(data['transcription'].apply(type).value_counts().index)"
   ]
  },
  {
   "cell_type": "markdown",
   "metadata": {},
   "source": [
    "**Note** We replace missing transcription with description"
   ]
  },
  {
   "cell_type": "code",
   "execution_count": 26,
   "metadata": {},
   "outputs": [
    {
     "data": {
      "text/plain": [
       "16"
      ]
     },
     "execution_count": 26,
     "metadata": {},
     "output_type": "execute_result"
    }
   ],
   "source": [
    "data['transcription'].isnull().sum()\n",
    "data.loc[data['transcription'].apply(type)==float]"
   ]
  },
  {
   "cell_type": "code",
   "execution_count": 30,
   "metadata": {},
   "outputs": [
    {
     "name": "stderr",
     "output_type": "stream",
     "text": [
      "/anaconda3/lib/python3.7/site-packages/pandas/core/generic.py:6287: SettingWithCopyWarning: \n",
      "A value is trying to be set on a copy of a slice from a DataFrame\n",
      "\n",
      "See the caveats in the documentation: http://pandas.pydata.org/pandas-docs/stable/user_guide/indexing.html#returning-a-view-versus-a-copy\n",
      "  self._update_inplace(new_data)\n"
     ]
    }
   ],
   "source": [
    "data['transcription'].fillna(data['description'], inplace=True)"
   ]
  },
  {
   "cell_type": "code",
   "execution_count": 33,
   "metadata": {},
   "outputs": [
    {
     "data": {
      "text/plain": [
       "(16, 6)"
      ]
     },
     "execution_count": 33,
     "metadata": {},
     "output_type": "execute_result"
    }
   ],
   "source": [
    "data.loc[data.description == data.transcription].shape"
   ]
  },
  {
   "cell_type": "code",
   "execution_count": 34,
   "metadata": {},
   "outputs": [
    {
     "name": "stderr",
     "output_type": "stream",
     "text": [
      "/anaconda3/lib/python3.7/site-packages/ipykernel_launcher.py:1: SettingWithCopyWarning: \n",
      "A value is trying to be set on a copy of a slice from a DataFrame.\n",
      "Try using .loc[row_indexer,col_indexer] = value instead\n",
      "\n",
      "See the caveats in the documentation: http://pandas.pydata.org/pandas-docs/stable/user_guide/indexing.html#returning-a-view-versus-a-copy\n",
      "  \"\"\"Entry point for launching an IPython kernel.\n"
     ]
    }
   ],
   "source": [
    "data['clean_transcription'] = clean_text.cleanText(data['transcription'])"
   ]
  },
  {
   "cell_type": "markdown",
   "metadata": {},
   "source": [
    "### Get Train/Val/Test set"
   ]
  },
  {
   "cell_type": "code",
   "execution_count": 53,
   "metadata": {},
   "outputs": [
    {
     "data": {
      "text/plain": [
       "<torch._C.Generator at 0x1a29be9550>"
      ]
     },
     "execution_count": 53,
     "metadata": {},
     "output_type": "execute_result"
    }
   ],
   "source": [
    "import torch\n",
    "torch.manual_seed(0)"
   ]
  },
  {
   "cell_type": "code",
   "execution_count": 55,
   "metadata": {},
   "outputs": [],
   "source": [
    "train_data, val_data = train_test_split(data, test_size=0.40, random_state=42)\n",
    "val_data, test_data = train_test_split(data, test_size=0.50, random_state=40)"
   ]
  },
  {
   "cell_type": "code",
   "execution_count": 56,
   "metadata": {},
   "outputs": [],
   "source": [
    "train_data.index = np.arange(len(train_data))\n",
    "val_data.index = np.arange(len(val_data))\n",
    "test_data.index = np.arange(len(test_data))"
   ]
  },
  {
   "cell_type": "code",
   "execution_count": 61,
   "metadata": {},
   "outputs": [
    {
     "data": {
      "text/plain": [
       "(1571, 7)"
      ]
     },
     "execution_count": 61,
     "metadata": {},
     "output_type": "execute_result"
    }
   ],
   "source": [
    "train_data.shape"
   ]
  },
  {
   "cell_type": "code",
   "execution_count": 58,
   "metadata": {},
   "outputs": [],
   "source": [
    "def getTextTarget(data):\n",
    "    text = data['clean_transcription']\n",
    "    target = data['medical_specialty']\n",
    "    return text, target"
   ]
  },
  {
   "cell_type": "code",
   "execution_count": 62,
   "metadata": {},
   "outputs": [],
   "source": [
    "train_text, train_target = getTextTarget(train_data)\n",
    "val_text, val_target = getTextTarget(val_data)\n",
    "test_text, test_target = getTextTarget(test_data)"
   ]
  },
  {
   "cell_type": "markdown",
   "metadata": {},
   "source": [
    "### Tokenize"
   ]
  },
  {
   "cell_type": "code",
   "execution_count": 79,
   "metadata": {},
   "outputs": [],
   "source": [
    "class Tokenizer(object):\n",
    "    def __init__(self, dataset):\n",
    "        res = self.tokenize_dataset(dataset)\n",
    "        self.token_dataset = res[0]\n",
    "        self.all_tokens = res[1]\n",
    "    \n",
    "    def tokenize(self, sentence):\n",
    "        punctuations = '!\"#$%&\\'()*+,-./:;<=>?@[\\\\]^_`{|}~'\n",
    "        tokens = word_tokenize(sentence)\n",
    "        return [token for token in tokens if (token not in punctuations)]\n",
    "    \n",
    "    def tokenize_dataset(self, dataset):\n",
    "        token_dataset = []\n",
    "        all_tokens = []\n",
    "        # we are keeping track of all tokens in dataset \n",
    "        # in order to create vocabulary later\n",
    "\n",
    "        for sample in dataset:\n",
    "            tokens = self.tokenize(sample)\n",
    "            token_dataset.append(tokens)\n",
    "            all_tokens += tokens\n",
    "\n",
    "        return token_dataset, all_tokens"
   ]
  },
  {
   "cell_type": "code",
   "execution_count": 81,
   "metadata": {},
   "outputs": [],
   "source": [
    "train_tokenizer = Tokenizer(train_text)\n",
    "train_tokens = train_tokenizer.token_dataset\n",
    "all_tokens = train_tokenizer.all_tokens"
   ]
  },
  {
   "cell_type": "code",
   "execution_count": 84,
   "metadata": {},
   "outputs": [],
   "source": [
    "test_tokenizer = Tokenizer(test_text)\n",
    "test_tokens = test_tokenizer.token_dataset\n",
    "val_tokenizer = Tokenizer(val_text)\n",
    "val_tokens = val_tokenizer.token_dataset"
   ]
  },
  {
   "cell_type": "code",
   "execution_count": 86,
   "metadata": {},
   "outputs": [
    {
     "data": {
      "text/plain": [
       "1309"
      ]
     },
     "execution_count": 86,
     "metadata": {},
     "output_type": "execute_result"
    }
   ],
   "source": [
    "len(val_tokens)"
   ]
  },
  {
   "cell_type": "code",
   "execution_count": 90,
   "metadata": {},
   "outputs": [],
   "source": [
    "data_root = '/Users/nhungle/Desktop/repos/Data-Science-Projects/MedTranscript/data'"
   ]
  },
  {
   "cell_type": "code",
   "execution_count": 91,
   "metadata": {},
   "outputs": [],
   "source": [
    "import pickle as pkl\n",
    "pkl.dump(val_tokens, open(os.path.join(data_root, \"val_data_tokens.p\"), \"wb\"))\n",
    "pkl.dump(test_tokens, open(os.path.join(data_root, \"test_data_tokens.p\"), \"wb\"))\n",
    "pkl.dump(train_tokens, open(os.path.join(data_root, \"train_data_tokens.p\"), \"wb\"))\n",
    "pkl.dump(all_tokens, open(os.path.join(data_root, \"all_data_tokens.p\"), \"wb\"))\n"
   ]
  },
  {
   "cell_type": "markdown",
   "metadata": {},
   "source": [
    "### Dictionary"
   ]
  },
  {
   "cell_type": "code",
   "execution_count": 93,
   "metadata": {},
   "outputs": [],
   "source": [
    "class Dictionary(object):\n",
    "    def __init__(self, all_tokens, max_vocab_size, PAD_IDX, UNK_IDX):\n",
    "        res = self.buildVocab(all_tokens, max_vocab_size, PAD_IDX, UNK_IDX)\n",
    "        # id2token: list of tokens, where id2token[i] returns token that corresponds to token i\n",
    "        self.id2token = res[1]\n",
    "        # token2id: dictionary where keys represent tokens and corresponding values represent indices\n",
    "        self.token2id = res[0]\n",
    "    \n",
    "    def buildVocab(self, all_tokens, max_vocab_size, PAD_IDX, UNK_IDX):\n",
    "        token_counter = Counter(all_tokens)\n",
    "        vocab, count = zip(*token_counter.most_common(max_vocab_size))\n",
    "        id2token = list(vocab)\n",
    "        token2id = dict(zip(vocab, range(2,2+len(vocab)))) \n",
    "        id2token = ['<pad>', '<unk>'] + id2token\n",
    "        token2id['<pad>'] = PAD_IDX \n",
    "        token2id['<unk>'] = UNK_IDX\n",
    "        return token2id, id2token\n",
    "    \n",
    "    def __len__(self):\n",
    "        return len(self.id2token)\n",
    " "
   ]
  },
  {
   "cell_type": "code",
   "execution_count": 94,
   "metadata": {},
   "outputs": [],
   "source": [
    "from collections import Counter\n",
    "\n",
    "max_vocab_size = 30000\n",
    "# save index 0 for unk and 1 for pad\n",
    "PAD_IDX = 0\n",
    "UNK_IDX = 1\n",
    "corpus = Dictionary(all_tokens, max_vocab_size, PAD_IDX, UNK_IDX)\n",
    "id2token = corpus.id2token\n",
    "token2id = corpus.token2id"
   ]
  },
  {
   "cell_type": "code",
   "execution_count": 96,
   "metadata": {},
   "outputs": [
    {
     "data": {
      "text/plain": [
       "30002"
      ]
     },
     "execution_count": 96,
     "metadata": {},
     "output_type": "execute_result"
    }
   ],
   "source": [
    "corpus.__len__()"
   ]
  },
  {
   "cell_type": "code",
   "execution_count": 99,
   "metadata": {},
   "outputs": [],
   "source": [
    "#token2id"
   ]
  },
  {
   "cell_type": "markdown",
   "metadata": {},
   "source": [
    "### Convert token (word) to ids"
   ]
  },
  {
   "cell_type": "code",
   "execution_count": 106,
   "metadata": {},
   "outputs": [],
   "source": [
    "class Token2IndexDataset(object):\n",
    "    def __init__(self, tokens_data):\n",
    "        self.indices_data = self.token2index_dataset(tokens_data)\n",
    "        \n",
    "    def token2index_dataset(self, tokens_data):\n",
    "        indices_data = []\n",
    "        for tokens in tokens_data:\n",
    "            index_list = [token2id[token] if token in token2id else UNK_IDX for token in tokens]\n",
    "            indices_data.append(index_list)\n",
    "        return indices_data"
   ]
  },
  {
   "cell_type": "code",
   "execution_count": 107,
   "metadata": {},
   "outputs": [],
   "source": [
    "train_data_indices = Token2IndexDataset(train_tokens).indices_data"
   ]
  },
  {
   "cell_type": "code",
   "execution_count": 110,
   "metadata": {},
   "outputs": [
    {
     "name": "stdout",
     "output_type": "stream",
     "text": [
      "['preoperative', 'diagnosis', 'visually', 'significant', 'cataract', 'left', 'eyepostoperative', 'diagnosis', 'visually', 'significant', 'cataract', 'left', 'eyeanesthesia', 'topicalmacprocedure', 'phacoemulsification', 'cataract', 'extraction', 'with', 'intraocular', 'lens', 'implantation', 'left', 'eye', 'alcon', 'acrysof', 'sn60at', '230', 'd', 'serial', 'complications', 'noneindications', 'for', 'surgery', 'the', 'patient', 'is', 'a', '74yearold', 'woman', 'with', 'complaints', 'of', 'painless', 'progressive', 'loss', 'of', 'vision', 'in', 'her', 'left', 'eye', 'she', 'was', 'found', 'to', 'have', 'a', 'visuallysignificant', 'cataract', 'and', 'after', 'discussion', 'of', 'the', 'risks', 'benefits', 'and', 'alternatives', 'to', 'surgery', 'she', 'elected', 'to', 'proceed', 'with', 'cataract', 'extraction', 'and', 'lens', 'implantation', 'in', 'this', 'eye', 'in', 'efforts', 'to', 'improve', 'her', 'visionprocedure', 'in', 'detail', 'the', 'patient', 'was', 'verified', 'in', 'the', 'preoperative', 'holding', 'area', 'and', 'the', 'informed', 'consent', 'was', 'reviewed', 'and', 'verified', 'to', 'be', 'on', 'the', 'chart', 'they', 'were', 'transported', 'to', 'the', 'operative', 'suite', 'accompanied', 'by', 'the', 'anesthesia', 'service', 'where', 'appropriate', 'cardiopulmonary', 'monitoring', 'was', 'established', 'mac', 'anesthesia', 'was', 'achieved', 'which', 'was', 'followed', 'by', 'topical', 'anesthesia', 'using', '1', 'preservativefree', 'tetracaine', 'eye', 'drops', 'the', 'patient', 'was', 'prepped', 'and', 'draped', 'in', 'the', 'usual', 'fashion', 'for', 'sterile', 'ophthalmic', 'surgery', 'and', 'a', 'lid', 'speculum', 'was', 'placedtwo', 'stabincision', 'paracenteses', 'were', 'made', 'in', 'the', 'cornea', 'using', 'the', 'mvr', 'blade', 'and', 'the', 'anterior', 'chamber', 'was', 'irrigated', 'with', '1', 'preservativefree', 'lidocaine', 'for', 'intracameral', 'anesthesia', 'the', 'anterior', 'chamber', 'was', 'filled', 'with', 'viscoelastic', 'and', 'a', 'shelved', 'temporal', 'clear', 'corneal', 'incision', 'was', 'made', 'using', 'the', 'diamond', 'groove', 'knife', 'and', 'steel', 'keratome', 'a', 'continuous', 'curvilinear', 'capsulorrhexis', 'was', 'made', 'in', 'the', 'anterior', 'capsule', 'using', 'the', 'bentneedle', 'cystotome', 'the', 'lens', 'nucleus', 'was', 'hydrodissected', 'and', 'hydrodelineated', 'using', 'balanced', 'saline', 'solution', 'bss', 'on', 'a', 'chang', 'cannula', 'until', 'it', 'rotated', 'freelythe', 'phacoemulsification', 'handpiece', 'was', 'introduced', 'into', 'the', 'anterior', 'chamber', 'and', 'the', 'lens', 'nucleus', 'was', 'sculpted', 'into', '2', 'halves', 'each', 'half', 'was', 'further', 'subdivided', 'with', 'chopping', 'and', 'removed', 'with', 'phacoemulsification', 'the', 'remaining', 'cortical', 'material', 'was', 'removed', 'with', 'the', 'irrigation', 'and', 'aspiration', 'ia', 'handpiece', 'the', 'capsular', 'bag', 'was', 'inflated', 'with', 'viscoelastic', 'and', 'the', 'intraocular', 'lens', 'was', 'injected', 'into', 'the', 'capsule', 'without', 'difficulty', 'the', 'remaining', 'viscoelastic', 'was', 'removed', 'with', 'the', 'ia', 'handpiece', 'and', 'the', 'anterior', 'chamber', 'was', 'filled', 'to', 'an', 'appropriate', 'intraocular', 'pressure', 'with', 'bss', 'the', 'corneal', 'wounds', 'were', 'hydrated', 'and', 'verified', 'to', 'be', 'watertight', 'antibiotic', 'ointment', 'was', 'placed', 'followed', 'by', 'a', 'patch', 'and', 'shield', 'the', 'patient', 'was', 'transported', 'to', 'the', 'pacu', 'in', 'goodstable', 'condition', 'there', 'were', 'no', 'complications', 'followup', 'is', 'scheduled', 'for', 'tomorrow', 'morning', 'in', 'the', 'eye', 'clinica', 'single', 'interrupted', '100', 'nylon', 'suture', 'was', 'placed', 'through', 'the', 'inferotemporal', 'paracentesis', 'to', 'ensure', 'that', 'it', 'was', 'watertight', 'at', 'the', 'end', 'of', 'the', 'case']\n",
      "[94, 70, 3969, 108, 1358, 18, 3807, 70, 3969, 108, 1358, 18, 5372, 17249, 2625, 1358, 2275, 8, 1904, 1096, 1479, 18, 415, 9611, 9612, 9613, 4783, 2192, 1464, 283, 2753, 13, 127, 2, 11, 10, 7, 4145, 1231, 8, 985, 5, 17250, 1206, 145, 5, 639, 9, 30, 18, 415, 17, 4, 152, 6, 58, 7, 17251, 1358, 3, 47, 1822, 5, 2, 215, 352, 3, 789, 6, 127, 17, 1387, 6, 602, 8, 1358, 2275, 3, 1096, 1479, 9, 16, 415, 9, 4542, 6, 1968, 30, 17252, 9, 321, 2, 11, 4, 1443, 9, 2, 94, 1156, 78, 3, 2, 341, 248, 4, 549, 3, 1443, 6, 29, 19, 2, 1319, 288, 12, 1142, 6, 2, 344, 633, 2833, 49, 2, 77, 1687, 181, 213, 1622, 988, 4, 1480, 3394, 77, 4, 493, 42, 4, 261, 49, 1728, 77, 46, 74, 7451, 5724, 415, 1969, 2, 11, 4, 110, 3, 113, 9, 2, 184, 81, 13, 92, 3282, 127, 3, 7, 1168, 1210, 4, 17253, 17254, 17255, 12, 80, 9, 2, 2910, 46, 2, 8302, 264, 3, 2, 68, 883, 4, 231, 8, 74, 7451, 343, 13, 9614, 77, 2, 68, 883, 4, 1444, 8, 2567, 3, 7, 11645, 1232, 199, 2105, 54, 4, 80, 46, 2, 3007, 1441, 1007, 3, 2679, 3395, 7, 1169, 2276, 3396, 4, 80, 9, 2, 68, 477, 46, 2, 17256, 6714, 2, 1096, 1266, 4, 6161, 3, 9615, 46, 3970, 299, 461, 3808, 19, 7, 11646, 978, 456, 43, 1663, 17257, 2625, 5373, 4, 759, 48, 2, 68, 883, 3, 2, 1096, 1266, 4, 17258, 48, 87, 9616, 539, 1267, 4, 164, 17259, 8, 9605, 3, 52, 8, 2625, 2, 688, 1409, 647, 4, 52, 8, 2, 697, 3, 977, 4321, 5373, 2, 701, 1297, 4, 740, 8, 2567, 3, 2, 1904, 1096, 4, 389, 48, 2, 477, 71, 237, 2, 688, 2567, 4, 52, 8, 2, 4321, 5373, 3, 2, 68, 883, 4, 1444, 6, 33, 213, 1904, 104, 8, 3808, 2, 2105, 1228, 12, 4543, 3, 1443, 6, 29, 2754, 880, 2106, 4, 28, 261, 49, 7, 1556, 3, 3528, 2, 11, 4, 1142, 6, 2, 1233, 9, 17260, 158, 24, 12, 15, 283, 671, 10, 1247, 13, 2225, 736, 9, 2, 415, 17261, 734, 250, 490, 563, 106, 4, 28, 64, 2, 6162, 2834, 6, 1533, 26, 43, 4, 2754, 20, 2, 379, 5, 2, 446]\n"
     ]
    }
   ],
   "source": [
    "idx = 10\n",
    "print(train_tokens[idx])\n",
    "print(train_data_indices[idx])"
   ]
  },
  {
   "cell_type": "code",
   "execution_count": 104,
   "metadata": {},
   "outputs": [
    {
     "name": "stdout",
     "output_type": "stream",
     "text": [
      "Token id 2103 ; token serum\n",
      "Token serum; token id 2103\n"
     ]
    }
   ],
   "source": [
    "# Lets check the dictionary by loading random token from it\n",
    "import random\n",
    "random_token_id = random.randint(0, len(id2token)-1)\n",
    "random_token = id2token[random_token_id]\n",
    "\n",
    "print (\"Token id {} ; token {}\".format(random_token_id, id2token[random_token_id]))\n",
    "print (\"Token {}; token id {}\".format(random_token, token2id[random_token]))"
   ]
  },
  {
   "cell_type": "code",
   "execution_count": null,
   "metadata": {},
   "outputs": [],
   "source": []
  }
 ],
 "metadata": {
  "kernelspec": {
   "display_name": "Python 3",
   "language": "python",
   "name": "python3"
  },
  "language_info": {
   "codemirror_mode": {
    "name": "ipython",
    "version": 3
   },
   "file_extension": ".py",
   "mimetype": "text/x-python",
   "name": "python",
   "nbconvert_exporter": "python",
   "pygments_lexer": "ipython3",
   "version": "3.7.1"
  }
 },
 "nbformat": 4,
 "nbformat_minor": 2
}
