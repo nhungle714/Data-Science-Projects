{
 "cells": [
  {
   "cell_type": "markdown",
   "metadata": {},
   "source": [
    "# DS-GA 1011 Homework 2\n",
    "## N-Gram and Neural Language Modeling\n",
    "\n",
    "- **Team Name:** ThreeTwoOneSix\n",
    "- **Team Members:** Nhung Le (nhl256), Yipeng Lai (yl6038), Shirley Xu (xx852), B V Nithish Addepalli (bva212)"
   ]
  },
  {
   "cell_type": "code",
   "execution_count": 1,
   "metadata": {},
   "outputs": [],
   "source": [
    "import os\n",
    "import json\n",
    "import jsonlines\n",
    "import numpy as np\n",
    "from collections import defaultdict"
   ]
  },
  {
   "cell_type": "markdown",
   "metadata": {},
   "source": [
    "## I. N-Gram Language Modeling"
   ]
  },
  {
   "cell_type": "markdown",
   "metadata": {},
   "source": [
    "#### Utilities"
   ]
  },
  {
   "cell_type": "code",
   "execution_count": 2,
   "metadata": {},
   "outputs": [],
   "source": [
    "def load_wikitext(filename='wikitext2-sentencized.json'):\n",
    "    if not os.path.exists(filename):\n",
    "        !wget \"https://nyu.box.com/shared/static/9kb7l7ci30hb6uahhbssjlq0kctr5ii4.json\" -O $filename\n",
    "    \n",
    "    datasets = json.load(open(filename, 'r'))\n",
    "    for name in datasets:\n",
    "        datasets[name] = [x.split() for x in datasets[name]]\n",
    "    vocab = list(set([t for ts in datasets['train'] for t in ts]))      \n",
    "    print(\"Vocab size: %d\" % (len(vocab)))\n",
    "    return datasets, vocab\n",
    "\n",
    "def perplexity(model, sequences):\n",
    "    n_total = 0\n",
    "    logp_total = 0\n",
    "    for sequence in sequences:\n",
    "        logp_total += model.sequence_logp(sequence)\n",
    "        n_total += len(sequence) + 1  \n",
    "    ppl = 2 ** (- (1.0 / n_total) * logp_total)  \n",
    "    return ppl"
   ]
  },
  {
   "cell_type": "markdown",
   "metadata": {},
   "source": [
    "### Additive Smoothing"
   ]
  },
  {
   "cell_type": "code",
   "execution_count": 3,
   "metadata": {},
   "outputs": [],
   "source": [
    "class NGramAdditive(object):\n",
    "    def __init__(self, n, delta, vsize):\n",
    "        self.n = n\n",
    "        self.delta = delta\n",
    "        self.count = defaultdict(lambda: defaultdict(float))\n",
    "        self.total = defaultdict(float)\n",
    "        self.vsize = vsize\n",
    "    \n",
    "    def estimate(self, sequences):\n",
    "        for sequence in sequences:\n",
    "            padded_sequence = ['<bos>']*(self.n-1) + sequence + ['<eos>']\n",
    "            for i in range(len(padded_sequence) - self.n+1):\n",
    "                ngram = tuple(padded_sequence[i:i+self.n])\n",
    "                prefix, word = ngram[:-1], ngram[-1]\n",
    "                self.count[prefix][word] += 1\n",
    "                self.total[prefix] += 1\n",
    "                \n",
    "    def sequence_logp(self, sequence):\n",
    "        padded_sequence = ['<bos>']*(self.n-1) + sequence + ['<eos>']\n",
    "        total_logp = 0\n",
    "        for i in range(len(padded_sequence) - self.n+1):\n",
    "            ngram = tuple(padded_sequence[i:i+self.n])\n",
    "            total_logp += np.log2(self.ngram_prob(ngram))\n",
    "        return total_logp\n",
    "\n",
    "    def ngram_prob(self, ngram):\n",
    "        prefix = ngram[:-1]\n",
    "        word = ngram[-1]\n",
    "        prob = ((self.delta + self.count[prefix][word]) / \n",
    "                (self.total[prefix] + self.delta*self.vsize))\n",
    "        return prob"
   ]
  },
  {
   "cell_type": "code",
   "execution_count": 5,
   "metadata": {},
   "outputs": [
    {
     "name": "stdout",
     "output_type": "stream",
     "text": [
      "Vocab size: 33175\n",
      "Baseline (Additive smoothing, n=2, delta=0.0005)) Train Perplexity: 90.228\n",
      "Baseline (Additive smoothing, n=2, delta=0.0005)) Valid Perplexity: 525.825\n",
      "Baseline (Additive smoothing, n=3, delta=0.0005)) Train Perplexity: 26.768\n",
      "Baseline (Additive smoothing, n=3, delta=0.0005)) Valid Perplexity: 2577.128\n",
      "Baseline (Additive smoothing, n=4, delta=0.0005)) Train Perplexity: 19.947\n",
      "Baseline (Additive smoothing, n=4, delta=0.0005)) Valid Perplexity: 9570.901\n"
     ]
    }
   ],
   "source": [
    "datasets, vocab = load_wikitext()\n",
    "\n",
    "delta = 0.0005\n",
    "for n in [2, 3, 4]:\n",
    "    lm = NGramAdditive(n=n, delta=delta, vsize=len(vocab)+1)  # +1 is for <eos>\n",
    "    lm.estimate(datasets['train'])\n",
    "\n",
    "    print(\"Baseline (Additive smoothing, n=%d, delta=%.4f)) Train Perplexity: %.3f\" % (n, delta, perplexity(lm, datasets['train'])))\n",
    "    print(\"Baseline (Additive smoothing, n=%d, delta=%.4f)) Valid Perplexity: %.3f\" % (n, delta, perplexity(lm, datasets['valid'])))"
   ]
  },
  {
   "cell_type": "markdown",
   "metadata": {},
   "source": [
    "### I.1 Interpolation"
   ]
  },
  {
   "cell_type": "code",
   "execution_count": 5,
   "metadata": {},
   "outputs": [],
   "source": [
    "class NGramInterpolation(object):\n",
    "    def __init__(self, n, lambdas, vsize):\n",
    "        self.n = n\n",
    "        self.lambdas = lambdas\n",
    "        self.vsize = vsize\n",
    "        self.count = defaultdict(lambda: defaultdict(float))\n",
    "        self.total = defaultdict(float)\n",
    "    \n",
    "    def estimate(self, sequences):\n",
    "        for n in range(1, self.n+1):\n",
    "            for sequence in sequences:\n",
    "                padded_sequence = ['<bos>']*(n-1) + sequence + ['<eos>']\n",
    "                for i in range(len(padded_sequence)-n+1):\n",
    "                    ngram = tuple(padded_sequence[i:i+n])\n",
    "                    prefix, word = ngram[:-1], ngram[-1]\n",
    "                    self.count[prefix][word] += 1\n",
    "                    self.total[prefix] += 1\n",
    "    \n",
    "    def sequence_logp(self, sequence):\n",
    "        padded_sequence = ['<bos>']*(self.n-1) + sequence + ['<eos>']\n",
    "        total_logp = 0\n",
    "        for i in range(len(padded_sequence) - self.n+1):\n",
    "            ngram = tuple(padded_sequence[i:i+self.n])\n",
    "            total_logp += np.log2(self.ngram_interp_prob(ngram))\n",
    "        return total_logp\n",
    "    \n",
    "    def ngram_prob(self, ngram):\n",
    "        prefix = ngram[:-1]\n",
    "        word = ngram[-1]\n",
    "        prob = (self.count[prefix][word] / max(self.total[prefix], 1))\n",
    "        return prob\n",
    "    \n",
    "    def ngram_interp_prob(self, sequence):\n",
    "        ngrams = []\n",
    "        for i in range(len(sequence)):\n",
    "            ngrams.append(sequence[i:])\n",
    "        probs = [self.ngram_prob(ngram) for ngram in ngrams]\n",
    "        probs.append(1.0/self.vsize)\n",
    "        interp_prob = sum([lambda_ * prob for lambda_, prob in zip(self.lambdas, probs)])\n",
    "        return interp_prob"
   ]
  },
  {
   "cell_type": "markdown",
   "metadata": {},
   "source": [
    "#### Results (showing $\\lambda_0,\\ldots,\\lambda_n$ values):"
   ]
  },
  {
   "cell_type": "code",
   "execution_count": 6,
   "metadata": {},
   "outputs": [
    {
     "name": "stdout",
     "output_type": "stream",
     "text": [
      "Vocab size: 33175\n"
     ]
    }
   ],
   "source": [
    "datasets, vocab = load_wikitext()"
   ]
  },
  {
   "cell_type": "markdown",
   "metadata": {},
   "source": [
    "**n = 2**: $\\lambda_2$ = 0.5, $\\lambda_1$ = 0.4, $\\lambda_0$ = 0.1"
   ]
  },
  {
   "cell_type": "code",
   "execution_count": 8,
   "metadata": {},
   "outputs": [
    {
     "name": "stdout",
     "output_type": "stream",
     "text": [
      "Interpolation, n=2, Train Perplexity: 127.724\n",
      "Interpolation, n=2, Valid Perplexity: 320.489\n"
     ]
    }
   ],
   "source": [
    "n = 2\n",
    "# in the order of lambda2, lambda1, lambda0\n",
    "lambdas = [0.5, 0.4, 0.1]\n",
    "lm = NGramInterpolation(n=n, lambdas=lambdas, vsize=len(vocab)+1)  # +1 is for <eos>\n",
    "lm.estimate(datasets['train'])\n",
    "print(\"Interpolation, n=%d, Train Perplexity: %.3f\" % (n, perplexity(lm, datasets['train'])))\n",
    "print(\"Interpolation, n=%d, Valid Perplexity: %.3f\" % (n, perplexity(lm, datasets['valid'])))"
   ]
  },
  {
   "cell_type": "markdown",
   "metadata": {},
   "source": [
    "**n=3**: $\\lambda_3$ = 0.1, $\\lambda_2$ = 0.5, $\\lambda_1$ = 0.3, $\\lambda_0$ = 0.1"
   ]
  },
  {
   "cell_type": "code",
   "execution_count": 9,
   "metadata": {},
   "outputs": [
    {
     "name": "stdout",
     "output_type": "stream",
     "text": [
      "Interpolation, n=3, Train Perplexity: 33.746\n",
      "Interpolation, n=3, Valid Perplexity: 283.795\n"
     ]
    }
   ],
   "source": [
    "n = 3\n",
    "# in the order of lambda3, lambda2, lambda1, lambda0\n",
    "lambdas = [0.1, 0.5, 0.3, 0.1]\n",
    "lm = NGramInterpolation(n=n, lambdas=lambdas, vsize=len(vocab)+1)  # +1 is for <eos>\n",
    "lm.estimate(datasets['train'])\n",
    "print(\"Interpolation, n=%d, Train Perplexity: %.3f\" % (n, perplexity(lm, datasets['train'])))\n",
    "print(\"Interpolation, n=%d, Valid Perplexity: %.3f\" % (n, perplexity(lm, datasets['valid'])))"
   ]
  },
  {
   "cell_type": "markdown",
   "metadata": {},
   "source": [
    "**n=4**: $\\lambda_4$ = 0.01, $\\lambda_3$ = 0.03, $\\lambda_2$ = 0.65, $\\lambda_1$ = 0.25, $\\lambda_0$ = 0.06"
   ]
  },
  {
   "cell_type": "code",
   "execution_count": 10,
   "metadata": {},
   "outputs": [
    {
     "name": "stdout",
     "output_type": "stream",
     "text": [
      "Interpolation, n=4, Train Perplexity: 30.419\n",
      "Interpolation, n=4, Valid Perplexity: 283.463\n"
     ]
    }
   ],
   "source": [
    "n = 4\n",
    "# in the order of lambda4, lambda3, lambda2, lambda1, lambda0\n",
    "lambdas = [0.01, 0.03, 0.65, 0.25, 0.06]\n",
    "lm = NGramInterpolation(n=n, lambdas=lambdas, vsize=len(vocab)+1)  # +1 is for <eos>\n",
    "lm.estimate(datasets['train'])\n",
    "print(\"Interpolation, n=%d, Train Perplexity: %.3f\" % (n, perplexity(lm, datasets['train'])))\n",
    "print(\"Interpolation, n=%d, Valid Perplexity: %.3f\" % (n, perplexity(lm, datasets['valid'])))"
   ]
  },
  {
   "cell_type": "markdown",
   "metadata": {},
   "source": [
    "#### Interpretation:\n",
    "\n",
    "After carefully choosing $\\lambda$ values for each n-gram interpolation model, we found that all three interpolation models outperform the additive smoothing model and performance (measured by validation perplexity) improves as n increases."
   ]
  },
  {
   "cell_type": "markdown",
   "metadata": {},
   "source": [
    "## II. Neural Language Modeling with a Recurrent Neural Network"
   ]
  },
  {
   "cell_type": "code",
   "execution_count": 10,
   "metadata": {},
   "outputs": [],
   "source": [
    "import torch\n",
    "import torch.nn as nn\n",
    "import torch.optim as optim\n",
    "import numpy as np\n",
    "import matplotlib.pyplot as plt\n",
    "from collections import defaultdict\n",
    "from torch.utils.data import Dataset, RandomSampler, SequentialSampler, DataLoader"
   ]
  },
  {
   "cell_type": "code",
   "execution_count": 2,
   "metadata": {
    "colab": {
     "base_uri": "https://localhost:8080/",
     "height": 139
    },
    "colab_type": "code",
    "id": "rOM2SM-tN0b_",
    "outputId": "b29f73ec-d608-4d1c-c8ad-61601617a096"
   },
   "outputs": [
    {
     "name": "stdout",
     "output_type": "stream",
     "text": [
      "Installing the package, RESTART THIS CELL\n",
      "Collecting jsonlines\n",
      "  Downloading https://files.pythonhosted.org/packages/4f/9a/ab96291470e305504aa4b7a2e0ec132e930da89eb3ca7a82fbe03167c131/jsonlines-1.2.0-py2.py3-none-any.whl\n",
      "Requirement already satisfied: six in /usr/local/lib/python3.6/dist-packages (from jsonlines) (1.12.0)\n",
      "Installing collected packages: jsonlines\n",
      "Successfully installed jsonlines-1.2.0\n"
     ]
    }
   ],
   "source": [
    "import os\n",
    "import json\n",
    "import sys\n",
    "\n",
    "try:\n",
    "    import jsonlines\n",
    "except ImportError:\n",
    "    print('Installing the package, RESTART THIS CELL')\n",
    "    !{sys.executable} -m pip install jsonlines\n",
    "  \n",
    "try:\n",
    "    from tqdm import tqdm #prgress bar\n",
    "except ImportError:\n",
    "    print('Installing the package, RESTART THIS CELL')\n",
    "    !{sys.executable} -m pip install tqdm\n",
    "from collections import defaultdict"
   ]
  },
  {
   "cell_type": "markdown",
   "metadata": {},
   "source": [
    "#### Utilities\n",
    "\n",
    "(Hint: you can adopt the `Dictionary`, dataset loading, and training code from the lab for use here)"
   ]
  },
  {
   "cell_type": "code",
   "execution_count": null,
   "metadata": {
    "colab": {},
    "colab_type": "code",
    "id": "OeYV-_byN0cg"
   },
   "outputs": [],
   "source": [
    "class TensoredDataset(Dataset):\n",
    "    def __init__(self, list_of_lists_of_tokens):\n",
    "        self.input_tensors = []\n",
    "        self.target_tensors = []\n",
    "        \n",
    "        for sample in list_of_lists_of_tokens:\n",
    "            self.input_tensors.append(torch.tensor([sample[:-1]], dtype=torch.long))\n",
    "            self.target_tensors.append(torch.tensor([sample[1:]], dtype=torch.long))\n",
    "        # eg:\n",
    "        # a = 'bos hello world! eos'.split()\n",
    "        # a = ['bos', 'hello', 'world', '!', 'eos']\n",
    "        # a[1:] = \n",
    "    \n",
    "    def __len__(self):\n",
    "        return len(self.input_tensors)\n",
    "    \n",
    "    def __getitem__(self, idx):\n",
    "        # return a (input, target) tuple\n",
    "        return (self.input_tensors[idx], self.target_tensors[idx])"
   ]
  },
  {
   "cell_type": "code",
   "execution_count": null,
   "metadata": {
    "colab": {},
    "colab_type": "code",
    "id": "oArxyWp5N0ci"
   },
   "outputs": [],
   "source": [
    "def pad_list_of_tensors(list_of_tensors, pad_token):\n",
    "    max_length = max([t.size(-1) for t in list_of_tensors])\n",
    "    padded_list = []\n",
    "    \n",
    "    for t in list_of_tensors:\n",
    "        padded_tensor = torch.cat([t, torch.tensor([[pad_token]*(max_length - t.size(-1))], dtype=torch.long)], dim = -1)\n",
    "        padded_list.append(padded_tensor)\n",
    "        \n",
    "    padded_tensor = torch.cat(padded_list, dim=0)\n",
    "    \n",
    "    return padded_tensor\n",
    "\n",
    "def pad_collate_fn(batch):\n",
    "    # batch is a list of sample tuples\n",
    "    input_list = [s[0] for s in batch]\n",
    "    target_list = [s[1] for s in batch]\n",
    "    \n",
    "    #pad_token = persona_dict.get_id('<pad>')\n",
    "    pad_token = 2\n",
    "    \n",
    "    input_tensor = pad_list_of_tensors(input_list, pad_token)\n",
    "    target_tensor = pad_list_of_tensors(target_list, pad_token)\n",
    "    \n",
    "    return input_tensor, target_tensor"
   ]
  },
  {
   "cell_type": "code",
   "execution_count": null,
   "metadata": {
    "colab": {},
    "colab_type": "code",
    "id": "UVFf3G9TN0cn"
   },
   "outputs": [],
   "source": [
    "class Dictionary(object):\n",
    "    def __init__(self, datasets, include_valid=False):\n",
    "        self.tokens = []\n",
    "        self.ids = {}\n",
    "        self.counts = {}\n",
    "        \n",
    "        # add special tokens\n",
    "        self.add_token('<bos>') #begin of sentence\n",
    "        self.add_token('<eos>') #end of sentence\n",
    "        self.add_token('<pad>') #padding\n",
    "        self.add_token('<unk>') #need unknown because the word you see in your sentence (of text) is not in your current vocab\n",
    "        \n",
    "        for line in tqdm(datasets['train']):\n",
    "            for w in line:\n",
    "                self.add_token(w)\n",
    "                    \n",
    "        if include_valid is True:\n",
    "            for line in tqdm(datasets['valid']):\n",
    "                for w in line:\n",
    "                    self.add_token(w)\n",
    "                            \n",
    "    def add_token(self, w):\n",
    "        if w not in self.tokens:\n",
    "            self.tokens.append(w)\n",
    "            _w_id = len(self.tokens) - 1\n",
    "            self.ids[w] = _w_id\n",
    "            self.counts[w] = 1\n",
    "        else:\n",
    "            self.counts[w] += 1\n",
    "\n",
    "    def get_id(self, w):\n",
    "        return self.ids[w]\n",
    "    \n",
    "    def get_token(self, idx):\n",
    "        return self.tokens[idx]\n",
    "    \n",
    "    def decode_idx_seq(self, l):\n",
    "        return [self.tokens[i] for i in l]\n",
    "    \n",
    "    def encode_token_seq(self, l): # WHY IS IT A PROBLEM?\n",
    "        return [self.ids[i] if i in self.ids else self.ids['<unk>'] for i in l] #if this word exists in ur vocab, return the id of that word\n",
    "                                                                                # if not then return id of unk\n",
    "    \n",
    "    def __len__(self):\n",
    "        return len(self.tokens)"
   ]
  },
  {
   "cell_type": "code",
   "execution_count": null,
   "metadata": {
    "colab": {},
    "colab_type": "code",
    "id": "CvKO4AniN0cp"
   },
   "outputs": [],
   "source": [
    "def tokenize_dataset(datasets, dictionary, ngram_order=2):\n",
    "    '''\n",
    "    datasets : dictionary {train: [], val: [], test: []}\n",
    "    dictionary:\n",
    "    ngram_order: len of each ngrams\n",
    "    '''\n",
    "    tokenized_datasets = {}\n",
    "    for split, dataset in datasets.items():\n",
    "      # datasets: a list of sentences\n",
    "        _current_dictified = []\n",
    "        for l in tqdm(dataset): #l sentence\n",
    "            l = ['<bos>']*(ngram_order-1) + l + ['<eos>']\n",
    "            encoded_l = dictionary.encode_token_seq(l)\n",
    "            _current_dictified.append(encoded_l)\n",
    "        tokenized_datasets[split] = _current_dictified\n",
    "        \n",
    "    return tokenized_datasets #dictionary"
   ]
  },
  {
   "cell_type": "code",
   "execution_count": null,
   "metadata": {
    "colab": {},
    "colab_type": "code",
    "id": "fzkY95RbN0cr"
   },
   "outputs": [],
   "source": [
    "def slice_sequences_given_order(tokenized_dataset_with_spec, ngram_order=5):\n",
    "    sliced_datasets = {}\n",
    "    for split, dataset in tokenized_dataset_with_spec.items():\n",
    "        _list_of_sliced_ngrams = []\n",
    "        for seq in tqdm(dataset):\n",
    "            ngrams = [seq[i:i+ngram_order] for i in range(len(seq)-ngram_order+1)]\n",
    "            _list_of_sliced_ngrams.extend(ngrams)\n",
    "        sliced_datasets[split] = _list_of_sliced_ngrams\n",
    "\n",
    "    return sliced_datasets"
   ]
  },
  {
   "cell_type": "code",
   "execution_count": null,
   "metadata": {
    "colab": {},
    "colab_type": "code",
    "id": "QxlVrBTkN0c6"
   },
   "outputs": [],
   "source": [
    "def trainValidModel(model, num_epochs, load_pretrained, loaders): \n",
    "    val_losses = []\n",
    "    train_losses = []\n",
    "    best_val_loss = np.inf\n",
    "    best_model_state_dict = model.state_dict()\n",
    "\n",
    "    for epoch_number in range(num_epochs):\n",
    "        avg_loss=0\n",
    "        if not load_pretrained:\n",
    "            # do train\n",
    "            model.train()\n",
    "            train_log_cache = []\n",
    "            train_loss = []\n",
    "            \n",
    "            for i, (inp, target) in enumerate(loaders['train']):\n",
    "                optimizer.zero_grad()\n",
    "                inp = inp.to(current_device)\n",
    "                target = target.to(current_device)\n",
    "                logits = model(inp)\n",
    "\n",
    "                loss = criterion(logits.view(-1, logits.size(-1)), target.view(-1))\n",
    "\n",
    "                loss.backward()\n",
    "                optimizer.step()\n",
    "\n",
    "                train_log_cache.append(loss.item())\n",
    "                train_loss.append(loss.item())\n",
    "                \n",
    "\n",
    "                if i % 500 == 0:\n",
    "                    avg_loss = sum(train_log_cache)/len(train_log_cache)\n",
    "                    print('Step {} avg train loss = {:.{prec}f}'.format(i, avg_loss, prec=4))\n",
    "                    train_log_cache = []\n",
    "                    \n",
    "        train_losses.append(sum(train_loss) / len(train_loss)) \n",
    "\n",
    "        #do valid\n",
    "        valid_perplextity = []\n",
    "        valid_losses = []\n",
    "        model.eval()\n",
    "        with torch.no_grad():\n",
    "            for i, (inp, target) in enumerate(loaders['valid']):\n",
    "                inp = inp.to(current_device)\n",
    "                target = target.to(current_device)\n",
    "                logits = model(inp)\n",
    "\n",
    "                loss = criterion(logits.view(-1, logits.size(-1)), target.view(-1))\n",
    "                valid_losses.append(loss.item())\n",
    "\n",
    "            avg_val_loss = sum(valid_losses) / len(valid_losses)\n",
    "            print('Validation loss after {} epoch = {:.{prec}f}'.format(epoch_number, avg_val_loss, prec=4))\n",
    "            \n",
    "            if avg_val_loss <= best_val_loss:\n",
    "                best_val_loss = avg_val_loss\n",
    "                best_model_state_dict = model.state_dict()\n",
    "\n",
    "        val_losses.append(avg_val_loss)\n",
    "\n",
    "        if load_pretrained:\n",
    "            break\n",
    "\n",
    "    return train_losses, val_losses, best_val_loss, best_model_state_dict"
   ]
  },
  {
   "cell_type": "code",
   "execution_count": null,
   "metadata": {
    "colab": {},
    "colab_type": "code",
    "id": "BP4Egwr1dHNR"
   },
   "outputs": [],
   "source": [
    "def ppl_plot(val_loss_list, train_loss_list, model_name):\n",
    "    train_ppl = [2**(train_loss) / np.log(2) for train_loss in train_loss_list]\n",
    "    val_ppl = [2**(val_loss) / np.log(2) for val_loss in val_loss_list]\n",
    "    epoch = [i for i in range(10)]\n",
    "    \n",
    "    plt.plot(epoch, train_ppl, label='Train Perplexity')\n",
    "    plt.plot(epoch, val_ppl, label='Val Perplexity')\n",
    "    \n",
    "    plt.legend()\n",
    "    plt.title('Perplexity Curve for {}'.format(model_name))\n",
    "    plt.show()\n",
    "    "
   ]
  },
  {
   "cell_type": "markdown",
   "metadata": {
    "colab_type": "text",
    "id": "NEQFH-ONN0dC"
   },
   "source": [
    "### Data Proprocessing"
   ]
  },
  {
   "cell_type": "code",
   "execution_count": 15,
   "metadata": {
    "colab": {
     "base_uri": "https://localhost:8080/",
     "height": 34
    },
    "colab_type": "code",
    "id": "274izaveN0dC",
    "outputId": "0a252eb4-4d04-4694-87cf-315633fcf2a3"
   },
   "outputs": [
    {
     "name": "stdout",
     "output_type": "stream",
     "text": [
      "Vocab size: 33175\n"
     ]
    }
   ],
   "source": [
    "wiki_datasets, wiki_vocab = load_wikitext(filename='wikitext2-sentencized.json')"
   ]
  },
  {
   "cell_type": "code",
   "execution_count": 16,
   "metadata": {
    "colab": {
     "base_uri": "https://localhost:8080/",
     "height": 51
    },
    "colab_type": "code",
    "id": "8PdbISW9N0dE",
    "outputId": "99b8e4f5-0f17-4519-97d4-ab44cd81e8f1"
   },
   "outputs": [
    {
     "name": "stderr",
     "output_type": "stream",
     "text": [
      "100%|██████████| 78274/78274 [02:19<00:00, 561.48it/s]\n",
      "100%|██████████| 8464/8464 [00:11<00:00, 762.94it/s]\n"
     ]
    }
   ],
   "source": [
    "wiki_dict = Dictionary(wiki_datasets, include_valid=True)"
   ]
  },
  {
   "cell_type": "code",
   "execution_count": 17,
   "metadata": {
    "colab": {
     "base_uri": "https://localhost:8080/",
     "height": 136
    },
    "colab_type": "code",
    "id": "zMd8cmCMP31v",
    "outputId": "7436aec4-c32e-4874-f514-f80ff8ec4243"
   },
   "outputs": [
    {
     "name": "stderr",
     "output_type": "stream",
     "text": [
      "100%|██████████| 78274/78274 [00:00<00:00, 93359.98it/s]\n",
      "100%|██████████| 8464/8464 [00:00<00:00, 128794.72it/s]\n",
      "100%|██████████| 9708/9708 [00:00<00:00, 126349.59it/s]\n"
     ]
    },
    {
     "data": {
      "text/plain": [
       "(tensor([[ 0,  4,  5,  6,  7,  8,  9, 10, 11, 12, 13, 14,  4, 15, 16, 17, 18, 10,\n",
       "          19, 20, 21, 22, 23, 24, 25, 26, 27, 28, 29, 30, 31]]),\n",
       " tensor([[ 4,  5,  6,  7,  8,  9, 10, 11, 12, 13, 14,  4, 15, 16, 17, 18, 10, 19,\n",
       "          20, 21, 22, 23, 24, 25, 26, 27, 28, 29, 30, 31,  1]]))"
      ]
     },
     "execution_count": 17,
     "metadata": {
      "tags": []
     },
     "output_type": "execute_result"
    }
   ],
   "source": [
    "wiki_tokenized_datasets = tokenize_dataset(wiki_datasets, wiki_dict)\n",
    "wiki_tensor_dataset = {}\n",
    "\n",
    "for split, listoflists in wiki_tokenized_datasets.items():\n",
    "    wiki_tensor_dataset[split] = TensoredDataset(listoflists)\n",
    "    \n",
    "# check the first example\n",
    "wiki_tensor_dataset['train'][0]"
   ]
  },
  {
   "cell_type": "code",
   "execution_count": 18,
   "metadata": {
    "colab": {
     "base_uri": "https://localhost:8080/",
     "height": 34
    },
    "colab_type": "code",
    "id": "YVEuKy5cRpnl",
    "outputId": "0804f6db-cf31-4454-b460-e42abab36ee2"
   },
   "outputs": [
    {
     "data": {
      "text/plain": [
       "78274"
      ]
     },
     "execution_count": 18,
     "metadata": {
      "tags": []
     },
     "output_type": "execute_result"
    }
   ],
   "source": [
    "# debug\n",
    "len(wiki_tensor_dataset['train'])"
   ]
  },
  {
   "cell_type": "code",
   "execution_count": null,
   "metadata": {
    "colab": {},
    "colab_type": "code",
    "id": "obQFkCQf22dQ"
   },
   "outputs": [],
   "source": [
    "embedding_size = 64\n",
    "hidden_size = 128\n",
    "num_layers = 2\n",
    "rnn_dropout = 0.1\n",
    "batch_size = 32\n",
    "lr = 0.001\n",
    "optimizer = optim.Adam"
   ]
  },
  {
   "cell_type": "code",
   "execution_count": null,
   "metadata": {
    "colab": {},
    "colab_type": "code",
    "id": "iJHkt_eeRE2x"
   },
   "outputs": [],
   "source": [
    "wiki_loaders = {}\n",
    "\n",
    "for split, wiki_dataset in wiki_tensor_dataset.items():\n",
    "    wiki_loaders[split] = DataLoader(wiki_dataset, batch_size=batch_size, shuffle=True, collate_fn=pad_collate_fn)"
   ]
  },
  {
   "cell_type": "markdown",
   "metadata": {
    "colab_type": "text",
    "id": "vGGeQ1JyFgJP"
   },
   "source": [
    "## 2.1.1. Baseline Models"
   ]
  },
  {
   "cell_type": "markdown",
   "metadata": {
    "colab_type": "text",
    "id": "iPsDjkTeN0dH"
   },
   "source": [
    "### 2.1.1.1 Baseline Model - Lab's vanilla RNN"
   ]
  },
  {
   "cell_type": "code",
   "execution_count": null,
   "metadata": {
    "colab": {},
    "colab_type": "code",
    "id": "m6WNdOfWN0dI"
   },
   "outputs": [],
   "source": [
    "class RNNLanguageModel(nn.Module):\n",
    "    \"\"\"\n",
    "    This model combines embedding, rnn and projection layer into a single model\n",
    "    \"\"\"\n",
    "    def __init__(self, options):\n",
    "        #optioins: a dictionary with key = argument, value = value of that argument\n",
    "        super().__init__()\n",
    "        \n",
    "        # create each LM part here \n",
    "        self.lookup = nn.Embedding(num_embeddings=options['num_embeddings'], \n",
    "                                   embedding_dim=options['embedding_dim'], \n",
    "                                   padding_idx=options['padding_idx'])\n",
    "        self.rnn = nn.RNN(options['input_size'], options['hidden_size'], options['num_layers'], dropout=options['rnn_dropout'], batch_first=True)\n",
    "        self.projection = nn.Linear(options['hidden_size'], options['num_embeddings'])\n",
    "        \n",
    "    def forward(self, encoded_input_sequence):\n",
    "        \"\"\"\n",
    "        Forward method process the input from token ids to logits\n",
    "        \"\"\"\n",
    "        embeddings = self.lookup(encoded_input_sequence) #rnn gives u all outputs / hidden as it has so far.\n",
    "        rnn_outputs = self.rnn(embeddings) #\n",
    "        logits = self.projection(rnn_outputs[0]) #rnn_outpus[0] = size of vocab, as we want to predict this specific word given the chain of words\n",
    "        \n",
    "        return logits"
   ]
  },
  {
   "cell_type": "code",
   "execution_count": null,
   "metadata": {
    "colab": {},
    "colab_type": "code",
    "id": "PVlsPEVULQIE"
   },
   "outputs": [],
   "source": [
    "# creating a model, criterion and optimizer\n",
    "load_pretrained = False\n",
    "num_gpus = torch.cuda.device_count()\n",
    "if num_gpus > 0:\n",
    "    current_device = 'cuda'\n",
    "else:\n",
    "    current_device = 'cpu'\n",
    "\n",
    "if load_pretrained:\n",
    "    if not os.path.exists('wiki_rnn_lm.pt'):\n",
    "        raise EOFError('Download pretrained model!')\n",
    "    model_dict = torch.load('wiki_rnn_lm.pt')\n",
    "    \n",
    "    options = model_dict['options']\n",
    "    model = RNNLanguageModel(options).to(current_device)\n",
    "    model.load_state_dict(model_dict['model_dict'])\n",
    "    \n",
    "else:\n",
    "\n",
    "    options = {\n",
    "            'num_embeddings': len(wiki_dict),\n",
    "            'embedding_dim': embedding_size,\n",
    "            'padding_idx': wiki_dict.get_id('<pad>'),\n",
    "            'input_size': embedding_size,\n",
    "            'hidden_size': hidden_size,\n",
    "            'num_layers': num_layers,\n",
    "            'rnn_dropout': rnn_dropout,\n",
    "        }\n",
    "\n",
    "    \n",
    "\n",
    "    rnn_model = RNNLanguageModel(options).to(current_device)\n",
    "\n",
    "criterion = nn.CrossEntropyLoss(ignore_index=wiki_dict.get_id('<pad>'))\n",
    "\n",
    "# When we may want to think about the sum loss\n",
    "#criterion = nn.CrossEntropyLoss(ignore_index=wiki_dict.get_id('<pad>'), reduction='sum')\n",
    "\n",
    "model_parameters = [p for p in rnn_model.parameters() if p.requires_grad]\n",
    "optimizer = optim.Adam(model_parameters, lr=lr)"
   ]
  },
  {
   "cell_type": "code",
   "execution_count": 23,
   "metadata": {
    "colab": {
     "base_uri": "https://localhost:8080/",
     "height": 102
    },
    "colab_type": "code",
    "id": "1wk0BXetN0dJ",
    "outputId": "7f9bf596-8982-4d73-e6c3-ccd3810cf547"
   },
   "outputs": [
    {
     "data": {
      "text/plain": [
       "RNNLanguageModel(\n",
       "  (lookup): Embedding(33181, 64, padding_idx=2)\n",
       "  (rnn): RNN(64, 128, num_layers=2, batch_first=True, dropout=0.1)\n",
       "  (projection): Linear(in_features=128, out_features=33181, bias=True)\n",
       ")"
      ]
     },
     "execution_count": 23,
     "metadata": {
      "tags": []
     },
     "output_type": "execute_result"
    }
   ],
   "source": [
    "rnn_model"
   ]
  },
  {
   "cell_type": "code",
   "execution_count": 24,
   "metadata": {
    "colab": {
     "base_uri": "https://localhost:8080/",
     "height": 1000
    },
    "colab_type": "code",
    "id": "BBDOG97HrbIy",
    "outputId": "49b2e657-9bda-45b3-9987-16a0c8dae855"
   },
   "outputs": [
    {
     "name": "stdout",
     "output_type": "stream",
     "text": [
      "Step 0 avg train loss = 10.4342\n",
      "Step 500 avg train loss = 6.9247\n",
      "Step 1000 avg train loss = 6.3302\n",
      "Step 1500 avg train loss = 6.1014\n",
      "Step 2000 avg train loss = 5.9742\n",
      "Validation loss after 0 epoch = 5.7105\n",
      "Step 0 avg train loss = 5.5408\n",
      "Step 500 avg train loss = 5.7178\n",
      "Step 1000 avg train loss = 5.6793\n",
      "Step 1500 avg train loss = 5.6428\n",
      "Step 2000 avg train loss = 5.6093\n",
      "Validation loss after 1 epoch = 5.5000\n",
      "Step 0 avg train loss = 5.5913\n",
      "Step 500 avg train loss = 5.4150\n",
      "Step 1000 avg train loss = 5.4153\n",
      "Step 1500 avg train loss = 5.4008\n",
      "Step 2000 avg train loss = 5.3984\n",
      "Validation loss after 2 epoch = 5.4277\n",
      "Step 0 avg train loss = 5.2298\n",
      "Step 500 avg train loss = 5.2281\n",
      "Step 1000 avg train loss = 5.2424\n",
      "Step 1500 avg train loss = 5.2466\n",
      "Step 2000 avg train loss = 5.2414\n",
      "Validation loss after 3 epoch = 5.3838\n",
      "Step 0 avg train loss = 4.9245\n",
      "Step 500 avg train loss = 5.0856\n",
      "Step 1000 avg train loss = 5.1098\n",
      "Step 1500 avg train loss = 5.1289\n",
      "Step 2000 avg train loss = 5.1331\n",
      "Validation loss after 4 epoch = 5.3581\n",
      "Step 0 avg train loss = 4.9058\n",
      "Step 500 avg train loss = 4.9856\n",
      "Step 1000 avg train loss = 5.0122\n",
      "Step 1500 avg train loss = 5.0379\n",
      "Step 2000 avg train loss = 5.0393\n",
      "Validation loss after 5 epoch = 5.3403\n",
      "Step 0 avg train loss = 4.8506\n",
      "Step 500 avg train loss = 4.9051\n",
      "Step 1000 avg train loss = 4.9212\n",
      "Step 1500 avg train loss = 4.9482\n",
      "Step 2000 avg train loss = 4.9699\n",
      "Validation loss after 6 epoch = 5.3329\n",
      "Step 0 avg train loss = 4.9639\n",
      "Step 500 avg train loss = 4.8264\n",
      "Step 1000 avg train loss = 4.8704\n",
      "Step 1500 avg train loss = 4.9138\n",
      "Step 2000 avg train loss = 4.9136\n",
      "Validation loss after 7 epoch = 5.3290\n",
      "Step 0 avg train loss = 4.8207\n",
      "Step 500 avg train loss = 4.7642\n",
      "Step 1000 avg train loss = 4.8167\n",
      "Step 1500 avg train loss = 4.8348\n",
      "Step 2000 avg train loss = 4.8497\n",
      "Validation loss after 8 epoch = 5.3283\n",
      "Step 0 avg train loss = 4.5852\n",
      "Step 500 avg train loss = 4.7290\n",
      "Step 1000 avg train loss = 4.7558\n",
      "Step 1500 avg train loss = 4.7887\n",
      "Step 2000 avg train loss = 4.7937\n",
      "Validation loss after 9 epoch = 5.3353\n"
     ]
    }
   ],
   "source": [
    "rnn_train_losses, rnn_val_losses, rnn_best_val_loss, rnn_best_model_state_dict = trainValidModel(rnn_model, num_epochs=10, load_pretrained=False, loaders=wiki_loaders)"
   ]
  },
  {
   "cell_type": "code",
   "execution_count": 43,
   "metadata": {
    "colab": {
     "base_uri": "https://localhost:8080/",
     "height": 281
    },
    "colab_type": "code",
    "id": "u5_jIbQscw0E",
    "outputId": "daf872ce-6fe9-488e-ae7d-0d9a8f8454ae"
   },
   "outputs": [
    {
     "data": {
      "image/png": "[encoded data removed]",
      "text/plain": [
       "<Figure size 432x288 with 1 Axes>"
      ]
     },
     "metadata": {
      "tags": []
     },
     "output_type": "display_data"
    }
   ],
   "source": [
    "ppl_plot(rnn_val_losses, rnn_train_losses, 'RNN Baseline')"
   ]
  },
  {
   "cell_type": "code",
   "execution_count": 29,
   "metadata": {
    "colab": {
     "base_uri": "https://localhost:8080/",
     "height": 88
    },
    "colab_type": "code",
    "id": "_ek8umOLXsss",
    "outputId": "26a8d100-ab45-45df-c1a9-82a60d6e6a8c"
   },
   "outputs": [
    {
     "name": "stdout",
     "output_type": "stream",
     "text": [
      "rnn_train_losses [6.252407784066397, 5.646171327410886, 5.40232812798067, 5.23965046363896, 5.118026930797718, 5.023302161844594, 4.944591891877643, 4.88822966494948, 4.823098996049002, 4.775098534472193]\n",
      "rnn_val_losses [5.7104843409556265, 5.499961052300795, 5.427714178697118, 5.383811409068557, 5.358119032517919, 5.340339171211674, 5.332865657446519, 5.3289685015408494, 5.32826722343013, 5.3352876663208]\n",
      "rnn_best_val_losses 5.32826722343013\n"
     ]
    }
   ],
   "source": [
    "torch.save(rnn_best_model_state_dict, 'rnn_baseline.pth')\n",
    "print('rnn_train_losses', rnn_train_losses)\n",
    "torch.save(rnn_train_losses, 'rnn_train_losses.pth')\n",
    "print('rnn_val_losses', rnn_val_losses)\n",
    "torch.save(rnn_val_losses, 'rnn_val_losses.pth')\n",
    "print('rnn_best_val_losses', rnn_best_val_loss)"
   ]
  },
  {
   "cell_type": "code",
   "execution_count": null,
   "metadata": {
    "colab": {
     "base_uri": "https://localhost:8080/",
     "height": 34
    },
    "colab_type": "code",
    "id": "l1JNuYO7I8Dz",
    "outputId": "b67a5836-5cb7-4384-abf1-fd8fd1489104"
   },
   "outputs": [
    {
     "name": "stdout",
     "output_type": "stream",
     "text": [
      "rnn_baseline.pth  rnn_train_losses.pth\trnn_val_losses.pth\n"
     ]
    }
   ],
   "source": [
    "!ls"
   ]
  },
  {
   "cell_type": "markdown",
   "metadata": {
    "colab_type": "text",
    "id": "JxXVS33_r38c"
   },
   "source": [
    "### 2.1.1.2. LSTM Language Model"
   ]
  },
  {
   "cell_type": "code",
   "execution_count": null,
   "metadata": {
    "colab": {},
    "colab_type": "code",
    "id": "iE7kv4_8N0dS"
   },
   "outputs": [],
   "source": [
    "class LSTMLanguageModel(nn.Module):\n",
    "    \"\"\"\n",
    "    This model combines embedding, lstm and projection layer into a single model\n",
    "    \"\"\"\n",
    "    def __init__(self, options):\n",
    "        #optioins: a dictionary with key = argument, value = value of that argument\n",
    "        super().__init__()\n",
    "        \n",
    "        # create each LM part here \n",
    "        self.lookup = nn.Embedding(num_embeddings=options['num_embeddings'], \n",
    "                                   embedding_dim=options['embedding_dim'], \n",
    "                                   padding_idx=options['padding_idx'])\n",
    "        self.lstm = nn.LSTM(options['input_size'],\n",
    "                            options['hidden_size'],\n",
    "                            options['num_layers'],\n",
    "                            dropout=options['rnn_dropout'],\n",
    "                            batch_first=True)\n",
    "        self.projection = nn.Linear(options['hidden_size'],\n",
    "                                    options['num_embeddings'])\n",
    "        \n",
    "    def forward(self, encoded_input_sequence):\n",
    "        \"\"\"\n",
    "        Forward method process the input from token ids to logits\n",
    "        \"\"\"\n",
    "        embeddings = self.lookup(encoded_input_sequence) #rnn gives u all outputs / hidden as it has so far.\n",
    "        lstm_outputs = self.lstm(embeddings) #\n",
    "        logits = self.projection(lstm_outputs[0]) #lstm_outpus[0] = size of vocab, as we want to predict this specific word given the chain of words\n",
    "        \n",
    "        return logits"
   ]
  },
  {
   "cell_type": "code",
   "execution_count": null,
   "metadata": {
    "colab": {},
    "colab_type": "code",
    "id": "xwE40UjKLK4j"
   },
   "outputs": [],
   "source": [
    "# creating a model, criterion and optimizer\n",
    "load_pretrained = False\n",
    "\n",
    "num_gpus = torch.cuda.device_count()\n",
    "if num_gpus > 0:\n",
    "    current_device = 'cuda'\n",
    "else:\n",
    "    current_device = 'cpu'\n",
    "\n",
    "if load_pretrained:\n",
    "    if not os.path.exists('wiki_rnn_lm.pt'):\n",
    "        raise EOFError('Download pretrained model!')\n",
    "    model_dict = torch.load('wiki_rnn_lm.pt')\n",
    "    \n",
    "    options = model_dict['options']\n",
    "    model = RNNLanguageModel(options).to(current_device)\n",
    "    model.load_state_dict(model_dict['model_dict'])\n",
    "    \n",
    "else:\n",
    "\n",
    "    options = {\n",
    "            'num_embeddings': len(wiki_dict),\n",
    "            'embedding_dim': embedding_size,\n",
    "            'padding_idx': wiki_dict.get_id('<pad>'),\n",
    "            'input_size': embedding_size,\n",
    "            'hidden_size': hidden_size,\n",
    "            'num_layers': num_layers,\n",
    "            'rnn_dropout': rnn_dropout,\n",
    "        }\n",
    "\n",
    "    # CHANGE THE MODEL HERE\n",
    "    lstm_model = LSTMLanguageModel(options).to(current_device)\n",
    "\n",
    "criterion = nn.CrossEntropyLoss(ignore_index=wiki_dict.get_id('<pad>'))\n",
    "\n",
    "# CHANGE THE MODEL HERE\n",
    "model_parameters = [p for p in lstm_model.parameters() if p.requires_grad]\n",
    "optimizer = optim.Adam(model_parameters, lr=lr)"
   ]
  },
  {
   "cell_type": "code",
   "execution_count": 33,
   "metadata": {
    "colab": {
     "base_uri": "https://localhost:8080/",
     "height": 1000
    },
    "colab_type": "code",
    "id": "pcIbTHLjUZzo",
    "outputId": "a47f8c9c-81e6-4443-e04a-8b373b66b8a6"
   },
   "outputs": [
    {
     "name": "stdout",
     "output_type": "stream",
     "text": [
      "Step 0 avg train loss = 10.4114\n",
      "Step 500 avg train loss = 7.2020\n",
      "Step 1000 avg train loss = 6.6110\n",
      "Step 1500 avg train loss = 6.3561\n",
      "Step 2000 avg train loss = 6.1966\n",
      "Validation loss after 0 epoch = 5.8480\n",
      "Step 0 avg train loss = 5.9845\n",
      "Step 500 avg train loss = 5.9094\n",
      "Step 1000 avg train loss = 5.8370\n",
      "Step 1500 avg train loss = 5.7905\n",
      "Step 2000 avg train loss = 5.7301\n",
      "Validation loss after 1 epoch = 5.5575\n",
      "Step 0 avg train loss = 5.7918\n",
      "Step 500 avg train loss = 5.5433\n",
      "Step 1000 avg train loss = 5.5357\n",
      "Step 1500 avg train loss = 5.4955\n",
      "Step 2000 avg train loss = 5.4782\n",
      "Validation loss after 2 epoch = 5.4235\n",
      "Step 0 avg train loss = 5.4046\n",
      "Step 500 avg train loss = 5.3223\n",
      "Step 1000 avg train loss = 5.3106\n",
      "Step 1500 avg train loss = 5.2968\n",
      "Step 2000 avg train loss = 5.2941\n",
      "Validation loss after 3 epoch = 5.3422\n",
      "Step 0 avg train loss = 5.1980\n",
      "Step 500 avg train loss = 5.1636\n",
      "Step 1000 avg train loss = 5.1450\n",
      "Step 1500 avg train loss = 5.1484\n",
      "Step 2000 avg train loss = 5.1360\n",
      "Validation loss after 4 epoch = 5.3021\n",
      "Step 0 avg train loss = 4.8596\n",
      "Step 500 avg train loss = 5.0176\n",
      "Step 1000 avg train loss = 5.0239\n",
      "Step 1500 avg train loss = 5.0163\n",
      "Step 2000 avg train loss = 5.0183\n",
      "Validation loss after 5 epoch = 5.2789\n",
      "Step 0 avg train loss = 4.9006\n",
      "Step 500 avg train loss = 4.9020\n",
      "Step 1000 avg train loss = 4.9215\n",
      "Step 1500 avg train loss = 4.9065\n",
      "Step 2000 avg train loss = 4.9208\n",
      "Validation loss after 6 epoch = 5.2739\n",
      "Step 0 avg train loss = 4.6461\n",
      "Step 500 avg train loss = 4.8079\n",
      "Step 1000 avg train loss = 4.8207\n",
      "Step 1500 avg train loss = 4.8259\n",
      "Step 2000 avg train loss = 4.8423\n",
      "Validation loss after 7 epoch = 5.2792\n",
      "Step 0 avg train loss = 4.8530\n",
      "Step 500 avg train loss = 4.7306\n",
      "Step 1000 avg train loss = 4.7507\n",
      "Step 1500 avg train loss = 4.7570\n",
      "Step 2000 avg train loss = 4.7583\n",
      "Validation loss after 8 epoch = 5.2908\n",
      "Step 0 avg train loss = 4.5899\n",
      "Step 500 avg train loss = 4.6562\n",
      "Step 1000 avg train loss = 4.6758\n",
      "Step 1500 avg train loss = 4.6949\n",
      "Step 2000 avg train loss = 4.6998\n",
      "Validation loss after 9 epoch = 5.2959\n"
     ]
    }
   ],
   "source": [
    "lstm_train_losses, lstm_val_losses, lstm_best_val_loss, lstm_best_model_state_dict = trainValidModel(lstm_model, num_epochs=10, load_pretrained=False, loaders=wiki_loaders)"
   ]
  },
  {
   "cell_type": "code",
   "execution_count": 34,
   "metadata": {
    "colab": {
     "base_uri": "https://localhost:8080/",
     "height": 88
    },
    "colab_type": "code",
    "id": "Gp4aENVBOfjw",
    "outputId": "27a1bdba-c0ee-46b0-ecfc-0a7a6624b073"
   },
   "outputs": [
    {
     "name": "stdout",
     "output_type": "stream",
     "text": [
      "lstm_train_losses [6.4959824433071445, 5.792999350396185, 5.501964436777767, 5.30020079984926, 5.143156447993233, 5.017436327035933, 4.914898755261008, 4.827856869808644, 4.7535781523233345, 4.687967846624502]\n",
      "lstm_val_losses [5.847984168214618, 5.557509949522198, 5.423473055857532, 5.342226663625465, 5.3021189527691535, 5.27891776066906, 5.273949594317742, 5.279240471462034, 5.290816416830387, 5.295930122879316]\n",
      "lstm_best_val_losses 5.273949594317742\n"
     ]
    }
   ],
   "source": [
    "torch.save(lstm_best_model_state_dict, 'lstm_baseline.pth')\n",
    "print('lstm_train_losses', lstm_train_losses)\n",
    "torch.save(lstm_train_losses, 'lstm_baseline_train_losses.pth')\n",
    "print('lstm_val_losses', lstm_val_losses)\n",
    "torch.save(lstm_val_losses, 'lstm_baseline_val_losses.pth')\n",
    "print('lstm_best_val_losses', lstm_best_val_loss)"
   ]
  },
  {
   "cell_type": "code",
   "execution_count": null,
   "metadata": {
    "colab": {},
    "colab_type": "code",
    "id": "pPPpw3mmsxgT"
   },
   "outputs": [],
   "source": [
    "lstm_baseline_train_losses = torch.load('lstm_baseline_train_losses.pth')\n",
    "lstm_baseline_val_losses = torch.load('lstm_baseline_val_losses.pth')"
   ]
  },
  {
   "cell_type": "markdown",
   "metadata": {
    "colab_type": "text",
    "id": "wNbsRVXON0dU"
   },
   "source": [
    "### 2.1.1.3. Results (LSTM vs. Baseline)\n",
    "\n"
   ]
  },
  {
   "cell_type": "code",
   "execution_count": 50,
   "metadata": {
    "colab": {
     "base_uri": "https://localhost:8080/",
     "height": 281
    },
    "colab_type": "code",
    "id": "gV9jCyS-N0dV",
    "outputId": "6110b633-55d5-4d3d-a210-8898ebb53ffc"
   },
   "outputs": [
    {
     "data": {
      "image/png": "[encoded data removed]",
      "text/plain": [
       "<Figure size 432x288 with 1 Axes>"
      ]
     },
     "metadata": {
      "tags": []
     },
     "output_type": "display_data"
    }
   ],
   "source": [
    "ppl_plot(rnn_val_losses, rnn_train_losses, 'RNN Baseline')"
   ]
  },
  {
   "cell_type": "code",
   "execution_count": 51,
   "metadata": {
    "colab": {
     "base_uri": "https://localhost:8080/",
     "height": 281
    },
    "colab_type": "code",
    "id": "E5hbt6NxeSCA",
    "outputId": "0bf01641-54c4-443b-c533-4091bf25fdf6"
   },
   "outputs": [
    {
     "data": {
      "image/png": "[encoded data removed]",
      "text/plain": [
       "<Figure size 432x288 with 1 Axes>"
      ]
     },
     "metadata": {
      "tags": []
     },
     "output_type": "display_data"
    }
   ],
   "source": [
    "ppl_plot(lstm_baseline_val_losses, lstm_baseline_train_losses, 'LSTM Baseline')"
   ]
  },
  {
   "cell_type": "markdown",
   "metadata": {
    "colab_type": "text",
    "id": "CLrZ_UcxfRDW"
   },
   "source": [
    "As shown in the two graphs above, LSTM baseline does relatively better than the baseline RNN model, as the LSTM baseline model has lower perplexity score."
   ]
  },
  {
   "cell_type": "markdown",
   "metadata": {
    "colab_type": "text",
    "id": "qFufXWdnN0dX"
   },
   "source": [
    "## 2.1.2 Performance Variation Based on Hyperparameter Values\n",
    "\n",
    "\n"
   ]
  },
  {
   "cell_type": "markdown",
   "metadata": {
    "colab_type": "text",
    "id": "NxDxH1Y_vkgw"
   },
   "source": [
    "### 2.1.2.1 Tune on Embedding Size\n",
    "\n",
    "\n"
   ]
  },
  {
   "cell_type": "code",
   "execution_count": null,
   "metadata": {
    "colab": {},
    "colab_type": "code",
    "id": "pgUm3llDN0dY"
   },
   "outputs": [],
   "source": [
    "embedding_size = 128\n",
    "hidden_size = 64\n",
    "num_layers = 2\n",
    "rnn_dropout = 0.1\n",
    "batch_size = 32\n",
    "optimizer = optim.Adam"
   ]
  },
  {
   "cell_type": "code",
   "execution_count": null,
   "metadata": {
    "colab": {},
    "colab_type": "code",
    "id": "wM31X4CGveKF"
   },
   "outputs": [],
   "source": [
    "wiki_loaders = {}\n",
    "\n",
    "for split, wiki_dataset in wiki_tensor_dataset.items():\n",
    "    wiki_loaders[split] = DataLoader(wiki_dataset, batch_size=batch_size, shuffle=True, collate_fn=pad_collate_fn) "
   ]
  },
  {
   "cell_type": "code",
   "execution_count": null,
   "metadata": {
    "colab": {},
    "colab_type": "code",
    "id": "5cxEs8XsweiA"
   },
   "outputs": [],
   "source": [
    "def trainValidModel_noTrainLossPrint(model, num_epochs, load_pretrained, loaders): \n",
    "    val_losses = []\n",
    "    train_losses = []\n",
    "    best_val_loss = np.inf\n",
    "    best_model_state_dict = model.state_dict()\n",
    "\n",
    "    for epoch_number in range(num_epochs):\n",
    "        avg_loss=0\n",
    "        if not load_pretrained:\n",
    "            # do train\n",
    "            model.train()\n",
    "            train_log_cache = []\n",
    "            train_loss = []\n",
    "            \n",
    "            for i, (inp, target) in enumerate(loaders['train']):\n",
    "                optimizer.zero_grad()\n",
    "                inp = inp.to(current_device)\n",
    "                target = target.to(current_device)\n",
    "                logits = model(inp)\n",
    "\n",
    "                loss = criterion(logits.view(-1, logits.size(-1)), target.view(-1))\n",
    "\n",
    "                loss.backward()\n",
    "                optimizer.step()\n",
    "\n",
    "                train_log_cache.append(loss.item())\n",
    "                train_loss.append(loss.item())\n",
    "                \n",
    "\n",
    "                if i % 500 == 0:\n",
    "                    avg_loss = sum(train_log_cache)/len(train_log_cache)\n",
    "                    #print('Step {} avg train loss = {:.{prec}f}'.format(i, avg_loss, prec=4))\n",
    "                    train_log_cache = []\n",
    "                    \n",
    "        train_losses.append(sum(train_loss) / len(train_loss)) \n",
    "\n",
    "        #do valid\n",
    "        valid_perplextity = []\n",
    "        valid_losses = []\n",
    "        model.eval()\n",
    "        with torch.no_grad():\n",
    "            for i, (inp, target) in enumerate(loaders['valid']):\n",
    "                inp = inp.to(current_device)\n",
    "                target = target.to(current_device)\n",
    "                logits = model(inp)\n",
    "\n",
    "                loss = criterion(logits.view(-1, logits.size(-1)), target.view(-1))\n",
    "                valid_losses.append(loss.item())\n",
    "\n",
    "            avg_val_loss = sum(valid_losses) / len(valid_losses)\n",
    "            print('Validation loss after {} epoch = {:.{prec}f}'.format(epoch_number, avg_val_loss, prec=4))\n",
    "            \n",
    "            if avg_val_loss <= best_val_loss:\n",
    "                best_val_loss = avg_val_loss\n",
    "                best_model_state_dict = model.state_dict() #copy.deepcopy(self.model.state_dict())\n",
    "\n",
    "        val_losses.append(avg_val_loss)\n",
    "\n",
    "        if load_pretrained:\n",
    "            break\n",
    "\n",
    "    return train_losses, val_losses, best_val_loss, best_model_state_dict"
   ]
  },
  {
   "cell_type": "code",
   "execution_count": null,
   "metadata": {
    "colab": {
     "base_uri": "https://localhost:8080/",
     "height": 34
    },
    "colab_type": "code",
    "id": "XTNfkpR21ncu",
    "outputId": "02840eec-c056-4e0b-9e70-8ac7f630f949"
   },
   "outputs": [
    {
     "name": "stdout",
     "output_type": "stream",
     "text": [
      "{}\n"
     ]
    }
   ],
   "source": [
    "embedding_size_results = {}\n",
    "min_embedding_size_val_loss = np.inf\n",
    "best_embedding_size_model_state_dict = {}\n",
    "print(embedding_size_results)"
   ]
  },
  {
   "cell_type": "code",
   "execution_count": null,
   "metadata": {
    "colab": {
     "base_uri": "https://localhost:8080/",
     "height": 289
    },
    "colab_type": "code",
    "id": "AZbjZ63p4hGb",
    "outputId": "b0673799-098d-48f5-8e1e-dc50781a6f04"
   },
   "outputs": [
    {
     "name": "stdout",
     "output_type": "stream",
     "text": [
      "tuning on embedding size 32\n",
      "Validation loss after 0 epoch = 5.9769\n",
      "Validation loss after 1 epoch = 5.6761\n",
      "Validation loss after 2 epoch = 5.5231\n",
      "Validation loss after 3 epoch = 5.4465\n",
      "Validation loss after 4 epoch = 5.3995\n",
      "Validation loss after 5 epoch = 5.3786\n",
      "Validation loss after 6 epoch = 5.3704\n",
      "Validation loss after 7 epoch = 5.3693\n",
      "Validation loss after 8 epoch = 5.3717\n",
      "Validation loss after 9 epoch = 5.3807\n",
      "tuning on embedding size 64\n",
      "Validation loss after 0 epoch = 5.8687\n",
      "Validation loss after 1 epoch = 5.5590\n",
      "Validation loss after 2 epoch = 5.4323\n",
      "Validation loss after 3 epoch = 5.3500\n"
     ]
    }
   ],
   "source": [
    "\n",
    "embedding_size_list = [32]\n",
    "for embedding_size in embedding_size_list:\n",
    "    print('tuning on embedding size {}'.format(embedding_size))\n",
    "  \n",
    "    \n",
    "    options = {\n",
    "            'num_embeddings': len(wiki_dict),\n",
    "            'embedding_dim': embedding_size,\n",
    "            'padding_idx': wiki_dict.get_id('<pad>'),\n",
    "            'input_size': embedding_size,\n",
    "            'hidden_size': hidden_size,\n",
    "            'num_layers': num_layers,\n",
    "            'rnn_dropout': rnn_dropout,\n",
    "        }\n",
    "\n",
    "    # CHANGE THE MODEL HERE\n",
    "    lstm_model = LSTMLanguageModel(options).to(current_device)\n",
    "\n",
    "    criterion = nn.CrossEntropyLoss(ignore_index=wiki_dict.get_id('<pad>'))\n",
    "\n",
    "    # CHANGE THE MODEL HERE\n",
    "    model_parameters = [p for p in lstm_model.parameters() if p.requires_grad]\n",
    "    optimizer = optim.Adam(model_parameters, lr=lr)\n",
    "    \n",
    "    \n",
    "    lstm_train_losses, lstm_val_losses, lstm_best_val_loss, lstm_best_model_state_dict = trainValidModel_noTrainLossPrint(lstm_model,\n",
    "                                                                                                          num_epochs=10,\n",
    "                                                                                                          load_pretrained=False,\n",
    "                                                                                                          loaders=wiki_loaders)\n",
    "    embedding_size_results[embedding_size] = {}\n",
    "    embedding_size_results[embedding_size]['train_losses'] = lstm_train_losses\n",
    "    embedding_size_results[embedding_size]['val_losses'] = lstm_val_losses\n",
    "    embedding_size_results[embedding_size]['best_val_loss'] = lstm_best_val_loss\n",
    "    \n",
    "    # Save the models and losses\n",
    "    torch.save(lstm_best_model_state_dict, 'lstm_tune_embedding_size_{}.pth'.format(embedding_size))\n",
    "    torch.save(lstm_train_losses, 'lstm_tune_embedding_size_{}_train_losses.pth'.format(embedding_size))\n",
    "    torch.save(lstm_val_losses, 'lstm_tune_embedding_size_{}_val_losses.pth'.format(embedding_size))\n",
    "    \n",
    "    if lstm_best_val_loss < min_embedding_size_val_loss:\n",
    "        min_embedding_size_val_loss = lstm_best_val_loss\n",
    "        best_embedding_size_model_state_dict = lstm_best_model_state_dict\n",
    "        "
   ]
  },
  {
   "cell_type": "code",
   "execution_count": null,
   "metadata": {
    "colab": {
     "base_uri": "https://localhost:8080/",
     "height": 391
    },
    "colab_type": "code",
    "id": "K9U7c7N6WeRQ",
    "outputId": "363a75cc-fa6c-483a-c0a3-401681c4aca8"
   },
   "outputs": [
    {
     "name": "stdout",
     "output_type": "stream",
     "text": [
      "tuning on embedding size 64\n",
      "Validation loss after 0 epoch = 5.8653\n",
      "Validation loss after 1 epoch = 5.5644\n",
      "Validation loss after 2 epoch = 5.4394\n",
      "Validation loss after 3 epoch = 5.3501\n",
      "Validation loss after 4 epoch = 5.3022\n",
      "Validation loss after 5 epoch = 5.2858\n",
      "Validation loss after 6 epoch = 5.2819\n",
      "Validation loss after 7 epoch = 5.2817\n",
      "Validation loss after 8 epoch = 5.2873\n",
      "Validation loss after 9 epoch = 5.2960\n",
      "tuning on embedding size 128\n",
      "Validation loss after 0 epoch = 5.7938\n",
      "Validation loss after 1 epoch = 5.5076\n",
      "Validation loss after 2 epoch = 5.3710\n",
      "Validation loss after 3 epoch = 5.2954\n",
      "Validation loss after 4 epoch = 5.2631\n",
      "Validation loss after 5 epoch = 5.2508\n",
      "Validation loss after 6 epoch = 5.2424\n",
      "Validation loss after 7 epoch = 5.2547\n",
      "Validation loss after 8 epoch = 5.2690\n",
      "Validation loss after 9 epoch = 5.2870\n"
     ]
    }
   ],
   "source": [
    "\n",
    "embedding_size_list = [64, 128]\n",
    "for embedding_size in embedding_size_list:\n",
    "    print('tuning on embedding size {}'.format(embedding_size))\n",
    "  \n",
    "    \n",
    "    options = {\n",
    "            'num_embeddings': len(wiki_dict),\n",
    "            'embedding_dim': embedding_size,\n",
    "            'padding_idx': wiki_dict.get_id('<pad>'),\n",
    "            'input_size': embedding_size,\n",
    "            'hidden_size': hidden_size,\n",
    "            'num_layers': num_layers,\n",
    "            'rnn_dropout': rnn_dropout,\n",
    "        }\n",
    "\n",
    "    # CHANGE THE MODEL HERE\n",
    "    lstm_model = LSTMLanguageModel(options).to(current_device)\n",
    "\n",
    "    criterion = nn.CrossEntropyLoss(ignore_index=wiki_dict.get_id('<pad>'))\n",
    "\n",
    "    # CHANGE THE MODEL HERE\n",
    "    model_parameters = [p for p in lstm_model.parameters() if p.requires_grad]\n",
    "    optimizer = optim.Adam(model_parameters, lr=lr)\n",
    "    \n",
    "    \n",
    "    lstm_train_losses, lstm_val_losses, lstm_best_val_loss, lstm_best_model_state_dict = trainValidModel_noTrainLossPrint(lstm_model,\n",
    "                                                                                                          num_epochs=10,\n",
    "                                                                                                          load_pretrained=False,\n",
    "                                                                                                          loaders=wiki_loaders)\n",
    "    embedding_size_results[embedding_size] = {}\n",
    "    embedding_size_results[embedding_size]['train_losses'] = lstm_train_losses\n",
    "    embedding_size_results[embedding_size]['val_losses'] = lstm_val_losses\n",
    "    embedding_size_results[embedding_size]['best_val_loss'] = lstm_best_val_loss\n",
    "    \n",
    "    # Save the models and losses\n",
    "    torch.save(lstm_best_model_state_dict, 'lstm_tune_embedding_size_{}.pth'.format(embedding_size))\n",
    "    torch.save(lstm_train_losses, 'lstm_tune_embedding_size_{}_train_losses.pth'.format(embedding_size))\n",
    "    torch.save(lstm_val_losses, 'lstm_tune_embedding_size_{}_val_losses.pth'.format(embedding_size))\n",
    "    \n",
    "    if lstm_best_val_loss < min_embedding_size_val_loss:\n",
    "        min_embedding_size_val_loss = lstm_best_val_loss\n",
    "        best_embedding_size_model_state_dict = lstm_best_model_state_dict\n",
    "        "
   ]
  },
  {
   "cell_type": "code",
   "execution_count": null,
   "metadata": {
    "colab": {},
    "colab_type": "code",
    "id": "X305KIKHmtWz"
   },
   "outputs": [],
   "source": [
    "#torch.save(embedding_size_results, 'lstm_tune_embedding_size_dict.pth') "
   ]
  },
  {
   "cell_type": "code",
   "execution_count": null,
   "metadata": {
    "colab": {
     "base_uri": "https://localhost:8080/",
     "height": 391
    },
    "colab_type": "code",
    "id": "hfRv5Zl-WhUr",
    "outputId": "40fa0e4f-8f4f-445a-b281-6668d184442a"
   },
   "outputs": [
    {
     "name": "stdout",
     "output_type": "stream",
     "text": [
      "tuning on embedding size 256\n",
      "Validation loss after 0 epoch = 5.7213\n",
      "Validation loss after 1 epoch = 5.4528\n",
      "Validation loss after 2 epoch = 5.3392\n",
      "Validation loss after 3 epoch = 5.2648\n",
      "Validation loss after 4 epoch = 5.2316\n",
      "Validation loss after 5 epoch = 5.2207\n",
      "Validation loss after 6 epoch = 5.2366\n",
      "Validation loss after 7 epoch = 5.2427\n",
      "Validation loss after 8 epoch = 5.2657\n",
      "Validation loss after 9 epoch = 5.2862\n",
      "tuning on embedding size 512\n",
      "Validation loss after 0 epoch = 5.6469\n",
      "Validation loss after 1 epoch = 5.3970\n",
      "Validation loss after 2 epoch = 5.2762\n",
      "Validation loss after 3 epoch = 5.2174\n",
      "Validation loss after 4 epoch = 5.1999\n",
      "Validation loss after 5 epoch = 5.1949\n",
      "Validation loss after 6 epoch = 5.2065\n",
      "Validation loss after 7 epoch = 5.2257\n",
      "Validation loss after 8 epoch = 5.2443\n",
      "Validation loss after 9 epoch = 5.2741\n"
     ]
    }
   ],
   "source": [
    "\n",
    "embedding_size_list = [256, 512]\n",
    "for embedding_size in embedding_size_list:\n",
    "    print('tuning on embedding size {}'.format(embedding_size))\n",
    "  \n",
    "    \n",
    "    options = {\n",
    "            'num_embeddings': len(wiki_dict),\n",
    "            'embedding_dim': embedding_size,\n",
    "            'padding_idx': wiki_dict.get_id('<pad>'),\n",
    "            'input_size': embedding_size,\n",
    "            'hidden_size': hidden_size,\n",
    "            'num_layers': num_layers,\n",
    "            'rnn_dropout': rnn_dropout,\n",
    "        }\n",
    "\n",
    "    # CHANGE THE MODEL HERE\n",
    "    lstm_model = LSTMLanguageModel(options).to(current_device)\n",
    "\n",
    "    criterion = nn.CrossEntropyLoss(ignore_index=wiki_dict.get_id('<pad>'))\n",
    "\n",
    "    # CHANGE THE MODEL HERE\n",
    "    model_parameters = [p for p in lstm_model.parameters() if p.requires_grad]\n",
    "    optimizer = optim.Adam(model_parameters, lr=lr)\n",
    "    \n",
    "    \n",
    "    lstm_train_losses, lstm_val_losses, lstm_best_val_loss, lstm_best_model_state_dict = trainValidModel_noTrainLossPrint(lstm_model,\n",
    "                                                                                                          num_epochs=10,\n",
    "                                                                                                          load_pretrained=False,\n",
    "                                                                                                          loaders=wiki_loaders)\n",
    "    embedding_size_results[embedding_size] = {}\n",
    "    embedding_size_results[embedding_size]['train_losses'] = lstm_train_losses\n",
    "    embedding_size_results[embedding_size]['val_losses'] = lstm_val_losses\n",
    "    embedding_size_results[embedding_size]['best_val_loss'] = lstm_best_val_loss\n",
    "    \n",
    "    # Save the models and losses\n",
    "    torch.save(lstm_best_model_state_dict, 'lstm_tune_embedding_size_{}.pth'.format(embedding_size))\n",
    "    torch.save(lstm_train_losses, 'lstm_tune_embedding_size_{}_train_losses.pth'.format(embedding_size))\n",
    "    torch.save(lstm_val_losses, 'lstm_tune_embedding_size_{}_val_losses.pth'.format(embedding_size))\n",
    "    \n",
    "    if lstm_best_val_loss < min_embedding_size_val_loss:\n",
    "        min_embedding_size_val_loss = lstm_best_val_loss\n",
    "        best_embedding_size_model_state_dict = lstm_best_model_state_dict\n",
    "        "
   ]
  },
  {
   "cell_type": "code",
   "execution_count": null,
   "metadata": {
    "colab": {},
    "colab_type": "code",
    "id": "elKDkD3EwFDP"
   },
   "outputs": [],
   "source": [
    "#embedding_size_results"
   ]
  },
  {
   "cell_type": "code",
   "execution_count": null,
   "metadata": {
    "colab": {},
    "colab_type": "code",
    "id": "pT0nJJ7-wT-7"
   },
   "outputs": [],
   "source": [
    "embedding_size_loss_list = [5.3693, 5.2817, 5.2424, 5.2207, 5.1949]\n",
    "embedding_size_ppl_list = []\n",
    "embedding_size_keys = [32, 64, 128, 256, 512]"
   ]
  },
  {
   "cell_type": "code",
   "execution_count": null,
   "metadata": {
    "colab": {},
    "colab_type": "code",
    "id": "ebJOQtHN7GQR"
   },
   "outputs": [],
   "source": [
    "\n",
    "#embedding_size_keys = list(embedding_size_results.keys())\n",
    "for i in range(len(embedding_size_keys)):\n",
    "    # embedding_size_loss = embedding_size_results[embedding_size]['best_val_loss']\n",
    "    #print(lr_loss)\n",
    "    embedding_size_loss = embedding_size_loss_list[i]\n",
    "    embedding_size_ppl = 2**(embedding_size_loss / np.log(2))\n",
    "    #print(embedding_size, embedding_size_loss, embedding_size_ppl)\n",
    "    embedding_size_ppl_list.append(embedding_size_ppl)\n",
    "      "
   ]
  },
  {
   "cell_type": "code",
   "execution_count": null,
   "metadata": {
    "colab": {
     "base_uri": "https://localhost:8080/",
     "height": 102
    },
    "colab_type": "code",
    "id": "AtJRUZsDwOPe",
    "outputId": "f69c1a12-4974-4e7a-d420-d4e148581e73"
   },
   "outputs": [
    {
     "data": {
      "text/plain": [
       "[214.7125163260641,\n",
       " 196.70398805522885,\n",
       " 189.1234544562914,\n",
       " 185.06368331898193,\n",
       " 180.35010688454062]"
      ]
     },
     "execution_count": 34,
     "metadata": {
      "tags": []
     },
     "output_type": "execute_result"
    }
   ],
   "source": [
    "embedding_size_ppl_list"
   ]
  },
  {
   "cell_type": "code",
   "execution_count": null,
   "metadata": {
    "colab": {
     "base_uri": "https://localhost:8080/",
     "height": 281
    },
    "colab_type": "code",
    "id": "5Z0wJysA3uwH",
    "outputId": "1f37eda7-8a3d-442b-d453-eec6ee2b4847"
   },
   "outputs": [
    {
     "data": {
      "image/png": "[encoded data removed]",
      "text/plain": [
       "<Figure size 432x288 with 1 Axes>"
      ]
     },
     "metadata": {
      "tags": []
     },
     "output_type": "display_data"
    }
   ],
   "source": [
    "plt.plot(embedding_size_keys, embedding_size_ppl_list, label='Val Perplexity by Embedding Size')\n",
    "\n",
    "plt.legend()\n",
    "plt.title('Perplexity Curve')\n",
    "plt.show()"
   ]
  },
  {
   "cell_type": "code",
   "execution_count": null,
   "metadata": {},
   "outputs": [],
   "source": []
  },
  {
   "cell_type": "markdown",
   "metadata": {
    "colab_type": "text",
    "id": "sMMMuV29Iqyc"
   },
   "source": [
    "### 2.1.2.2 Tune on Learning Rate"
   ]
  },
  {
   "cell_type": "code",
   "execution_count": null,
   "metadata": {
    "colab": {},
    "colab_type": "code",
    "id": "XTNfkpR21ncu"
   },
   "outputs": [],
   "source": [
    "lr_results = {}"
   ]
  },
  {
   "cell_type": "code",
   "execution_count": null,
   "metadata": {
    "colab": {},
    "colab_type": "code",
    "id": "Y8-yoVPPKXAy"
   },
   "outputs": [],
   "source": [
    "embedding_size = 128\n",
    "hidden_size = 64\n",
    "num_layers = 2\n",
    "rnn_dropout = 0.1\n",
    "batch_size = 32\n",
    "optimizer = optim.Adam"
   ]
  },
  {
   "cell_type": "code",
   "execution_count": 27,
   "metadata": {
    "colab": {
     "base_uri": "https://localhost:8080/",
     "height": 391
    },
    "colab_type": "code",
    "id": "owqc5lqc1xjj",
    "outputId": "df4248e7-074f-4748-d40e-b231f40fcbd7"
   },
   "outputs": [
    {
     "name": "stdout",
     "output_type": "stream",
     "text": [
      "Training on lr = 0.0016\n",
      "Validation loss after 0 epoch = 5.7225\n",
      "Validation loss after 1 epoch = 5.4520\n",
      "Validation loss after 2 epoch = 5.3334\n",
      "Validation loss after 3 epoch = 5.2898\n",
      "Validation loss after 4 epoch = 5.2735\n",
      "Validation loss after 5 epoch = 5.2880\n",
      "Validation loss after 6 epoch = 5.3143\n",
      "Validation loss after 7 epoch = 5.3293\n",
      "Validation loss after 8 epoch = 5.3685\n",
      "Validation loss after 9 epoch = 5.3948\n",
      "Training on lr = 0.0017\n",
      "Validation loss after 0 epoch = 5.7112\n",
      "Validation loss after 1 epoch = 5.4381\n",
      "Validation loss after 2 epoch = 5.3200\n",
      "Validation loss after 3 epoch = 5.2757\n",
      "Validation loss after 4 epoch = 5.2673\n",
      "Validation loss after 5 epoch = 5.2835\n",
      "Validation loss after 6 epoch = 5.3017\n",
      "Validation loss after 7 epoch = 5.3297\n",
      "Validation loss after 8 epoch = 5.3630\n",
      "Validation loss after 9 epoch = 5.3900\n"
     ]
    }
   ],
   "source": [
    "for lr in [0.0016, 0.0017]:\n",
    "    print('Training on lr = {}'.format(lr))\n",
    "  \n",
    "    options = {\n",
    "            'num_embeddings': len(wiki_dict),\n",
    "            'embedding_dim': embedding_size,\n",
    "            'padding_idx': wiki_dict.get_id('<pad>'),\n",
    "            'input_size': embedding_size,\n",
    "            'hidden_size': hidden_size,\n",
    "            'num_layers': num_layers,\n",
    "            'rnn_dropout': rnn_dropout,\n",
    "        }\n",
    "\n",
    "    # CHANGE THE MODEL HERE\n",
    "    lstm_model = LSTMLanguageModel(options).to(current_device)\n",
    "\n",
    "    criterion = nn.CrossEntropyLoss(ignore_index=wiki_dict.get_id('<pad>'))\n",
    "\n",
    "    # CHANGE THE MODEL HERE\n",
    "    model_parameters = [p for p in lstm_model.parameters() if p.requires_grad]\n",
    "    optimizer = optim.Adam(model_parameters, lr=lr)\n",
    "    \n",
    "    \n",
    "    lstm_train_losses, lstm_val_losses, lstm_best_val_loss, lstm_best_model_state_dict = trainValidModel_noTrainLossPrint(lstm_model,\n",
    "                                                                                                          num_epochs=10,\n",
    "                                                                                                          load_pretrained=False,\n",
    "                                                                                                          loaders=wiki_loaders)\n",
    "    \n",
    "    # Save the models and losses\n",
    "    torch.save(lstm_best_model_state_dict, 'lstm_tune_lambda_{}.pth'.format(lr))\n",
    "    torch.save(lstm_train_losses, 'lstm_tune_lambda_{}_train_losses.pth'.format(lr))\n",
    "    torch.save(lstm_val_losses, 'lstm_tune_lambda_{}_val_losses.pth'.format(lr))\n",
    "\n",
    "    lr_results[lr] ={}\n",
    "    lr_results[lr]['train_losses'] = lstm_train_losses\n",
    "    lr_results[lr]['val_losses'] = lstm_val_losses\n",
    "    lr_results[lr]['best_val_loss'] = lstm_best_val_loss\n",
    "    #lr_results[lr]['best_model_state_dict'] = lstm_best_model_state_dict"
   ]
  },
  {
   "cell_type": "code",
   "execution_count": 26,
   "metadata": {
    "colab": {
     "base_uri": "https://localhost:8080/",
     "height": 578
    },
    "colab_type": "code",
    "id": "5Z0wJysA3uwH",
    "outputId": "7ca01a38-52c2-4a0c-c0c9-736baea5fcd2"
   },
   "outputs": [
    {
     "name": "stdout",
     "output_type": "stream",
     "text": [
      "Training on lr = 0.00015\n",
      "Validation loss after 0 epoch = 6.5820\n",
      "Validation loss after 1 epoch = 6.3153\n",
      "Validation loss after 2 epoch = 6.1574\n",
      "Validation loss after 3 epoch = 6.0288\n",
      "Validation loss after 4 epoch = 5.9230\n",
      "Validation loss after 5 epoch = 5.8404\n",
      "Validation loss after 6 epoch = 5.7709\n",
      "Validation loss after 7 epoch = 5.7127\n",
      "Validation loss after 8 epoch = 5.6629\n",
      "Validation loss after 9 epoch = 5.6226\n",
      "Training on lr = 0.0018\n",
      "Validation loss after 0 epoch = 5.7301\n",
      "Validation loss after 1 epoch = 5.4452\n",
      "Validation loss after 2 epoch = 5.3269\n",
      "Validation loss after 3 epoch = 5.2828\n",
      "Validation loss after 4 epoch = 5.2675\n",
      "Validation loss after 5 epoch = 5.2941\n",
      "Validation loss after 6 epoch = 5.3209\n",
      "Validation loss after 7 epoch = 5.3527\n",
      "Validation loss after 8 epoch = 5.3913\n",
      "Validation loss after 9 epoch = 5.4178\n",
      "Training on lr = 0.0019\n",
      "Validation loss after 0 epoch = 5.6811\n",
      "Validation loss after 1 epoch = 5.4276\n",
      "Validation loss after 2 epoch = 5.3115\n",
      "Validation loss after 3 epoch = 5.2668\n",
      "Validation loss after 4 epoch = 5.2646\n",
      "Validation loss after 5 epoch = 5.2908\n",
      "Validation loss after 6 epoch = 5.3191\n",
      "Validation loss after 7 epoch = 5.3449\n",
      "Validation loss after 8 epoch = 5.3884\n",
      "Validation loss after 9 epoch = 5.4167\n"
     ]
    }
   ],
   "source": [
    "for lr in [0.00015, 0.0018, 0.0019]:\n",
    "    print('Training on lr = {}'.format(lr))\n",
    "  \n",
    "    options = {\n",
    "            'num_embeddings': len(wiki_dict),\n",
    "            'embedding_dim': embedding_size,\n",
    "            'padding_idx': wiki_dict.get_id('<pad>'),\n",
    "            'input_size': embedding_size,\n",
    "            'hidden_size': hidden_size,\n",
    "            'num_layers': num_layers,\n",
    "            'rnn_dropout': rnn_dropout,\n",
    "        }\n",
    "\n",
    "    # CHANGE THE MODEL HERE\n",
    "    lstm_model = LSTMLanguageModel(options).to(current_device)\n",
    "\n",
    "    criterion = nn.CrossEntropyLoss(ignore_index=wiki_dict.get_id('<pad>'))\n",
    "\n",
    "    # CHANGE THE MODEL HERE\n",
    "    model_parameters = [p for p in lstm_model.parameters() if p.requires_grad]\n",
    "    optimizer = optim.Adam(model_parameters, lr=lr)\n",
    "    \n",
    "    \n",
    "    lstm_train_losses, lstm_val_losses, lstm_best_val_loss, lstm_best_model_state_dict = trainValidModel_noTrainLossPrint(lstm_model,\n",
    "                                                                                                          num_epochs=10,\n",
    "                                                                                                          load_pretrained=False,\n",
    "                                                                                                          loaders=wiki_loaders)\n",
    "    \n",
    "    # Save the models and losses\n",
    "    torch.save(lstm_best_model_state_dict, 'lstm_tune_lambda_{}.pth'.format(lr))\n",
    "    torch.save(lstm_train_losses, 'lstm_tune_lambda_{}_train_losses.pth'.format(lr))\n",
    "    torch.save(lstm_val_losses, 'lstm_tune_lambda_{}_val_losses.pth'.format(lr))\n",
    "\n",
    "    lr_results[lr] ={}\n",
    "    lr_results[lr]['train_losses'] = lstm_train_losses\n",
    "    lr_results[lr]['val_losses'] = lstm_val_losses\n",
    "    lr_results[lr]['best_val_loss'] = lstm_best_val_loss\n",
    "    #lr_results[lr]['best_model_state_dict'] = lstm_best_model_state_dict"
   ]
  },
  {
   "cell_type": "code",
   "execution_count": null,
   "metadata": {
    "colab": {},
    "colab_type": "code",
    "id": "23a8D-iV1SON"
   },
   "outputs": [],
   "source": [
    "lambda_ppl_list = []\n",
    "lambda_keys = [0.0015, 0.0016, 0.0017, 0.0018, 0.0019]\n",
    "lr_loss_list = [5.7127, 5.2735, 5.2673, 5.2675, 5.2646]"
   ]
  },
  {
   "cell_type": "code",
   "execution_count": null,
   "metadata": {
    "colab": {},
    "colab_type": "code",
    "id": "hWVqZXi_1Ko3"
   },
   "outputs": [],
   "source": [
    "\n",
    "for i in range(len(lambda_keys)):\n",
    "    lr_loss = lr_loss_list[i]\n",
    "    #print(lr_loss)\n",
    "    lr_ppl = 2**(lr_loss / np.log(2))\n",
    "    #print(lr, lr_loss, lr_ppl)\n",
    "    lambda_ppl_list.append(lr_ppl)\n",
    "      "
   ]
  },
  {
   "cell_type": "code",
   "execution_count": 32,
   "metadata": {
    "colab": {
     "base_uri": "https://localhost:8080/",
     "height": 281
    },
    "colab_type": "code",
    "id": "e1E2gfhK1Q7R",
    "outputId": "9d1abe2c-866e-4a25-a829-ee0d3e490782"
   },
   "outputs": [
    {
     "data": {
      "image/png": "[encoded data removed]",
      "text/plain": [
       "<Figure size 432x288 with 1 Axes>"
      ]
     },
     "metadata": {
      "tags": []
     },
     "output_type": "display_data"
    }
   ],
   "source": [
    "plt.plot(lambda_keys, lambda_ppl_list, label='Val Perplexity by Lambda')\n",
    "\n",
    "plt.legend()\n",
    "plt.title('Perplexity Curve')\n",
    "plt.show()"
   ]
  },
  {
   "cell_type": "code",
   "execution_count": null,
   "metadata": {},
   "outputs": [],
   "source": []
  },
  {
   "cell_type": "markdown",
   "metadata": {
    "colab_type": "text",
    "id": "mGwng2dGTFPs"
   },
   "source": [
    "### 2.1.2.3. The best LSTM Model\n"
   ]
  },
  {
   "cell_type": "code",
   "execution_count": null,
   "metadata": {
    "colab": {},
    "colab_type": "code",
    "id": "I6G8fgBWTMIq"
   },
   "outputs": [],
   "source": [
    "embedding_size = 512 \n",
    "hidden_size = 128\n",
    "num_layers = 2\n",
    "rnn_dropout = 0.1\n",
    "batch_size = 32\n",
    "lr = 0.0015\n",
    "optimizer = optim.Adam"
   ]
  },
  {
   "cell_type": "code",
   "execution_count": 37,
   "metadata": {
    "colab": {
     "base_uri": "https://localhost:8080/",
     "height": 1000
    },
    "colab_type": "code",
    "id": "Sbl6MD1MTR2b",
    "outputId": "69402448-fde6-4990-af47-03784bb9cafd"
   },
   "outputs": [
    {
     "name": "stdout",
     "output_type": "stream",
     "text": [
      "Step 0 avg train loss = 10.4161\n",
      "Step 500 avg train loss = 6.9829\n",
      "Step 1000 avg train loss = 6.2893\n",
      "Step 1500 avg train loss = 6.0278\n",
      "Step 2000 avg train loss = 5.8820\n",
      "Validation loss after 0 epoch = 5.5718\n",
      "Step 0 avg train loss = 5.7537\n",
      "Step 500 avg train loss = 5.5735\n",
      "Step 1000 avg train loss = 5.5244\n",
      "Step 1500 avg train loss = 5.4642\n",
      "Step 2000 avg train loss = 5.4282\n",
      "Validation loss after 1 epoch = 5.3455\n",
      "Step 0 avg train loss = 5.1625\n",
      "Step 500 avg train loss = 5.2078\n",
      "Step 1000 avg train loss = 5.1957\n",
      "Step 1500 avg train loss = 5.1831\n",
      "Step 2000 avg train loss = 5.1623\n",
      "Validation loss after 2 epoch = 5.2421\n",
      "Step 0 avg train loss = 4.7632\n",
      "Step 500 avg train loss = 4.9686\n",
      "Step 1000 avg train loss = 4.9763\n",
      "Step 1500 avg train loss = 4.9630\n",
      "Step 2000 avg train loss = 4.9693\n",
      "Validation loss after 3 epoch = 5.2071\n",
      "Step 0 avg train loss = 4.7333\n",
      "Step 500 avg train loss = 4.7895\n",
      "Step 1000 avg train loss = 4.8049\n",
      "Step 1500 avg train loss = 4.8209\n",
      "Step 2000 avg train loss = 4.8200\n",
      "Validation loss after 4 epoch = 5.2083\n",
      "Step 0 avg train loss = 4.7527\n",
      "Step 500 avg train loss = 4.6405\n",
      "Step 1000 avg train loss = 4.6768\n",
      "Step 1500 avg train loss = 4.7013\n",
      "Step 2000 avg train loss = 4.7022\n",
      "Validation loss after 5 epoch = 5.2306\n",
      "Step 0 avg train loss = 4.3504\n",
      "Step 500 avg train loss = 4.5433\n",
      "Step 1000 avg train loss = 4.5700\n",
      "Step 1500 avg train loss = 4.5766\n",
      "Step 2000 avg train loss = 4.6016\n",
      "Validation loss after 6 epoch = 5.2617\n",
      "Step 0 avg train loss = 4.6254\n",
      "Step 500 avg train loss = 4.4464\n",
      "Step 1000 avg train loss = 4.4698\n",
      "Step 1500 avg train loss = 4.5050\n",
      "Step 2000 avg train loss = 4.5173\n",
      "Validation loss after 7 epoch = 5.2986\n",
      "Step 0 avg train loss = 4.3946\n",
      "Step 500 avg train loss = 4.3653\n",
      "Step 1000 avg train loss = 4.3956\n",
      "Step 1500 avg train loss = 4.4223\n",
      "Step 2000 avg train loss = 4.4458\n",
      "Validation loss after 8 epoch = 5.3376\n",
      "Step 0 avg train loss = 4.0554\n",
      "Step 500 avg train loss = 4.2874\n",
      "Step 1000 avg train loss = 4.3360\n",
      "Step 1500 avg train loss = 4.3559\n",
      "Step 2000 avg train loss = 4.3762\n",
      "Validation loss after 9 epoch = 5.3790\n"
     ]
    }
   ],
   "source": [
    "options = {\n",
    "            'num_embeddings': len(wiki_dict),\n",
    "            'embedding_dim': embedding_size,\n",
    "            'padding_idx': wiki_dict.get_id('<pad>'),\n",
    "            'input_size': embedding_size,\n",
    "            'hidden_size': hidden_size,\n",
    "            'num_layers': num_layers,\n",
    "            'rnn_dropout': rnn_dropout,\n",
    "        }\n",
    "\n",
    "# CHANGE THE MODEL HERE\n",
    "lstm_model = LSTMLanguageModel(options).to(current_device)\n",
    "\n",
    "criterion = nn.CrossEntropyLoss(ignore_index=wiki_dict.get_id('<pad>'))\n",
    "\n",
    "# CHANGE THE MODEL HERE\n",
    "model_parameters = [p for p in lstm_model.parameters() if p.requires_grad]\n",
    "optimizer = optim.Adam(model_parameters, lr=lr)\n",
    "\n",
    "\n",
    "lstm_train_losses, lstm_val_losses, lstm_best_val_loss, lstm_best_model_state_dict = trainValidModel(lstm_model,\n",
    "                                                                                                      num_epochs=10,\n",
    "                                                                                                      load_pretrained=False,\n",
    "                                                                                                      loaders=wiki_loaders)"
   ]
  },
  {
   "cell_type": "code",
   "execution_count": 38,
   "metadata": {
    "colab": {
     "base_uri": "https://localhost:8080/",
     "height": 88
    },
    "colab_type": "code",
    "id": "1JazhxN7TbxW",
    "outputId": "905d1837-085b-4a04-aa69-3f18d74d84fa"
   },
   "outputs": [
    {
     "name": "stdout",
     "output_type": "stream",
     "text": [
      "lstm_train_losses [6.199911528331287, 5.475005915080181, 5.178893601597208, 4.9700760788755804, 4.810525263383723, 4.684593800091481, 4.579316811021806, 4.4918485144766, 4.415474322653811, 4.347820435536848]\n",
      "lstm_val_losses [5.5717531528113025, 5.345496613124632, 5.24210718802686, 5.207110962777768, 5.208295482059695, 5.230615819175289, 5.261654884410354, 5.29856259507953, 5.337645692645379, 5.379014299500663]\n",
      "lstm_best_val_losses 5.207110962777768\n"
     ]
    }
   ],
   "source": [
    "torch.save(lstm_best_model_state_dict, 'lstm_best.pth')\n",
    "print('lstm_train_losses', lstm_train_losses)\n",
    "torch.save(lstm_train_losses, 'lstm_best_train_losses.pth')\n",
    "print('lstm_val_losses', lstm_val_losses)\n",
    "torch.save(lstm_val_losses, 'lstm_best_val_losses.pth')\n",
    "print('lstm_best_val_losses', lstm_best_val_loss)"
   ]
  },
  {
   "cell_type": "markdown",
   "metadata": {},
   "source": [
    "#### MD5 Hash Keys for the Baseline, Best, Hyper-parameter tuned models:\n",
    "\n",
    "- MD5 (rnn_baseline.pth) = 564b41319b531dcce0a8248a66f7bd83\n",
    "- MD5 (lstm_baseline.pth) = c758795d0532a86aa6e5cb2ecfaa94df\n",
    "- MD5 (lstm_best.pth) = 292762736c539fb279890faedead686a\n",
    "- MD5 (lstm_tune_embedding_size_128.pth) = 411bfd2c535ed1c4e51d0ea6346b240a\n",
    "- MD5 (lstm_tune_embedding_size_256.pth) = adfd9e1fafe98baa35e8d50560d4a6fa\n",
    "- MD5 (lstm_tune_embedding_size_32.pth) = ef96f3f57f7ac4946c87e2235ce54a8d\n",
    "- MD5 (lstm_tune_embedding_size_512.pth) = 0a541e200237a6b4dcee305d151b15c8\n",
    "- MD5 (lstm_tune_embedding_size_64.pth) = f4051b26705d7bacc376dd75660cbb4d\n",
    "- MD5 (lstm_tune_lambda_0.00015.pth) = 4b5d93e9032161d7b2834a61631582bb\n",
    "- MD5 (lstm_tune_lambda_0.0015.pth) = f17c43946735c0731fbec606faaeb255\n",
    "- MD5 (lstm_tune_lambda_0.0016.pth) = cefc31f306114ccbdd227f4e57070549\n",
    "- MD5 (lstm_tune_lambda_0.0017.pth) = f7f28b533b280756730a26b8968467dc\n",
    "- MD5 (lstm_tune_lambda_0.0018.pth) = 9d7aeeea48900386d814fa88f369518e\n",
    "- MD5 (lstm_tune_lambda_0.0019.pth) = a43b8cf4910a1c65052b75eb453d1f0a\n",
    "- MD5 (lstm_tune_lambda_0.002.pth) = 57ca7f9e7cd77b4bb9c4ddc6483ac32a"
   ]
  },
  {
   "cell_type": "markdown",
   "metadata": {},
   "source": [
    "### II.2 Learned Embeddings"
   ]
  },
  {
   "cell_type": "markdown",
   "metadata": {},
   "source": [
    "#### Utilities\n",
    "\n",
    "Below is code to use [UMAP](https://umap-learn.readthedocs.io/en/latest/) to find a 2-dimensional representation of a weight matrix, and plot the resulting 2-dimensional points that correspond to certain words.\n",
    "\n",
    "Use `!pip install umap-learn` to install UMAP."
   ]
  },
  {
   "cell_type": "markdown",
   "metadata": {
    "colab_type": "text",
    "id": "WPaQSumVMr8M"
   },
   "source": [
    "### 2.2.1. nn.Embedding"
   ]
  },
  {
   "cell_type": "markdown",
   "metadata": {
    "colab_type": "text",
    "id": "aFlyzK5DrwgH"
   },
   "source": [
    "#### Closest and Furthest Words"
   ]
  },
  {
   "cell_type": "code",
   "execution_count": null,
   "metadata": {
    "colab": {},
    "colab_type": "code",
    "id": "3rbBQeTItG0V"
   },
   "outputs": [],
   "source": [
    "set_of_word  = ['run', 'dog', 'where', 'quick', 'Oath']\n",
    "cos_words = {'run': [], 'dog': [], 'where': [], 'quick': [], 'Oath': []}"
   ]
  },
  {
   "cell_type": "code",
   "execution_count": null,
   "metadata": {
    "colab": {},
    "colab_type": "code",
    "id": "vMpraTgHUAUl"
   },
   "outputs": [],
   "source": [
    "embedded_weight = best_lstm.lookup.weight.data\n",
    "cos = nn.CosineSimilarity(dim=0)"
   ]
  },
  {
   "cell_type": "code",
   "execution_count": null,
   "metadata": {
    "colab": {},
    "colab_type": "code",
    "id": "jipd615gQhH9"
   },
   "outputs": [],
   "source": [
    "for i in range(len(wiki_dict)):\n",
    "    #print(i)\n",
    "    embedded_word = embedded_weight[i]\n",
    "    for word in set_of_word:\n",
    "        embedded_cur_word = embedded_weight[wiki_dict.get_id(word)]\n",
    "        #print(cos(embedded_word, embedded_cur_word).item())\n",
    "        cos_words[word].append((i, cos(embedded_word, embedded_cur_word).item()))      "
   ]
  },
  {
   "cell_type": "code",
   "execution_count": null,
   "metadata": {
    "colab": {
     "base_uri": "https://localhost:8080/",
     "height": 292
    },
    "colab_type": "code",
    "id": "B18eorixtG0Y",
    "outputId": "aceb6d62-b558-4a5c-f1fb-66039b6c72b6"
   },
   "outputs": [
    {
     "name": "stdout",
     "output_type": "stream",
     "text": [
      "For run:\n",
      "The 10 furthest words are ['Lutheran', 'Si', 'Konstanty', 'Inland', 'Wells', 'Franjo', 'antics', 'Tzu', 'Muzaffar', 'airmen']\n",
      "The 10 closest words are ['run', 'offseason', 'playoff', 'weed', 'flow', 'chasers', 'Blackpool', 'Hulke', 'Night', 'bid']\n",
      "For dog:\n",
      "The 10 furthest words are ['latitude', 'Eleven', 'Braves', 'influences', 'Vision', 'muted', 'Bowker', 'flank', 'Magnificent', 'compression']\n",
      "The 10 closest words are ['dog', 'cleaning', 'pour', 'rowlock', 'agrees', 'Kookaburra', \"'il\", 'sensuous', 'Fordham', 'humor']\n",
      "For where:\n",
      "The 10 furthest words are ['enfilade', 'apartheid', 'Orleans', 'Triana', 'Zonghan', 'devastation', 'darkness', 'banana', 'design', '750']\n",
      "The 10 closest words are ['where', 'when', 'whereas', 'what', 'calculators', 'whether', 'if', 'Gaming', 'although', 'after']\n",
      "For quick:\n",
      "The 10 furthest words are ['cavity', 'totals', 'sprite', 'Megaliths', 'breakup', 'Jifna', 'spored', 'cougar', 'hundreds', 'headland']\n",
      "The 10 closest words are ['quick', 'H2', 'marital', 'Carlos', 'never', 'Eyed', 'subalpine', 'Spin', 'Netherlandish', 'Featuring']\n",
      "For Oath:\n",
      "The 10 furthest words are ['Kaaba', 'sincere', 'part', 'Subsequent', 'responsibilities', 'stalks', 'shear', 'pop', 'Geliot', 'Aten']\n",
      "The 10 closest words are ['Oath', 'Dinosaur', 'Leopard', 'Lin', 'Evers', 'messenger', 'constituent', 'doctrines', 'Wight', 'Hebei']\n"
     ]
    }
   ],
   "source": [
    "similarity_words = {}\n",
    "word_100 = []\n",
    "word_100_idx = []\n",
    "\n",
    "for cur_word in set_of_word:\n",
    "    #print(word)\n",
    "    sorted_cos = sorted(cos_words[cur_word], key=lambda x: x[1])\n",
    "    ten_furthest_idx = sorted_cos[:10]\n",
    "    #print(ten_furthest_idx)\n",
    "    ten_closest_idx = sorted_cos[:-11:-1]\n",
    "    #print(ten_closest_idx)\n",
    "    ten_furthest_words = []\n",
    "    ten_closest_words = []\n",
    "    for i in ten_furthest_idx:\n",
    "        word_100_idx.append(i[0])\n",
    "        word = wiki_dict.get_token(i[0])\n",
    "        ten_furthest_words.append(word)\n",
    "        word_100.append(word)\n",
    "    for i in ten_closest_idx:\n",
    "        word_100_idx.append(i[0])\n",
    "        word = wiki_dict.get_token(i[0])\n",
    "        ten_closest_words.append(word)\n",
    "        word_100.append(word)\n",
    "    similarity_words[cur_word] = (ten_furthest_words, ten_closest_words)\n",
    "    print(\"For {}:\".format(cur_word))\n",
    "    print(\"The 10 furthest words are {}\".format(ten_furthest_words))\n",
    "    print(\"The 10 closest words are {}\".format(ten_closest_words))\n",
    "    "
   ]
  },
  {
   "cell_type": "markdown",
   "metadata": {
    "colab_type": "text",
    "id": "VYm90rbzr3gz"
   },
   "source": [
    "#### UMAP"
   ]
  },
  {
   "cell_type": "code",
   "execution_count": null,
   "metadata": {
    "colab": {
     "base_uri": "https://localhost:8080/",
     "height": 34
    },
    "colab_type": "code",
    "id": "1bCQVJwgkDo-",
    "outputId": "70b1d594-d0e7-4cbc-e616-5d61a3c3c956"
   },
   "outputs": [
    {
     "data": {
      "text/plain": [
       "100"
      ]
     },
     "execution_count": 44,
     "metadata": {
      "tags": []
     },
     "output_type": "execute_result"
    }
   ],
   "source": [
    "len(word_100)\n",
    "len(word_100_idx) # e.g. use dictionary.get_id on a list of words"
   ]
  },
  {
   "cell_type": "code",
   "execution_count": null,
   "metadata": {
    "colab": {
     "base_uri": "https://localhost:8080/",
     "height": 170
    },
    "colab_type": "code",
    "id": "wqCsllvLtENp",
    "outputId": "a7a1b8eb-cb1b-4854-901f-86a28fdee438"
   },
   "outputs": [
    {
     "data": {
      "text/plain": [
       "Parameter containing:\n",
       "tensor([[ 0.7255, -0.6451, -0.7953,  ..., -1.4722,  1.3819, -1.3225],\n",
       "        [-2.0331,  0.2291, -1.1025,  ...,  1.1202,  0.3657, -0.2113],\n",
       "        [ 0.0000,  0.0000,  0.0000,  ...,  0.0000,  0.0000,  0.0000],\n",
       "        ...,\n",
       "        [ 0.9325, -0.6553, -0.6881,  ...,  0.0892,  0.2816,  0.9744],\n",
       "        [ 0.9507, -0.5752,  0.2804,  ...,  0.7712,  2.1259, -2.3710],\n",
       "        [-0.7775, -0.9150,  0.9776,  ...,  0.5025, -1.6645,  0.8108]],\n",
       "       device='cuda:0', requires_grad=True)"
      ]
     },
     "execution_count": 38,
     "metadata": {
      "tags": []
     },
     "output_type": "execute_result"
    }
   ],
   "source": [
    "best_lstm.lookup.weight"
   ]
  },
  {
   "cell_type": "code",
   "execution_count": null,
   "metadata": {
    "colab": {},
    "colab_type": "code",
    "id": "3OTiJigItn-z"
   },
   "outputs": [],
   "source": [
    "def umap_plot(weight_matrix, word_ids, words):\n",
    "    \"\"\"Run UMAP on the entire Vxd `weight_matrix` (e.g. model.lookup.weight or model.projection.weight),\n",
    "    And plot the points corresponding to the given `word_ids`. \"\"\"\n",
    "    reduced = umap.UMAP(min_dist=0.0001).fit_transform(weight_matrix.detach().cpu().numpy())\n",
    "    plt.figure(figsize=(20,20))\n",
    "\n",
    "    to_plot = reduced[word_ids, :]\n",
    "    plt.scatter(to_plot[:, 0], to_plot[:, 1])\n",
    "    for i, word_id in enumerate(word_ids):\n",
    "        current_point = to_plot[i]\n",
    "        plt.annotate(words[i], (current_point[0], current_point[1]))\n",
    "\n",
    "    plt.grid()\n",
    "    plt.show()"
   ]
  },
  {
   "cell_type": "code",
   "execution_count": null,
   "metadata": {
    "colab": {
     "base_uri": "https://localhost:8080/",
     "height": 1000
    },
    "colab_type": "code",
    "id": "y4BN8Xkksz-c",
    "outputId": "3dd34685-24a9-45c7-96f0-a025a8d3221f"
   },
   "outputs": [
    {
     "data": {
      "image/png": "[encoded data removed]",
      "text/plain": [
       "<Figure size 1440x1440 with 1 Axes>"
      ]
     },
     "metadata": {
      "tags": []
     },
     "output_type": "display_data"
    }
   ],
   "source": [
    "umap_plot(best_lstm.lookup.weight, word_100_idx, word_100)"
   ]
  },
  {
   "cell_type": "markdown",
   "metadata": {
    "colab_type": "text",
    "id": "JWnbVoqBkEIP"
   },
   "source": [
    "### 2.2.1. nn.Projection"
   ]
  },
  {
   "cell_type": "markdown",
   "metadata": {
    "colab_type": "text",
    "id": "Cw5rWyNjkN-v"
   },
   "source": [
    "#### Closest and Furthest Words"
   ]
  },
  {
   "cell_type": "code",
   "execution_count": 24,
   "metadata": {
    "colab": {
     "base_uri": "https://localhost:8080/",
     "height": 102
    },
    "colab_type": "code",
    "id": "F9s7s0LbkaPC",
    "outputId": "13a12b39-3878-48aa-d4ba-5eacbe87209f"
   },
   "outputs": [
    {
     "data": {
      "text/plain": [
       "LSTMLanguageModel(\n",
       "  (lookup): Embedding(33181, 512, padding_idx=2)\n",
       "  (lstm): LSTM(512, 128, num_layers=2, batch_first=True, dropout=0.1)\n",
       "  (projection): Linear(in_features=128, out_features=33181, bias=True)\n",
       ")"
      ]
     },
     "execution_count": 24,
     "metadata": {
      "tags": []
     },
     "output_type": "execute_result"
    }
   ],
   "source": [
    "best_lstm"
   ]
  },
  {
   "cell_type": "code",
   "execution_count": null,
   "metadata": {
    "colab": {},
    "colab_type": "code",
    "id": "6BY3W_Sij-Sg"
   },
   "outputs": [],
   "source": [
    "set_of_word  = ['run', 'dog', 'where', 'quick', 'Oath']\n",
    "cos_words_projection = {'run': [], 'dog': [], 'where': [], 'quick': [], 'Oath': []}\n",
    "\n",
    "projection_weight = best_lstm.projection.weight.data\n",
    "cos = nn.CosineSimilarity(dim=0)"
   ]
  },
  {
   "cell_type": "code",
   "execution_count": null,
   "metadata": {
    "colab": {},
    "colab_type": "code",
    "id": "IByMmuDjkn81"
   },
   "outputs": [],
   "source": [
    "for i in range(len(wiki_dict)):\n",
    "    #print(i)\n",
    "    projection_word = projection_weight[i]\n",
    "    for word in set_of_word:\n",
    "        projection_cur_word = projection_weight[wiki_dict.get_id(word)]\n",
    "        #print(cos(embedded_word, embedded_cur_word).item())\n",
    "        cos_words_projection[word].append((i, cos(projection_word, projection_cur_word).item()))     "
   ]
  },
  {
   "cell_type": "code",
   "execution_count": 27,
   "metadata": {
    "colab": {
     "base_uri": "https://localhost:8080/",
     "height": 292
    },
    "colab_type": "code",
    "id": "8OxwH6GLk1L1",
    "outputId": "76cf9d25-81ea-41c2-89db-2c75176d543a"
   },
   "outputs": [
    {
     "name": "stdout",
     "output_type": "stream",
     "text": [
      "For run:\n",
      "The 10 furthest words are ['Jaworski', 'Stones', ',', 'More', 'Way', 'Dickson', '@-@', 'Now', 'Light', 'Along']\n",
      "The 10 closest words are ['run', 'pass', 'drive', 'strike', 'stretch', 'approach', 'move', 'convert', 'take', 'struggle']\n",
      "For dog:\n",
      "The 10 furthest words are ['York', 'as', '<eos>', 'England', 'Atlantic', 'it', 'by', 'Ireland', 'for', 'to']\n",
      "The 10 closest words are ['dog', 'elves', 'vision', 'tea', 'pectoral', 'indulgence', 'Turtles', 'communications', 'henchmen', 'moral']\n",
      "For where:\n",
      "The 10 furthest words are ['243', 'war', 'lengthy', '2', 'schooling', 'birth', 'prehistoric', 'AIDS', 'patents', 'prime']\n",
      "The 10 closest words are ['where', 'abolishing', 'sir', 'revoked', 'which', 'concerning', 'when', 'representing', 'involving', 'Anubis']\n",
      "For quick:\n",
      "The 10 furthest words are ['as', ',', 'in', '\"', 'and', \"'s\", '@-@', '<eos>', 'after', 'Young']\n",
      "The 10 closest words are ['quick', 'inventory', 'mobile', 'unlawful', 'solar', 'thick', 'remnant', 'grandiosity', 'guns', 'soft']\n",
      "For Oath:\n",
      "The 10 furthest words are ['@-@', 'and', '\"', '243', 'century', ',', 'prostrate', 'compartment', 'infants', 'at']\n",
      "The 10 closest words are ['Oath', 'Desperate', 'crashed', 'Traveling', 'Firecracker', 'rip', 'Livin', 'valleys', 'Fifty', 'Bantam']\n"
     ]
    }
   ],
   "source": [
    "similarity_words_projection = {}\n",
    "word_100_projection = []\n",
    "word_100_idx_projection = []\n",
    "\n",
    "for cur_word in set_of_word:\n",
    "    #print(word)\n",
    "    sorted_cos = sorted(cos_words_projection[cur_word], key=lambda x: x[1])\n",
    "    ten_furthest_idx = sorted_cos[:10]\n",
    "    #print(ten_furthest_idx)\n",
    "    ten_closest_idx = sorted_cos[:-11:-1]\n",
    "    #print(ten_closest_idx)\n",
    "    ten_furthest_words = []\n",
    "    ten_closest_words = []\n",
    "    for i in ten_furthest_idx:\n",
    "        word_100_idx_projection.append(i[0])\n",
    "        word = wiki_dict.get_token(i[0])\n",
    "        ten_furthest_words.append(word)\n",
    "        word_100_projection.append(word)\n",
    "    for i in ten_closest_idx:\n",
    "        word_100_idx_projection.append(i[0])\n",
    "        word = wiki_dict.get_token(i[0])\n",
    "        ten_closest_words.append(word)\n",
    "        word_100_projection.append(word)\n",
    "    similarity_words_projection[cur_word] = (ten_furthest_words, ten_closest_words)\n",
    "    print(\"For {}:\".format(cur_word))\n",
    "    print(\"The 10 furthest words are {}\".format(ten_furthest_words))\n",
    "    print(\"The 10 closest words are {}\".format(ten_closest_words))"
   ]
  },
  {
   "cell_type": "code",
   "execution_count": 28,
   "metadata": {
    "colab": {
     "base_uri": "https://localhost:8080/",
     "height": 34
    },
    "colab_type": "code",
    "id": "zJ36exADlmac",
    "outputId": "d372078e-fd25-4dbc-89c3-52958f96f32f"
   },
   "outputs": [
    {
     "data": {
      "text/plain": [
       "100"
      ]
     },
     "execution_count": 28,
     "metadata": {
      "tags": []
     },
     "output_type": "execute_result"
    }
   ],
   "source": [
    "len(word_100_projection)"
   ]
  },
  {
   "cell_type": "markdown",
   "metadata": {
    "colab_type": "text",
    "id": "d0tLf43slWxO"
   },
   "source": [
    "#### UMAP"
   ]
  },
  {
   "cell_type": "code",
   "execution_count": 29,
   "metadata": {
    "colab": {
     "base_uri": "https://localhost:8080/",
     "height": 1000
    },
    "colab_type": "code",
    "id": "fEbOkuzflY3n",
    "outputId": "92ef983e-3413-40e7-9759-d1b935c6ed2c"
   },
   "outputs": [
    {
     "data": {
      "image/png": "[encoded data removed]",
      "text/plain": [
       "<Figure size 1440x1440 with 1 Axes>"
      ]
     },
     "metadata": {
      "tags": []
     },
     "output_type": "display_data"
    }
   ],
   "source": [
    "umap_plot(best_lstm.projection.weight, word_100_idx_projection, word_100_projection)"
   ]
  },
  {
   "cell_type": "markdown",
   "metadata": {
    "colab_type": "text",
    "id": "Z6z4D7ycim5Y"
   },
   "source": [
    "### 2.2.3. Discussion"
   ]
  },
  {
   "cell_type": "markdown",
   "metadata": {
    "colab_type": "text",
    "id": "TgdkFq40irg_"
   },
   "source": [
    "For the embedding layer, the furthest and closest words are not interpretable (i.e., it is not obvious why those words are furthest or closest to our word of interest). For example, For dog:\n",
    "The 10 furthest words are ['latitude', 'Eleven', 'Braves', 'influences', 'Vision', 'muted', 'Bowker', 'flank', 'Magnificent', 'compression']\n",
    "The 10 closest words are ['dog', 'cleaning', 'pour', 'rowlock', 'agrees', 'Kookaburra', \"'il\", 'sensuous', 'Fordham', 'humor']. We can argue why some words (e.g., cleaning, rowlock) may be closest to dog, but it is not necessarily obvious. We may come to the same conclusion by looking at the UMAP graph. Words that are \"close\" to each other are not necessarily \"close\" on the map. In addition, words are more spread out in the graph."
   ]
  },
  {
   "cell_type": "markdown",
   "metadata": {
    "colab_type": "text",
    "id": "_WEyaE1uj-In"
   },
   "source": [
    "For the projection layer, the furthest and closest words are not interpretable (i.e., it is not obvious why those words are furthest or closest to our word of interest). For dog:\n",
    "The 10 furthest words are ['York', 'as', '<eos>', 'England', 'Atlantic', 'it', 'by', 'Ireland', 'for', 'to']. The 10 closest words are ['dog', 'elves', 'vision', 'tea', 'pectoral', 'indulgence', 'Turtles', 'communications', 'henchmen', 'moral']. We can argue why some words (e.g., cleaning, rowlock) may be closest to dog, but it is not necessarily obvious. However, in the UMAP, close words are very close with each other. In other words, words are more separatable in the UMAP. It is possibly because after going through the training LSTM layers, the embedding words are customized and trained accordingly to our specific data, allowing the model to group \"close\" words together."
   ]
  },
  {
   "cell_type": "markdown",
   "metadata": {},
   "source": [
    "### II.3 Scoring"
   ]
  },
  {
   "cell_type": "code",
   "execution_count": 19,
   "metadata": {
    "colab": {
     "base_uri": "https://localhost:8080/",
     "height": 102
    },
    "colab_type": "code",
    "id": "nYwypwAgx3H-",
    "outputId": "fc285c2d-59e9-4098-da03-1b25c90466fe"
   },
   "outputs": [
    {
     "data": {
      "text/plain": [
       "LSTMLanguageModel(\n",
       "  (lookup): Embedding(33181, 512, padding_idx=2)\n",
       "  (lstm): LSTM(512, 128, num_layers=2, batch_first=True, dropout=0.1)\n",
       "  (projection): Linear(in_features=128, out_features=33181, bias=True)\n",
       ")"
      ]
     },
     "execution_count": 19,
     "metadata": {},
     "output_type": "execute_result"
    }
   ],
   "source": [
    "## load the best LSTM model\n",
    "# May need to modify the path\n",
    "best_lstm = LSTMLanguageModel(options).to(current_device)\n",
    "best_lstm.load_state_dict(torch.load('lstm_best.pth', map_location = 'cpu'))\n",
    "best_lstm.eval()"
   ]
  },
  {
   "cell_type": "markdown",
   "metadata": {},
   "source": [
    "#### 1. Implement a function which returns the log probability (‘score’) of a sequence according to your model."
   ]
  },
  {
   "cell_type": "code",
   "execution_count": 20,
   "metadata": {},
   "outputs": [],
   "source": [
    "## seq_out[0] is a 4 * 33181 matrix for sequence '<bos> hello world <eos>'\n",
    "## dim = 1 since we are looking at the value along the column \n",
    "## index is 4*1, and output from torch.gather() should be 4*1 as well\n",
    "\n",
    "def get_log_prob_score(model, sequence):\n",
    "    model.eval()\n",
    "    seq_out = torch.log_softmax(model(torch.tensor([sequence], dtype=torch.long)), dim = 2) \n",
    "    return torch.gather(input=seq_out[0, :-1], dim=1, index=torch.tensor([sequence[1:]], dtype=torch.long).reshape(-1, 1)).sum().item()"
   ]
  },
  {
   "cell_type": "code",
   "execution_count": 21,
   "metadata": {},
   "outputs": [
    {
     "data": {
      "text/plain": [
       "-21.596439361572266"
      ]
     },
     "execution_count": 21,
     "metadata": {},
     "output_type": "execute_result"
    }
   ],
   "source": [
    "# test\n",
    "get_log_prob_score(best_lstm, wiki_dict.encode_token_seq('<bos> hello world <eos>'.split(' ')))"
   ]
  },
  {
   "cell_type": "markdown",
   "metadata": {},
   "source": [
    "#### 2. Report the 10 sequences from the validation set with the highest scores, and 10 sequences with the lowest scores, according to the best LSTM model that you trained above."
   ]
  },
  {
   "cell_type": "code",
   "execution_count": 22,
   "metadata": {},
   "outputs": [],
   "source": [
    "log_prob_scores = []\n",
    "for sequence in wiki_tokenized_datasets['valid']:\n",
    "    log_prob_scores.append(get_log_prob_score(best_lstm, sequence))"
   ]
  },
  {
   "cell_type": "code",
   "execution_count": 23,
   "metadata": {},
   "outputs": [],
   "source": [
    "top10scores, top10idx = torch.topk(torch.tensor(log_prob_scores), 10)"
   ]
  },
  {
   "cell_type": "code",
   "execution_count": 24,
   "metadata": {},
   "outputs": [
    {
     "data": {
      "text/plain": [
       "tensor([-16.1443, -16.1735, -19.5049, -25.5852, -25.6978, -26.3902, -28.2054,\n",
       "        -28.4660, -28.7362, -28.9431])"
      ]
     },
     "execution_count": 24,
     "metadata": {},
     "output_type": "execute_result"
    }
   ],
   "source": [
    "top10scores"
   ]
  },
  {
   "cell_type": "code",
   "execution_count": 25,
   "metadata": {},
   "outputs": [
    {
     "name": "stdout",
     "output_type": "stream",
     "text": [
      "<bos> = = Post @-@ war period = = <eos>\n",
      "<bos> = = Early life and education = = <eos>\n",
      "<bos> = = Post @-@ war career = = <eos>\n",
      "<bos> = = = Scientology sources = = = <eos>\n",
      "<bos> It originally aired on NBC on April 14 , 2011 . <eos>\n",
      "<bos> unk> in the second half of the 7th century . <eos>\n",
      "<bos> = = Return to New Zealand = = <eos>\n",
      "<bos> = = Later life and death = = <eos>\n",
      "<bos> It premiered on the Fox network on October 30 , 1998 . <eos>\n",
      "<bos> = = Culture and the arts = = <eos>\n"
     ]
    }
   ],
   "source": [
    "for idx in top10idx:\n",
    "    decode = wiki_dict.decode_idx_seq(wiki_tokenized_datasets['valid'][idx])\n",
    "    print(' '.join(decode))"
   ]
  },
  {
   "cell_type": "code",
   "execution_count": 26,
   "metadata": {},
   "outputs": [],
   "source": [
    "bottom10scores, bottom10idx = torch.topk(torch.tensor(log_prob_scores), 10, largest = False)"
   ]
  },
  {
   "cell_type": "code",
   "execution_count": 27,
   "metadata": {},
   "outputs": [
    {
     "name": "stdout",
     "output_type": "stream",
     "text": [
      "<bos> To further justify its stance , the German government has also pointed to the long history of U.S. court cases involving Scientology , including the conviction of 11 top Scientologists in 1979 and 1980 for a conspiracy involving the infiltration of U.S. government agencies , <unk> and the theft of government documents , a 1994 U.S. Supreme Court finding that Scientology practices took place in a \" <unk> environment \" , and Scientology 's track record of pursuing its critics through malicious court cases and private investigators . <eos>\n",
      "<bos> The letter was conceived and paid for by Hollywood lawyer <unk> Fields , whose clients have included Tom Cruise and John <unk> , and was signed by 34 prominent figures in the U.S. entertainment industry , including the top executives of MGM , Warner Bros. , Paramount , Universal and Sony Pictures Entertainment as well as actors Dustin Hoffman and Goldie <unk> , director Oliver Stone , writers Mario <unk> and <unk> Vidal and talk @-@ show host Larry King . <eos>\n",
      "<bos> Two rival communist @-@ backed black nationalist groups initiated military campaigns to overthrow the government and introduce majority rule : the Chinese @-@ aligned Zimbabwe African National Union ( <unk> ) , mostly comprising <unk> , created the Zimbabwe African National Liberation Army ( ZANLA ) and adopted aspects of <unk> doctrine , while the <unk> @-@ dominated Zimbabwe African People 's Union ( <unk> ) , aligned with Soviet @-@ style <unk> – <unk> and the Warsaw Pact , mobilised the Zimbabwe People 's Revolutionary Army ( <unk> ) . <eos>\n",
      "<bos> The Meridian Post Office with its interior done entirely of bronze and Verde marble is also noteworthy as a very fine example of the type of Post Office structures built in thriving and well to do cities in the 1920s and originally had <unk> lighting which was removed sadly during a 1960s <unk> and which are now in private residences on <unk> Springs Drive and in North Hills . <eos>\n",
      "<bos> Besides the <unk> anime and manga , <unk> is featured in seven of the featured films in the series : in the second film , he aids <unk> <unk> and <unk> <unk> in fighting against <unk> , a <unk> idealist seeking to rule the world with a power called <unk> ; in the fourth , <unk> appears in a brief sequence , fighting against a large group of stone soldiers ; in the fifth , <unk> is sent alongside <unk> and <unk> in search of the base of the Land of Sky , who plans to invade <unk> <eos>\n",
      "<bos> Erin Fox of TV Guide also liked \" The Same Old Story \" better than the pilot because she thought that it \" had really cool special effects , awesome Walter @-@ <unk> , and actual chemistry forming between Olivia and Peter \" , and \" we also got to <unk> more into the connections between Walter , Nina Sharp , Massive Dynamic and the government and the experiments they conducted before Walter was <unk> \" . <eos>\n",
      "<bos> It asserted that several rejection letters which the woman had submitted as part of her <unk> application – ostensibly from potential employers who were rejecting her because she was a Scientologist – had in fact been written by fellow Scientologists at her request and that of Scientology 's Office of Special Affairs , and that she was in personal financial trouble and about to go on trial for tax <unk> at the time she applied for <unk> . <eos>\n",
      "<bos> On December 7 , 2007 , German federal and state interior ministers expressed the opinion that the Scientology organization was continuing to pursue anti @-@ constitutional goals , <unk> \" essential basic and human rights like the dignity of man or the right to equal treatment \" , and asked Germany 's domestic intelligence agencies to collect and evaluate the information required for a possible judicial inquiry aimed at banning the organization . <eos>\n",
      "<bos> Adrien Begrand of PopMatters remarked that \" There 's no better song to kick things off than the <unk> ' Angel of Death ' , one of the most monumental songs in metal history , where guitarists Kerry King and Jeff Hanneman deliver their intricate riffs , drummer Dave Lombardo performs some of the most powerful drumming ever recorded , and bassist / vocalist Tom Araya screams and <unk> <eos>\n",
      "<bos> unk> , 1775 and Homarus vulgaris H. Milne @-@ Edwards , 1837 , and also because Friedrich Weber 's description of the genus had been overlooked until rediscovered by Mary <unk> , rendering any prior assignments of type species ( for Homarus H. Milne @-@ Edwards , 1837 ) invalid for Homarus Weber , 1795 . <eos>\n"
     ]
    }
   ],
   "source": [
    "for idx in bottom10idx:\n",
    "    decode = wiki_dict.decode_idx_seq(wiki_tokenized_datasets['valid'][idx])\n",
    "    print(' '.join(decode))"
   ]
  },
  {
   "cell_type": "markdown",
   "metadata": {},
   "source": [
    "#### 3. Modify one of the high-scoring sequences from above by substituting a few (e.g. 1-3) of its tokens with other tokens from the vocabulary. Find a modiﬁed sequence with a lower score and a modiﬁed sequence with a higher score, and explain why you think the score changed in both cases."
   ]
  },
  {
   "cell_type": "markdown",
   "metadata": {},
   "source": [
    "**Original high-scoring sentence: `<bos> It premiered on the Fox network on October 30 , 1998 . <eos>`**"
   ]
  },
  {
   "cell_type": "code",
   "execution_count": 28,
   "metadata": {},
   "outputs": [
    {
     "data": {
      "text/plain": [
       "-28.73622703552246"
      ]
     },
     "execution_count": 28,
     "metadata": {},
     "output_type": "execute_result"
    }
   ],
   "source": [
    "get_log_prob_score(best_lstm, wiki_dict.encode_token_seq('<bos> It premiered on the Fox network on October 30 , 1998 . <eos>'.split(' ')))"
   ]
  },
  {
   "cell_type": "markdown",
   "metadata": {},
   "source": [
    "**Substitute `premiered` with `remarked`. It is a modified sequence with a lower score.**"
   ]
  },
  {
   "cell_type": "code",
   "execution_count": 29,
   "metadata": {},
   "outputs": [
    {
     "data": {
      "text/plain": [
       "1974"
      ]
     },
     "execution_count": 29,
     "metadata": {},
     "output_type": "execute_result"
    }
   ],
   "source": [
    "wiki_dict.get_id('remarked') #'remarked' is in the vocab"
   ]
  },
  {
   "cell_type": "code",
   "execution_count": 30,
   "metadata": {},
   "outputs": [
    {
     "data": {
      "text/plain": [
       "-43.751007080078125"
      ]
     },
     "execution_count": 30,
     "metadata": {},
     "output_type": "execute_result"
    }
   ],
   "source": [
    "get_log_prob_score(best_lstm, wiki_dict.encode_token_seq('<bos> It remarked on the Fox network on October 30 , 1998 . <eos>'.split(' ')))"
   ]
  },
  {
   "cell_type": "markdown",
   "metadata": {},
   "source": [
    "**Substitute `the Fox network` with `NBC`. It is a modified sequence with a higher score.**"
   ]
  },
  {
   "cell_type": "code",
   "execution_count": 31,
   "metadata": {},
   "outputs": [
    {
     "data": {
      "text/plain": [
       "8237"
      ]
     },
     "execution_count": 31,
     "metadata": {},
     "output_type": "execute_result"
    }
   ],
   "source": [
    "wiki_dict.get_id('NBC') #'NBC' is in the vocab"
   ]
  },
  {
   "cell_type": "code",
   "execution_count": 32,
   "metadata": {},
   "outputs": [
    {
     "data": {
      "text/plain": [
       "-27.69529151916504"
      ]
     },
     "execution_count": 32,
     "metadata": {},
     "output_type": "execute_result"
    }
   ],
   "source": [
    "get_log_prob_score(best_lstm, wiki_dict.encode_token_seq('<bos> It premiered on NBC on October 30 , 1998 . <eos>'.split(' ')))"
   ]
  },
  {
   "cell_type": "markdown",
   "metadata": {},
   "source": [
    "**Explanation**: Substituting \"premiered\" with \"remarked\" will clearly result in a sequence with a lower score. The following tokens \"the Fox network\" are more likely to appear after \"premiered\" rather than \"remarked\" since \"premiered\" are in the same context as \"the Fox network\". Interestingly, substituting \"the Fox network\" with \"NBC\" results in a sequence with a slightly higher score. Both \"the Fox network\" and \"NBC\" are names of media companies, so the scores for both sequences are very close. In this case, the sequence with \"NBC\" has a higher score probably because \"NBC\" only has one token and the modified sequence is shorter."
   ]
  },
  {
   "cell_type": "markdown",
   "metadata": {},
   "source": [
    "### II.4 Sampling"
   ]
  },
  {
   "cell_type": "markdown",
   "metadata": {},
   "source": [
    "#### 1. Implement sampling"
   ]
  },
  {
   "cell_type": "code",
   "execution_count": 33,
   "metadata": {},
   "outputs": [],
   "source": [
    "#wiki_dict.encode_token_seq('<bos>'.split(' '))"
   ]
  },
  {
   "cell_type": "code",
   "execution_count": 34,
   "metadata": {},
   "outputs": [],
   "source": [
    "def sample_from_lstm(model):\n",
    "    model.eval()\n",
    "    next_hidden = (torch.zeros((2, 1, options['hidden_size'])), torch.zeros((2, 1, options['hidden_size'])))\n",
    "    sample_sentence = ['<bos>']\n",
    "    while sample_sentence[-1] != '<eos>':\n",
    "        embedded_sentence = model.lookup(torch.tensor([wiki_dict.encode_token_seq(sample_sentence)])) #(batch, seq, feature)\n",
    "        output_probs, next_hidden = model.lstm(embedded_sentence, next_hidden)\n",
    "        next_idx = torch.multinomial(torch.softmax(model.projection(output_probs)[:, -1, :], dim = 1), 1)\n",
    "        sample_sentence.append(wiki_dict.get_token(next_idx))\n",
    "    return sample_sentence"
   ]
  },
  {
   "cell_type": "code",
   "execution_count": 35,
   "metadata": {},
   "outputs": [
    {
     "name": "stdout",
     "output_type": "stream",
     "text": [
      "<bos> Backed to support her preference and \" interesting success \" . <eos>\n"
     ]
    }
   ],
   "source": [
    "print(' '.join(sample_from_lstm(best_lstm)))"
   ]
  },
  {
   "cell_type": "markdown",
   "metadata": {},
   "source": [
    "#### 2. Sample 1,000 sequences from the best LSTM model you trained above."
   ]
  },
  {
   "cell_type": "code",
   "execution_count": 36,
   "metadata": {},
   "outputs": [],
   "source": [
    "sample_sequences = []\n",
    "for sample_num in range(1000):\n",
    "    sample_sequences.append(sample_from_lstm(best_lstm))"
   ]
  },
  {
   "cell_type": "code",
   "execution_count": 37,
   "metadata": {},
   "outputs": [
    {
     "data": {
      "text/plain": [
       "1000"
      ]
     },
     "execution_count": 37,
     "metadata": {},
     "output_type": "execute_result"
    }
   ],
   "source": [
    "len(sample_sequences)"
   ]
  },
  {
   "cell_type": "markdown",
   "metadata": {},
   "source": [
    "#### 3. Compare the sampled sequences against 1000 sequences from the validation set in terms of number of unique tokens and sequence length."
   ]
  },
  {
   "cell_type": "code",
   "execution_count": 40,
   "metadata": {},
   "outputs": [
    {
     "data": {
      "text/plain": [
       "8464"
      ]
     },
     "execution_count": 40,
     "metadata": {},
     "output_type": "execute_result"
    }
   ],
   "source": [
    "len(wiki_tokenized_datasets['valid'])"
   ]
  },
  {
   "cell_type": "markdown",
   "metadata": {},
   "source": [
    "The validation set has 8,464 sequences. We randomly select 1,000 sequences from the validation set and compare them with the 1,000 sequences sampled from the best LSTM model."
   ]
  },
  {
   "cell_type": "code",
   "execution_count": 41,
   "metadata": {},
   "outputs": [
    {
     "data": {
      "text/plain": [
       "1000"
      ]
     },
     "execution_count": 41,
     "metadata": {},
     "output_type": "execute_result"
    }
   ],
   "source": [
    "import random\n",
    "val_sequences = random.sample(wiki_tokenized_datasets['valid'], 1000)\n",
    "len(val_sequences)"
   ]
  },
  {
   "cell_type": "code",
   "execution_count": 42,
   "metadata": {},
   "outputs": [
    {
     "name": "stdout",
     "output_type": "stream",
     "text": [
      "Number of unique tokens in 1,000 sequences from the validation set: 5045\n",
      "Number of unique tokens in 1,000 sequences sampled from the best LSTM model: 4665\n"
     ]
    }
   ],
   "source": [
    "## number of unique tokens\n",
    "\n",
    "val_unique_tokens = set(token for seq in val_sequences for token in seq)\n",
    "print('Number of unique tokens in 1,000 sequences from the validation set:', len(val_unique_tokens))\n",
    "\n",
    "sample_unique_tokens = set(token for seq in sample_sequences for token in seq)\n",
    "print('Number of unique tokens in 1,000 sequences sampled from the best LSTM model:', len(sample_unique_tokens))"
   ]
  },
  {
   "cell_type": "code",
   "execution_count": 43,
   "metadata": {},
   "outputs": [
    {
     "name": "stdout",
     "output_type": "stream",
     "text": [
      "The average sequence length for 1,000 sequences from the validation set: 25.23\n",
      "The average sequence length for 1,000 sequences sampled from the best LSTM model: 17.217\n"
     ]
    }
   ],
   "source": [
    "## sequence length\n",
    "\n",
    "val_lengths = [len(val_seq) for val_seq in val_sequences]\n",
    "print('The average sequence length for 1,000 sequences from the validation set:', np.mean(val_lengths))\n",
    "\n",
    "sample_lengths = [len(sample_seq) for sample_seq in sample_sequences]\n",
    "print('The average sequence length for 1,000 sequences sampled from the best LSTM model:', np.mean(sample_lengths))"
   ]
  },
  {
   "cell_type": "markdown",
   "metadata": {},
   "source": [
    "The number of unique tokens in 1,000 sequences from the validation set is larger than the number of unique tokens in 1,000 sequences sampled from the best LSTM model, but the numbers are roughly on the same level. \n",
    "\n",
    "On average, a sequence sampled from the validation set is about 8 tokens longer than a sequence sampled from the best LSTM model."
   ]
  },
  {
   "cell_type": "markdown",
   "metadata": {},
   "source": [
    "#### 4. Choose 3 sampled sequences and discuss their properties, for instance: Can you tell that these 3 sequences are model-generated rather than human-generated? Do these samples stay on topic? Are they grammatically correct?"
   ]
  },
  {
   "cell_type": "code",
   "execution_count": 44,
   "metadata": {},
   "outputs": [
    {
     "data": {
      "text/plain": [
       "['<bos> The Real <unk> makes a starting appearance on a title . <eos>',\n",
       " '<bos> Florida State had endured it now starting obsolete by <unk> Energy Priorities @-@ free lineman as John Engler . <eos>',\n",
       " '<bos> the latter involved at <unk> County , after receiving him with a regular shirt , including Hall . <eos>']"
      ]
     },
     "execution_count": 44,
     "metadata": {},
     "output_type": "execute_result"
    }
   ],
   "source": [
    "[' '.join(seq) for seq in sample_sequences[612:615]]"
   ]
  },
  {
   "cell_type": "markdown",
   "metadata": {},
   "source": [
    "We can tell that these 3 sequences are model-generated since they do not have consistent semantic meanings. They do not stick to the same topic. Some parts of a sampled sequence are grammatically correct, such as \"after receiving\", but the entire sequence is not grammatically correct."
   ]
  }
 ],
 "metadata": {
  "kernelspec": {
   "display_name": "Python 3",
   "language": "python",
   "name": "python3"
  },
  "language_info": {
   "codemirror_mode": {
    "name": "ipython",
    "version": 3
   },
   "file_extension": ".py",
   "mimetype": "text/x-python",
   "name": "python",
   "nbconvert_exporter": "python",
   "pygments_lexer": "ipython3",
   "version": "3.7.1"
  }
 },
 "nbformat": 4,
 "nbformat_minor": 4
}
