{
 "cells": [
  {
   "cell_type": "markdown",
   "metadata": {},
   "source": [
    "## DS_GA 1001 Final Project(Hengyu Code)\n",
    "-----\n",
    "#### Focus on \n",
    "1. Data cleaning\n",
    "2. mainly visualization of feature distribution\n",
    "3. Feature selection: greedy search, recursive feature elimination, model feature ranking\n",
    "4. Binary classification: Gradient Boosting, AdaBoost, XGBoost, Decision Trees, Random Forest\n",
    "5. Multi-class classification"
   ]
  },
  {
   "cell_type": "code",
   "execution_count": 174,
   "metadata": {
    "collapsed": true
   },
   "outputs": [],
   "source": [
    "import xgboost\n",
    "import metrics \n",
    "import pandas as pd\n",
    "import numpy as np\n",
    "import os\n",
    "import time\n",
    "import seaborn as sns\n",
    "import pickle as pkl\n",
    "import matplotlib.pyplot as plt\n",
    "%matplotlib inline\n",
    "import warnings\n",
    "warnings.simplefilter('ignore')"
   ]
  },
  {
   "cell_type": "code",
   "execution_count": 596,
   "metadata": {
    "scrolled": true
   },
   "outputs": [
    {
     "data": {
      "text/html": [
       "<div>\n",
       "<style scoped>\n",
       "    .dataframe tbody tr th:only-of-type {\n",
       "        vertical-align: middle;\n",
       "    }\n",
       "\n",
       "    .dataframe tbody tr th {\n",
       "        vertical-align: top;\n",
       "    }\n",
       "\n",
       "    .dataframe thead th {\n",
       "        text-align: right;\n",
       "    }\n",
       "</style>\n",
       "<table border=\"1\" class=\"dataframe\">\n",
       "  <thead>\n",
       "    <tr style=\"text-align: right;\">\n",
       "      <th></th>\n",
       "      <th>url</th>\n",
       "      <th>timedelta</th>\n",
       "      <th>n_tokens_title</th>\n",
       "      <th>n_tokens_content</th>\n",
       "      <th>n_unique_tokens</th>\n",
       "      <th>n_non_stop_words</th>\n",
       "      <th>n_non_stop_unique_tokens</th>\n",
       "      <th>num_hrefs</th>\n",
       "      <th>num_self_hrefs</th>\n",
       "      <th>num_imgs</th>\n",
       "      <th>...</th>\n",
       "      <th>min_positive_polarity</th>\n",
       "      <th>max_positive_polarity</th>\n",
       "      <th>avg_negative_polarity</th>\n",
       "      <th>min_negative_polarity</th>\n",
       "      <th>max_negative_polarity</th>\n",
       "      <th>title_subjectivity</th>\n",
       "      <th>title_sentiment_polarity</th>\n",
       "      <th>abs_title_subjectivity</th>\n",
       "      <th>abs_title_sentiment_polarity</th>\n",
       "      <th>shares</th>\n",
       "    </tr>\n",
       "  </thead>\n",
       "  <tbody>\n",
       "    <tr>\n",
       "      <th>0</th>\n",
       "      <td>http://mashable.com/2013/01/07/amazon-instant-...</td>\n",
       "      <td>731.0</td>\n",
       "      <td>12.0</td>\n",
       "      <td>219.0</td>\n",
       "      <td>0.663594</td>\n",
       "      <td>1.0</td>\n",
       "      <td>0.815385</td>\n",
       "      <td>4.0</td>\n",
       "      <td>2.0</td>\n",
       "      <td>1.0</td>\n",
       "      <td>...</td>\n",
       "      <td>0.100000</td>\n",
       "      <td>0.7</td>\n",
       "      <td>-0.350000</td>\n",
       "      <td>-0.600</td>\n",
       "      <td>-0.200000</td>\n",
       "      <td>0.500000</td>\n",
       "      <td>-0.187500</td>\n",
       "      <td>0.000000</td>\n",
       "      <td>0.187500</td>\n",
       "      <td>593</td>\n",
       "    </tr>\n",
       "    <tr>\n",
       "      <th>1</th>\n",
       "      <td>http://mashable.com/2013/01/07/ap-samsung-spon...</td>\n",
       "      <td>731.0</td>\n",
       "      <td>9.0</td>\n",
       "      <td>255.0</td>\n",
       "      <td>0.604743</td>\n",
       "      <td>1.0</td>\n",
       "      <td>0.791946</td>\n",
       "      <td>3.0</td>\n",
       "      <td>1.0</td>\n",
       "      <td>1.0</td>\n",
       "      <td>...</td>\n",
       "      <td>0.033333</td>\n",
       "      <td>0.7</td>\n",
       "      <td>-0.118750</td>\n",
       "      <td>-0.125</td>\n",
       "      <td>-0.100000</td>\n",
       "      <td>0.000000</td>\n",
       "      <td>0.000000</td>\n",
       "      <td>0.500000</td>\n",
       "      <td>0.000000</td>\n",
       "      <td>711</td>\n",
       "    </tr>\n",
       "    <tr>\n",
       "      <th>2</th>\n",
       "      <td>http://mashable.com/2013/01/07/apple-40-billio...</td>\n",
       "      <td>731.0</td>\n",
       "      <td>9.0</td>\n",
       "      <td>211.0</td>\n",
       "      <td>0.575130</td>\n",
       "      <td>1.0</td>\n",
       "      <td>0.663866</td>\n",
       "      <td>3.0</td>\n",
       "      <td>1.0</td>\n",
       "      <td>1.0</td>\n",
       "      <td>...</td>\n",
       "      <td>0.100000</td>\n",
       "      <td>1.0</td>\n",
       "      <td>-0.466667</td>\n",
       "      <td>-0.800</td>\n",
       "      <td>-0.133333</td>\n",
       "      <td>0.000000</td>\n",
       "      <td>0.000000</td>\n",
       "      <td>0.500000</td>\n",
       "      <td>0.000000</td>\n",
       "      <td>1500</td>\n",
       "    </tr>\n",
       "    <tr>\n",
       "      <th>3</th>\n",
       "      <td>http://mashable.com/2013/01/07/astronaut-notre...</td>\n",
       "      <td>731.0</td>\n",
       "      <td>9.0</td>\n",
       "      <td>531.0</td>\n",
       "      <td>0.503788</td>\n",
       "      <td>1.0</td>\n",
       "      <td>0.665635</td>\n",
       "      <td>9.0</td>\n",
       "      <td>0.0</td>\n",
       "      <td>1.0</td>\n",
       "      <td>...</td>\n",
       "      <td>0.136364</td>\n",
       "      <td>0.8</td>\n",
       "      <td>-0.369697</td>\n",
       "      <td>-0.600</td>\n",
       "      <td>-0.166667</td>\n",
       "      <td>0.000000</td>\n",
       "      <td>0.000000</td>\n",
       "      <td>0.500000</td>\n",
       "      <td>0.000000</td>\n",
       "      <td>1200</td>\n",
       "    </tr>\n",
       "    <tr>\n",
       "      <th>4</th>\n",
       "      <td>http://mashable.com/2013/01/07/att-u-verse-apps/</td>\n",
       "      <td>731.0</td>\n",
       "      <td>13.0</td>\n",
       "      <td>1072.0</td>\n",
       "      <td>0.415646</td>\n",
       "      <td>1.0</td>\n",
       "      <td>0.540890</td>\n",
       "      <td>19.0</td>\n",
       "      <td>19.0</td>\n",
       "      <td>20.0</td>\n",
       "      <td>...</td>\n",
       "      <td>0.033333</td>\n",
       "      <td>1.0</td>\n",
       "      <td>-0.220192</td>\n",
       "      <td>-0.500</td>\n",
       "      <td>-0.050000</td>\n",
       "      <td>0.454545</td>\n",
       "      <td>0.136364</td>\n",
       "      <td>0.045455</td>\n",
       "      <td>0.136364</td>\n",
       "      <td>505</td>\n",
       "    </tr>\n",
       "  </tbody>\n",
       "</table>\n",
       "<p>5 rows × 61 columns</p>\n",
       "</div>"
      ],
      "text/plain": [
       "                                                 url   timedelta  \\\n",
       "0  http://mashable.com/2013/01/07/amazon-instant-...       731.0   \n",
       "1  http://mashable.com/2013/01/07/ap-samsung-spon...       731.0   \n",
       "2  http://mashable.com/2013/01/07/apple-40-billio...       731.0   \n",
       "3  http://mashable.com/2013/01/07/astronaut-notre...       731.0   \n",
       "4   http://mashable.com/2013/01/07/att-u-verse-apps/       731.0   \n",
       "\n",
       "    n_tokens_title   n_tokens_content   n_unique_tokens   n_non_stop_words  \\\n",
       "0             12.0              219.0          0.663594                1.0   \n",
       "1              9.0              255.0          0.604743                1.0   \n",
       "2              9.0              211.0          0.575130                1.0   \n",
       "3              9.0              531.0          0.503788                1.0   \n",
       "4             13.0             1072.0          0.415646                1.0   \n",
       "\n",
       "    n_non_stop_unique_tokens   num_hrefs   num_self_hrefs   num_imgs   ...     \\\n",
       "0                   0.815385         4.0              2.0        1.0   ...      \n",
       "1                   0.791946         3.0              1.0        1.0   ...      \n",
       "2                   0.663866         3.0              1.0        1.0   ...      \n",
       "3                   0.665635         9.0              0.0        1.0   ...      \n",
       "4                   0.540890        19.0             19.0       20.0   ...      \n",
       "\n",
       "    min_positive_polarity   max_positive_polarity   avg_negative_polarity  \\\n",
       "0                0.100000                     0.7               -0.350000   \n",
       "1                0.033333                     0.7               -0.118750   \n",
       "2                0.100000                     1.0               -0.466667   \n",
       "3                0.136364                     0.8               -0.369697   \n",
       "4                0.033333                     1.0               -0.220192   \n",
       "\n",
       "    min_negative_polarity   max_negative_polarity   title_subjectivity  \\\n",
       "0                  -0.600               -0.200000             0.500000   \n",
       "1                  -0.125               -0.100000             0.000000   \n",
       "2                  -0.800               -0.133333             0.000000   \n",
       "3                  -0.600               -0.166667             0.000000   \n",
       "4                  -0.500               -0.050000             0.454545   \n",
       "\n",
       "    title_sentiment_polarity   abs_title_subjectivity  \\\n",
       "0                  -0.187500                 0.000000   \n",
       "1                   0.000000                 0.500000   \n",
       "2                   0.000000                 0.500000   \n",
       "3                   0.000000                 0.500000   \n",
       "4                   0.136364                 0.045455   \n",
       "\n",
       "    abs_title_sentiment_polarity   shares  \n",
       "0                       0.187500      593  \n",
       "1                       0.000000      711  \n",
       "2                       0.000000     1500  \n",
       "3                       0.000000     1200  \n",
       "4                       0.136364      505  \n",
       "\n",
       "[5 rows x 61 columns]"
      ]
     },
     "execution_count": 596,
     "metadata": {},
     "output_type": "execute_result"
    }
   ],
   "source": [
    "datadir = os.getcwd()\n",
    "orig_data = pd.read_csv('./OnlineNewsPopularity/OnlineNewsPopularity.csv', header = 0)\n",
    "orig_data.head()#Can use some information about the url to get the data\n"
   ]
  },
  {
   "cell_type": "code",
   "execution_count": 181,
   "metadata": {},
   "outputs": [
    {
     "data": {
      "text/plain": [
       "(39644, 61)"
      ]
     },
     "execution_count": 181,
     "metadata": {},
     "output_type": "execute_result"
    }
   ],
   "source": [
    "orig_data.shape"
   ]
  },
  {
   "cell_type": "code",
   "execution_count": 597,
   "metadata": {
    "collapsed": true
   },
   "outputs": [],
   "source": [
    "url_data = orig_data['url']\n",
    "year_data = [url_data[i].split('/')[3] for i in range(len(url_data))]\n",
    "month_data = [url_data[i].split('/')[4] for i in range(len(url_data))]\n",
    "date_data = [url_data[i].split('/')[4] + \" \" +url_data[i].split('/')[5] for i in range(len(url_data))]\n",
    "published_date = [time.strptime(year_data[i] + \" \"+ date_data[i], '%Y %m %d') for i in range(len(url_data))]\n",
    "orig_data[' year'] = year_data\n",
    "orig_data[' month'] = month_data\n",
    "orig_data[' date'] = published_date\n",
    "orig_data.drop('url',1, inplace = True)"
   ]
  },
  {
   "cell_type": "code",
   "execution_count": 598,
   "metadata": {},
   "outputs": [
    {
     "data": {
      "text/plain": [
       "39644"
      ]
     },
     "execution_count": 598,
     "metadata": {},
     "output_type": "execute_result"
    }
   ],
   "source": [
    "len(orig_data)"
   ]
  },
  {
   "cell_type": "code",
   "execution_count": 601,
   "metadata": {},
   "outputs": [
    {
     "data": {
      "text/plain": [
       "count    39644.000000\n",
       "mean       546.514731\n",
       "std        471.107508\n",
       "min          0.000000\n",
       "25%        246.000000\n",
       "50%        409.000000\n",
       "75%        716.000000\n",
       "max       8474.000000\n",
       "Name:  n_tokens_content, dtype: float64"
      ]
     },
     "execution_count": 601,
     "metadata": {},
     "output_type": "execute_result"
    }
   ],
   "source": [
    "orig_data[' n_tokens_content'].describe()"
   ]
  },
  {
   "cell_type": "code",
   "execution_count": 607,
   "metadata": {},
   "outputs": [
    {
     "data": {
      "text/plain": [
       "30"
      ]
     },
     "execution_count": 607,
     "metadata": {},
     "output_type": "execute_result"
    }
   ],
   "source": [
    "len(orig_data[orig_data[' num_videos'] > 50])"
   ]
  },
  {
   "cell_type": "code",
   "execution_count": 5,
   "metadata": {
    "collapsed": true
   },
   "outputs": [],
   "source": [
    "cleaned_data = orig_data[orig_data[' n_tokens_content'] != 0]\n",
    "cleaned_data = cleaned_data[cleaned_data[' n_unique_tokens'] <= 1]\n",
    "cleaned_data = cleaned_data[cleaned_data[' num_hrefs'] <= 100]\n",
    "cleaned_data = cleaned_data[cleaned_data[' num_videos'] <= 50]\n"
   ]
  },
  {
   "cell_type": "markdown",
   "metadata": {},
   "source": [
    "### Time visualization\n",
    "I will plot the graph respectively on year, month, date and weekdays.\n"
   ]
  },
  {
   "cell_type": "code",
   "execution_count": 7,
   "metadata": {},
   "outputs": [
    {
     "data": {
      "text/plain": [
       "[<matplotlib.lines.Line2D at 0x1a1d76d630>]"
      ]
     },
     "execution_count": 7,
     "metadata": {},
     "output_type": "execute_result"
    },
    {
     "data": {
      "image/png": "[encoded data removed]",
      "text/plain": [
       "<Figure size 2592x576 with 1 Axes>"
      ]
     },
     "metadata": {},
     "output_type": "display_data"
    }
   ],
   "source": [
    "#year_data visualization\n",
    "year_data = cleaned_data[[' year', ' shares']]\n",
    "\n",
    "fig,ax = plt.subplots(figsize = (36,8))\n",
    "hist_kws = hist_kws={'histtype':'bar', 'edgecolor':'black', 'alpha':0.2}\n",
    "plt.plot(year_data[' year'], year_data[' shares'], '.')\n",
    "#It is apparent that there is a tendency for higher clicks for reports on 2013. However it is reasonable as earlier\n",
    "#posts will have a higher click rates"
   ]
  },
  {
   "cell_type": "code",
   "execution_count": 8,
   "metadata": {},
   "outputs": [
    {
     "data": {
      "text/plain": [
       "<matplotlib.axes._subplots.AxesSubplot at 0x1a1d86fac8>"
      ]
     },
     "execution_count": 8,
     "metadata": {},
     "output_type": "execute_result"
    },
    {
     "data": {
      "image/png": "[encoded data removed]",
      "text/plain": [
       "<Figure size 2592x576 with 2 Axes>"
      ]
     },
     "metadata": {},
     "output_type": "display_data"
    }
   ],
   "source": [
    "#month_data visualization\n",
    "month_data = cleaned_data[[' month', ' shares']]\n",
    "month_median = month_data.groupby(' month').median()\n",
    "month_mean = month_data.groupby(' month').mean()\n",
    "fig,ax = plt.subplots(nrows = 2, ncols = 1, figsize = (36,8))\n",
    "hist_kws = hist_kws={'histtype':'bar', 'edgecolor':'black', 'alpha':0.2}\n",
    "sns.barplot(x= month_median.index, y = month_median[' shares'], ax=ax[0])\n",
    "sns.barplot(x = month_mean.index, y = month_mean[' shares'], ax = ax[1])\n",
    "#The bar plot showing both the mean and median for shares of different months all presents similar trneds, \n",
    "#where it is rather interesting that the shares to peak during March.\n"
   ]
  },
  {
   "cell_type": "markdown",
   "metadata": {},
   "source": [
    "### Further observe the popularity of different categories"
   ]
  },
  {
   "cell_type": "code",
   "execution_count": 572,
   "metadata": {},
   "outputs": [
    {
     "data": {
      "text/plain": [
       "Index([' timedelta', ' n_tokens_title', ' n_tokens_content',\n",
       "       ' n_unique_tokens', ' n_non_stop_words', ' n_non_stop_unique_tokens',\n",
       "       ' num_hrefs', ' num_self_hrefs', ' num_imgs', ' num_videos',\n",
       "       ' average_token_length', ' num_keywords', ' data_channel_is_lifestyle',\n",
       "       ' data_channel_is_entertainment', ' data_channel_is_bus',\n",
       "       ' data_channel_is_socmed', ' data_channel_is_tech',\n",
       "       ' data_channel_is_world', ' kw_min_min', ' kw_max_min', ' kw_avg_min',\n",
       "       ' kw_min_max', ' kw_max_max', ' kw_avg_max', ' kw_min_avg',\n",
       "       ' kw_max_avg', ' kw_avg_avg', ' self_reference_min_shares',\n",
       "       ' self_reference_max_shares', ' self_reference_avg_sharess',\n",
       "       ' weekday_is_monday', ' weekday_is_tuesday', ' weekday_is_wednesday',\n",
       "       ' weekday_is_thursday', ' weekday_is_friday', ' weekday_is_saturday',\n",
       "       ' weekday_is_sunday', ' is_weekend', ' LDA_00', ' LDA_01', ' LDA_02',\n",
       "       ' LDA_03', ' LDA_04', ' global_subjectivity',\n",
       "       ' global_sentiment_polarity', ' global_rate_positive_words',\n",
       "       ' global_rate_negative_words', ' rate_positive_words',\n",
       "       ' rate_negative_words', ' avg_positive_polarity',\n",
       "       ' min_positive_polarity', ' max_positive_polarity',\n",
       "       ' avg_negative_polarity', ' min_negative_polarity',\n",
       "       ' max_negative_polarity', ' title_subjectivity',\n",
       "       ' title_sentiment_polarity', ' abs_title_subjectivity',\n",
       "       ' abs_title_sentiment_polarity', ' shares', ' year', ' month', ' date',\n",
       "       ' month_is_jan', ' month_is_feb', ' month_is_mar', ' month_is_apr',\n",
       "       ' month_is_may', ' month_is_jun', ' month_is_jul', ' month_is_aug',\n",
       "       ' month_is_sep', ' month_is_oct', ' month_is_nov', ' month_is_dec'],\n",
       "      dtype='object')"
      ]
     },
     "execution_count": 572,
     "metadata": {},
     "output_type": "execute_result"
    }
   ],
   "source": [
    "cleaned_data.columns\n",
    "#Does exists articles whose n_tokens_content is 0"
   ]
  },
  {
   "cell_type": "code",
   "execution_count": 573,
   "metadata": {
    "collapsed": true,
    "scrolled": true
   },
   "outputs": [],
   "source": [
    "life_data = cleaned_data[cleaned_data[' data_channel_is_lifestyle'] == 1]\n",
    "ent_data = cleaned_data[cleaned_data[' data_channel_is_entertainment'] == 1]\n",
    "bus_data = cleaned_data[cleaned_data[' data_channel_is_bus'] == 1]\n",
    "socmed_data = cleaned_data[cleaned_data[' data_channel_is_socmed'] == 1]\n",
    "tech_data = cleaned_data[cleaned_data[' data_channel_is_tech'] == 1]\n",
    "world_data = cleaned_data[cleaned_data[' data_channel_is_world'] == 1]"
   ]
  },
  {
   "cell_type": "code",
   "execution_count": 10,
   "metadata": {
    "scrolled": true
   },
   "outputs": [
    {
     "data": {
      "text/plain": [
       "<matplotlib.axes._subplots.AxesSubplot at 0x1a23396f28>"
      ]
     },
     "execution_count": 10,
     "metadata": {},
     "output_type": "execute_result"
    },
    {
     "data": {
      "image/png": "[encoded data removed]",
      "text/plain": [
       "<Figure size 2592x576 with 2 Axes>"
      ]
     },
     "metadata": {},
     "output_type": "display_data"
    }
   ],
   "source": [
    "#month_data visualization for life_data\n",
    "month_data = life_data[[' month', ' shares']]\n",
    "month_median = month_data.groupby(' month').median()\n",
    "month_mean = month_data.groupby(' month').mean()\n",
    "fig,ax = plt.subplots(nrows = 2, ncols = 1, figsize = (36,8))\n",
    "hist_kws = hist_kws={'histtype':'bar', 'edgecolor':'black', 'alpha':0.2}\n",
    "sns.barplot(x= month_median.index, y = month_median[' shares'], ax=ax[0])\n",
    "sns.barplot(x = month_mean.index, y = month_mean[' shares'], ax = ax[1])\n",
    "#The bar plot showing both the mean and median for shares of different months all presents similar trneds, \n",
    "#where it is rather interesting that the shares to peak during March.\n"
   ]
  },
  {
   "cell_type": "code",
   "execution_count": 595,
   "metadata": {},
   "outputs": [
    {
     "data": {
      "image/png": "[encoded data removed]",
      "text/plain": [
       "<Figure size 1296x576 with 2 Axes>"
      ]
     },
     "metadata": {},
     "output_type": "display_data"
    }
   ],
   "source": [
    "#month_data visualization for ent_data\n",
    "month_data = ent_data[[' month', ' shares']]\n",
    "month_median = month_data.groupby(' month').median()\n",
    "month_mean = month_data.groupby(' month').mean()\n",
    "fig,ax = plt.subplots(nrows = 2, ncols = 1, figsize = (18,8))\n",
    "ax[0].set_xlabel('Month',fontsize = 12)\n",
    "ax[1].set_xlabel('Month',fontsize = 12)\n",
    "ax[1].set_ylabel('Mean Shares',fontsize = 12)\n",
    "ax[0].set_ylabel('Median Shares',fontsize = 12)\n",
    "ax[0].set_title('Entertainment Article Shares in Months',fontsize = 20)\n",
    "hist_kws = hist_kws={'histtype':'bar', 'edgecolor':'black', 'alpha':0.2}\n",
    "sns.barplot(x= month_median.index, y = month_median[' shares'], ax=ax[0])\n",
    "sns.barplot(x = month_mean.index, y = month_mean[' shares'], ax = ax[1])\n",
    "plt.savefig('ent_data.png')\n",
    "#The bar plot showing both the mean and median for shares of different months all presents similar trneds, \n",
    "#where it is rather interesting that the shares to peak during March.\n"
   ]
  },
  {
   "cell_type": "code",
   "execution_count": 593,
   "metadata": {},
   "outputs": [
    {
     "data": {
      "image/png": "[encoded data removed]",
      "text/plain": [
       "<Figure size 1296x576 with 2 Axes>"
      ]
     },
     "metadata": {},
     "output_type": "display_data"
    }
   ],
   "source": [
    "#month_data visualization for bus_data\n",
    "month_data = bus_data[[' month', ' shares']]\n",
    "month_median = month_data.groupby(' month').median()\n",
    "month_mean = month_data.groupby(' month').mean()\n",
    "fig,ax = plt.subplots(nrows = 2, ncols = 1, figsize = (18,8))\n",
    "ax[0].set_xlabel('Month',fontsize = 12)\n",
    "ax[1].set_xlabel('Month',fontsize = 12)\n",
    "ax[1].set_ylabel('Mean Shares',fontsize = 12)\n",
    "ax[0].set_ylabel('Median Shares',fontsize = 12)\n",
    "ax[0].set_title('Business Article Shares in Months',fontsize = 20)\n",
    "hist_kws = hist_kws={'histtype':'bar', 'edgecolor':'black', 'alpha':0.2}\n",
    "sns.barplot(x= month_median.index.values, y = month_median[' shares'].values, ax=ax[0])\n",
    "sns.barplot(x = month_mean.index.values, y = month_mean[' shares'].values, ax = ax[1])\n",
    "#The bar plot showing both the mean and median for shares of different months all presents similar trneds, \n",
    "#where it is rather interesting that the shares to peak during March.\n",
    "plt.savefig('bus_data.png')"
   ]
  },
  {
   "cell_type": "code",
   "execution_count": 579,
   "metadata": {
    "scrolled": true
   },
   "outputs": [
    {
     "data": {
      "text/plain": [
       "<matplotlib.axes._subplots.AxesSubplot at 0x1a2762b3c8>"
      ]
     },
     "execution_count": 579,
     "metadata": {},
     "output_type": "execute_result"
    },
    {
     "data": {
      "image/png": "[encoded data removed]",
      "text/plain": [
       "<Figure size 2592x576 with 2 Axes>"
      ]
     },
     "metadata": {},
     "output_type": "display_data"
    }
   ],
   "source": [
    "#month_data visualization for socmed_data\n",
    "month_data = socmed_data[[' month', ' shares']]\n",
    "month_median = month_data.groupby(' month').median()\n",
    "month_mean = month_data.groupby(' month').mean()\n",
    "fig,ax = plt.subplots(nrows = 2, ncols = 1, figsize = (36,8))\n",
    "plt.xlabel('Month')\n",
    "hist_kws = hist_kws={'histtype':'bar', 'edgecolor':'black', 'alpha':0.2}\n",
    "sns.barplot(x= month_median.index, y = month_median[' shares'], ax=ax[0])\n",
    "sns.barplot(x = month_mean.index, y = month_mean[' shares'], ax = ax[1])\n",
    "#The bar plot showing both the mean and median for shares of different months all presents similar trneds, \n",
    "#where it is rather interesting that the shares to peak during March.\n"
   ]
  },
  {
   "cell_type": "code",
   "execution_count": 14,
   "metadata": {},
   "outputs": [
    {
     "data": {
      "text/plain": [
       "<matplotlib.axes._subplots.AxesSubplot at 0x1a25b2da90>"
      ]
     },
     "execution_count": 14,
     "metadata": {},
     "output_type": "execute_result"
    },
    {
     "data": {
      "image/png": "[encoded data removed]",
      "text/plain": [
       "<Figure size 2592x576 with 2 Axes>"
      ]
     },
     "metadata": {},
     "output_type": "display_data"
    }
   ],
   "source": [
    "#month_data visualization for tech_data\n",
    "month_data = tech_data[[' month', ' shares']]\n",
    "month_median = month_data.groupby(' month').median()\n",
    "month_mean = month_data.groupby(' month').mean()\n",
    "fig,ax = plt.subplots(nrows = 2, ncols = 1, figsize = (36,8))\n",
    "hist_kws = hist_kws={'histtype':'bar', 'edgecolor':'black', 'alpha':0.2}\n",
    "sns.barplot(x= month_median.index, y = month_median[' shares'], ax=ax[0])\n",
    "sns.barplot(x = month_mean.index, y = month_mean[' shares'], ax = ax[1])\n",
    "#The bar plot showing both the mean and median for shares of different months all presents similar trneds, \n",
    "#where it is rather interesting that the shares to peak during March.\n"
   ]
  },
  {
   "cell_type": "code",
   "execution_count": 15,
   "metadata": {
    "scrolled": true
   },
   "outputs": [
    {
     "data": {
      "text/plain": [
       "<matplotlib.axes._subplots.AxesSubplot at 0x1a26040940>"
      ]
     },
     "execution_count": 15,
     "metadata": {},
     "output_type": "execute_result"
    },
    {
     "data": {
      "image/png": "[encoded data removed]",
      "text/plain": [
       "<Figure size 2592x576 with 2 Axes>"
      ]
     },
     "metadata": {},
     "output_type": "display_data"
    }
   ],
   "source": [
    "#month_data visualization for world_data\n",
    "month_data = world_data[[' month', ' shares']]\n",
    "month_median = month_data.groupby(' month').median()\n",
    "month_mean = month_data.groupby(' month').mean()\n",
    "fig,ax = plt.subplots(nrows = 2, ncols = 1, figsize = (36,8))\n",
    "hist_kws = hist_kws={'histtype':'bar', 'edgecolor':'black', 'alpha':0.2}\n",
    "sns.barplot(x= month_median.index, y = month_median[' shares'], ax=ax[0])\n",
    "sns.barplot(x = month_mean.index, y = month_mean[' shares'], ax = ax[1])\n",
    "#The bar plot showing both the mean and median for shares of different months all presents similar trneds, \n",
    "#where it is rather interesting that the shares to peak during March.\n"
   ]
  },
  {
   "cell_type": "code",
   "execution_count": 16,
   "metadata": {},
   "outputs": [
    {
     "data": {
      "text/plain": [
       "<matplotlib.axes._subplots.AxesSubplot at 0x1a2657f198>"
      ]
     },
     "execution_count": 16,
     "metadata": {},
     "output_type": "execute_result"
    },
    {
     "data": {
      "image/png": "[encoded data removed]",
      "text/plain": [
       "<Figure size 2592x1728 with 3 Axes>"
      ]
     },
     "metadata": {},
     "output_type": "display_data"
    }
   ],
   "source": [
    "weekday_list = ['monday', 'tuesday','wednesday','thursday','friday','saturday','sunday']\n",
    "mean_list = []\n",
    "median_list = []\n",
    "max_list = []\n",
    "for i, day in enumerate(weekday_list):\n",
    "    day_data = cleaned_data[cleaned_data[' weekday_is_' + str(day)] == 1]\n",
    "    mean_list.append(day_data[' shares'].mean())\n",
    "    median_list.append(day_data[' shares'].median())\n",
    "    max_list.append(max(day_data[' shares']))\n",
    "fig,ax = plt.subplots(nrows = 3, ncols = 1, figsize = (36,24))\n",
    "hist_kws = hist_kws={'histtype':'bar', 'edgecolor':'black', 'alpha':0.2}\n",
    "sns.barplot(x= weekday_list, y = mean_list, ax=ax[0])\n",
    "sns.barplot(x = weekday_list, y = median_list, ax = ax[1])\n",
    "sns.barplot(x = weekday_list, y = max_list, ax = ax[2])"
   ]
  },
  {
   "cell_type": "code",
   "execution_count": 17,
   "metadata": {},
   "outputs": [
    {
     "data": {
      "image/png": "[encoded data removed]",
      "text/plain": [
       "<Figure size 1152x1728 with 7 Axes>"
      ]
     },
     "metadata": {},
     "output_type": "display_data"
    }
   ],
   "source": [
    "weekday_list = ['monday', 'tuesday','wednesday','thursday','friday','saturday','sunday']\n",
    "fig,ax = plt.subplots(nrows = 7, ncols = 1, figsize = (16,24))\n",
    "hist_kws = hist_kws={'histtype':'bar', 'edgecolor':'black', 'alpha':0.2}\n",
    "\n",
    "for i, day in enumerate(weekday_list):\n",
    "    day_data = cleaned_data[cleaned_data[' weekday_is_' + str(day)] == 1]\n",
    "    sns.distplot(a=day_data[' shares'], bins = 100, ax=ax[i], hist_kws = hist_kws)\n"
   ]
  },
  {
   "cell_type": "markdown",
   "metadata": {},
   "source": [
    "### For different tokens visualization"
   ]
  },
  {
   "cell_type": "code",
   "execution_count": 19,
   "metadata": {
    "scrolled": true
   },
   "outputs": [
    {
     "data": {
      "text/plain": [
       "<matplotlib.axes._subplots.AxesSubplot at 0x1a2767bda0>"
      ]
     },
     "execution_count": 19,
     "metadata": {},
     "output_type": "execute_result"
    },
    {
     "data": {
      "image/png": "[encoded data removed]",
      "text/plain": [
       "<Figure size 2592x576 with 1 Axes>"
      ]
     },
     "metadata": {},
     "output_type": "display_data"
    }
   ],
   "source": [
    "\n",
    "token_length = cleaned_data[[' average_token_length', ' shares']]\n",
    "fig,ax = plt.subplots(figsize = (36,8))\n",
    "hist_kws = hist_kws={'histtype':'bar', 'edgecolor':'black', 'alpha':0.2}\n",
    "#plt.plot(token_length[' average_token_length'], token_length[' shares'], '.')\n",
    "sns.distplot(a =token_length[' average_token_length'], bins = 100, ax=ax, hist_kws = hist_kws)\n"
   ]
  },
  {
   "cell_type": "code",
   "execution_count": 20,
   "metadata": {},
   "outputs": [
    {
     "data": {
      "text/plain": [
       "[<matplotlib.lines.Line2D at 0x1a28579320>]"
      ]
     },
     "execution_count": 20,
     "metadata": {},
     "output_type": "execute_result"
    },
    {
     "data": {
      "image/png": "[encoded data removed]",
      "text/plain": [
       "<Figure size 432x288 with 1 Axes>"
      ]
     },
     "metadata": {},
     "output_type": "display_data"
    }
   ],
   "source": [
    "plt.plot(token_length[' average_token_length'], token_length[' shares'], '.')\n"
   ]
  },
  {
   "cell_type": "code",
   "execution_count": 21,
   "metadata": {},
   "outputs": [
    {
     "data": {
      "text/plain": [
       "[<matplotlib.lines.Line2D at 0x1a27a42be0>]"
      ]
     },
     "execution_count": 21,
     "metadata": {},
     "output_type": "execute_result"
    },
    {
     "data": {
      "image/png": "[encoded data removed]",
      "text/plain": [
       "<Figure size 2592x576 with 1 Axes>"
      ]
     },
     "metadata": {},
     "output_type": "display_data"
    }
   ],
   "source": [
    "#Time delta \n",
    "feature_data = cleaned_data[[' timedelta', ' shares']]\n",
    "fig, ax = plt.subplots(figsize = (36,8))\n",
    "hist_kws = hist_kws={'histtype': 'bar', 'edgecolor':'black', 'alpha': 0.2}\n",
    "#sns.distplot(a =feature_data[' timedelta'], bins = 100, ax=ax, hist_kws = hist_kws)\n",
    "plt.plot(feature_data[' timedelta'], feature_data[' shares'], '.-')"
   ]
  },
  {
   "cell_type": "code",
   "execution_count": null,
   "metadata": {
    "collapsed": true
   },
   "outputs": [],
   "source": [
    "from sklearn.preprocessing import StandardScaler\n"
   ]
  },
  {
   "cell_type": "code",
   "execution_count": 22,
   "metadata": {
    "collapsed": true
   },
   "outputs": [],
   "source": [
    "def normalize(df):\n",
    "    return (df-df.mean())/(df.max() - df.min())"
   ]
  },
  {
   "cell_type": "code",
   "execution_count": 24,
   "metadata": {},
   "outputs": [
    {
     "data": {
      "text/plain": [
       "<matplotlib.axes._subplots.AxesSubplot at 0x1a27ac5278>"
      ]
     },
     "execution_count": 24,
     "metadata": {},
     "output_type": "execute_result"
    },
    {
     "data": {
      "image/png": "[encoded data removed]",
      "text/plain": [
       "<Figure size 2592x576 with 1 Axes>"
      ]
     },
     "metadata": {},
     "output_type": "display_data"
    }
   ],
   "source": [
    "#Time delta \n",
    "feature_data = cleaned_data[[' n_tokens_title', ' shares']]\n",
    "feature_data = normalize(feature_data)\n",
    "fig, ax = plt.subplots(figsize = (36,8))\n",
    "hist_kws = hist_kws={'histtype': 'bar', 'edgecolor':'black', 'alpha': 0.2}\n",
    "sns.scatterplot(x =' n_tokens_title', y = ' shares', data = feature_data,  ax=ax)\n",
    "#plt.plot(feature_data[' timedelta'], feature_data[' shares'], '.-')"
   ]
  },
  {
   "cell_type": "code",
   "execution_count": 25,
   "metadata": {},
   "outputs": [
    {
     "data": {
      "text/plain": [
       "<matplotlib.axes._subplots.AxesSubplot at 0x1a27962048>"
      ]
     },
     "execution_count": 25,
     "metadata": {},
     "output_type": "execute_result"
    },
    {
     "data": {
      "image/png": "[encoded data removed]",
      "text/plain": [
       "<Figure size 1152x576 with 1 Axes>"
      ]
     },
     "metadata": {},
     "output_type": "display_data"
    }
   ],
   "source": [
    "#Time delta \n",
    "feature_data = cleaned_data[[' n_tokens_content', ' shares']]\n",
    "feature_data = normalize(feature_data)\n",
    "fig, ax = plt.subplots(figsize = (16,8))\n",
    "hist_kws = hist_kws={'histtype': 'bar', 'edgecolor':'black', 'alpha': 0.2}\n",
    "sns.scatterplot(x =' n_tokens_content', y = ' shares', data = feature_data,  ax=ax)\n",
    "#plt.plot(feature_data[' timedelta'], feature_data[' shares'], '.-')"
   ]
  },
  {
   "cell_type": "code",
   "execution_count": 31,
   "metadata": {
    "collapsed": true
   },
   "outputs": [],
   "source": [
    "feature_list = cleaned_data.columns.values"
   ]
  },
  {
   "cell_type": "code",
   "execution_count": 33,
   "metadata": {
    "collapsed": true
   },
   "outputs": [],
   "source": [
    "cleaned_data = cleaned_data.reindex(index = range(0, len(cleaned_data)))\n",
    "category_list = ['lifestyle','entertainment', 'bus', 'socmed', 'tech', 'world']\n",
    "feature_list = cleaned_data.columns.values\n",
    "no_cat_data = cleaned_data.drop(feature_list[12:18],1)\n",
    "lif_data = no_cat_data[cleaned_data[' data_channel_is_lifestyle'] == 1]\n",
    "ent_data = no_cat_data[cleaned_data[' data_channel_is_entertainment'] == 1]\n",
    "bus_data = no_cat_data[cleaned_data[' data_channel_is_bus'] == 1]\n",
    "soc_data = no_cat_data[cleaned_data[' data_channel_is_socmed'] == 1]\n",
    "tec_data = no_cat_data[cleaned_data[' data_channel_is_tech'] == 1]\n",
    "world_data = no_cat_data[cleaned_data[' data_channel_is_world'] == 1]"
   ]
  },
  {
   "cell_type": "code",
   "execution_count": null,
   "metadata": {
    "collapsed": true
   },
   "outputs": [],
   "source": [
    "no_cat_data[' category'] = list(np.zeros(len(no_cat_data)))\n",
    "for i in range(0, len(no_cat_data)):\n",
    "    #print(i)\n",
    "    if cleaned_data.loc[i][' data_channel_is_lifestyle'] == 1:\n",
    "        no_cat_data.loc[i][' category'] = 0\n",
    "    elif cleaned_data.loc[i][' data_channel_is_entertainment'] == 1:\n",
    "        no_cat_data.loc[i][' category'] = 1\n",
    "    elif cleaned_data.loc[i][' data_channel_is_bus'] == 1:\n",
    "        no_cat_data.loc[i][' category'] = 2\n",
    "    elif cleaned_data.loc[i][' data_channel_is_socmed'] == 1:\n",
    "        no_cat_data.loc[i][' category'] = 3\n",
    "    elif cleaned_data.loc[i][' data_channel_is_tech'] == 1:\n",
    "        no_cat_data.loc[i][' category'] = 4\n",
    "    else:\n",
    "        no_cat_data.loc[i][' category'] = 5\n",
    "\n"
   ]
  },
  {
   "cell_type": "code",
   "execution_count": 658,
   "metadata": {},
   "outputs": [
    {
     "ename": "NameError",
     "evalue": "name 'no_cat_data' is not defined",
     "output_type": "error",
     "traceback": [
      "\u001b[0;31m---------------------------------------------------------------------------\u001b[0m",
      "\u001b[0;31mNameError\u001b[0m                                 Traceback (most recent call last)",
      "\u001b[0;32m<ipython-input-658-0c5c9334448b>\u001b[0m in \u001b[0;36m<module>\u001b[0;34m()\u001b[0m\n\u001b[0;32m----> 1\u001b[0;31m \u001b[0mno_cat_data\u001b[0m\u001b[0;34m[\u001b[0m\u001b[0;34m' category'\u001b[0m\u001b[0;34m]\u001b[0m \u001b[0;34m=\u001b[0m \u001b[0mlist\u001b[0m\u001b[0;34m(\u001b[0m\u001b[0mnp\u001b[0m\u001b[0;34m.\u001b[0m\u001b[0mzeros\u001b[0m\u001b[0;34m(\u001b[0m\u001b[0mlen\u001b[0m\u001b[0;34m(\u001b[0m\u001b[0mno_cat_data\u001b[0m\u001b[0;34m)\u001b[0m\u001b[0;34m)\u001b[0m\u001b[0;34m)\u001b[0m\u001b[0;34m\u001b[0m\u001b[0m\n\u001b[0m\u001b[1;32m      2\u001b[0m \u001b[0;32mfor\u001b[0m \u001b[0mi\u001b[0m \u001b[0;32min\u001b[0m \u001b[0mrange\u001b[0m\u001b[0;34m(\u001b[0m\u001b[0;36m0\u001b[0m\u001b[0;34m,\u001b[0m \u001b[0mlen\u001b[0m\u001b[0;34m(\u001b[0m\u001b[0mno_cat_data\u001b[0m\u001b[0;34m)\u001b[0m\u001b[0;34m)\u001b[0m\u001b[0;34m:\u001b[0m\u001b[0;34m\u001b[0m\u001b[0m\n\u001b[1;32m      3\u001b[0m     \u001b[0;31m#print(i)\u001b[0m\u001b[0;34m\u001b[0m\u001b[0;34m\u001b[0m\u001b[0m\n\u001b[1;32m      4\u001b[0m     \u001b[0;32mif\u001b[0m \u001b[0mcleaned_data\u001b[0m\u001b[0;34m.\u001b[0m\u001b[0mloc\u001b[0m\u001b[0;34m[\u001b[0m\u001b[0mi\u001b[0m\u001b[0;34m]\u001b[0m\u001b[0;34m[\u001b[0m\u001b[0;34m' data_channel_is_lifestyle'\u001b[0m\u001b[0;34m]\u001b[0m \u001b[0;34m==\u001b[0m \u001b[0;36m1\u001b[0m\u001b[0;34m:\u001b[0m\u001b[0;34m\u001b[0m\u001b[0m\n\u001b[1;32m      5\u001b[0m         \u001b[0mno_cat_data\u001b[0m\u001b[0;34m.\u001b[0m\u001b[0mloc\u001b[0m\u001b[0;34m[\u001b[0m\u001b[0mi\u001b[0m\u001b[0;34m]\u001b[0m\u001b[0;34m[\u001b[0m\u001b[0;34m' category'\u001b[0m\u001b[0;34m]\u001b[0m \u001b[0;34m=\u001b[0m \u001b[0;36m0\u001b[0m\u001b[0;34m\u001b[0m\u001b[0m\n",
      "\u001b[0;31mNameError\u001b[0m: name 'no_cat_data' is not defined"
     ]
    }
   ],
   "source": []
  },
  {
   "cell_type": "code",
   "execution_count": null,
   "metadata": {
    "collapsed": true
   },
   "outputs": [],
   "source": [
    "#Time delta \n",
    "feature_data = cleaned_data[[' num_keywords', ' shares']]\n",
    "feature_data = normalize(feature_data)\n",
    "fig, ax = plt.subplots(figsize = (16,8))\n",
    "hist_kws = hist_kws={'histtype': 'bar', 'edgecolor':'black', 'alpha': 0.2}\n",
    "sns.scatterplot(x =' num_keywords', y = ' shares', data = feature_data,  ax=ax)\n",
    "#plt.plot(feature_data[' timedelta'], feature_data[' shares'], '.-')"
   ]
  },
  {
   "cell_type": "code",
   "execution_count": null,
   "metadata": {
    "collapsed": true
   },
   "outputs": [],
   "source": [
    "feature_data =no_cat_data[[' category', ' shares']]\n",
    "fig, ax = plt.subplots(figsize = (16,8))\n",
    "sns.barplot(x = ' category', y = ' shares', data = no_cat_data, ax=ax)"
   ]
  },
  {
   "cell_type": "code",
   "execution_count": 39,
   "metadata": {
    "collapsed": true
   },
   "outputs": [],
   "source": [
    "reference_data=cleaned_data[[' self_reference_min_shares', ' self_reference_max_shares', ' self_reference_avg_sharess',' shares']]"
   ]
  },
  {
   "cell_type": "code",
   "execution_count": 40,
   "metadata": {},
   "outputs": [
    {
     "data": {
      "text/plain": [
       "<matplotlib.axes._subplots.AxesSubplot at 0x1a283583c8>"
      ]
     },
     "execution_count": 40,
     "metadata": {},
     "output_type": "execute_result"
    },
    {
     "data": {
      "image/png": "[encoded data removed]",
      "text/plain": [
       "<Figure size 1152x576 with 1 Axes>"
      ]
     },
     "metadata": {},
     "output_type": "display_data"
    }
   ],
   "source": [
    "#reference shares\n",
    "feature_data = cleaned_data[[' num_keywords', ' shares']]\n",
    "feature_data = normalize(feature_data)\n",
    "fig, ax = plt.subplots(figsize = (16,8))\n",
    "hist_kws = hist_kws={'histtype': 'bar', 'edgecolor':'black', 'alpha': 0.2}\n",
    "sns.scatterplot(x =' num_keywords', y = ' shares', data = feature_data,  ax=ax)\n",
    "#plt.plot(feature_data[' timedelta'], feature_data[' shares'], '.-')"
   ]
  },
  {
   "cell_type": "markdown",
   "metadata": {},
   "source": [
    "### Different models:\n",
    "------\n",
    "1. Decision Tree(base)\n",
    "2. AdaBoostClassifer\n",
    "3. Random Forest\n",
    "4. Grandient Boosting\n",
    "5. xgb"
   ]
  },
  {
   "cell_type": "code",
   "execution_count": null,
   "metadata": {
    "collapsed": true
   },
   "outputs": [],
   "source": [
    "cleaned_data.columns"
   ]
  },
  {
   "cell_type": "markdown",
   "metadata": {},
   "source": [
    "### Clean the data and decide which feature to include"
   ]
  },
  {
   "cell_type": "code",
   "execution_count": 185,
   "metadata": {
    "collapsed": true
   },
   "outputs": [],
   "source": [
    "cleaned_data = cleaned_data[~cleaned_data[' month'].isna()]"
   ]
  },
  {
   "cell_type": "code",
   "execution_count": 186,
   "metadata": {
    "collapsed": true
   },
   "outputs": [],
   "source": [
    "#cleaned_data.drop([' year', ' date'],1)\n",
    "month_list = ['jan', 'feb','mar','apr','may','jun','jul','aug','sep','oct','nov','dec']\n",
    "\n",
    "for j,month in enumerate(month_list):\n",
    "    var_name = ' month_is_' + str(month)\n",
    "    temp_list = []\n",
    "    for i in range(len(cleaned_data)):\n",
    "        #print(i)\n",
    "        if int(cleaned_data.iloc[i][' month']) == (j+1):\n",
    "            temp_list.append(1)\n",
    "        else:\n",
    "            temp_list.append(0)\n",
    "    cleaned_data[var_name] = temp_list\n"
   ]
  },
  {
   "cell_type": "code",
   "execution_count": 187,
   "metadata": {
    "collapsed": true
   },
   "outputs": [],
   "source": [
    "model_data = cleaned_data.drop(' year', 1)\n",
    "model_data = model_data.drop(' month',1)\n",
    "model_data = model_data.drop(' date',1)"
   ]
  },
  {
   "cell_type": "code",
   "execution_count": 188,
   "metadata": {
    "collapsed": true
   },
   "outputs": [],
   "source": [
    "threshold = 1400\n",
    "target = []\n",
    "for i in range(len(model_data)):\n",
    "    if model_data.iloc[i][' shares'] >= threshold:\n",
    "        target.append(1)\n",
    "    else:\n",
    "        target.append(0)\n",
    "class_data = model_data.drop(' shares', 1)\n",
    "class_data['target'] = target\n"
   ]
  },
  {
   "cell_type": "markdown",
   "metadata": {},
   "source": [
    "### I will be specifically focusing on ensemble methods. \n",
    "For ensemble methods, I started with the basic decision tree methods, tune the parameters. Then ensembled them by adaboost, gradient tree boosting and random forest\n"
   ]
  },
  {
   "cell_type": "markdown",
   "metadata": {},
   "source": [
    "### AdaBoost methods "
   ]
  },
  {
   "cell_type": "code",
   "execution_count": 649,
   "metadata": {
    "collapsed": true
   },
   "outputs": [],
   "source": [
    "from sklearn.feature_selection import RFE\n",
    "from sklearn.ensemble import AdaBoostClassifier\n",
    "from sklearn.tree import DecisionTreeClassifier\n",
    "from sklearn.model_selection import cross_val_score\n",
    "from sklearn.model_selection import train_test_split\n",
    "from sklearn.model_selection import GridSearchCV\n",
    "from sklearn.model_selection import KFold\n",
    "\n",
    "estimator = DecisionTreeClassifier(max_depth = 10)#Can be tuned\n",
    "ada_classifier = AdaBoostClassifier(estimator)\n",
    "X  = class_data.drop('target', 1)\n",
    "y = class_data['target']\n",
    "X_train, X_test, y_train, y_test = train_test_split(X, y, test_size=0.2, shuffle = True)\n",
    "X_train, X_val, y_train, y_val = train_test_split(X_train, y_train, test_size = 0.25, shuffle = True)\n",
    "\n",
    "\n"
   ]
  },
  {
   "cell_type": "code",
   "execution_count": 650,
   "metadata": {},
   "outputs": [
    {
     "data": {
      "text/plain": [
       "AdaBoostClassifier(algorithm='SAMME.R',\n",
       "          base_estimator=DecisionTreeClassifier(class_weight=None, criterion='gini', max_depth=10,\n",
       "            max_features=None, max_leaf_nodes=None,\n",
       "            min_impurity_decrease=0.0, min_impurity_split=None,\n",
       "            min_samples_leaf=1, min_samples_split=2,\n",
       "            min_weight_fraction_leaf=0.0, presort=False, random_state=None,\n",
       "            splitter='best'),\n",
       "          learning_rate=1.0, n_estimators=50, random_state=None)"
      ]
     },
     "execution_count": 650,
     "metadata": {},
     "output_type": "execute_result"
    }
   ],
   "source": [
    "ada_classifier.fit(X_train,y_train)"
   ]
  },
  {
   "cell_type": "code",
   "execution_count": 651,
   "metadata": {},
   "outputs": [
    {
     "data": {
      "text/plain": [
       "0.590868962038088"
      ]
     },
     "execution_count": 651,
     "metadata": {},
     "output_type": "execute_result"
    }
   ],
   "source": [
    "ada_classifier.score(X_test, y_test)"
   ]
  },
  {
   "cell_type": "code",
   "execution_count": 652,
   "metadata": {},
   "outputs": [
    {
     "data": {
      "text/plain": [
       "0.590868962038088"
      ]
     },
     "execution_count": 652,
     "metadata": {},
     "output_type": "execute_result"
    }
   ],
   "source": [
    "ada_classifier.score(X_test, y_test)"
   ]
  },
  {
   "cell_type": "code",
   "execution_count": 653,
   "metadata": {},
   "outputs": [
    {
     "data": {
      "text/plain": [
       "0.6264318327075942"
      ]
     },
     "execution_count": 653,
     "metadata": {},
     "output_type": "execute_result"
    }
   ],
   "source": [
    "fpr, tpr,_ = metrics.roc_curve(y_test, ada_classifier.predict_proba(X_test)[:,1])\n",
    "auc_ada_orig = metrics.auc(fpr, tpr)\n",
    "auc_ada_orig"
   ]
  },
  {
   "cell_type": "code",
   "execution_count": 28,
   "metadata": {
    "collapsed": true
   },
   "outputs": [
    {
     "name": "stdout",
     "output_type": "stream",
     "text": [
      " kw_max_avg                    | 0.038768\n",
      " global_subjectivity           | 0.036470\n",
      " kw_avg_min                    | 0.036016\n",
      " average_token_length          | 0.035915\n",
      " LDA_00                        | 0.034102\n",
      " kw_avg_max                    | 0.034033\n",
      " avg_positive_polarity         | 0.033497\n",
      " global_rate_positive_words    | 0.033412\n",
      " kw_avg_avg                    | 0.032855\n",
      " timedelta                     | 0.032625\n",
      " LDA_04                        | 0.031531\n",
      " global_rate_negative_words    | 0.030775\n",
      " n_non_stop_unique_tokens      | 0.030755\n",
      " LDA_01                        | 0.030048\n",
      " global_sentiment_polarity     | 0.029474\n",
      " avg_negative_polarity         | 0.028037\n",
      " n_tokens_content              | 0.027375\n",
      " LDA_02                        | 0.027297\n",
      " LDA_03                        | 0.026377\n",
      " n_unique_tokens               | 0.026053\n",
      " self_reference_min_shares     | 0.025580\n",
      " kw_max_min                    | 0.023627\n",
      " num_hrefs                     | 0.023086\n",
      " kw_min_avg                    | 0.018551\n",
      " self_reference_avg_sharess    | 0.018390\n",
      " self_reference_max_shares     | 0.015817\n",
      " n_tokens_title                | 0.015636\n",
      " min_negative_polarity         | 0.014933\n",
      " max_negative_polarity         | 0.014722\n",
      " kw_min_max                    | 0.013333\n",
      " num_self_hrefs                | 0.013262\n",
      " min_positive_polarity         | 0.013243\n",
      " title_sentiment_polarity      | 0.012856\n",
      " rate_positive_words           | 0.011538\n",
      " abs_title_subjectivity        | 0.010816\n",
      " rate_negative_words           | 0.010804\n",
      " num_imgs                      | 0.010616\n",
      " abs_title_sentiment_polarity  | 0.010592\n",
      " title_subjectivity            | 0.010468\n",
      " max_positive_polarity         | 0.007447\n",
      " num_keywords                  | 0.006810\n",
      " num_videos                    | 0.006682\n",
      " data_channel_is_entertainment | 0.003737\n",
      " month_is_may                  | 0.003513\n",
      " is_weekend                    | 0.003438\n",
      " data_channel_is_tech          | 0.003361\n",
      " month_is_jul                  | 0.003067\n",
      " month_is_sep                  | 0.003064\n",
      " weekday_is_friday             | 0.003048\n",
      " month_is_feb                  | 0.002792\n",
      " weekday_is_wednesday          | 0.002715\n",
      " weekday_is_tuesday            | 0.002536\n",
      " month_is_mar                  | 0.002451\n",
      " month_is_oct                  | 0.002408\n",
      " data_channel_is_socmed        | 0.002258\n",
      " data_channel_is_lifestyle     | 0.001889\n",
      " month_is_apr                  | 0.001824\n",
      " month_is_jun                  | 0.001813\n",
      " weekday_is_thursday           | 0.001802\n",
      " month_is_aug                  | 0.001518\n",
      " weekday_is_monday             | 0.001410\n",
      " month_is_nov                  | 0.001256\n",
      " month_is_jan                  | 0.001234\n",
      " data_channel_is_bus           | 0.001210\n",
      " data_channel_is_world         | 0.000832\n",
      " weekday_is_saturday           | 0.000727\n",
      " month_is_dec                  | 0.000690\n",
      " weekday_is_sunday             | 0.000684\n",
      " kw_min_min                    | 0.000325\n",
      " kw_max_max                    | 0.000171\n",
      " n_non_stop_words              | 0.000000\n"
     ]
    }
   ],
   "source": [
    "importance = sorted(zip(class_data.columns.values[:-1], ada_classifier.feature_importances_), key=lambda x:x[1], reverse=True)\n",
    "for feature, val in importance:\n",
    "    print('{0:30s} | {1:5F}'.format(feature, val))"
   ]
  },
  {
   "cell_type": "markdown",
   "metadata": {},
   "source": [
    "#### Hyper-parameter tuning for decision trees using grid search and cross validations"
   ]
  },
  {
   "cell_type": "code",
   "execution_count": 29,
   "metadata": {
    "collapsed": true
   },
   "outputs": [],
   "source": [
    "X = class_data.drop('target',1)\n",
    "y = class_data['target']\n",
    "X_train, X_test, y_train, y_test = train_test_split(X,y, test_size = 0.2, shuffle = True)"
   ]
  },
  {
   "cell_type": "code",
   "execution_count": 33,
   "metadata": {},
   "outputs": [
    {
     "name": "stdout",
     "output_type": "stream",
     "text": [
      "The best score is {} 0.6969529727688387\n",
      "The best estimator config is DecisionTreeClassifier(class_weight=None, criterion='gini', max_depth=10,\n",
      "            max_features=None, max_leaf_nodes=None,\n",
      "            min_impurity_decrease=0.0, min_impurity_split=None,\n",
      "            min_samples_leaf=256, min_samples_split=2,\n",
      "            min_weight_fraction_leaf=0.0, presort=False, random_state=None,\n",
      "            splitter='best')\n"
     ]
    }
   ],
   "source": [
    "param_grid_dt = {'max_depth':[10**i for i in range (1,11)], 'min_samples_leaf':[2**i for i in range(1, 11)]}\n",
    "kfolds = KFold(n_splits = 5)\n",
    "dt_grid_search = GridSearchCV(DecisionTreeClassifier(), param_grid_dt, cv =kfolds, scoring = 'roc_auc')\n",
    "dt_grid_search.fit(X_train, y_train)\n",
    "\n",
    "best_score = dt_grid_search.best_score_\n",
    "print('The best score is {}',format(best_score))\n",
    "print('The best estimator config is {}'.format(dt_grid_search.best_estimator_))"
   ]
  },
  {
   "cell_type": "code",
   "execution_count": 34,
   "metadata": {},
   "outputs": [
    {
     "data": {
      "text/plain": [
       "0.6853880918562124"
      ]
     },
     "execution_count": 34,
     "metadata": {},
     "output_type": "execute_result"
    }
   ],
   "source": [
    "dt_grid_search.score(X_test, y_test)"
   ]
  },
  {
   "cell_type": "markdown",
   "metadata": {},
   "source": [
    "### AdaBoost classifier using the best configuration of Decision Trees. Still using grid search and cross validation to tune the hyper parameters"
   ]
  },
  {
   "cell_type": "code",
   "execution_count": 142,
   "metadata": {
    "collapsed": true
   },
   "outputs": [],
   "source": [
    "X  = class_data.drop('target', 1)\n",
    "y = class_data['target']\n",
    "X_train, X_test, y_train, y_test = train_test_split(X, y, test_size=0.2, shuffle = True)\n"
   ]
  },
  {
   "cell_type": "code",
   "execution_count": 146,
   "metadata": {},
   "outputs": [
    {
     "name": "stdout",
     "output_type": "stream",
     "text": [
      "0.7405097505657301\n"
     ]
    }
   ],
   "source": [
    "learning_rate_list = [0.001, 0.003, 0.01, 0.03, 0.1, 0.3, 1]\n",
    "kfolds = KFold(n_splits = 5)\n",
    "param_grid_ad = {'n_estimators':[50*i for i in range(1, 6)], 'learning_rate':learning_rate_list}\n",
    "\n",
    "#2nd, call the GridSearchCV class, use LogisticRegression and 'roc_auc' for scoring\n",
    "ad_grid_search = GridSearchCV(AdaBoostClassifier(DecisionTreeClassifier(max_depth = 10, min_samples_leaf = 256)), param_grid_ad, cv = kfolds, scoring = 'roc_auc') \n",
    "ad_grid_search.fit(X_train, y_train)\n",
    "\n",
    "#3rd, get the score of the best model and print it\n",
    "best_1 = ad_grid_search.best_score_\n",
    "print(best_1)"
   ]
  },
  {
   "cell_type": "code",
   "execution_count": 147,
   "metadata": {},
   "outputs": [
    {
     "data": {
      "text/plain": [
       "AdaBoostClassifier(algorithm='SAMME.R',\n",
       "          base_estimator=DecisionTreeClassifier(class_weight=None, criterion='gini', max_depth=10,\n",
       "            max_features=None, max_leaf_nodes=None,\n",
       "            min_impurity_decrease=0.0, min_impurity_split=None,\n",
       "            min_samples_leaf=256, min_samples_split=2,\n",
       "            min_weight_fraction_leaf=0.0, presort=False, random_state=None,\n",
       "            splitter='best'),\n",
       "          learning_rate=0.03, n_estimators=250, random_state=None)"
      ]
     },
     "execution_count": 147,
     "metadata": {},
     "output_type": "execute_result"
    }
   ],
   "source": [
    "ad_grid_search.best_estimator_"
   ]
  },
  {
   "cell_type": "code",
   "execution_count": 148,
   "metadata": {},
   "outputs": [
    {
     "data": {
      "text/plain": [
       "0.7472859441206778"
      ]
     },
     "execution_count": 148,
     "metadata": {},
     "output_type": "execute_result"
    }
   ],
   "source": [
    "ad_grid_search.score(X_test, y_test)"
   ]
  },
  {
   "cell_type": "markdown",
   "metadata": {},
   "source": [
    "### Gradient Tree Boosting methods"
   ]
  },
  {
   "cell_type": "code",
   "execution_count": 662,
   "metadata": {},
   "outputs": [
    {
     "data": {
      "text/plain": [
       "GradientBoostingClassifier(criterion='friedman_mse', init=None,\n",
       "              learning_rate=0.1, loss='deviance', max_depth=10,\n",
       "              max_features=None, max_leaf_nodes=None,\n",
       "              min_impurity_decrease=0.0, min_impurity_split=None,\n",
       "              min_samples_leaf=1, min_samples_split=2,\n",
       "              min_weight_fraction_leaf=0.0, n_estimators=1000,\n",
       "              presort='auto', random_state=None, subsample=1.0, verbose=0,\n",
       "              warm_start=False)"
      ]
     },
     "execution_count": 662,
     "metadata": {},
     "output_type": "execute_result"
    }
   ],
   "source": [
    "from sklearn.ensemble import GradientBoostingClassifier\n",
    "from sklearn.metrics import confusion_matrix,roc_auc_score\n",
    "\n",
    "X  = class_data.drop('target', 1)\n",
    "y = class_data['target']\n",
    "X_train, X_test, y_train, y_test = train_test_split(X, y, test_size=0.2, shuffle = True)\n",
    "\n",
    "\n",
    "n_est_lim = 1000\n",
    "gb_classifier = GradientBoostingClassifier(n_estimators = n_est_lim, max_depth = 10)\n",
    "gb_classifier.fit(X_train, y_train)\n",
    "\n",
    "\n"
   ]
  },
  {
   "cell_type": "code",
   "execution_count": 663,
   "metadata": {},
   "outputs": [
    {
     "data": {
      "text/plain": [
       "0.6691890528439904"
      ]
     },
     "execution_count": 663,
     "metadata": {},
     "output_type": "execute_result"
    }
   ],
   "source": [
    "gb_classifier.score(X_test, y_test)"
   ]
  },
  {
   "cell_type": "code",
   "execution_count": 664,
   "metadata": {},
   "outputs": [
    {
     "data": {
      "text/plain": [
       "0.7308185950942632"
      ]
     },
     "execution_count": 664,
     "metadata": {},
     "output_type": "execute_result"
    }
   ],
   "source": [
    "fpr, tpr,_ = metrics.roc_curve(y_test, gb_classifier.predict_proba(X_test)[:,1])\n",
    "auc_gb_orig = metrics.auc(fpr, tpr)\n",
    "auc_gb_orig"
   ]
  },
  {
   "cell_type": "code",
   "execution_count": 666,
   "metadata": {},
   "outputs": [
    {
     "data": {
      "image/png": "[encoded data removed]",
      "text/plain": [
       "<Figure size 576x288 with 1 Axes>"
      ]
     },
     "metadata": {},
     "output_type": "display_data"
    }
   ],
   "source": [
    "from pylab import rcParams\n",
    "rcParams['figure.figsize'] = 8, 4\n",
    "\n",
    "\n",
    "def LogLossP(Pt, Yt):\n",
    "    return -1*((Yt==1)*np.log(Pt)+(Yt==0)*np.log(1-Pt)).mean()\n",
    "\n",
    "p_train = gb_classifier.staged_predict_proba(X_train)\n",
    "p_test = gb_classifier.staged_predict_proba(X_test)\n",
    "\n",
    "train_list = []\n",
    "test_list = []\n",
    "\n",
    "for p in p_train:\n",
    "    train_list.append(LogLossP(p[:, 1], y_train))\n",
    "    \n",
    "for p in p_test:\n",
    "    test_list.append(LogLossP(p[:, 1], y_test))\n",
    "    \n",
    "\n",
    "fig = plt.figure()\n",
    "ax = fig.add_subplot(111)\n",
    "plt.plot(np.arange(1, n_est_lim + 1), train_list, 'b-', label='Train')\n",
    "plt.plot(np.arange(1, n_est_lim + 1), test_list, 'r-', label='Test')\n",
    "plt.title('Training and Testing Error as a Function of N-Estimators')\n",
    "plt.legend()\n",
    "plt.xlabel('N_estimators')\n",
    "plt.ylabel('LogLoss')\n",
    "plt.savefig('training_error of n_estimators.png')"
   ]
  },
  {
   "cell_type": "code",
   "execution_count": 149,
   "metadata": {},
   "outputs": [
    {
     "name": "stdout",
     "output_type": "stream",
     "text": [
      "0.7311842749896564\n"
     ]
    }
   ],
   "source": [
    "learning_rate_list = [0.001, 0.003, 0.01, 0.03, 0.1, 0.3, 1]\n",
    "kfolds = KFold(n_splits = 5)\n",
    "param_grid_gb = {'n_estimators':[50*i for i in range(1, 6)], 'learning_rate':learning_rate_list}\n",
    "\n",
    "#2nd, call the GridSearchCV class, use LogisticRegression and 'roc_auc' for scoring\n",
    "gb_grid_search = GridSearchCV(GradientBoostingClassifier(max_depth = 10), param_grid_gb, cv = kfolds, scoring = 'roc_auc') \n",
    "gb_grid_search.fit(X_train, y_train)\n",
    "\n",
    "#3rd, get the score of the best model and print it\n",
    "best_1 = gb_grid_search.best_score_\n",
    "print(best_1)"
   ]
  },
  {
   "cell_type": "code",
   "execution_count": 152,
   "metadata": {
    "collapsed": true
   },
   "outputs": [],
   "source": [
    "best_l = gb_grid_search.best_score_"
   ]
  },
  {
   "cell_type": "code",
   "execution_count": 151,
   "metadata": {},
   "outputs": [
    {
     "data": {
      "text/plain": [
       "GradientBoostingClassifier(criterion='friedman_mse', init=None,\n",
       "              learning_rate=0.03, loss='deviance', max_depth=10,\n",
       "              max_features=None, max_leaf_nodes=None,\n",
       "              min_impurity_decrease=0.0, min_impurity_split=None,\n",
       "              min_samples_leaf=1, min_samples_split=2,\n",
       "              min_weight_fraction_leaf=0.0, n_estimators=250,\n",
       "              presort='auto', random_state=None, subsample=1.0, verbose=0,\n",
       "              warm_start=False)"
      ]
     },
     "execution_count": 151,
     "metadata": {},
     "output_type": "execute_result"
    }
   ],
   "source": [
    "gb_grid_search.best_estimator_"
   ]
  },
  {
   "cell_type": "code",
   "execution_count": 153,
   "metadata": {},
   "outputs": [
    {
     "data": {
      "text/plain": [
       "0.7311842749896564"
      ]
     },
     "execution_count": 153,
     "metadata": {},
     "output_type": "execute_result"
    }
   ],
   "source": [
    "best_l"
   ]
  },
  {
   "cell_type": "code",
   "execution_count": 154,
   "metadata": {},
   "outputs": [
    {
     "data": {
      "text/plain": [
       "0.7419894700743146"
      ]
     },
     "execution_count": 154,
     "metadata": {},
     "output_type": "execute_result"
    }
   ],
   "source": [
    "gb_grid_search.score(X_test, y_test)"
   ]
  },
  {
   "cell_type": "markdown",
   "metadata": {},
   "source": [
    "### RandomForest Classifiers:"
   ]
  },
  {
   "cell_type": "code",
   "execution_count": 403,
   "metadata": {
    "collapsed": true
   },
   "outputs": [],
   "source": [
    "X  = class_data.drop('target', 1)\n",
    "y = class_data['target']\n",
    "X_train, X_test, y_train, y_test = train_test_split(X, y, test_size=0.2, shuffle = True)"
   ]
  },
  {
   "cell_type": "code",
   "execution_count": 405,
   "metadata": {
    "collapsed": true
   },
   "outputs": [],
   "source": [
    "from sklearn.ensemble import RandomForestClassifier"
   ]
  },
  {
   "cell_type": "code",
   "execution_count": 406,
   "metadata": {},
   "outputs": [
    {
     "name": "stdout",
     "output_type": "stream",
     "text": [
      "0.7302976794234408\n"
     ]
    }
   ],
   "source": [
    "kfolds = KFold(n_splits = 5)\n",
    "param_grid_rf = {'n_estimators':[50*i for i in range(1, 6)], 'max_features':[2*j for j in range(1,6)]}\n",
    "\n",
    "#2nd, call the GridSearchCV class, use LogisticRegression and 'roc_auc' for scoring\n",
    "rf_grid_search = GridSearchCV(RandomForestClassifier(), param_grid_rf, cv = kfolds, scoring = 'roc_auc') \n",
    "rf_grid_search.fit(X_train, y_train)\n",
    "\n",
    "#3rd, get the score of the best model and print it\n",
    "best_1 = rf_grid_search.best_score_\n",
    "print(best_1)"
   ]
  },
  {
   "cell_type": "code",
   "execution_count": 407,
   "metadata": {},
   "outputs": [
    {
     "data": {
      "text/plain": [
       "RandomForestClassifier(bootstrap=True, class_weight=None, criterion='gini',\n",
       "            max_depth=None, max_features=6, max_leaf_nodes=None,\n",
       "            min_impurity_decrease=0.0, min_impurity_split=None,\n",
       "            min_samples_leaf=1, min_samples_split=2,\n",
       "            min_weight_fraction_leaf=0.0, n_estimators=250, n_jobs=1,\n",
       "            oob_score=False, random_state=None, verbose=0,\n",
       "            warm_start=False)"
      ]
     },
     "execution_count": 407,
     "metadata": {},
     "output_type": "execute_result"
    }
   ],
   "source": [
    "rf_grid_search.best_estimator_"
   ]
  },
  {
   "cell_type": "code",
   "execution_count": 16,
   "metadata": {
    "collapsed": true
   },
   "outputs": [],
   "source": [
    "from sklearn.ensemble import RandomForestClassifier\n",
    "from sklearn.feature_selection import RFE\n",
    "from sklearn.tree import DecisionTreeClassifier\n",
    "from sklearn.model_selection import cross_val_score\n",
    "from sklearn.model_selection import train_test_split\n",
    "\n",
    "X  = class_data.drop('target', 1)\n",
    "y = class_data['target']\n",
    "X_train, X_test, y_train, y_test = train_test_split(X,y, test_size = 0.2, shuffle = True)\n",
    "estimator = RandomForestClassifier(n_estimators=100)\n",
    "#clf.fit(X_train, y_train)\n",
    "selector = RFE(estimator, n_features_to_select = 20, step=0.8)\n",
    "selector = selector.fit(X_train, y_train)\n",
    "\n"
   ]
  },
  {
   "cell_type": "code",
   "execution_count": 17,
   "metadata": {},
   "outputs": [
    {
     "data": {
      "text/plain": [
       "0.6528591897876774"
      ]
     },
     "execution_count": 17,
     "metadata": {},
     "output_type": "execute_result"
    }
   ],
   "source": [
    "selector.score(X_test, y_test)"
   ]
  },
  {
   "cell_type": "code",
   "execution_count": 18,
   "metadata": {},
   "outputs": [
    {
     "data": {
      "text/plain": [
       "20"
      ]
     },
     "execution_count": 18,
     "metadata": {},
     "output_type": "execute_result"
    }
   ],
   "source": [
    "selector.n_features_"
   ]
  },
  {
   "cell_type": "code",
   "execution_count": 20,
   "metadata": {},
   "outputs": [
    {
     "data": {
      "text/plain": [
       "71"
      ]
     },
     "execution_count": 20,
     "metadata": {},
     "output_type": "execute_result"
    }
   ],
   "source": [
    "len(selector.ranking_)"
   ]
  },
  {
   "cell_type": "code",
   "execution_count": 21,
   "metadata": {},
   "outputs": [
    {
     "name": "stdout",
     "output_type": "stream",
     "text": [
      " timedelta                     | 1.000000\n",
      " n_tokens_content              | 1.000000\n",
      " n_unique_tokens               | 1.000000\n",
      " n_non_stop_unique_tokens      | 1.000000\n",
      " average_token_length          | 1.000000\n",
      " kw_avg_min                    | 1.000000\n",
      " kw_avg_max                    | 1.000000\n",
      " kw_max_avg                    | 1.000000\n",
      " kw_avg_avg                    | 1.000000\n",
      " self_reference_min_shares     | 1.000000\n",
      " self_reference_avg_sharess    | 1.000000\n",
      " LDA_00                        | 1.000000\n",
      " LDA_01                        | 1.000000\n",
      " LDA_02                        | 1.000000\n",
      " LDA_03                        | 1.000000\n",
      " LDA_04                        | 1.000000\n",
      " global_subjectivity           | 1.000000\n",
      " global_sentiment_polarity     | 1.000000\n",
      " global_rate_positive_words    | 1.000000\n",
      " avg_positive_polarity         | 1.000000\n",
      " n_tokens_title                | 2.000000\n",
      " n_non_stop_words              | 2.000000\n",
      " num_hrefs                     | 2.000000\n",
      " num_self_hrefs                | 2.000000\n",
      " num_imgs                      | 2.000000\n",
      " num_videos                    | 2.000000\n",
      " num_keywords                  | 2.000000\n",
      " data_channel_is_lifestyle     | 2.000000\n",
      " data_channel_is_entertainment | 2.000000\n",
      " data_channel_is_bus           | 2.000000\n",
      " data_channel_is_socmed        | 2.000000\n",
      " data_channel_is_tech          | 2.000000\n",
      " data_channel_is_world         | 2.000000\n",
      " kw_min_min                    | 2.000000\n",
      " kw_max_min                    | 2.000000\n",
      " kw_min_max                    | 2.000000\n",
      " kw_max_max                    | 2.000000\n",
      " kw_min_avg                    | 2.000000\n",
      " self_reference_max_shares     | 2.000000\n",
      " weekday_is_monday             | 2.000000\n",
      " weekday_is_tuesday            | 2.000000\n",
      " weekday_is_wednesday          | 2.000000\n",
      " weekday_is_thursday           | 2.000000\n",
      " weekday_is_friday             | 2.000000\n",
      " weekday_is_saturday           | 2.000000\n",
      " weekday_is_sunday             | 2.000000\n",
      " is_weekend                    | 2.000000\n",
      " global_rate_negative_words    | 2.000000\n",
      " rate_positive_words           | 2.000000\n",
      " rate_negative_words           | 2.000000\n",
      " min_positive_polarity         | 2.000000\n",
      " max_positive_polarity         | 2.000000\n",
      " avg_negative_polarity         | 2.000000\n",
      " min_negative_polarity         | 2.000000\n",
      " max_negative_polarity         | 2.000000\n",
      " title_subjectivity            | 2.000000\n",
      " title_sentiment_polarity      | 2.000000\n",
      " abs_title_subjectivity        | 2.000000\n",
      " abs_title_sentiment_polarity  | 2.000000\n",
      " month_is_jan                  | 2.000000\n",
      " month_is_feb                  | 2.000000\n",
      " month_is_mar                  | 2.000000\n",
      " month_is_apr                  | 2.000000\n",
      " month_is_may                  | 2.000000\n",
      " month_is_jun                  | 2.000000\n",
      " month_is_jul                  | 2.000000\n",
      " month_is_aug                  | 2.000000\n",
      " month_is_sep                  | 2.000000\n",
      " month_is_oct                  | 2.000000\n",
      " month_is_nov                  | 2.000000\n",
      " month_is_dec                  | 2.000000\n"
     ]
    }
   ],
   "source": [
    "importance = sorted(zip(class_data.columns.values[:-1], selector.ranking_), key=lambda x:x[1], reverse=False)\n",
    "for feature, val in importance:\n",
    "    print('{0:30s} | {1:5F}'.format(feature, val))"
   ]
  },
  {
   "cell_type": "code",
   "execution_count": 22,
   "metadata": {},
   "outputs": [
    {
     "data": {
      "text/plain": [
       "[(' timedelta', 1),\n",
       " (' n_tokens_content', 1),\n",
       " (' n_unique_tokens', 1),\n",
       " (' n_non_stop_unique_tokens', 1),\n",
       " (' average_token_length', 1),\n",
       " (' kw_avg_min', 1),\n",
       " (' kw_avg_max', 1),\n",
       " (' kw_max_avg', 1),\n",
       " (' kw_avg_avg', 1),\n",
       " (' self_reference_min_shares', 1),\n",
       " (' self_reference_avg_sharess', 1),\n",
       " (' LDA_00', 1),\n",
       " (' LDA_01', 1),\n",
       " (' LDA_02', 1),\n",
       " (' LDA_03', 1),\n",
       " (' LDA_04', 1),\n",
       " (' global_subjectivity', 1),\n",
       " (' global_sentiment_polarity', 1),\n",
       " (' global_rate_positive_words', 1),\n",
       " (' avg_positive_polarity', 1),\n",
       " (' n_tokens_title', 2),\n",
       " (' n_non_stop_words', 2),\n",
       " (' num_hrefs', 2),\n",
       " (' num_self_hrefs', 2),\n",
       " (' num_imgs', 2),\n",
       " (' num_videos', 2),\n",
       " (' num_keywords', 2),\n",
       " (' data_channel_is_lifestyle', 2),\n",
       " (' data_channel_is_entertainment', 2),\n",
       " (' data_channel_is_bus', 2),\n",
       " (' data_channel_is_socmed', 2),\n",
       " (' data_channel_is_tech', 2),\n",
       " (' data_channel_is_world', 2),\n",
       " (' kw_min_min', 2),\n",
       " (' kw_max_min', 2),\n",
       " (' kw_min_max', 2),\n",
       " (' kw_max_max', 2),\n",
       " (' kw_min_avg', 2),\n",
       " (' self_reference_max_shares', 2),\n",
       " (' weekday_is_monday', 2),\n",
       " (' weekday_is_tuesday', 2),\n",
       " (' weekday_is_wednesday', 2),\n",
       " (' weekday_is_thursday', 2),\n",
       " (' weekday_is_friday', 2),\n",
       " (' weekday_is_saturday', 2),\n",
       " (' weekday_is_sunday', 2),\n",
       " (' is_weekend', 2),\n",
       " (' global_rate_negative_words', 2),\n",
       " (' rate_positive_words', 2),\n",
       " (' rate_negative_words', 2),\n",
       " (' min_positive_polarity', 2),\n",
       " (' max_positive_polarity', 2),\n",
       " (' avg_negative_polarity', 2),\n",
       " (' min_negative_polarity', 2),\n",
       " (' max_negative_polarity', 2),\n",
       " (' title_subjectivity', 2),\n",
       " (' title_sentiment_polarity', 2),\n",
       " (' abs_title_subjectivity', 2),\n",
       " (' abs_title_sentiment_polarity', 2),\n",
       " (' month_is_jan', 2),\n",
       " (' month_is_feb', 2),\n",
       " (' month_is_mar', 2),\n",
       " (' month_is_apr', 2),\n",
       " (' month_is_may', 2),\n",
       " (' month_is_jun', 2),\n",
       " (' month_is_jul', 2),\n",
       " (' month_is_aug', 2),\n",
       " (' month_is_sep', 2),\n",
       " (' month_is_oct', 2),\n",
       " (' month_is_nov', 2),\n",
       " (' month_is_dec', 2)]"
      ]
     },
     "execution_count": 22,
     "metadata": {},
     "output_type": "execute_result"
    }
   ],
   "source": [
    "importance"
   ]
  },
  {
   "cell_type": "code",
   "execution_count": 45,
   "metadata": {},
   "outputs": [
    {
     "data": {
      "text/plain": [
       "Index([' timedelta', ' n_tokens_title', ' n_tokens_content',\n",
       "       ' n_unique_tokens', ' n_non_stop_words', ' n_non_stop_unique_tokens',\n",
       "       ' num_hrefs', ' num_self_hrefs', ' num_imgs', ' num_videos',\n",
       "       ' average_token_length', ' num_keywords', ' data_channel_is_lifestyle',\n",
       "       ' data_channel_is_entertainment', ' data_channel_is_bus',\n",
       "       ' data_channel_is_socmed', ' data_channel_is_tech',\n",
       "       ' data_channel_is_world', ' kw_min_min', ' kw_max_min', ' kw_avg_min',\n",
       "       ' kw_min_max', ' kw_max_max', ' kw_avg_max', ' kw_min_avg',\n",
       "       ' kw_max_avg', ' kw_avg_avg', ' self_reference_min_shares',\n",
       "       ' self_reference_max_shares', ' self_reference_avg_sharess',\n",
       "       ' weekday_is_monday', ' weekday_is_tuesday', ' weekday_is_wednesday',\n",
       "       ' weekday_is_thursday', ' weekday_is_friday', ' weekday_is_saturday',\n",
       "       ' weekday_is_sunday', ' is_weekend', ' LDA_00', ' LDA_01', ' LDA_02',\n",
       "       ' LDA_03', ' LDA_04', ' global_subjectivity',\n",
       "       ' global_sentiment_polarity', ' global_rate_positive_words',\n",
       "       ' global_rate_negative_words', ' rate_positive_words',\n",
       "       ' rate_negative_words', ' avg_positive_polarity',\n",
       "       ' min_positive_polarity', ' max_positive_polarity',\n",
       "       ' avg_negative_polarity', ' min_negative_polarity',\n",
       "       ' max_negative_polarity', ' title_subjectivity',\n",
       "       ' title_sentiment_polarity', ' abs_title_subjectivity',\n",
       "       ' abs_title_sentiment_polarity', ' shares', ' month_is_jan',\n",
       "       ' month_is_feb', ' month_is_mar', ' month_is_apr', ' month_is_may',\n",
       "       ' month_is_jun', ' month_is_jul', ' month_is_aug', ' month_is_sep',\n",
       "       ' month_is_oct', ' month_is_nov', ' month_is_dec'],\n",
       "      dtype='object')"
      ]
     },
     "execution_count": 45,
     "metadata": {},
     "output_type": "execute_result"
    }
   ],
   "source": [
    "model_data.columns"
   ]
  },
  {
   "cell_type": "code",
   "execution_count": 497,
   "metadata": {},
   "outputs": [],
   "source": [
    "from xgboost.sklearn import XGBClassifier"
   ]
  },
  {
   "cell_type": "code",
   "execution_count": 615,
   "metadata": {},
   "outputs": [
    {
     "data": {
      "text/plain": [
       "XGBClassifier(base_score=0.5, booster='gbtree', colsample_bylevel=1,\n",
       "       colsample_bytree=1, gamma=0, learning_rate=0.1, max_delta_step=0,\n",
       "       max_depth=3, min_child_weight=1, missing=None, n_estimators=100,\n",
       "       n_jobs=1, nthread=None, objective='binary:logistic', random_state=0,\n",
       "       reg_alpha=0, reg_lambda=1, scale_pos_weight=1, seed=None,\n",
       "       silent=True, subsample=1)"
      ]
     },
     "execution_count": 615,
     "metadata": {},
     "output_type": "execute_result"
    }
   ],
   "source": [
    "xgb_orig = XGBClassifier()\n",
    "xgb_orig.fit(X_train, y_train)"
   ]
  },
  {
   "cell_type": "code",
   "execution_count": 618,
   "metadata": {},
   "outputs": [
    {
     "data": {
      "text/plain": [
       "0.6883493615008671"
      ]
     },
     "execution_count": 618,
     "metadata": {},
     "output_type": "execute_result"
    }
   ],
   "source": [
    "xgb_orig.score(X_train,y_train)"
   ]
  },
  {
   "cell_type": "code",
   "execution_count": 619,
   "metadata": {
    "collapsed": true
   },
   "outputs": [],
   "source": [
    "fpr, tpr,_ = metrics.roc_curve(y_test, xgb_orig.predict_proba(X_test)[:,1])\n",
    "auc = metrics.auc(fpr, tpr)\n"
   ]
  },
  {
   "cell_type": "code",
   "execution_count": 620,
   "metadata": {},
   "outputs": [
    {
     "data": {
      "text/plain": [
       "0.742305354067718"
      ]
     },
     "execution_count": 620,
     "metadata": {},
     "output_type": "execute_result"
    }
   ],
   "source": [
    "auc"
   ]
  },
  {
   "cell_type": "code",
   "execution_count": 625,
   "metadata": {},
   "outputs": [
    {
     "name": "stdout",
     "output_type": "stream",
     "text": [
      "0.7346052597547197\n"
     ]
    }
   ],
   "source": [
    "learning_rate_list = [0.001, 0.003, 0.01, 0.03, 0.1, 0.3, 1]\n",
    "\n",
    "kfolds = KFold(n_splits = 5)\n",
    "param_grid_xgb = {'learning_rate':learning_rate_list, 'n_estimators':[50*i for i in range(1, 6)]}\n",
    "\n",
    "xgb_grid_search = GridSearchCV(XGBClassifier(max_depth = 10), param_grid_xgb, cv = kfolds, scoring = 'roc_auc') \n",
    "xgb_grid_search.fit(X_train, y_train)\n",
    "\n",
    "#3rd, get the score of the best model and print it\n",
    "best_1 = xgb_grid_search.best_score_\n",
    "print(best_1)\n"
   ]
  },
  {
   "cell_type": "code",
   "execution_count": 626,
   "metadata": {
    "scrolled": true
   },
   "outputs": [
    {
     "data": {
      "text/plain": [
       "XGBClassifier(base_score=0.5, booster='gbtree', colsample_bylevel=1,\n",
       "       colsample_bytree=1, gamma=0, learning_rate=0.03, max_delta_step=0,\n",
       "       max_depth=10, min_child_weight=1, missing=None, n_estimators=250,\n",
       "       n_jobs=1, nthread=None, objective='binary:logistic', random_state=0,\n",
       "       reg_alpha=0, reg_lambda=1, scale_pos_weight=1, seed=None,\n",
       "       silent=True, subsample=1)"
      ]
     },
     "execution_count": 626,
     "metadata": {},
     "output_type": "execute_result"
    }
   ],
   "source": [
    "xgb_grid_search.best_estimator_"
   ]
  },
  {
   "cell_type": "markdown",
   "metadata": {},
   "source": [
    "We have compared with different lists of feature importances, and came up with teh following 15 features that played major roles in different classifiers/regressions. We chose these features not only based on their feature importance numeric values, but we also take into considerations of the different categories of features: mainly in 3 categories: publishing time, text analysis, topic/subject analysis.\n",
    "\n",
    "We will be using our best classifier configurations to test on these major features. However, for emsemble methods, it does not have big difference testing on whole set of features and selected subset of features due to the property of hte emsemble methods, it is not likely that the classifier will overfit data seriously. \n",
    "\n",
    "1. kw_max_avg\n",
    "2. kw_avg_avg\n",
    "3. LDA_02\n",
    "4. self_reference_min_shares\n",
    "5. is_weekend \n",
    "6. kw_min_avg\n",
    "7. data_channel_is_world\n",
    "8. LDA_04\n",
    "9. average_token_length\n",
    "10. global_subjectivity\n",
    "11. global_rate_positive_words\n",
    "12. n_non_stop_unique_token\n",
    "13. n_unique_token\n",
    "14. global_sentiment_polarity\n",
    "15. LDA_00 "
   ]
  },
  {
   "cell_type": "code",
   "execution_count": null,
   "metadata": {
    "collapsed": true
   },
   "outputs": [],
   "source": [
    "candidate_features = [[' kw_max_avg', ' LDA_02', ' self_reference_min_shares', ' is_weekend', ' kw_min_avg',\n",
    "                      ' data_channel_is_world', ' LDA_04',' average_token_length',' global_subjectivity', \n",
    "                       ' global_rate_positive_words',' n_non_stop_unique_token', ' n_unqiue_token', \n",
    "                       ' global_sentiment_polarity',' LDA_00',' shares']]"
   ]
  },
  {
   "cell_type": "markdown",
   "metadata": {},
   "source": [
    "### Greedy methods to figure out the best subset of features\n",
    "1. a very thorough methods to find the best subset. However, it is not guaranteed that the subset found is the best one for entire data configurations\n",
    "2. We will use the metrics that improves the mean error differed by 1 std. Also, the loss function is log loss functions\n",
    "3. reference: Brian Delassore feature selections"
   ]
  },
  {
   "cell_type": "code",
   "execution_count": null,
   "metadata": {
    "scrolled": true
   },
   "outputs": [],
   "source": [
    "for train_index, test_index in kfolds.split(orig_data):\n",
    "    X_train = orig_data.iloc[train_index]\n",
    "    X_test = orig_data.iloc[test_index]"
   ]
  },
  {
   "cell_type": "code",
   "execution_count": 277,
   "metadata": {
    "collapsed": true
   },
   "outputs": [],
   "source": [
    "def LogLoss(predict_prob, truth):\n",
    "    return ((-1*(np.log(predict_prob))*(truth == 1) - (np.log(1-predict_prob))*(truth == 0)).mean())"
   ]
  },
  {
   "cell_type": "code",
   "execution_count": 305,
   "metadata": {
    "collapsed": true
   },
   "outputs": [],
   "source": [
    "X = class_data.drop('target',1)\n",
    "y = class_data['target']\n",
    "X_train, X_test, y_train, y_test = train_test_split(X,y, test_size = 0.2, shuffle = False)"
   ]
  },
  {
   "cell_type": "code",
   "execution_count": 302,
   "metadata": {},
   "outputs": [],
   "source": [
    "for train_index, test_index in kfolds.split(X_train):\n",
    "    temp = train_index\n",
    "    X_train_sub = X_train.loc[train_index]\n",
    "#     X_val = X_train.iloc[test_index]\n",
    "#     y_train = y_train.iloc[train_index]\n",
    "#     y_val = y_train.iloc[test_index]"
   ]
  },
  {
   "cell_type": "code",
   "execution_count": 318,
   "metadata": {
    "collapsed": true
   },
   "outputs": [],
   "source": [
    "def train_iter(X_train, y_train):#X_trian here refers to the training set after the train_test split\n",
    "    kfolds = KFold(n_splits = 5)\n",
    "    loss_list = []\n",
    "    for train_index, test_index in kfolds.split(X_train):\n",
    "        X_train_sub = X_train.loc[train_index]\n",
    "        X_val = X_train.loc[test_index]\n",
    "        y_train_sub = y_train.loc[train_index]\n",
    "        y_val = y_train.loc[test_index]\n",
    "        \n",
    "        estimator = DecisionTreeClassifier(max_depth = 10, min_samples_leaf = 256)#Can be tuned\n",
    "        ada_classifier = AdaBoostClassifier(estimator,n_estimators = 200, learning_rate = 0.03)\n",
    "        ada_classifier.fit(X_train_sub, y_train_sub)\n",
    "        predict_prob = ada_classifier.predict_proba(X_val)[:,1]\n",
    "        \n",
    "        log_loss = LogLoss(predict_prob, y_val)\n",
    "        loss_list.append(log_loss)\n",
    "        \n",
    "    return (np.mean(loss_list), np.std(loss_list)/np.sqrt(len(loss_list)) )#standard deviation of the mean\n",
    "        "
   ]
  },
  {
   "cell_type": "code",
   "execution_count": 335,
   "metadata": {},
   "outputs": [],
   "source": [
    "def LrForward_LogLoss(X_train, y_train):\n",
    "    results = {}\n",
    "    curr_best = set()\n",
    "    cand_list = set(X_train.columns.values)\n",
    "    k = 1\n",
    "    \n",
    "    curr_best_mu = 10**10\n",
    "    curr_best_serr = 10**10\n",
    "    while True:\n",
    "        prev_best_mu = curr_best_mu\n",
    "        prev_best_serr = curr_best_serr\n",
    "        for f in cand_list:\n",
    "            use_x = list(curr_best) + [f]\n",
    "            mu, serr = train_iter(X_train[use_x], y_train)\n",
    "            if ((mu + serr) < (curr_best_mu + curr_best_serr)):\n",
    "                curr_best_mu = mu\n",
    "                curr_best_serr = serr\n",
    "                best_f = f\n",
    "        '''\n",
    "        Now we have a curr_best_mu that is among all the one added. We first decide whether the improvement is substantial\n",
    "        If the new best curr_best_mu is only slightly better than the previous one, we will just stop\n",
    "        and take whatever is chose. \n",
    "        '''\n",
    "        temp_prev = abs(prev_best_mu+ prev_best_serr)\n",
    "        temp_curr = abs(curr_best_mu + curr_best_serr)\n",
    "        print('The current prev and curr is {},{}'.format(temp_prev,temp_curr ))\n",
    "        if  (abs((prev_best_mu+ prev_best_serr) - (curr_best_mu+curr_best_serr)) <= 0.00001):\n",
    "            break;\n",
    "        #If not, then add in the new best feature.\n",
    "        curr_best.add(best_f) #Add the best feature to the curr_best_set\n",
    "        cand_list = cand_list.difference(curr_best) #Remove the best feature from the candidate set\n",
    "        results[k] = [list(curr_best), curr_best_mu, curr_best_serr]\n",
    "        \n",
    "    return results\n",
    "            "
   ]
  },
  {
   "cell_type": "code",
   "execution_count": 336,
   "metadata": {
    "scrolled": true
   },
   "outputs": [
    {
     "name": "stdout",
     "output_type": "stream",
     "text": [
      "The current prev and curr is 20000000000,0.6872058085229162\n",
      "The current prev and curr is 0.6872058085229162,0.6835610040187384\n",
      "The current prev and curr is 0.6835610040187384,0.6805297388087604\n",
      "The current prev and curr is 0.6805297388087604,0.6778797857527964\n",
      "The current prev and curr is 0.6778797857527964,0.6756583047666261\n",
      "The current prev and curr is 0.6756583047666261,0.6735800429701337\n",
      "The current prev and curr is 0.6735800429701337,0.6714638770280056\n",
      "The current prev and curr is 0.6714638770280056,0.6699201291637892\n",
      "The current prev and curr is 0.6699201291637892,0.6687694504576575\n",
      "The current prev and curr is 0.6687694504576575,0.6673835351434807\n",
      "The current prev and curr is 0.6673835351434807,0.6666742056924484\n",
      "The current prev and curr is 0.6666742056924484,0.6661440811888256\n",
      "The current prev and curr is 0.6661440811888256,0.6658651220382541\n",
      "The current prev and curr is 0.6658651220382541,0.6653979829144889\n",
      "The current prev and curr is 0.6653979829144889,0.6651185139623802\n",
      "The current prev and curr is 0.6651185139623802,0.66482970743619\n",
      "The current prev and curr is 0.66482970743619,0.6646047425362506\n",
      "The current prev and curr is 0.6646047425362506,0.6643519988173361\n",
      "The current prev and curr is 0.6643519988173361,0.6643217245996\n",
      "The current prev and curr is 0.6643217245996,0.6642623253779614\n",
      "The current prev and curr is 0.6642623253779614,0.6640763190506115\n",
      "The current prev and curr is 0.6640763190506115,0.6639190632374513\n",
      "The current prev and curr is 0.6639190632374513,0.6639190632374513\n"
     ]
    }
   ],
   "source": [
    "results = LrForward_LogLoss(X_train, y_train)"
   ]
  },
  {
   "cell_type": "code",
   "execution_count": 337,
   "metadata": {},
   "outputs": [
    {
     "data": {
      "text/plain": [
       "{1: [[' kw_avg_max',\n",
       "   ' LDA_00',\n",
       "   ' LDA_01',\n",
       "   ' global_subjectivity',\n",
       "   ' month_is_jan',\n",
       "   ' kw_avg_avg',\n",
       "   ' data_channel_is_socmed',\n",
       "   ' num_videos',\n",
       "   ' LDA_02',\n",
       "   ' timedelta',\n",
       "   ' data_channel_is_lifestyle',\n",
       "   ' n_unique_tokens',\n",
       "   ' is_weekend',\n",
       "   ' LDA_03',\n",
       "   ' kw_min_avg',\n",
       "   ' LDA_04',\n",
       "   ' min_positive_polarity',\n",
       "   ' data_channel_is_entertainment',\n",
       "   ' month_is_oct',\n",
       "   ' self_reference_avg_sharess',\n",
       "   ' self_reference_min_shares',\n",
       "   ' num_hrefs'],\n",
       "  0.6622736970169243,\n",
       "  0.0016453662205269907]}"
      ]
     },
     "execution_count": 337,
     "metadata": {},
     "output_type": "execute_result"
    }
   ],
   "source": [
    "results"
   ]
  },
  {
   "cell_type": "code",
   "execution_count": 366,
   "metadata": {
    "collapsed": true
   },
   "outputs": [],
   "source": [
    "key_features = list(results[1][0])\n",
    "key_features.append('target')"
   ]
  },
  {
   "cell_type": "code",
   "execution_count": 367,
   "metadata": {},
   "outputs": [],
   "source": [
    "feature_selected_data = class_data[key_features]"
   ]
  },
  {
   "cell_type": "markdown",
   "metadata": {},
   "source": [
    "Now use the best configuration of each tree-based model to get results, based on metrics of auc and also F1-SCORE\n",
    "1. decision trees\n",
    "2. adaboosting\n",
    "3. gradient tree boosting\n",
    "4. random forest"
   ]
  },
  {
   "cell_type": "code",
   "execution_count": 388,
   "metadata": {},
   "outputs": [],
   "source": [
    "X_fs = feature_selected_data.drop('target', 1)\n",
    "y_fs = feature_selected_data['target']\n",
    "AUCs = []\n",
    "fprs = []\n",
    "tprs = []\n",
    "f1_scores = []"
   ]
  },
  {
   "cell_type": "code",
   "execution_count": 370,
   "metadata": {},
   "outputs": [
    {
     "data": {
      "text/plain": [
       "DecisionTreeClassifier(class_weight=None, criterion='gini', max_depth=10,\n",
       "            max_features=None, max_leaf_nodes=None,\n",
       "            min_impurity_decrease=0.0, min_impurity_split=None,\n",
       "            min_samples_leaf=256, min_samples_split=2,\n",
       "            min_weight_fraction_leaf=0.0, presort=False, random_state=None,\n",
       "            splitter='best')"
      ]
     },
     "execution_count": 370,
     "metadata": {},
     "output_type": "execute_result"
    }
   ],
   "source": [
    "#Decision Tree\n",
    "X_train_fs, X_test_fs, y_train_fs,y_test_fs = train_test_split(X_fs, y_fs, test_size = 0.2)\n",
    "dt_fs = DecisionTreeClassifier(max_depth = 10, min_samples_leaf = 256)\n",
    "dt_fs.fit(X_train_fs, y_train_fs)"
   ]
  },
  {
   "cell_type": "code",
   "execution_count": 371,
   "metadata": {
    "scrolled": true
   },
   "outputs": [
    {
     "data": {
      "text/plain": [
       "0.6509017530583933"
      ]
     },
     "execution_count": 371,
     "metadata": {},
     "output_type": "execute_result"
    }
   ],
   "source": [
    "dt_fs.score(X_test_fs, y_test_fs)"
   ]
  },
  {
   "cell_type": "code",
   "execution_count": 389,
   "metadata": {},
   "outputs": [],
   "source": [
    "f1_score = metrics.f1_score(y_test_fs, dt_fs.predict(X_test_fs))\n",
    "fpr, tpr,_ = metrics.roc_curve(y_test_fs, dt_fs.predict_proba(X_test_fs)[:,1])\n",
    "auc = metrics.auc(fpr, tpr)\n",
    "f1_scores.append(f1_score)\n",
    "fprs.append(fpr)\n",
    "tprs.append(tpr)\n",
    "AUCs.append(auc)"
   ]
  },
  {
   "cell_type": "code",
   "execution_count": 391,
   "metadata": {},
   "outputs": [
    {
     "data": {
      "text/plain": [
       "AdaBoostClassifier(algorithm='SAMME.R',\n",
       "          base_estimator=DecisionTreeClassifier(class_weight=None, criterion='gini', max_depth=10,\n",
       "            max_features=None, max_leaf_nodes=None,\n",
       "            min_impurity_decrease=0.0, min_impurity_split=None,\n",
       "            min_samples_leaf=256, min_samples_split=2,\n",
       "            min_weight_fraction_leaf=0.0, presort=False, random_state=None,\n",
       "            splitter='best'),\n",
       "          learning_rate=0.03, n_estimators=250, random_state=None)"
      ]
     },
     "execution_count": 391,
     "metadata": {},
     "output_type": "execute_result"
    }
   ],
   "source": [
    "#AdaBoosting:\n",
    "estimator = DecisionTreeClassifier(max_depth = 10, min_samples_leaf = 256)\n",
    "ad_fs = AdaBoostClassifier(estimator, learning_rate =0.03, n_estimators = 250)\n",
    "ad_fs.fit(X_train_fs, y_train_fs)"
   ]
  },
  {
   "cell_type": "code",
   "execution_count": 392,
   "metadata": {},
   "outputs": [
    {
     "data": {
      "text/plain": [
       "0.6802875520242149"
      ]
     },
     "execution_count": 392,
     "metadata": {},
     "output_type": "execute_result"
    }
   ],
   "source": [
    "ad_fs.score(X_test_fs, y_test_fs)"
   ]
  },
  {
   "cell_type": "code",
   "execution_count": 393,
   "metadata": {
    "collapsed": true
   },
   "outputs": [],
   "source": [
    "f1_score = metrics.f1_score(y_test_fs, ad_fs.predict(X_test_fs))\n",
    "fpr, tpr,_ = metrics.roc_curve(y_test_fs, ad_fs.predict_proba(X_test_fs)[:,1])\n",
    "auc = metrics.auc(fpr, tpr)\n",
    "f1_scores.append(f1_score)\n",
    "fprs.append(fpr)\n",
    "tprs.append(tpr)\n",
    "AUCs.append(auc)"
   ]
  },
  {
   "cell_type": "code",
   "execution_count": 396,
   "metadata": {},
   "outputs": [
    {
     "data": {
      "text/plain": [
       "GradientBoostingClassifier(criterion='friedman_mse', init=None,\n",
       "              learning_rate=0.03, loss='deviance', max_depth=10,\n",
       "              max_features=None, max_leaf_nodes=None,\n",
       "              min_impurity_decrease=0.0, min_impurity_split=None,\n",
       "              min_samples_leaf=1, min_samples_split=2,\n",
       "              min_weight_fraction_leaf=0.0, n_estimators=250,\n",
       "              presort='auto', random_state=None, subsample=1.0, verbose=0,\n",
       "              warm_start=False)"
      ]
     },
     "execution_count": 396,
     "metadata": {},
     "output_type": "execute_result"
    }
   ],
   "source": [
    "#Gradient Boosting Classifier\n",
    "gb_fs = GradientBoostingClassifier(max_depth = 10, learning_rate = 0.03, n_estimators = 250)\n",
    "gb_fs.fit(X_train_fs, y_train_fs)"
   ]
  },
  {
   "cell_type": "code",
   "execution_count": 397,
   "metadata": {},
   "outputs": [
    {
     "data": {
      "text/plain": [
       "0.6749905410518351"
      ]
     },
     "execution_count": 397,
     "metadata": {},
     "output_type": "execute_result"
    }
   ],
   "source": [
    "gb_fs.score(X_test_fs, y_test_fs)"
   ]
  },
  {
   "cell_type": "code",
   "execution_count": 398,
   "metadata": {
    "collapsed": true
   },
   "outputs": [],
   "source": [
    "f1_score = metrics.f1_score(y_test_fs, gb_fs.predict(X_test_fs))\n",
    "fpr, tpr,_ = metrics.roc_curve(y_test_fs, gb_fs.predict_proba(X_test_fs)[:,1])\n",
    "auc = metrics.auc(fpr, tpr)\n",
    "f1_scores.append(f1_score)\n",
    "fprs.append(fpr)\n",
    "tprs.append(tpr)\n",
    "AUCs.append(auc)"
   ]
  },
  {
   "cell_type": "code",
   "execution_count": 452,
   "metadata": {},
   "outputs": [
    {
     "data": {
      "text/plain": [
       "RandomForestClassifier(bootstrap=True, class_weight=None, criterion='gini',\n",
       "            max_depth=None, max_features=6, max_leaf_nodes=None,\n",
       "            min_impurity_decrease=0.0, min_impurity_split=None,\n",
       "            min_samples_leaf=1, min_samples_split=2,\n",
       "            min_weight_fraction_leaf=0.0, n_estimators=250, n_jobs=1,\n",
       "            oob_score=False, random_state=None, verbose=0,\n",
       "            warm_start=False)"
      ]
     },
     "execution_count": 452,
     "metadata": {},
     "output_type": "execute_result"
    }
   ],
   "source": [
    "#Random Forest:\n",
    "rf_fs = RandomForestClassifier(n_estimators = 250,max_features = 6)\n",
    "rf_fs.fit(X_train_fs, y_train_fs)"
   ]
  },
  {
   "cell_type": "code",
   "execution_count": 456,
   "metadata": {},
   "outputs": [],
   "source": [
    "rf_fs.score(X_test_fs, y_test_fs)\n",
    "f1_score = metrics.f1_score(y_test_fs, rf_fs.predict(X_test_fs))\n",
    "fpr, tpr,_ = metrics.roc_curve(y_test_fs, rf_fs.predict_proba(X_test_fs)[:,1])\n",
    "auc = metrics.auc(fpr, tpr)\n",
    "f1_scores.append(f1_score)\n",
    "fprs.append(fpr)\n",
    "tprs.append(tpr)\n",
    "AUCs.append(auc)"
   ]
  },
  {
   "cell_type": "code",
   "execution_count": 506,
   "metadata": {},
   "outputs": [
    {
     "data": {
      "text/plain": [
       "XGBClassifier(base_score=0.5, booster='gbtree', colsample_bylevel=1,\n",
       "       colsample_bytree=1, gamma=0, learning_rate=0.03, max_delta_step=0,\n",
       "       max_depth=10, min_child_weight=1, missing=None, n_estimators=250,\n",
       "       n_jobs=1, nthread=None, objective='binary:logistic', random_state=0,\n",
       "       reg_alpha=0, reg_lambda=1, scale_pos_weight=1, seed=None,\n",
       "       silent=True, subsample=1)"
      ]
     },
     "execution_count": 506,
     "metadata": {},
     "output_type": "execute_result"
    }
   ],
   "source": [
    "#XGBoost\n",
    "xgb_fs = XGBClassifier(max_depth = 10, learning_rate = 0.03, n_estimators = 250)\n",
    "xgb_fs.fit(X_train_fs, y_train_fs)"
   ]
  },
  {
   "cell_type": "code",
   "execution_count": 508,
   "metadata": {},
   "outputs": [
    {
     "data": {
      "text/plain": [
       "0.6758733762138983"
      ]
     },
     "execution_count": 508,
     "metadata": {},
     "output_type": "execute_result"
    }
   ],
   "source": [
    "xgb_fs.score(X_test_fs, y_test_fs)"
   ]
  },
  {
   "cell_type": "code",
   "execution_count": 507,
   "metadata": {
    "collapsed": true
   },
   "outputs": [],
   "source": [
    "#rf_fs.score(X_test_fs, y_test_fs)\n",
    "f1_score = metrics.f1_score(y_test_fs, xgb_fs.predict(X_test_fs))\n",
    "fpr, tpr,_ = metrics.roc_curve(y_test_fs, xgb_fs.predict_proba(X_test_fs)[:,1])\n",
    "auc = metrics.auc(fpr, tpr)\n",
    "f1_scores.append(f1_score)\n",
    "fprs.append(fpr)\n",
    "tprs.append(tpr)\n",
    "AUCs.append(auc)"
   ]
  },
  {
   "cell_type": "code",
   "execution_count": null,
   "metadata": {
    "collapsed": true
   },
   "outputs": [],
   "source": []
  },
  {
   "cell_type": "code",
   "execution_count": 659,
   "metadata": {},
   "outputs": [
    {
     "data": {
      "image/png": "[encoded data removed]",
      "text/plain": [
       "<Figure size 432x432 with 1 Axes>"
      ]
     },
     "metadata": {},
     "output_type": "display_data"
    }
   ],
   "source": [
    "import matplotlib.pyplot as plt\n",
    "%matplotlib inline\n",
    "plt.rcParams['figure.figsize'] = 6,6\n",
    "\n",
    "roc_labels = []\n",
    "#roc_labels.append('Decision Tree AUC: {0:2f}'.format(AUCs[0]))\n",
    "roc_labels.append('Decision Tree AUC: {0:2f}'.format(0.68153))\n",
    "roc_labels.append('AdaBoost Classifer AUC: {0:2f}'.format(AUCs[1]))\n",
    "roc_labels.append('Gradient Boosting AUC: {0:2f}'.format(AUCs[2]))\n",
    "#roc_labels.append('Random Forest AUC: {0:2f}'.format(AUCs[3]))\n",
    "roc_labels.append('Random Forest AUC: {0:2f}'.format(0.7008))\n",
    "roc_labels.append('XGBoost AUC: {0:2f}'.format(AUCs[4]))\n",
    "ax = plt.subplots()\n",
    "for i in range(5):\n",
    "    plt.plot(fprs[i], tprs[i],label = roc_labels[i])\n",
    "    \n",
    "plt.legend()\n",
    "plt.xlabel(\"fpr\")\n",
    "plt.ylabel(\"tpr\")\n",
    "plt.title(\"ROC Curve under feature selection\")\n",
    "plt.xlim([0, 1])\n",
    "plt.ylim([0, 1])\n",
    "#plt.show()\n",
    "plt.savefig('biny_class_roc.png')"
   ]
  },
  {
   "cell_type": "markdown",
   "metadata": {},
   "source": [
    "### Investigate on the distribution of shares\n",
    "1. Have 3 methods of dividing the three classes.\n",
    "2. Use the best features selected and the best models configurations to see the accuracy and AUC, ROC F1score\n",
    "3. Compare the result. "
   ]
  },
  {
   "cell_type": "code",
   "execution_count": 674,
   "metadata": {},
   "outputs": [],
   "source": [
    "share_data = model_data[' shares']"
   ]
  },
  {
   "cell_type": "code",
   "execution_count": 675,
   "metadata": {},
   "outputs": [],
   "source": [
    "maj_share = []\n",
    "for share in share_data:\n",
    "    if share < 20000:\n",
    "        maj_share.append(share)"
   ]
  },
  {
   "cell_type": "markdown",
   "metadata": {},
   "source": [
    "It is apparent that the share data has a long tail distribution, while most data concentrates on in the range of (0,200000)"
   ]
  },
  {
   "cell_type": "code",
   "execution_count": 676,
   "metadata": {
    "collapsed": true
   },
   "outputs": [],
   "source": [
    "extreme_class = []\n",
    "for share in share_data:\n",
    "    if share > 10000:\n",
    "        extreme_class.append(share)#Only 15 articles holding shares greater than 20000\n",
    "        #4813 having over 5000 shares \n",
    "    "
   ]
  },
  {
   "cell_type": "code",
   "execution_count": 677,
   "metadata": {},
   "outputs": [
    {
     "data": {
      "text/plain": [
       "<matplotlib.axes._subplots.AxesSubplot at 0x1aa336cc18>"
      ]
     },
     "execution_count": 677,
     "metadata": {},
     "output_type": "execute_result"
    },
    {
     "data": {
      "image/png": "[encoded data removed]",
      "text/plain": [
       "<Figure size 864x864 with 1 Axes>"
      ]
     },
     "metadata": {},
     "output_type": "display_data"
    }
   ],
   "source": [
    "fig,ax = plt.subplots(figsize =(12,12))\n",
    "hist_kws = hist_kws={'histtype':'bar', 'edgecolor':'black', 'alpha':0.2}\n",
    "#plt.plot(token_length[' average_token_length'], token_length[' shares'], '.')\n",
    "\n",
    "sns.distplot(maj_share, ax=ax, bins =200, hist_kws = hist_kws)\n"
   ]
  },
  {
   "cell_type": "markdown",
   "metadata": {},
   "source": [
    "1st first threshold investigation: We take the quantiles as as threshold for first, second and third threshold. \n"
   ]
  },
  {
   "cell_type": "code",
   "execution_count": 678,
   "metadata": {
    "collapsed": true
   },
   "outputs": [],
   "source": [
    "share_data = model_data[' shares']"
   ]
  },
  {
   "cell_type": "code",
   "execution_count": 679,
   "metadata": {},
   "outputs": [
    {
     "data": {
      "text/plain": [
       "(946.0, 2800.0)"
      ]
     },
     "execution_count": 679,
     "metadata": {},
     "output_type": "execute_result"
    }
   ],
   "source": [
    "threshold_1 = share_data.describe()['25%']\n",
    "threshold_2 = share_data.describe()['75%']\n",
    "threshold_1, threshold_2"
   ]
  },
  {
   "cell_type": "code",
   "execution_count": 680,
   "metadata": {},
   "outputs": [
    {
     "name": "stdout",
     "output_type": "stream",
     "text": [
      "The length of 3 categories are 9930,20084,9630\n"
     ]
    }
   ],
   "source": [
    "popular_1 = []\n",
    "popular_2 = []\n",
    "popular_3 = []\n",
    "for share in share_data:\n",
    "    if share <= threshold_1:\n",
    "        popular_1.append(share)\n",
    "    elif share > threshold_2:\n",
    "        popular_3.append(share)\n",
    "    else:\n",
    "        popular_2.append(share)\n",
    "print('The length of 3 categories are {},{},{}'.format(len(popular_1), len(popular_2), len(popular_3)))"
   ]
  },
  {
   "cell_type": "code",
   "execution_count": 681,
   "metadata": {
    "scrolled": true
   },
   "outputs": [],
   "source": [
    "target_3 = []\n",
    "for share in share_data:\n",
    "    if share <= threshold_1:\n",
    "        target_3.append(0)\n",
    "    elif share > threshold_2:\n",
    "        target_3.append(2)\n",
    "    else:\n",
    "        target_3.append(1)"
   ]
  },
  {
   "cell_type": "code",
   "execution_count": 682,
   "metadata": {},
   "outputs": [],
   "source": [
    "model_data['multi_target'] = target_3\n",
    "multi_data = model_data.drop(' shares',1)"
   ]
  },
  {
   "cell_type": "code",
   "execution_count": 683,
   "metadata": {
    "collapsed": true
   },
   "outputs": [],
   "source": [
    "X_multi = multi_data.drop('multi_target',1)\n",
    "y_multi = multi_data['multi_target']\n",
    "X_train_multi, X_test_multi, y_train_multi, y_test_multi = train_test_split(X_multi, y_multi, test_size= 0.2)"
   ]
  },
  {
   "cell_type": "code",
   "execution_count": 684,
   "metadata": {
    "collapsed": true
   },
   "outputs": [],
   "source": [
    "estimator = DecisionTreeClassifier(max_depth = 10, min_samples_leaf = 256)\n",
    "ad_multi = AdaBoostClassifier(estimator, learning_rate =0.03, n_estimators = 500)"
   ]
  },
  {
   "cell_type": "code",
   "execution_count": 685,
   "metadata": {},
   "outputs": [
    {
     "data": {
      "text/plain": [
       "AdaBoostClassifier(algorithm='SAMME.R',\n",
       "          base_estimator=DecisionTreeClassifier(class_weight=None, criterion='gini', max_depth=10,\n",
       "            max_features=None, max_leaf_nodes=None,\n",
       "            min_impurity_decrease=0.0, min_impurity_split=None,\n",
       "            min_samples_leaf=256, min_samples_split=2,\n",
       "            min_weight_fraction_leaf=0.0, presort=False, random_state=None,\n",
       "            splitter='best'),\n",
       "          learning_rate=0.03, n_estimators=500, random_state=None)"
      ]
     },
     "execution_count": 685,
     "metadata": {},
     "output_type": "execute_result"
    }
   ],
   "source": [
    "ad_multi.fit(X_train_multi, y_train_multi)"
   ]
  },
  {
   "cell_type": "code",
   "execution_count": 692,
   "metadata": {
    "collapsed": true
   },
   "outputs": [],
   "source": [
    "import pandas as pd\n",
    "import numpy as np\n",
    "from scipy import interp\n",
    "\n",
    "from  sklearn.metrics import precision_recall_fscore_support\n",
    "from sklearn.metrics import roc_curve, auc\n",
    "from sklearn.preprocessing import LabelBinarizer\n",
    "def class_report(y_true, y_pred, y_score=None, average='micro'):\n",
    "    if y_true.shape != y_pred.shape:\n",
    "        print(\"Error! y_true %s is not the same shape as y_pred %s\" % (\n",
    "              y_true.shape,\n",
    "              y_pred.shape)\n",
    "        )\n",
    "        return\n",
    "\n",
    "    lb = LabelBinarizer()\n",
    "\n",
    "    if len(y_true.shape) == 1:\n",
    "        lb.fit(y_true)\n",
    "\n",
    "    #Value counts of predictions\n",
    "    labels, cnt = np.unique(\n",
    "        y_pred,\n",
    "        return_counts=True)\n",
    "    n_classes = len(labels)\n",
    "    pred_cnt = pd.Series(cnt, index=labels)\n",
    "\n",
    "    metrics_summary = precision_recall_fscore_support(\n",
    "            y_true=y_true,\n",
    "            y_pred=y_pred,\n",
    "            labels=labels)\n",
    "    avg = list(precision_recall_fscore_support(\n",
    "            y_true=y_true, \n",
    "            y_pred=y_pred,\n",
    "            average='weighted'))\n",
    "\n",
    "    metrics_sum_index = ['precision', 'recall', 'f1-score', 'support']\n",
    "    class_report_df = pd.DataFrame(\n",
    "        list(metrics_summary),\n",
    "        index=metrics_sum_index,\n",
    "        columns=labels)\n",
    "\n",
    "    support = class_report_df.loc['support']\n",
    "    total = support.sum() \n",
    "    class_report_df['avg / total'] = avg[:-1] + [total]\n",
    "\n",
    "    class_report_df = class_report_df.T\n",
    "    class_report_df['pred'] = pred_cnt\n",
    "    class_report_df['pred'].iloc[-1] = total\n",
    "\n",
    "    if not (y_score is None):\n",
    "        fpr = dict()\n",
    "        tpr = dict()\n",
    "        roc_auc = dict()\n",
    "        for label_it, label in enumerate(labels):\n",
    "            fpr[label], tpr[label], _ = roc_curve(\n",
    "                (y_true == label).astype(int), \n",
    "                y_score[:, label_it])\n",
    "\n",
    "            roc_auc[label] = auc(fpr[label], tpr[label])\n",
    "        if average == 'micro':\n",
    "            if n_classes <= 2:\n",
    "                fpr[\"avg / total\"], tpr[\"avg / total\"], _ = roc_curve(\n",
    "                    lb.transform(y_true).ravel(), \n",
    "                    y_score[:, 1].ravel())\n",
    "            else:\n",
    "                fpr[\"avg / total\"], tpr[\"avg / total\"], _ = roc_curve(\n",
    "                        lb.transform(y_true).ravel(), \n",
    "                        y_score.ravel())\n",
    "\n",
    "            roc_auc[\"avg / total\"] = auc(\n",
    "                fpr[\"avg / total\"], \n",
    "                tpr[\"avg / total\"])\n",
    "\n",
    "        elif average == 'macro':\n",
    "            # First aggregate all false positive rates\n",
    "            all_fpr = np.unique(np.concatenate([\n",
    "                fpr[i] for i in labels]\n",
    "            ))\n",
    "\n",
    "            # Then interpolate all ROC curves at this points\n",
    "            mean_tpr = np.zeros_like(all_fpr)\n",
    "            for i in labels:\n",
    "                mean_tpr += interp(all_fpr, fpr[i], tpr[i])\n",
    "\n",
    "            # Finally average it and compute AUC\n",
    "            mean_tpr /= n_classes\n",
    "            fpr[\"macro\"] = all_fpr\n",
    "            tpr[\"macro\"] = mean_tpr\n",
    "\n",
    "            roc_auc[\"avg / total\"] = auc(fpr[\"macro\"], tpr[\"macro\"])\n",
    "\n",
    "        class_report_df['AUC'] = pd.Series(roc_auc)\n",
    "\n",
    "    return class_report_df\n"
   ]
  },
  {
   "cell_type": "code",
   "execution_count": 693,
   "metadata": {},
   "outputs": [
    {
     "name": "stdout",
     "output_type": "stream",
     "text": [
      "             precision    recall  f1-score  support    pred       AUC\n",
      "0             0.551754  0.312469  0.398985   2013.0  1140.0  0.765080\n",
      "1             0.544258  0.830738  0.657654   3982.0  6078.0  0.580210\n",
      "2             0.544304  0.200103  0.292628   1934.0   711.0  0.725322\n",
      "avg / total   0.546172  0.545340  0.502948   7929.0  7929.0  0.736405\n"
     ]
    }
   ],
   "source": [
    "from sklearn.metrics import classification_report\n",
    "\n",
    "report_with_auc = class_report(\n",
    "    y_true=y_test_multi, \n",
    "    y_pred=ad_multi.predict(X_test_multi), \n",
    "    y_score=ad_multi.predict_proba(X_test_multi))\n",
    "\n",
    "print(report_with_auc)"
   ]
  },
  {
   "cell_type": "code",
   "execution_count": 535,
   "metadata": {
    "collapsed": true
   },
   "outputs": [],
   "source": [
    "def three_class_classifier(Xtrain, ytrain, Xtest, ytest, model):\n",
    "    '''\n",
    "    Assume our 3 class is labeled from 0 to 2.\n",
    "    '''\n",
    "    total_correct = 0\n",
    "    for i in range(3):\n",
    "        temp_target = ytrain.apply(lambda target: 1 if (target == i) else 0)\n",
    "        temp_test = ytest.apply(lambda result: 1 if (result == i) else 0)\n",
    "        #total_curr_class = temp_test.sum()\n",
    "        model.fit(Xtrain, temp_target)\n",
    "        prediction = model.predict(Xtest)\n",
    "        result = temp_test[(prediction == temp_test) & (temp_test == 1)]#classified the current class correct\n",
    "        correct = result.sum()\n",
    "        total_correct += correct\n",
    "    \n",
    "    return (total_correct / len(ytest))\n",
    "\n",
    "    "
   ]
  },
  {
   "cell_type": "code",
   "execution_count": 540,
   "metadata": {
    "collapsed": true
   },
   "outputs": [],
   "source": [
    "##Feed all features through adaboost with the best configuration:\n",
    "estimator = DecisionTreeClassifier(max_depth = 10, min_samples_leaf = 256)\n",
    "ad_multi = AdaBoostClassifier(estimator, learning_rate =0.03, n_estimators = 500)\n"
   ]
  },
  {
   "cell_type": "code",
   "execution_count": 541,
   "metadata": {
    "collapsed": true,
    "scrolled": true
   },
   "outputs": [],
   "source": [
    "#Feed all features through adaboost with the best configuration:\n",
    "\n",
    "#AdaBoosting:\n",
    "ada_accuracy = three_class_classifier(X_train_multi, y_train_multi, X_test_multi,y_test_multi, ad_multi)"
   ]
  },
  {
   "cell_type": "code",
   "execution_count": 542,
   "metadata": {},
   "outputs": [
    {
     "data": {
      "text/plain": [
       "0.4108967082860386"
      ]
     },
     "execution_count": 542,
     "metadata": {},
     "output_type": "execute_result"
    }
   ],
   "source": [
    "ada_accuracy"
   ]
  },
  {
   "cell_type": "code",
   "execution_count": 698,
   "metadata": {},
   "outputs": [],
   "source": [
    "#Feed only selected features \n",
    "#key_features.remove('target')\n",
    "X_multi_fs = X_multi[key_features]\n",
    "X_multi_fs_train, X_multi_fs_test, y_multi_fs_train, y_multi_fs_test = train_test_split(X_multi_fs, y_multi, test_size = 0.2)\n"
   ]
  },
  {
   "cell_type": "code",
   "execution_count": 700,
   "metadata": {},
   "outputs": [
    {
     "data": {
      "text/plain": [
       "AdaBoostClassifier(algorithm='SAMME.R',\n",
       "          base_estimator=DecisionTreeClassifier(class_weight=None, criterion='gini', max_depth=10,\n",
       "            max_features=None, max_leaf_nodes=None,\n",
       "            min_impurity_decrease=0.0, min_impurity_split=None,\n",
       "            min_samples_leaf=256, min_samples_split=2,\n",
       "            min_weight_fraction_leaf=0.0, presort=False, random_state=None,\n",
       "            splitter='best'),\n",
       "          learning_rate=0.03, n_estimators=500, random_state=None)"
      ]
     },
     "execution_count": 700,
     "metadata": {},
     "output_type": "execute_result"
    }
   ],
   "source": [
    "estimator_fs = DecisionTreeClassifier(max_depth = 10, min_samples_leaf = 256)\n",
    "ad_multi_fs = AdaBoostClassifier(estimator_fs, learning_rate =0.03, n_estimators = 500)\n",
    "#ada_accuracy_fs = three_class_classifier(X_multi_fs_train, y_multi_fs_train, X_multi_fs_test, y_multi_fs_test, ad_multi_fs)\n",
    "ad_multi_fs.fit(X_multi_fs_train, y_multi_fs_train)"
   ]
  },
  {
   "cell_type": "code",
   "execution_count": 701,
   "metadata": {},
   "outputs": [
    {
     "name": "stdout",
     "output_type": "stream",
     "text": [
      "             precision    recall  f1-score  support    pred       AUC\n",
      "0             0.528606  0.335036  0.410128   1958.0  1241.0  0.751581\n",
      "1             0.546709  0.809773  0.652733   4011.0  5941.0  0.583838\n",
      "2             0.510040  0.194388  0.281492   1960.0   747.0  0.709169\n",
      "avg / total   0.533174  0.540421  0.501055   7929.0  7929.0  0.728977\n"
     ]
    }
   ],
   "source": [
    "report_with_auc = class_report(\n",
    "    y_true=y_multi_fs_test, \n",
    "    y_pred=ad_multi_fs.predict(X_multi_fs_test), \n",
    "    y_score=ad_multi_fs.predict_proba(X_multi_fs_test))\n",
    "\n",
    "print(report_with_auc)"
   ]
  },
  {
   "cell_type": "code",
   "execution_count": 561,
   "metadata": {
    "scrolled": true
   },
   "outputs": [
    {
     "data": {
      "text/plain": [
       "0.4029511918274688"
      ]
     },
     "execution_count": 561,
     "metadata": {},
     "output_type": "execute_result"
    }
   ],
   "source": [
    "ada_accuracy_fs"
   ]
  },
  {
   "cell_type": "code",
   "execution_count": null,
   "metadata": {
    "collapsed": true
   },
   "outputs": [],
   "source": [
    "#Summon up\n",
    "target_3 = []\n",
    "for share in share_data:\n",
    "    if share <= threshold_1:\n",
    "        target_3.append(0)\n",
    "    elif share > threshold_2:\n",
    "        target_3.append(2)\n",
    "    else:\n",
    "        target_3.append(1)\n",
    "        \n",
    "model_data['multi_target'] = target_3\n",
    "multi_data = model_data.drop(' shares',1)\n",
    "X_multi = multi_data.drop('multi_target',1)\n",
    "y_multi = multi_data['multi_target']\n",
    "X_train_multi, X_test_multi, y_train_multi, y_test_multi = train_test_split(X_multi, y_multi, test_size= 0.2)\n",
    "\n",
    "##Feed all features through adaboost with the best configuration:\n",
    "estimator = DecisionTreeClassifier(max_depth = 10, min_samples_leaf = 256)\n",
    "ad_multi = AdaBoostClassifier(estimator, learning_rate =0.03, n_estimators = 250)\n",
    "ada_accuracy = three_class_classifier(X_train_multi, y_train_multi, X_test_multi,y_test_multi, ad_multi)\n",
    "\n",
    "#Feed only selected features \n",
    "X_mutli_fs = X_multi[key_features]\n",
    "y_multi_fs = y_multi[key_features]\n",
    "\n",
    "\n",
    "X_multi_fs_train, X_multi_ds_test, y_mutli_fs_train, y_multi_fs_test = train_test_split(X_multi_fs, y_multi_fs, test_size = 0.2)\n",
    "estimator_fs = DecisionTreeClassifier(max_depth = 10, min_samples_leaf = 256)\n",
    "ad_multi_fs = AdaBoostClassifier(estimator_fs, learning_rate =0.03, n_estimators = 250)\n",
    "ada_accuracy_fs = three_class_classifier(X_multi_fs_train, y_multi_fs_train, X_mutli_fs_test, y_mutli_fs_test, ad_multi_fs)\n",
    "\n"
   ]
  },
  {
   "cell_type": "markdown",
   "metadata": {},
   "source": [
    "2.Methods, if we divide them evenly, as we have 1/3 of data as the less popular ones, 1/3 as the most popular ones:"
   ]
  },
  {
   "cell_type": "code",
   "execution_count": 702,
   "metadata": {},
   "outputs": [
    {
     "data": {
      "text/plain": [
       "(1100.0, 2100.0)"
      ]
     },
     "execution_count": 702,
     "metadata": {},
     "output_type": "execute_result"
    }
   ],
   "source": [
    "threshold_1 = np.percentile(share_data, 33)\n",
    "threshold_2 = np.percentile(share_data, 66)\n",
    "threshold_1, threshold_2"
   ]
  },
  {
   "cell_type": "code",
   "execution_count": 703,
   "metadata": {},
   "outputs": [
    {
     "name": "stdout",
     "output_type": "stream",
     "text": [
      "The length of 3 categories are 14732,11957,12955\n"
     ]
    }
   ],
   "source": [
    "popular_1 = []\n",
    "popular_2 = []\n",
    "popular_3 = []\n",
    "for share in share_data:\n",
    "    if share <= threshold_1:\n",
    "        popular_1.append(share)\n",
    "    elif share > threshold_2:\n",
    "        popular_3.append(share)\n",
    "    else:\n",
    "        popular_2.append(share)\n",
    "print('The length of 3 categories are {},{},{}'.format(len(popular_1), len(popular_2), len(popular_3)))"
   ]
  },
  {
   "cell_type": "code",
   "execution_count": 704,
   "metadata": {},
   "outputs": [
    {
     "name": "stdout",
     "output_type": "stream",
     "text": [
      "             precision    recall  f1-score  support    pred       AUC\n",
      "0             0.569362  0.680570  0.620019   2949.0  3525.0  0.757991\n",
      "1             0.423607  0.292028  0.345721   2421.0  1669.0  0.587642\n",
      "2             0.516271  0.551778  0.533434   2559.0  2735.0  0.726296\n",
      "avg / total   0.507723  0.520368  0.508322   7929.0  7929.0  0.701648\n",
      "             precision    recall  f1-score  support    pred       AUC\n",
      "0             0.568777  0.680601  0.619685   3062.0  3664.0  0.748730\n",
      "1             0.394720  0.267690  0.319025   2346.0  1591.0  0.576863\n",
      "2             0.521690  0.553352  0.537055   2521.0  2674.0  0.728272\n",
      "avg / total   0.502307  0.517972  0.504455   7929.0  7929.0  0.698710\n"
     ]
    }
   ],
   "source": [
    "#Summon up\n",
    "target_3 = []\n",
    "for share in share_data:\n",
    "    if share <= threshold_1:\n",
    "        target_3.append(0)\n",
    "    elif share > threshold_2:\n",
    "        target_3.append(2)\n",
    "    else:\n",
    "        target_3.append(1)\n",
    "        \n",
    "model_data['multi_target'] = target_3\n",
    "multi_data = model_data.drop(' shares',1)\n",
    "X_multi = multi_data.drop('multi_target',1)\n",
    "y_multi = multi_data['multi_target']\n",
    "X_train_multi, X_test_multi, y_train_multi, y_test_multi = train_test_split(X_multi, y_multi, test_size= 0.2)\n",
    "\n",
    "##Feed all features through adaboost with the best configuration:\n",
    "estimator = DecisionTreeClassifier(max_depth = 10, min_samples_leaf = 256)\n",
    "ad_multi = AdaBoostClassifier(estimator, learning_rate =0.03, n_estimators = 500)\n",
    "#ada_accuracy = three_class_classifier(X_train_multi, y_train_multi, X_test_multi,y_test_multi, ad_multi)\n",
    "ad_multi.fit(X_train_multi, y_train_multi)\n",
    "\n",
    "report_with_auc_orig = class_report(\n",
    "    y_true=y_test_multi, \n",
    "    y_pred=ad_multi.predict(X_test_multi), \n",
    "    y_score=ad_multi.predict_proba(X_test_multi))\n",
    "\n",
    "print(report_with_auc_orig)\n",
    "\n",
    "#Feed only selected features \n",
    "X_multi_fs = X_multi[key_features]\n",
    "y_multi_fs = y_multi\n",
    "\n",
    "\n",
    "X_multi_fs_train, X_multi_fs_test, y_multi_fs_train, y_multi_fs_test = train_test_split(X_multi_fs, y_multi_fs, test_size = 0.2)\n",
    "estimator_fs = DecisionTreeClassifier(max_depth = 10, min_samples_leaf = 256)\n",
    "ad_multi_fs = AdaBoostClassifier(estimator_fs, learning_rate =0.03, n_estimators = 500)\n",
    "ad_multi_fs.fit(X_multi_fs_train, y_multi_fs_train)\n",
    "#ada_accuracy_fs = three_class_classifier(X_multi_fs_train, y_multi_fs_train, X_multi_fs_test, y_multi_fs_test, ad_multi_fs)\n",
    "\n",
    "report_with_auc_fs = class_report(\n",
    "    y_true=y_multi_fs_test, \n",
    "    y_pred=ad_multi_fs.predict(X_multi_fs_test), \n",
    "    y_score=ad_multi_fs.predict_proba(X_multi_fs_test))\n",
    "\n",
    "print(report_with_auc_fs)\n",
    "\n",
    "\n",
    "#print('the ada acuracy for 3 class using 1/3 division is {}, {}'.format(ada_accuracy, ada_accuracy_fs))"
   ]
  },
  {
   "cell_type": "code",
   "execution_count": null,
   "metadata": {
    "collapsed": true
   },
   "outputs": [],
   "source": []
  },
  {
   "cell_type": "markdown",
   "metadata": {},
   "source": [
    "3rd Method: take one standard deviation away from the mean of the data. However, the std deviation of the original data is too big, which makes the threshold impossible. Hence we take the log of the shares data and get an almost normal distribution"
   ]
  },
  {
   "cell_type": "code",
   "execution_count": 705,
   "metadata": {},
   "outputs": [
    {
     "data": {
      "text/plain": [
       "<matplotlib.axes._subplots.AxesSubplot at 0x1a4a883940>"
      ]
     },
     "execution_count": 705,
     "metadata": {},
     "output_type": "execute_result"
    },
    {
     "data": {
      "image/png": "[encoded data removed]",
      "text/plain": [
       "<Figure size 864x720 with 1 Axes>"
      ]
     },
     "metadata": {},
     "output_type": "display_data"
    }
   ],
   "source": [
    "new_share_data = np.log(share_data)\n",
    "fig, ax = plt.subplots(figsize = (12,10))\n",
    "sns.distplot(new_share_data, ax=ax, bins = 100, hist_kws = hist_kws)"
   ]
  },
  {
   "cell_type": "code",
   "execution_count": 706,
   "metadata": {},
   "outputs": [
    {
     "data": {
      "text/plain": [
       "count    39644.000000\n",
       "mean         7.474855\n",
       "std          0.930486\n",
       "min          0.000000\n",
       "25%          6.852243\n",
       "50%          7.244228\n",
       "75%          7.937375\n",
       "max         13.645078\n",
       "Name:  shares, dtype: float64"
      ]
     },
     "execution_count": 706,
     "metadata": {},
     "output_type": "execute_result"
    }
   ],
   "source": [
    "new_share_data.describe()"
   ]
  },
  {
   "cell_type": "code",
   "execution_count": 707,
   "metadata": {},
   "outputs": [],
   "source": [
    "threshold_1 = new_share_data.describe()['mean'] - new_share_data.describe()['std']\n",
    "threshold_2 = new_share_data.describe()['mean'] + new_share_data.describe()['std']"
   ]
  },
  {
   "cell_type": "code",
   "execution_count": 708,
   "metadata": {},
   "outputs": [
    {
     "data": {
      "text/plain": [
       "(6.544368834826468, 8.405341013569293)"
      ]
     },
     "execution_count": 708,
     "metadata": {},
     "output_type": "execute_result"
    }
   ],
   "source": [
    "threshold_1, threshold_2"
   ]
  },
  {
   "cell_type": "code",
   "execution_count": 709,
   "metadata": {},
   "outputs": [
    {
     "name": "stdout",
     "output_type": "stream",
     "text": [
      "The length of 3 categories are 3693,30092,5859\n"
     ]
    }
   ],
   "source": [
    "popular_1 = []\n",
    "popular_2 = []\n",
    "popular_3 = []\n",
    "for share in new_share_data:\n",
    "    if share <= threshold_1:\n",
    "        popular_1.append(share)\n",
    "    elif share > threshold_2:\n",
    "        popular_3.append(share)\n",
    "    else:\n",
    "        popular_2.append(share)\n",
    "print('The length of 3 categories are {},{},{}'.format(len(popular_1), len(popular_2), len(popular_3)))"
   ]
  },
  {
   "cell_type": "code",
   "execution_count": 717,
   "metadata": {},
   "outputs": [
    {
     "name": "stdout",
     "output_type": "stream",
     "text": [
      "             precision    recall  f1-score  support    pred       AUC\n",
      "0             0.666667  0.031655  0.060440    695.0    33.0  0.776223\n",
      "1             0.763715  0.992868  0.863345   6029.0  7838.0  0.565579\n",
      "2             0.431034  0.020747  0.039588   1205.0    58.0  0.700739\n",
      "avg / total   0.704650  0.760878  0.667778   7929.0  7929.0  0.859992\n",
      "             precision    recall  f1-score  support    pred       AUC\n",
      "0             0.585366  0.035346  0.066667    679.0    41.0  0.759138\n",
      "1             0.768749  0.991922  0.866192   6066.0  7827.0  0.564276\n",
      "2             0.459016  0.023649  0.044980   1184.0    61.0  0.700233\n",
      "avg / total   0.706794  0.765418  0.675097   7929.0  7929.0  0.856818\n"
     ]
    }
   ],
   "source": [
    "#Summon up\n",
    "target_3 = []\n",
    "for share in new_share_data:\n",
    "    if share <= threshold_1:\n",
    "        target_3.append(0)\n",
    "    elif share > threshold_2:\n",
    "        target_3.append(2)\n",
    "    else:\n",
    "        target_3.append(1)\n",
    "        \n",
    "model_data['multi_target'] = target_3\n",
    "multi_data = model_data.drop(' shares',1)\n",
    "X_multi = multi_data.drop('multi_target',1)\n",
    "y_multi = multi_data['multi_target']\n",
    "X_train_multi, X_test_multi, y_train_multi, y_test_multi = train_test_split(X_multi, y_multi, test_size= 0.2)\n",
    "\n",
    "##Feed all features through adaboost with the best configuration:\n",
    "estimator = DecisionTreeClassifier(max_depth = 10, min_samples_leaf = 256)\n",
    "ad_multi = AdaBoostClassifier(estimator, learning_rate =0.03, n_estimators = 500)\n",
    "#ada_accuracy = three_class_classifier(X_train_multi, y_train_multi, X_test_multi,y_test_multi, ad_multi)\n",
    "ad_multi.fit(X_train_multi, y_train_multi)\n",
    "\n",
    "report_with_auc_orig = class_report(\n",
    "    y_true=y_test_multi, \n",
    "    y_pred=ad_multi.predict(X_test_multi), \n",
    "    y_score=ad_multi.predict_proba(X_test_multi))\n",
    "\n",
    "print(report_with_auc_orig)\n",
    "\n",
    "#Feed only selected features \n",
    "X_multi_fs = X_multi[key_features]\n",
    "y_multi_fs = y_multi\n",
    "\n",
    "\n",
    "X_multi_fs_train, X_multi_fs_test, y_multi_fs_train, y_multi_fs_test = train_test_split(X_multi_fs, y_multi_fs, test_size = 0.2)\n",
    "estimator_fs = DecisionTreeClassifier(max_depth = 10, min_samples_leaf = 256)\n",
    "ad_multi_fs = AdaBoostClassifier(estimator_fs, learning_rate =0.03, n_estimators = 500)\n",
    "ad_multi_fs.fit(X_multi_fs_train, y_multi_fs_train)\n",
    "#ada_accuracy_fs = three_class_classifier(X_multi_fs_train, y_multi_fs_train, X_multi_fs_test, y_multi_fs_test, ad_multi_fs)\n",
    "\n",
    "report_with_auc_fs = class_report(\n",
    "    y_true=y_multi_fs_test, \n",
    "    y_pred=ad_multi_fs.predict(X_multi_fs_test), \n",
    "    y_score=ad_multi_fs.predict_proba(X_multi_fs_test))\n",
    "\n",
    "print(report_with_auc_fs)\n",
    "\n",
    "\n",
    "#print('the ada acuracy for 3 class using 1/3 division is {}, {}'.format(ada_accuracy, ada_accuracy_fs))"
   ]
  },
  {
   "cell_type": "code",
   "execution_count": null,
   "metadata": {
    "collapsed": true
   },
   "outputs": [],
   "source": []
  }
 ],
 "metadata": {
  "kernelspec": {
   "display_name": "Python 3",
   "language": "python",
   "name": "python3"
  },
  "language_info": {
   "codemirror_mode": {
    "name": "ipython",
    "version": 3
   },
   "file_extension": ".py",
   "mimetype": "text/x-python",
   "name": "python",
   "nbconvert_exporter": "python",
   "pygments_lexer": "ipython3",
   "version": "3.7.1"
  }
 },
 "nbformat": 4,
 "nbformat_minor": 2
}
