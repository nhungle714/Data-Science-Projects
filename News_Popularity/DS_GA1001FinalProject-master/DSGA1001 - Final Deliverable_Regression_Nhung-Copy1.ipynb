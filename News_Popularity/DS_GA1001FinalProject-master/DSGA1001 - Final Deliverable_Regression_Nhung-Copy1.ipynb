{
 "cells": [
  {
   "cell_type": "markdown",
   "metadata": {},
   "source": [
    "# Popular or Unpopular - Online News Article Popularity Prediction"
   ]
  },
  {
   "cell_type": "markdown",
   "metadata": {},
   "source": [
    "**Team Name**: 4Twos\n",
    "\n",
    "**Name and NetID of Each Team Member:** \n",
    "    1. Nhung Le - nhl256\n",
    "    2. Hengyu Tang -ht1162\n",
    "    3. Shirley Xu - xx852\n",
    "    4. Shradha Taneja - st3277"
   ]
  },
  {
   "cell_type": "markdown",
   "metadata": {},
   "source": [
    "# 1. Executive Summary\n",
    "\n",
    "Aim to have 3 main findings"
   ]
  },
  {
   "cell_type": "markdown",
   "metadata": {},
   "source": [
    "# 2. Problem Formulation and Motivation\n",
    "\n",
    "## 2.1. Business Goals: \n",
    "\n",
    "Given fast technology advancement and an increasing popularity of smart phones and gadgets, we have seen an increasing demand for online news, thus the capability to predict popularity of the articles published online. We believe that such business problem is worth investigating since it will help publishers and editors maximize marketing reaches and cater future articles to readers’ preferences, while enabling companies to increase profits from advertisements if applicable. To be more precise, the result of this project could be adopted by companies to predict the popularity of each article prior to its publication. It can inform businesses on how to write a popular article in great detail, including channel, keywords, title subjectivity, title polarity, time of publication, number of images to present, number of links to include, etc. \n",
    "\n",
    "## 2.2. Data Science Goals: \n",
    "\n",
    "We formed the following data science goals to achieve such interesting business goals: \n",
    "\n",
    "1. To build a binary classification (unpopular, popular) model to predict popularity of news article.\n",
    "2. To develop a multinomial classification with 3 levels of popularity (low, medium, high).\n",
    "3. To explore the data visualization and real-time model evaluations to look for interesting patterns which might play some role in the target prediction.\n",
    "4. To build a descriptive model that provides insights on current customers’ preferences, hence to better select articles accordingly to increase number of views\n",
    "5. To conduct a regression model on predicting the exact number of shares for each article.\n"
   ]
  },
  {
   "cell_type": "markdown",
   "metadata": {},
   "source": [
    "# 3. Baseline Model \n",
    "\n",
    "**Nhung:** I will work on variables so our data is runnable for a very baseline model to set the benchmark "
   ]
  },
  {
   "cell_type": "code",
   "execution_count": 2,
   "metadata": {},
   "outputs": [],
   "source": [
    "# Importing packages\n",
    "import pandas as pd\n",
    "import numpy as np\n",
    "\n",
    "from scipy import stats\n",
    "from scipy.stats import norm\n",
    "\n",
    "import matplotlib.pyplot as plt\n",
    "import seaborn as sns\n",
    "\n",
    "\n",
    "from sklearn.model_selection import train_test_split\n",
    "from sklearn.multiclass import OneVsRestClassifier\n",
    "\n",
    "from sklearn.cluster import KMeans\n",
    "from sklearn.preprocessing import Imputer\n",
    "\n",
    "import statsmodels.api as sm\n",
    "from pandas.api.types import is_string_dtype\n",
    "from pandas.api.types import is_numeric_dtype\n",
    "\n",
    "from sklearn import model_selection"
   ]
  },
  {
   "cell_type": "code",
   "execution_count": 3,
   "metadata": {},
   "outputs": [],
   "source": [
    "from sklearn.linear_model import ElasticNet, Lasso,  BayesianRidge, LassoLarsIC, LinearRegression, LogisticRegression\n",
    "from sklearn.ensemble import RandomForestRegressor,  GradientBoostingRegressor, RandomForestClassifier\n",
    "from sklearn.tree import DecisionTreeRegressor, DecisionTreeClassifier\n",
    "from sklearn.kernel_ridge import KernelRidge\n",
    "from sklearn.pipeline import Pipeline, make_pipeline\n",
    "from sklearn.preprocessing import RobustScaler\n",
    "from sklearn.base import BaseEstimator, TransformerMixin, RegressorMixin, clone\n",
    "from sklearn.model_selection import KFold, cross_val_score, train_test_split\n",
    "from sklearn.neighbors import KNeighborsClassifier\n",
    "\n",
    "\n",
    "from sklearn.discriminant_analysis import LinearDiscriminantAnalysis\n",
    "from sklearn.naive_bayes import GaussianNB\n",
    "from sklearn.svm import SVC\n",
    "\n",
    "from sklearn.metrics import mean_squared_error, classification_report, confusion_matrix, accuracy_score"
   ]
  },
  {
   "cell_type": "code",
   "execution_count": 6,
   "metadata": {},
   "outputs": [],
   "source": [
    "#import xgboost\n",
    "#import metrics \n",
    "import os\n",
    "import time\n",
    "import seaborn as sns\n",
    "import pickle as pkl\n",
    "import matplotlib.pyplot as plt\n",
    "%matplotlib inline\n",
    "import warnings\n",
    "warnings.simplefilter('ignore')"
   ]
  },
  {
   "cell_type": "code",
   "execution_count": 7,
   "metadata": {},
   "outputs": [
    {
     "ename": "FileNotFoundError",
     "evalue": "File b'OnlineNewsPopularity.csv' does not exist",
     "output_type": "error",
     "traceback": [
      "\u001b[0;31m---------------------------------------------------------------------------\u001b[0m",
      "\u001b[0;31mFileNotFoundError\u001b[0m                         Traceback (most recent call last)",
      "\u001b[0;32m<ipython-input-7-de470af6c230>\u001b[0m in \u001b[0;36m<module>\u001b[0;34m\u001b[0m\n\u001b[0;32m----> 1\u001b[0;31m \u001b[0mraw_data\u001b[0m \u001b[0;34m=\u001b[0m \u001b[0mpd\u001b[0m\u001b[0;34m.\u001b[0m\u001b[0mread_csv\u001b[0m\u001b[0;34m(\u001b[0m\u001b[0;34m'OnlineNewsPopularity.csv'\u001b[0m\u001b[0;34m)\u001b[0m\u001b[0;34m\u001b[0m\u001b[0;34m\u001b[0m\u001b[0m\n\u001b[0m",
      "\u001b[0;32m/anaconda3/lib/python3.7/site-packages/pandas/io/parsers.py\u001b[0m in \u001b[0;36mparser_f\u001b[0;34m(filepath_or_buffer, sep, delimiter, header, names, index_col, usecols, squeeze, prefix, mangle_dupe_cols, dtype, engine, converters, true_values, false_values, skipinitialspace, skiprows, nrows, na_values, keep_default_na, na_filter, verbose, skip_blank_lines, parse_dates, infer_datetime_format, keep_date_col, date_parser, dayfirst, iterator, chunksize, compression, thousands, decimal, lineterminator, quotechar, quoting, escapechar, comment, encoding, dialect, tupleize_cols, error_bad_lines, warn_bad_lines, skipfooter, doublequote, delim_whitespace, low_memory, memory_map, float_precision)\u001b[0m\n\u001b[1;32m    676\u001b[0m                     skip_blank_lines=skip_blank_lines)\n\u001b[1;32m    677\u001b[0m \u001b[0;34m\u001b[0m\u001b[0m\n\u001b[0;32m--> 678\u001b[0;31m         \u001b[0;32mreturn\u001b[0m \u001b[0m_read\u001b[0m\u001b[0;34m(\u001b[0m\u001b[0mfilepath_or_buffer\u001b[0m\u001b[0;34m,\u001b[0m \u001b[0mkwds\u001b[0m\u001b[0;34m)\u001b[0m\u001b[0;34m\u001b[0m\u001b[0;34m\u001b[0m\u001b[0m\n\u001b[0m\u001b[1;32m    679\u001b[0m \u001b[0;34m\u001b[0m\u001b[0m\n\u001b[1;32m    680\u001b[0m     \u001b[0mparser_f\u001b[0m\u001b[0;34m.\u001b[0m\u001b[0m__name__\u001b[0m \u001b[0;34m=\u001b[0m \u001b[0mname\u001b[0m\u001b[0;34m\u001b[0m\u001b[0;34m\u001b[0m\u001b[0m\n",
      "\u001b[0;32m/anaconda3/lib/python3.7/site-packages/pandas/io/parsers.py\u001b[0m in \u001b[0;36m_read\u001b[0;34m(filepath_or_buffer, kwds)\u001b[0m\n\u001b[1;32m    438\u001b[0m \u001b[0;34m\u001b[0m\u001b[0m\n\u001b[1;32m    439\u001b[0m     \u001b[0;31m# Create the parser.\u001b[0m\u001b[0;34m\u001b[0m\u001b[0;34m\u001b[0m\u001b[0;34m\u001b[0m\u001b[0m\n\u001b[0;32m--> 440\u001b[0;31m     \u001b[0mparser\u001b[0m \u001b[0;34m=\u001b[0m \u001b[0mTextFileReader\u001b[0m\u001b[0;34m(\u001b[0m\u001b[0mfilepath_or_buffer\u001b[0m\u001b[0;34m,\u001b[0m \u001b[0;34m**\u001b[0m\u001b[0mkwds\u001b[0m\u001b[0;34m)\u001b[0m\u001b[0;34m\u001b[0m\u001b[0;34m\u001b[0m\u001b[0m\n\u001b[0m\u001b[1;32m    441\u001b[0m \u001b[0;34m\u001b[0m\u001b[0m\n\u001b[1;32m    442\u001b[0m     \u001b[0;32mif\u001b[0m \u001b[0mchunksize\u001b[0m \u001b[0;32mor\u001b[0m \u001b[0miterator\u001b[0m\u001b[0;34m:\u001b[0m\u001b[0;34m\u001b[0m\u001b[0;34m\u001b[0m\u001b[0m\n",
      "\u001b[0;32m/anaconda3/lib/python3.7/site-packages/pandas/io/parsers.py\u001b[0m in \u001b[0;36m__init__\u001b[0;34m(self, f, engine, **kwds)\u001b[0m\n\u001b[1;32m    785\u001b[0m             \u001b[0mself\u001b[0m\u001b[0;34m.\u001b[0m\u001b[0moptions\u001b[0m\u001b[0;34m[\u001b[0m\u001b[0;34m'has_index_names'\u001b[0m\u001b[0;34m]\u001b[0m \u001b[0;34m=\u001b[0m \u001b[0mkwds\u001b[0m\u001b[0;34m[\u001b[0m\u001b[0;34m'has_index_names'\u001b[0m\u001b[0;34m]\u001b[0m\u001b[0;34m\u001b[0m\u001b[0;34m\u001b[0m\u001b[0m\n\u001b[1;32m    786\u001b[0m \u001b[0;34m\u001b[0m\u001b[0m\n\u001b[0;32m--> 787\u001b[0;31m         \u001b[0mself\u001b[0m\u001b[0;34m.\u001b[0m\u001b[0m_make_engine\u001b[0m\u001b[0;34m(\u001b[0m\u001b[0mself\u001b[0m\u001b[0;34m.\u001b[0m\u001b[0mengine\u001b[0m\u001b[0;34m)\u001b[0m\u001b[0;34m\u001b[0m\u001b[0;34m\u001b[0m\u001b[0m\n\u001b[0m\u001b[1;32m    788\u001b[0m \u001b[0;34m\u001b[0m\u001b[0m\n\u001b[1;32m    789\u001b[0m     \u001b[0;32mdef\u001b[0m \u001b[0mclose\u001b[0m\u001b[0;34m(\u001b[0m\u001b[0mself\u001b[0m\u001b[0;34m)\u001b[0m\u001b[0;34m:\u001b[0m\u001b[0;34m\u001b[0m\u001b[0;34m\u001b[0m\u001b[0m\n",
      "\u001b[0;32m/anaconda3/lib/python3.7/site-packages/pandas/io/parsers.py\u001b[0m in \u001b[0;36m_make_engine\u001b[0;34m(self, engine)\u001b[0m\n\u001b[1;32m   1012\u001b[0m     \u001b[0;32mdef\u001b[0m \u001b[0m_make_engine\u001b[0m\u001b[0;34m(\u001b[0m\u001b[0mself\u001b[0m\u001b[0;34m,\u001b[0m \u001b[0mengine\u001b[0m\u001b[0;34m=\u001b[0m\u001b[0;34m'c'\u001b[0m\u001b[0;34m)\u001b[0m\u001b[0;34m:\u001b[0m\u001b[0;34m\u001b[0m\u001b[0;34m\u001b[0m\u001b[0m\n\u001b[1;32m   1013\u001b[0m         \u001b[0;32mif\u001b[0m \u001b[0mengine\u001b[0m \u001b[0;34m==\u001b[0m \u001b[0;34m'c'\u001b[0m\u001b[0;34m:\u001b[0m\u001b[0;34m\u001b[0m\u001b[0;34m\u001b[0m\u001b[0m\n\u001b[0;32m-> 1014\u001b[0;31m             \u001b[0mself\u001b[0m\u001b[0;34m.\u001b[0m\u001b[0m_engine\u001b[0m \u001b[0;34m=\u001b[0m \u001b[0mCParserWrapper\u001b[0m\u001b[0;34m(\u001b[0m\u001b[0mself\u001b[0m\u001b[0;34m.\u001b[0m\u001b[0mf\u001b[0m\u001b[0;34m,\u001b[0m \u001b[0;34m**\u001b[0m\u001b[0mself\u001b[0m\u001b[0;34m.\u001b[0m\u001b[0moptions\u001b[0m\u001b[0;34m)\u001b[0m\u001b[0;34m\u001b[0m\u001b[0;34m\u001b[0m\u001b[0m\n\u001b[0m\u001b[1;32m   1015\u001b[0m         \u001b[0;32melse\u001b[0m\u001b[0;34m:\u001b[0m\u001b[0;34m\u001b[0m\u001b[0;34m\u001b[0m\u001b[0m\n\u001b[1;32m   1016\u001b[0m             \u001b[0;32mif\u001b[0m \u001b[0mengine\u001b[0m \u001b[0;34m==\u001b[0m \u001b[0;34m'python'\u001b[0m\u001b[0;34m:\u001b[0m\u001b[0;34m\u001b[0m\u001b[0;34m\u001b[0m\u001b[0m\n",
      "\u001b[0;32m/anaconda3/lib/python3.7/site-packages/pandas/io/parsers.py\u001b[0m in \u001b[0;36m__init__\u001b[0;34m(self, src, **kwds)\u001b[0m\n\u001b[1;32m   1706\u001b[0m         \u001b[0mkwds\u001b[0m\u001b[0;34m[\u001b[0m\u001b[0;34m'usecols'\u001b[0m\u001b[0;34m]\u001b[0m \u001b[0;34m=\u001b[0m \u001b[0mself\u001b[0m\u001b[0;34m.\u001b[0m\u001b[0musecols\u001b[0m\u001b[0;34m\u001b[0m\u001b[0;34m\u001b[0m\u001b[0m\n\u001b[1;32m   1707\u001b[0m \u001b[0;34m\u001b[0m\u001b[0m\n\u001b[0;32m-> 1708\u001b[0;31m         \u001b[0mself\u001b[0m\u001b[0;34m.\u001b[0m\u001b[0m_reader\u001b[0m \u001b[0;34m=\u001b[0m \u001b[0mparsers\u001b[0m\u001b[0;34m.\u001b[0m\u001b[0mTextReader\u001b[0m\u001b[0;34m(\u001b[0m\u001b[0msrc\u001b[0m\u001b[0;34m,\u001b[0m \u001b[0;34m**\u001b[0m\u001b[0mkwds\u001b[0m\u001b[0;34m)\u001b[0m\u001b[0;34m\u001b[0m\u001b[0;34m\u001b[0m\u001b[0m\n\u001b[0m\u001b[1;32m   1709\u001b[0m \u001b[0;34m\u001b[0m\u001b[0m\n\u001b[1;32m   1710\u001b[0m         \u001b[0mpassed_names\u001b[0m \u001b[0;34m=\u001b[0m \u001b[0mself\u001b[0m\u001b[0;34m.\u001b[0m\u001b[0mnames\u001b[0m \u001b[0;32mis\u001b[0m \u001b[0;32mNone\u001b[0m\u001b[0;34m\u001b[0m\u001b[0;34m\u001b[0m\u001b[0m\n",
      "\u001b[0;32mpandas/_libs/parsers.pyx\u001b[0m in \u001b[0;36mpandas._libs.parsers.TextReader.__cinit__\u001b[0;34m()\u001b[0m\n",
      "\u001b[0;32mpandas/_libs/parsers.pyx\u001b[0m in \u001b[0;36mpandas._libs.parsers.TextReader._setup_parser_source\u001b[0;34m()\u001b[0m\n",
      "\u001b[0;31mFileNotFoundError\u001b[0m: File b'OnlineNewsPopularity.csv' does not exist"
     ]
    }
   ],
   "source": [
    "raw_data = pd.read_csv('OnlineNewsPopularity.csv')"
   ]
  },
  {
   "cell_type": "code",
   "execution_count": 4,
   "metadata": {
    "collapsed": true
   },
   "outputs": [],
   "source": [
    "raw_data.columns = raw_data.columns.str.strip()"
   ]
  },
  {
   "cell_type": "code",
   "execution_count": 5,
   "metadata": {},
   "outputs": [],
   "source": [
    "data = raw_data"
   ]
  },
  {
   "cell_type": "code",
   "execution_count": 6,
   "metadata": {},
   "outputs": [
    {
     "name": "stdout",
     "output_type": "stream",
     "text": [
      "['url']\n"
     ]
    }
   ],
   "source": [
    "# Verify if all columns are numerical \n",
    "object_col = data.select_dtypes(include='object')\n",
    "num_col = list(data.select_dtypes(include='int64').columns)\n",
    "#object_col.drop('Type', axis = 1)\n",
    "object_col = list(object_col.columns)\n",
    "print(object_col)\n",
    "#print(num_col)"
   ]
  },
  {
   "cell_type": "markdown",
   "metadata": {},
   "source": [
    "** Note ** 'url is the ony objective column, so we need to encode it first"
   ]
  },
  {
   "cell_type": "code",
   "execution_count": 7,
   "metadata": {
    "collapsed": true
   },
   "outputs": [],
   "source": [
    "from sklearn import preprocessing\n",
    "from sklearn.preprocessing import LabelEncoder\n",
    "from sklearn.preprocessing import OneHotEncoder\n",
    "from sklearn.preprocessing import StandardScaler\n",
    "from numpy import array"
   ]
  },
  {
   "cell_type": "code",
   "execution_count": 8,
   "metadata": {},
   "outputs": [],
   "source": [
    "#Label Encode object variables\n",
    "for col in object_col: \n",
    "    label_encoder = LabelEncoder()\n",
    "    data[col] = label_encoder.fit_transform(list(data[col].values))"
   ]
  },
  {
   "cell_type": "code",
   "execution_count": 9,
   "metadata": {},
   "outputs": [
    {
     "name": "stdout",
     "output_type": "stream",
     "text": [
      "Number of object columns after encoding is: 0\n"
     ]
    }
   ],
   "source": [
    "object_col = data.select_dtypes(include='object')\n",
    "object_col = list(object_col.columns)\n",
    "print('Number of object columns after encoding is: {}'.format(len(object_col)))"
   ]
  },
  {
   "cell_type": "markdown",
   "metadata": {},
   "source": [
    "## 3.1. Exploring targeted variable"
   ]
  },
  {
   "cell_type": "code",
   "execution_count": 10,
   "metadata": {},
   "outputs": [
    {
     "data": {
      "image/png": "[encoded data removed]",
      "text/plain": [
       "<Figure size 432x288 with 1 Axes>"
      ]
     },
     "metadata": {},
     "output_type": "display_data"
    }
   ],
   "source": [
    "y = (data['shares'])\n",
    "(mu, sigma) = norm.fit(y)\n",
    "sns.distplot(y, fit = norm, norm_hist = True, color = 'B')\n",
    "plt.legend(['Normal dist. $\\mu$ = {:.2f}. $\\sigma$ = {:.2f}'.format(mu, sigma)])\n",
    "plt.ylabel('Probability')\n",
    "plt.title('Distribution of Shares')\n",
    "plt.show()"
   ]
  },
  {
   "cell_type": "code",
   "execution_count": 11,
   "metadata": {},
   "outputs": [
    {
     "data": {
      "text/plain": [
       "count     39644.000000\n",
       "mean       3395.380184\n",
       "std       11626.950749\n",
       "min           1.000000\n",
       "25%         946.000000\n",
       "50%        1400.000000\n",
       "75%        2800.000000\n",
       "max      843300.000000\n",
       "Name: shares, dtype: float64"
      ]
     },
     "execution_count": 11,
     "metadata": {},
     "output_type": "execute_result"
    }
   ],
   "source": [
    "#Statistics of column shares\n",
    "data.describe().iloc[:, -1]"
   ]
  },
  {
   "cell_type": "markdown",
   "metadata": {},
   "source": [
    "** Note **: Using the distribution plot and looking at statistics of the 'shares' column, we can see that the number of shares do not follow a normal distribution and there are a very long long tail. This means although on average, articles receive around 3,400 shares, there is a large range of number of shares from 1 to 843,300. \n",
    "\n",
    "Thus, we decided to log transform number of shares before running a regression."
   ]
  },
  {
   "cell_type": "code",
   "execution_count": 11,
   "metadata": {},
   "outputs": [
    {
     "data": {
      "image/png": "[encoded data removed]",
      "text/plain": [
       "<Figure size 432x288 with 1 Axes>"
      ]
     },
     "metadata": {},
     "output_type": "display_data"
    }
   ],
   "source": [
    "y = np.log(data['shares'])\n",
    "(mu, sigma) = norm.fit(y)\n",
    "sns.distplot(y, fit = norm, norm_hist = True, color = 'B')\n",
    "plt.legend(['Normal dist. $\\mu$ = {:.2f}. $\\sigma$ = {:.2f}'.format(mu, sigma)])\n",
    "plt.ylabel('Probability')\n",
    "plt.title('Distribution of Shares')\n",
    "plt.show()"
   ]
  },
  {
   "cell_type": "markdown",
   "metadata": {},
   "source": [
    "** Note**: Although the number of shares are not fully normally distributed, log transforming the shares reduce the huge gaps of shares between articles, and we can start predicting number of shares using regression."
   ]
  },
  {
   "cell_type": "markdown",
   "metadata": {},
   "source": [
    "## 3.2. Root mean square error\n",
    "\n",
    "This metric represents the sample standard deviation of the difference between predicted values and observed values (called residuals) "
   ]
  },
  {
   "cell_type": "code",
   "execution_count": 10,
   "metadata": {
    "collapsed": true
   },
   "outputs": [],
   "source": [
    "#Def fine rmsq function\n",
    "def rmse(log_y_pred, log_y_true): \n",
    "    return np.sqrt((np.average((log_y_pred - log_y_true)**2)))"
   ]
  },
  {
   "cell_type": "code",
   "execution_count": 11,
   "metadata": {
    "collapsed": true
   },
   "outputs": [],
   "source": [
    "def ValRMSE_base(X_train, Y_train, model, k): \n",
    "    kf = KFold(n_splits = k)\n",
    "    scores = []\n",
    "    train_scores = []\n",
    "    for cv_train, cv_validate in kf.split(X_train): \n",
    "        X_cv_train = X_train.iloc[cv_train]\n",
    "        X_cv_validate = X_train.iloc[cv_validate]\n",
    "        \n",
    "        Y_cv_train = Y_train.iloc[cv_train]\n",
    "        log_y_cv_train = np.log(Y_cv_train)\n",
    "        \n",
    "        Y_cv_validate = Y_train.iloc[cv_validate]\n",
    "        log_y_cv_validate = np.log(Y_cv_validate)\n",
    "        model.fit(X_cv_train, log_y_cv_train)\n",
    "        log_y_pred = model.predict(X_cv_validate)\n",
    "        scores.append(rmse(log_y_pred, log_y_cv_validate))\n",
    "        \n",
    "        log_y_train_pred = model.predict(X_cv_train)\n",
    "        train_scores.append(rmse(log_y_cv_train, log_y_train_pred))\n",
    "    return (np.array(scores), np.array(train_scores))"
   ]
  },
  {
   "cell_type": "code",
   "execution_count": 12,
   "metadata": {},
   "outputs": [],
   "source": [
    "X_train_base = data.drop('shares', axis = 1)\n",
    "Y_train_base = data['shares']"
   ]
  },
  {
   "cell_type": "markdown",
   "metadata": {},
   "source": [
    "## 3.3. Regression \n"
   ]
  },
  {
   "cell_type": "markdown",
   "metadata": {},
   "source": [
    "### 3.3.1. Multiple linear regression"
   ]
  },
  {
   "cell_type": "code",
   "execution_count": 16,
   "metadata": {},
   "outputs": [
    {
     "name": "stderr",
     "output_type": "stream",
     "text": [
      "/Users/NhungLe/anaconda/lib/python3.6/site-packages/scipy/linalg/basic.py:1018: RuntimeWarning: internal gelsd driver lwork query error, required iwork dimension not returned. This is likely the result of LAPACK bug 0038, fixed in LAPACK 3.2.2 (released July 21, 2010). Falling back to 'gelss' driver.\n",
      "  warnings.warn(mesg, RuntimeWarning)\n"
     ]
    },
    {
     "name": "stdout",
     "output_type": "stream",
     "text": [
      "\n",
      "Multiple Linear score: 1.0816 (0.3512)\n",
      "\n",
      "\n",
      "Multiple Linear train score: 0.8676 (0.0119)\n",
      "\n"
     ]
    }
   ],
   "source": [
    "Multiple_linear = LinearRegression()\n",
    "scores, train_scores = ValRMSE_base(X_train_base, Y_train_base, Multiple_linear, 5)\n",
    "print(\"\\nMultiple Linear score: {:.4f} ({:.4f})\\n\".format(scores.mean(), scores.std()))\n",
    "print(\"\\nMultiple Linear train score: {:.4f} ({:.4f})\\n\".format(\n",
    "    train_scores.mean(), train_scores.std()))"
   ]
  },
  {
   "cell_type": "markdown",
   "metadata": {},
   "source": [
    "### 3.3.2. Lasso"
   ]
  },
  {
   "cell_type": "code",
   "execution_count": 15,
   "metadata": {},
   "outputs": [
    {
     "name": "stderr",
     "output_type": "stream",
     "text": [
      "/Users/NhungLe/anaconda/lib/python3.6/site-packages/sklearn/linear_model/coordinate_descent.py:491: ConvergenceWarning: Objective did not converge. You might want to increase the number of iterations. Fitting data with very small alpha may cause precision problems.\n",
      "  ConvergenceWarning)\n",
      "/Users/NhungLe/anaconda/lib/python3.6/site-packages/sklearn/linear_model/coordinate_descent.py:491: ConvergenceWarning: Objective did not converge. You might want to increase the number of iterations. Fitting data with very small alpha may cause precision problems.\n",
      "  ConvergenceWarning)\n",
      "/Users/NhungLe/anaconda/lib/python3.6/site-packages/sklearn/linear_model/coordinate_descent.py:491: ConvergenceWarning: Objective did not converge. You might want to increase the number of iterations. Fitting data with very small alpha may cause precision problems.\n",
      "  ConvergenceWarning)\n"
     ]
    },
    {
     "name": "stdout",
     "output_type": "stream",
     "text": [
      "\n",
      "Lasso score: 0.9123 (0.0787)\n",
      "\n",
      "\n",
      "Lasso train score: 0.8708 (0.0121)\n",
      "\n"
     ]
    },
    {
     "name": "stderr",
     "output_type": "stream",
     "text": [
      "/Users/NhungLe/anaconda/lib/python3.6/site-packages/sklearn/linear_model/coordinate_descent.py:491: ConvergenceWarning: Objective did not converge. You might want to increase the number of iterations. Fitting data with very small alpha may cause precision problems.\n",
      "  ConvergenceWarning)\n"
     ]
    }
   ],
   "source": [
    "lasso = make_pipeline(RobustScaler(), Lasso(alpha=0.005, random_state=1))\n",
    "scores, train_scores = ValRMSE_base(X_train_base, Y_train_base, lasso, 5)\n",
    "print(\"\\nLasso score: {:.4f} ({:.4f})\\n\".format(scores.mean(), scores.std()))\n",
    "print(\"\\nLasso train score: {:.4f} ({:.4f})\\n\".format(\n",
    "    train_scores.mean(), train_scores.std()))"
   ]
  },
  {
   "cell_type": "markdown",
   "metadata": {},
   "source": [
    "** Note **: For both linear regression and the Lasso regression, Root Mean Squared Error score of in-sample data is much better than score of out-sample data, indicating overfitting. However, the RMSE of the test set are still high (1.086 and 0.912 for linear regression and the Lasso regression respectively). This means there is room for improvement if we engineer features and select a better model. "
   ]
  },
  {
   "cell_type": "markdown",
   "metadata": {},
   "source": [
    "### 3.3.3. Ridge Regression"
   ]
  },
  {
   "cell_type": "code",
   "execution_count": 14,
   "metadata": {
    "collapsed": true
   },
   "outputs": [],
   "source": [
    "# KRR = KernelRidge(alpha=3, kernel='polynomial', degree=2, coef0=2.5)\n",
    "# scores, train_scores = ValRMSE_base(X_train_base, Y_train_base, KRR, 5)\n",
    "# print(\"\\nKernel Ridge score: {:.4f} ({:.4f})\\n\".format(scores.mean(), scores.std()))\n",
    "# print(\"\\nKernel Ridge train score: {:.4f} ({:.4f})\\n\".format(\n",
    "#     train_scores.mean(), train_scores.std()))"
   ]
  },
  {
   "cell_type": "markdown",
   "metadata": {},
   "source": [
    "## 3.4. Binary Classification"
   ]
  },
  {
   "cell_type": "markdown",
   "metadata": {},
   "source": [
    "We will use the threshold of 1400 shares as the threshold for popularity (i.e., if the number of shares >= 1400 then it is popular, else it is not popular"
   ]
  },
  {
   "cell_type": "code",
   "execution_count": 14,
   "metadata": {},
   "outputs": [],
   "source": [
    "base_data = data.copy()\n",
    "base_data['popular'] = 1\n",
    "base_data.loc[data['shares'] < 1400, 'popular'] = 0\n",
    "X_train_base = base_data.drop(['shares', 'popular'], axis = 1)\n",
    "Y_train_base = base_data['popular']"
   ]
  },
  {
   "cell_type": "code",
   "execution_count": 15,
   "metadata": {
    "collapsed": true
   },
   "outputs": [],
   "source": [
    "from sklearn.metrics import roc_auc_score\n",
    "def AUCScore_base(X_train, Y_train, model, k): \n",
    "    kf = KFold(n_splits = k)\n",
    "    scores = []\n",
    "    train_scores = []\n",
    "    for cv_train, cv_validate in kf.split(X_train): \n",
    "        X_cv_train = X_train.iloc[cv_train]\n",
    "        X_cv_validate = X_train.iloc[cv_validate]\n",
    "        Y_cv_train = Y_train.iloc[cv_train]\n",
    "        Y_cv_validate = Y_train.iloc[cv_validate]\n",
    "        \n",
    "        model.fit(X_cv_train, Y_cv_train)\n",
    "        Y_validate_pred = model.predict_proba(X_cv_validate)[:, 1]\n",
    "        Y_train_pred = model.predict_proba(X_cv_train)[:, 1]\n",
    "        \n",
    "        scores.append(roc_auc_score(Y_cv_validate, Y_validate_pred))\n",
    "        train_scores.append(roc_auc_score(Y_cv_train, Y_train_pred))\n",
    "    return (np.array(scores), np.array(train_scores))"
   ]
  },
  {
   "cell_type": "code",
   "execution_count": 16,
   "metadata": {},
   "outputs": [
    {
     "name": "stdout",
     "output_type": "stream",
     "text": [
      "\n",
      "Logistic Regression score: 0.6073 (0.0344)\n",
      "\n",
      "\n",
      "Logistic Regression train score: 0.6244 (0.0044)\n",
      "\n"
     ]
    }
   ],
   "source": [
    "logreg = LogisticRegression(solver = 'lbfgs')\n",
    "scores, train_scores = AUCScore_base(X_train_base, Y_train_base, logreg, 5)\n",
    "print(\"\\nLogistic Regression score: {:.4f} ({:.4f})\\n\".format(scores.mean(), scores.std()))\n",
    "print(\"\\nLogistic Regression train score: {:.4f} ({:.4f})\\n\".format(\n",
    "    train_scores.mean(), train_scores.std()))"
   ]
  },
  {
   "cell_type": "markdown",
   "metadata": {},
   "source": [
    "# 4. Regression"
   ]
  },
  {
   "cell_type": "code",
   "execution_count": 17,
   "metadata": {},
   "outputs": [],
   "source": [
    "X = data.drop('shares', axis = 1)\n",
    "Y = data['shares']"
   ]
  },
  {
   "cell_type": "code",
   "execution_count": 18,
   "metadata": {
    "collapsed": true
   },
   "outputs": [],
   "source": [
    "def rmse_cal(model, X_train, Y_train, X_test, Y_test): \n",
    "    log_y_train = np.log(Y_train)\n",
    "    log_y_test = np.log(Y_test)\n",
    "    model.fit(X_train, log_y_train)\n",
    "    log_y_pred = model.predict(X_test)\n",
    "    return(rmse(log_y_test, log_y_pred))"
   ]
  },
  {
   "cell_type": "markdown",
   "metadata": {},
   "source": [
    "## 4.1. Lasso Tuning Parameter"
   ]
  },
  {
   "cell_type": "code",
   "execution_count": 23,
   "metadata": {
    "collapsed": true
   },
   "outputs": [],
   "source": [
    "def frange(x, y, jump):\n",
    "    while x < y:\n",
    "        yield x\n",
    "        x += jump"
   ]
  },
  {
   "cell_type": "code",
   "execution_count": 27,
   "metadata": {},
   "outputs": [],
   "source": [
    "alpha_lasso = [i for i in frange(0.05, 0.15, 0.01)]"
   ]
  },
  {
   "cell_type": "code",
   "execution_count": 29,
   "metadata": {},
   "outputs": [],
   "source": [
    "#alpha_lasso"
   ]
  },
  {
   "cell_type": "code",
   "execution_count": 30,
   "metadata": {
    "collapsed": true
   },
   "outputs": [],
   "source": [
    "from sklearn.model_selection import train_test_split"
   ]
  },
  {
   "cell_type": "code",
   "execution_count": 31,
   "metadata": {},
   "outputs": [],
   "source": [
    "rmse_lasso = {}\n",
    "for alpha in alpha_lasso:\n",
    "    rmse_alpha = []\n",
    "    for num_fold in range(10): \n",
    "        X_train, X_test, Y_train, Y_test = train_test_split(X, Y, test_size=0.33)\n",
    "        model = make_pipeline(RobustScaler(), Lasso(alpha=alpha, random_state=1))\n",
    "        rmse_alpha.append(rmse_cal(model, X_train, Y_train, X_test, Y_test))\n",
    "    rmse_lasso[alpha] = rmse_alpha"
   ]
  },
  {
   "cell_type": "code",
   "execution_count": 33,
   "metadata": {},
   "outputs": [],
   "source": [
    "#rmse_lasso"
   ]
  },
  {
   "cell_type": "code",
   "execution_count": 34,
   "metadata": {},
   "outputs": [],
   "source": [
    "mse_avg = {alpha: np.average([i**2 for i in rmse_lasso[alpha]]) for alpha in alpha_lasso }"
   ]
  },
  {
   "cell_type": "code",
   "execution_count": 35,
   "metadata": {},
   "outputs": [
    {
     "data": {
      "text/plain": [
       "{0.05: 1.8851629500290692,\n",
       " 0.060000000000000005: 1.2417640133601335,\n",
       " 0.07: 0.93557651568510158,\n",
       " 0.08: 0.94995575329395765,\n",
       " 0.09: 1.594282100802215,\n",
       " 0.09999999999999999: 1.4697068803925391,\n",
       " 0.10999999999999999: 1.1550149191291379,\n",
       " 0.11999999999999998: 1.1054334534159465,\n",
       " 0.12999999999999998: 1.7213042545967574,\n",
       " 0.13999999999999999: 1.3205202664078406}"
      ]
     },
     "execution_count": 35,
     "metadata": {},
     "output_type": "execute_result"
    }
   ],
   "source": [
    "mse_avg"
   ]
  },
  {
   "cell_type": "code",
   "execution_count": 44,
   "metadata": {},
   "outputs": [],
   "source": [
    "x_axis = list(mse_avg.keys())"
   ]
  },
  {
   "cell_type": "code",
   "execution_count": 45,
   "metadata": {},
   "outputs": [],
   "source": [
    "y_axis = list(mse_avg.values())"
   ]
  },
  {
   "cell_type": "code",
   "execution_count": 46,
   "metadata": {},
   "outputs": [
    {
     "data": {
      "image/png": "[encoded data removed]",
      "text/plain": [
       "<Figure size 720x576 with 1 Axes>"
      ]
     },
     "metadata": {},
     "output_type": "display_data"
    }
   ],
   "source": [
    "fig = plt.figure(figsize = (10, 8))\n",
    "ax = fig.add_subplot(111)\n",
    "plt.plot(x_axis, y_axis, label = 'Alpha = {}'.format(alpha))\n",
    "#ax.legend(loc = 'upper center', bbox_to_anchor = (1.5, 1),\n",
    "#        fancybox = True, shadow = True, ncol = 1, prop = {'size': 15})\n",
    "plt.title('Mean Square Error')\n",
    "plt.xlabel('Alpha')\n",
    "plt.xticks(np.arange(min(x_axis), max(x_axis)+0.01, 0.01))\n",
    "plt.show()"
   ]
  },
  {
   "cell_type": "markdown",
   "metadata": {},
   "source": [
    "Best alpha is 0.07"
   ]
  },
  {
   "cell_type": "code",
   "execution_count": 52,
   "metadata": {},
   "outputs": [
    {
     "name": "stdout",
     "output_type": "stream",
     "text": [
      "\n",
      "Lasso score: 1.0322 (0.3811)\n",
      "\n",
      "\n",
      "Lasso train score: 0.8991 (0.0064)\n",
      "\n"
     ]
    }
   ],
   "source": [
    "#RMSE for Lasso at alpha 0.07\n",
    "lasso = make_pipeline(RobustScaler(), Lasso(alpha=0.07, random_state=1))\n",
    "scores, train_scores = ValRMSE_base(X, Y, lasso, 10)\n",
    "print(\"\\nLasso score: {:.4f} ({:.4f})\\n\".format(scores.mean(), scores.std()))\n",
    "print(\"\\nLasso train score: {:.4f} ({:.4f})\\n\".format(\n",
    "    train_scores.mean(), train_scores.std()))"
   ]
  },
  {
   "cell_type": "markdown",
   "metadata": {},
   "source": [
    "## 4.2. XGBoost"
   ]
  },
  {
   "cell_type": "code",
   "execution_count": 48,
   "metadata": {},
   "outputs": [
    {
     "name": "stderr",
     "output_type": "stream",
     "text": [
      "/Users/NhungLe/anaconda/lib/python3.6/site-packages/sklearn/cross_validation.py:41: DeprecationWarning: This module was deprecated in version 0.18 in favor of the model_selection module into which all the refactored classes and functions are moved. Also note that the interface of the new CV iterators are different from that of this module. This module will be removed in 0.20.\n",
      "  \"This module will be removed in 0.20.\", DeprecationWarning)\n"
     ]
    }
   ],
   "source": [
    "import xgboost"
   ]
  },
  {
   "cell_type": "code",
   "execution_count": 49,
   "metadata": {},
   "outputs": [],
   "source": [
    "xgb = xgboost.XGBRegressor(n_estimators=100, learning_rate=0.08, gamma=0, subsample=0.75,\n",
    "                           colsample_bytree=1, max_depth=7)"
   ]
  },
  {
   "cell_type": "code",
   "execution_count": 50,
   "metadata": {},
   "outputs": [
    {
     "name": "stdout",
     "output_type": "stream",
     "text": [
      "\n",
      "XGBoost score: 0.8924 (0.0789)\n",
      "\n",
      "\n",
      "XGBoost train score: 0.7063 (0.0073)\n",
      "\n"
     ]
    }
   ],
   "source": [
    "scores, train_scores = ValRMSE_base(X, Y, xgb, 5)\n",
    "print(\"\\nXGBoost score: {:.4f} ({:.4f})\\n\".format(scores.mean(), scores.std()))\n",
    "print(\"\\nXGBoost train score: {:.4f} ({:.4f})\\n\".format(\n",
    "    train_scores.mean(), train_scores.std()))"
   ]
  },
  {
   "cell_type": "markdown",
   "metadata": {},
   "source": [
    "## 4.3. PCA\n",
    "\n",
    "Given 61 features, we would like to apply Principle Component Analysis to reduce dimension of the data. What PCA does is to project our original data of 61-dimensional subspace to a lower k-dimensional subspace to reserve as much variances as possible. The goal is to select a bucket of features that capture the most information about the dataset.  "
   ]
  },
  {
   "cell_type": "code",
   "execution_count": 76,
   "metadata": {},
   "outputs": [],
   "source": [
    "from sklearn.decomposition import PCA\n",
    "scaler = StandardScaler()\n",
    "X = scaler.fit_transform(X)"
   ]
  },
  {
   "cell_type": "code",
   "execution_count": 91,
   "metadata": {},
   "outputs": [],
   "source": [
    "n_components = [i for i in range(1, 61)]\n",
    "#n_components\n",
    "pca_var = []\n",
    "for i in n_components: \n",
    "    pca = PCA(n_components = i)\n",
    "    pca.fit(X)\n",
    "    var = np.cumsum((pca.explained_variance_ratio_)*100) \n",
    "    pca_var.append(var[-1])"
   ]
  },
  {
   "cell_type": "code",
   "execution_count": 82,
   "metadata": {},
   "outputs": [
    {
     "data": {
      "text/plain": [
       "[65.111895941740443,\n",
       " 75.205943019373208,\n",
       " 83.639665199790514,\n",
       " 89.520089907683314,\n",
       " 94.088096599970442,\n",
       " 97.225082562613309,\n",
       " 99.017220507887615,\n",
       " 99.752785673363277]"
      ]
     },
     "execution_count": 82,
     "metadata": {},
     "output_type": "execute_result"
    }
   ],
   "source": [
    "pca_var"
   ]
  },
  {
   "cell_type": "code",
   "execution_count": 92,
   "metadata": {},
   "outputs": [
    {
     "data": {
      "image/png": "[encoded data removed]",
      "text/plain": [
       "<Figure size 432x288 with 1 Axes>"
      ]
     },
     "metadata": {},
     "output_type": "display_data"
    }
   ],
   "source": [
    "fig = plt.figure()\n",
    "plt.plot(n_components, pca_var)\n",
    "plt.title('Variances Amount Captured by Number of Dimension')\n",
    "plt.ylabel('Percentage')\n",
    "plt.xlabel('k Dimension')\n",
    "plt.show()"
   ]
  },
  {
   "cell_type": "code",
   "execution_count": 83,
   "metadata": {},
   "outputs": [],
   "source": [
    "#var = np.cumsum((pca.explained_variance_ratio_)*100) \n",
    "#var[]"
   ]
  },
  {
   "cell_type": "markdown",
   "metadata": {},
   "source": [
    "** Note **: The var is an array showing cummulative sum of information captured by the features used. For example, the first feature, which captures the most information of the number of shares, explains 8.5% of the variance within out dataset. The first two features capture 15.6% of the variance within our dataset. 30 features can capture 90% of all variance within our dataset. "
   ]
  },
  {
   "cell_type": "code",
   "execution_count": 65,
   "metadata": {
    "collapsed": true
   },
   "outputs": [],
   "source": [
    "def rmse_cal(model, X_train, Y_train, X_test, Y_test): \n",
    "    log_y_train = np.log(Y_train)\n",
    "    log_y_test = np.log(Y_test)\n",
    "    model.fit(X_train, log_y_train)\n",
    "    log_y_pred = model.predict(X_test)\n",
    "    return(rmse(log_y_test, log_y_pred))"
   ]
  },
  {
   "cell_type": "code",
   "execution_count": 66,
   "metadata": {
    "collapsed": true
   },
   "outputs": [],
   "source": [
    "def cv_rmse(model, pca_flag, X, Y, num_fold, alpha):\n",
    "    cv_rmse = []\n",
    "    for i in range(num_fold):\n",
    "        X_train, X_test, Y_train, Y_test = train_test_split(\n",
    "                    X, Y, test_size = 0.33)\n",
    "        if pca_flag == True: \n",
    "            X_train = pca.fit_transform(X_train)\n",
    "            X_test = pca.transform(X_test)\n",
    "        if model == 'Lasso':\n",
    "            model = make_pipeline(RobustScaler(), Lasso(alpha=alpha, random_state=1))\n",
    "        elif model == 'XGB':\n",
    "            model = xgboost.XGBRegressor(n_estimators=100, learning_rate=0.08, gamma=0, subsample=0.75,\n",
    "                           colsample_bytree=1, max_depth=7)    \n",
    "        cv_rmse.append(rmse_cal(model, X_train, Y_train, X_test, Y_test))\n",
    "    return cv_rmse"
   ]
  },
  {
   "cell_type": "code",
   "execution_count": 75,
   "metadata": {},
   "outputs": [],
   "source": [
    "#XGB_rmse_score = cv_rmse('XGB', True, X, Y, 10, alpha)\n",
    "#print(\"\\nXGBoost score: {:.4f} ({:.4f})\\n\".format(np.mean(cv_rmse_score), np.std(cv_rmse_score)))"
   ]
  },
  {
   "cell_type": "code",
   "execution_count": 70,
   "metadata": {},
   "outputs": [
    {
     "data": {
      "text/plain": [
       "0.87427060215810037"
      ]
     },
     "execution_count": 70,
     "metadata": {},
     "output_type": "execute_result"
    }
   ],
   "source": [
    "np.mean(XGB_rmse_score)"
   ]
  },
  {
   "cell_type": "code",
   "execution_count": 71,
   "metadata": {},
   "outputs": [
    {
     "data": {
      "text/plain": [
       "0.0039772548669619922"
      ]
     },
     "execution_count": 71,
     "metadata": {},
     "output_type": "execute_result"
    }
   ],
   "source": [
    "np.std(XGB_rmse_score)"
   ]
  },
  {
   "cell_type": "code",
   "execution_count": 74,
   "metadata": {},
   "outputs": [
    {
     "name": "stdout",
     "output_type": "stream",
     "text": [
      "\n",
      "Lasso score: 0.9244 (0.0083)\n",
      "\n"
     ]
    }
   ],
   "source": [
    "Lasso_rmse_score = cv_rmse('Lasso', True, X, Y, 10, 0.07)\n",
    "print(\"\\nLasso score: {:.4f} ({:.4f})\\n\".format(np.mean(Lasso_rmse_score), np.std(Lasso_rmse_score)))"
   ]
  }
 ],
 "metadata": {
  "kernelspec": {
   "display_name": "Python 3",
   "language": "python",
   "name": "python3"
  },
  "language_info": {
   "codemirror_mode": {
    "name": "ipython",
    "version": 3
   },
   "file_extension": ".py",
   "mimetype": "text/x-python",
   "name": "python",
   "nbconvert_exporter": "python",
   "pygments_lexer": "ipython3",
   "version": "3.7.1"
  }
 },
 "nbformat": 4,
 "nbformat_minor": 2
}
